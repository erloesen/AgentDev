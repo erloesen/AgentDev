{
 "cells": [
  {
   "cell_type": "markdown",
   "id": "06e74bf1-7c09-49a4-9c48-ba638ac59a28",
   "metadata": {},
   "source": [
    "# 1. LangGraph底层原理"
   ]
  },
  {
   "cell_type": "markdown",
   "id": "325934ee-8198-4721-9055-3b0990587420",
   "metadata": {},
   "source": [
    "## 1.1 为什么用LangGraph"
   ]
  },
  {
   "cell_type": "markdown",
   "id": "2de79d0b-afd4-4ca1-928e-ec1ef32b9162",
   "metadata": {},
   "source": [
    "与仅限于使用`GPT`系列模型的`Assistant API`框架不同，`LangGraph`是一个适用范围更广的`AI Agent`开发框架。在**大模型的支持方面**，`LangGraph`不仅支持`GPT`系列，还兼容其他多种在线或开源模型，例如 `glm4`、`llama3`和`Qwen`等，可以说热门的大模型均可以接入到该框架中进行`AI Agent`应用程序的开发。而关于**大模型的接入方式**，我们既可以通过传统的`openai api`等原生方式将大模型集成到`LangGraph`构建的`AI Agent`流程中，也可以利用`ollma`、`vllm`等大模型推理加速库，实现更加便捷和高效的集成。除此之外，**在`AI Agent`的构建范式上**，`LangGraph`不仅提供了预配置的`ReAct`代理机制，还支持更多自定义的如`Planning`策略的接入，以满足不同应用场景的需求。"
   ]
  },
  {
   "cell_type": "markdown",
   "id": "54a2f205-9728-4bdf-bf47-36b84cfe9ed9",
   "metadata": {},
   "source": [
    "从三大方面来看，`LangGraph`的**高度自主性和开放性**确实让它在功能和灵活性上相较于`Assistant API`具有明显的优势。但需要注意的是，这种自主性和可扩展性也带来了更高的复杂性和开发要求。使用`LangGraph`意味着**开发者需要进行较多的自主开发工作**。此外，`LangGraph`框架的底层架构复杂非常复杂，这直接导致了`LangGraph`的学习和使用门槛相对较高。并且，经过我们长时间的探索和实践会明显发现，即使是经过多轮的尝试和优化，使用`LangGraph`构建的`AI Agent`应用程序的效果也很难超过用`Assistant API`几行代码就能实现的效果。所以，我们要想掌握和应用`LangGraph`，势必要投入更多的时间和精力。这是大家在开始学习前必须做好的心理准备。"
   ]
  },
  {
   "cell_type": "markdown",
   "id": "d6463a7b-09ac-4c5b-a576-3b0d31bf7497",
   "metadata": {},
   "source": [
    "## 1.2 什么是LangGraph"
   ]
  },
  {
   "cell_type": "markdown",
   "id": "7f2ccb62-d453-440d-aa01-2ec6679ea6be",
   "metadata": {},
   "source": [
    "从名字上看，应该是和`Langchain`有着非常紧密的关系，而事实也确实是这样。**因为`LangGraph` 就是以 `LangChain` 表达式语言为基础而构建起来的用于开发`AI Agent`的一个框架**。所以我们上面提到的关于`LangGragh`在大模型的支持、接入和`AI Agent`构建方面的优势，都可以非常自然的从`LangChain`中迁移过来。从大模型技术发展的角度来看，**大模型本身是无法采取任何行动的，它们的作用只是用来输出文本**，即接收用户的输入并对这些输入给出响应。为了更好和更高效的做到这件事情，`langchain`项目在2023年就建立起了非常活跃的社区来定义大模型的应用规范。发展到现在，`LangChain`现在也发布了3个大的版本，而**在其整个的构建体系中，一个重要用例是创建代理**。在`LangChain`中，构建`AI Agent`的底层架构如下图所示：👇"
   ]
  },
  {
   "cell_type": "markdown",
   "id": "0cb64253-c381-4517-a2c8-9d3c7348cf6f",
   "metadata": {},
   "source": [
    "<div align=center><img src=\"https://snowball101.oss-cn-beijing.aliyuncs.com/img/202404031102489.png\" width=80%></div>"
   ]
  },
  {
   "cell_type": "markdown",
   "id": "38b5d130-8a43-4af8-8cbc-4bbfc6664b6d",
   "metadata": {},
   "source": [
    "首先，`langChain`框架中的`AI Agent`设计，在内部结构会将其分为三个核心的组件，分别是`Agent`，`Message`和`Toolkits`。每个`Agent`组件一般会由大语言模型 + 提示 + 输出解析器构成，形成一个`Chain`去处理用户的输入。而`Agent`能够处理的输入主要来源于三个方面：`input`代表用户的原始输入，`Model Response`指的是模型对某一个子任务的响应输出，而`History`则能携带上下文的信息。其输出部分，则链接到实际的工具库，需要调用哪些工具，将由经过`Agent`模块后拆分的子任务来决定。大模型调用外部函数会分为两个过程：识别工具和实际执行。在Message -> Agent -> Toolkits 这个流程中，负责的是将子任务拆解，然后根据这些子任务在工具库中找到相应的工具，提取工具名称及所需参数，这个过程可以视作一种“静态”的执行流程。而将这些决策转化为实际行动的工作，则会交给`AgentExecutor`。"
   ]
  },
  {
   "cell_type": "markdown",
   "id": "2efb154c-a0fa-46ad-927d-37df5aa2cb7f",
   "metadata": {},
   "source": [
    "在LangChain的`AI Agent`实际架构中，`Agent`的角色是接收输入并决定采取的操作，但它本身并不直接执行这些操作。这一任务是由`AgentExecutor`来完成的。将`Agent`（决策大脑）与`AgentExecutor`（执行操作的Runtime）结合使用，才构成了完整的`Agents`（智能体），**其中`AgentExecutor`负责调用代理并执行指定的工具**，以此来实现整个智能体的功能。"
   ]
  },
  {
   "cell_type": "markdown",
   "id": "b6b09594-0a8c-4e67-88ba-62af2de5f292",
   "metadata": {},
   "source": [
    "## 1.3 LangGraph底层原理"
   ]
  },
  {
   "cell_type": "markdown",
   "id": "5bf7d192-f16c-4578-90e7-5640f6ae0b2e",
   "metadata": {},
   "source": [
    "`LangChain`发展至现在，仍然是构建大语言模型应用程序的前沿框架之一。特别是在最新发布的`v0.3`版本中，已经基本完成了由传统类到表达式语言(LCEL)的重要过渡，给开发者带来的直接利好就是**定义和执行分步操作序列（也称为链）会更加简单**。用更专业的术语来说，**使用`LangChain` 构建的是 DAG（有向无环图）**。而之所以会出现`LangGraph`框架，根本原因是在于随着AI应用（特别是AI Agent）的发展，**对于大语言模型的使用不仅仅是作为执行工具，而更多作为推理引擎的需求在日益增长**。这种转变带来的是更多的重复（循环）和复杂条件的交互需求，这就导致**基于`LCEL`的线性序列构建方式在构建更复杂、更智能的系统时显示出了明显的局限性**。如下所示的代码就是在`LangChain`中通过`LECL`表达式语言构建`Chain`的一种最简单的方式："
   ]
  },
  {
   "cell_type": "code",
   "execution_count": null,
   "id": "bc5c7148-29c8-4136-81d2-604da58b9397",
   "metadata": {},
   "outputs": [],
   "source": [
    "!pip install dashscope"
   ]
  },
  {
   "cell_type": "code",
   "execution_count": 2,
   "id": "66a39403-a9dd-48fb-891b-b28c939d2ddf",
   "metadata": {},
   "outputs": [],
   "source": [
    "from dotenv import load_dotenv\n",
    "import os\n",
    "\n",
    "load_dotenv('../config/.env')\n",
    "os.environ[\"DASHSCOPE_API_KEY\"] = os.getenv(\"QWEN_API_KEY\")"
   ]
  },
  {
   "cell_type": "code",
   "execution_count": 6,
   "id": "79ad8247-1006-4caf-9034-d42ce5203be3",
   "metadata": {},
   "outputs": [],
   "source": [
    "from langchain_community.chat_models.tongyi import ChatTongyi\n",
    "from langchain_core.messages import HumanMessage, SystemMessage\n",
    "from langchain_core.prompts import ChatPromptTemplate"
   ]
  },
  {
   "cell_type": "code",
   "execution_count": 7,
   "id": "a0dc7b91-2a75-4220-9d98-662f2d095781",
   "metadata": {},
   "outputs": [
    {
     "data": {
      "text/plain": [
       "AIMessage(content='我热爱编程。', additional_kwargs={}, response_metadata={'model_name': 'qwen-plus', 'finish_reason': 'stop', 'request_id': 'a16d0891-b001-9a09-a834-c367b02f2e8c', 'token_usage': {'input_tokens': 32, 'output_tokens': 4, 'total_tokens': 36, 'prompt_tokens_details': {'cached_tokens': 0}}}, id='run--0d45f1aa-4a63-420e-a62f-79e76d88e09f-0')"
      ]
     },
     "execution_count": 7,
     "metadata": {},
     "output_type": "execute_result"
    }
   ],
   "source": [
    "llm = ChatTongyi(model=\"qwen-plus\")\n",
    "\n",
    "prompt = ChatPromptTemplate.from_messages(\n",
    "    [\n",
    "        (\"system\",\"You are a helpful assistant that translates {input_language} to {output_language}.\"),\n",
    "        (\"human\", \"{input}\"),\n",
    "    ]\n",
    ")\n",
    "\n",
    "chain = prompt | llm\n",
    "\n",
    "chain.invoke(\n",
    "    {\n",
    "        \"input_language\": \"English\",\n",
    "        \"output_language\": \"Chinese\",\n",
    "        \"input\": \"I love programming.\",\n",
    "    }\n",
    ")"
   ]
  },
  {
   "cell_type": "markdown",
   "id": "8e199089-4857-43c3-8d2c-9db9e0e77c55",
   "metadata": {},
   "source": [
    "反观`LangGraph`，顾名思义，`LangGraph` 在图这个概念上有很大的侧重，**它的出现就是`要解决线性序列的局限性问题，而解决的方法就是循环图`**。在`LangGraph`框架中，**用图取代了`LangChain`的`AgentExecutor`（代理执行器），用来管理代理的生命周期并在其状态内将暂存器作为消息进行跟踪，增加了以循环方式跨各种计算步骤协调多个链或参与者的功能。**这就与 `LangChain` 将代理视为可以附加工具和插入某些提示的对象不同，对于图来说，意味着**我们可以从任何可运行的功能或代理或链作为一个程序的起点**。\n"
   ]
  },
  {
   "cell_type": "markdown",
   "id": "2234b876-bac5-4c03-b121-67a3deaa5b87",
   "metadata": {},
   "source": [
    "在以图构建的框架中，**任何可执行的功能都可以作为对话、代理或程序的启动点**。这个启动点可以是大模型的 `API` 接口、基于大模型构建的 `AI Agent`，通过 `LangChain` 或其他技术建立的线性序列等等，即下图中的 \"Start\" 圆圈所示。无论哪种形式，它都首先处理用户的输入，并决定接下来要做什么。下图展示了在 `LangGraph` 概念下，最基本的一种代理模型：👇"
   ]
  },
  {
   "cell_type": "markdown",
   "id": "345b1d6e-620c-4677-97bb-0dcf8bf40ba0",
   "metadata": {},
   "source": [
    "<div align=center><img src=\"https://muyu001.oss-cn-beijing.aliyuncs.com/img/1011002.png\" width=50%></div>"
   ]
  },
  {
   "cell_type": "markdown",
   "id": "17195c9c-94e2-4d30-94b7-25896fe19b2c",
   "metadata": {},
   "source": [
    "**在启动点定义的可运行功能会根据收到的输入决定是否进行检索以及如何响应**。比如在执行过程中，如果需要检索信息，则可以利用搜索工具来实现，比如`Web Search`（网络搜索）、`Query Database`（查询数据库）、`RAG`等获取必要的信息（图中的 \"Action\" 圆圈）。接下来，再使用一个大语言模型（LLM）处理工具提供的信息，结合用户最初传入的初始查询，生成最终的响应（图中的 \"LLMs\" 圆圈）。最终，这个响应被传递至终点节点（图中的 \"End\" 圆圈）。"
   ]
  },
  {
   "cell_type": "markdown",
   "id": "135b1828-fd02-48c5-92bb-e40b36a1931a",
   "metadata": {},
   "source": [
    "上图所示的流程就是在`LangGraph`概念中一个非常简单的代理构成形式。关键且必须清楚的概念是：在这里，**每个圆圈代表一个“节点”（Nodes），每个箭头表示一条“边”（Edges）。因此，在 `LangGraph` 中，无论代理的构建是简单还是复杂，它最终都是由节点和边通过特定的组合形成的图。这样的构建形式形成的工作流原理就是：当每个节点完成工作后，通过边告诉下一步该做什么，所以也就得出了：`LangGraph`的底层图算法就是在使用消息传递来定义通用程序。当节点完成其操作时，它会沿着一条或多条边向其他节点发送消息。然后，这些接收节点执行其功能，将结果消息传递给下一组节点，然后该过程继续。如此循环往复。**"
   ]
  },
  {
   "cell_type": "markdown",
   "id": "6573e68a-1cbe-4ac7-bc08-4c76624c016d",
   "metadata": {},
   "source": [
    "在这个示例中，我们将`AI Agent`定义为应用程序的起点。**构建`AI Agent`代理通常涉及配置一个或多个工具**，否则构建它就没有太大的意义，因为如果仅仅是针对用户的问题直接做响应，即使问题很复杂，我们也可以直接通过提示词来引导大模型进行推理（参考`OpenAI`的 `o1`推理模型）。那么当`AI Agent`包含一些工具时，它是通过函数调用功能使用这些工具，而不是直接执行这些工具。所以当用户输入的原始问题经过`AI Agent`处理的时候，一般会出现以下两种情况：\n",
    "1. 如果不需要调用任何工具，`AI Agent` 会直接提供一个针对用户问题的自然语言响应。例如：\n",
    "   - 用户：你好，请你介绍一下你自己。\n",
    "   - AI Agent：你好，我是一个人工智能助手，可以帮助你解决问题。\n",
    "2. 如果需要调用工具，则输出将是一个特定格式的 JSON 输出，指示进行特定的函数调用。例如：\n",
    "   - 输出示例：function': {'arguments': '{\"query\":\"什么是快乐星球？\"}','name': 'web_search'},'type': 'function'}"
   ]
  },
  {
   "cell_type": "markdown",
   "id": "2099259d-1a8a-477d-8dcf-6e32ef6d01e7",
   "metadata": {},
   "source": [
    "<div align=center><img src=\"https://muyu001.oss-cn-beijing.aliyuncs.com/img/101103.png\" width=60%></div>"
   ]
  },
  {
   "cell_type": "markdown",
   "id": "0999a6ed-3b0a-48c3-8d9c-54c92817e410",
   "metadata": {},
   "source": [
    "经过第一个节点后（Agent），如果`AI Agent`认为需要调用某个函数，它会确定使用哪个工具以及传递哪些参数。假设有多个工具可选的情况下，`Action` 节点将呈现多条可能的路径供选择。如何选择呢？这时候，`LangGraph` 引入了一个**称为“条件边”的组件。条件边根据是否满足特定条件来决定走哪条路径，例如，代理可能需要决定是使用搜索工具还是直接生成最终答案**。为了管理这些决策，则使用了一个类似于 `if-else` 语句的结构，称为`Router`。基于`Router`的决策，代理可能会导向“搜索节点”以执行搜索操作并返回原始文本，或者直接前往“最终答案节点”以获取格式化后的自然语言响应。**如果选择了搜索路径，获取的答案文本还需通过另一个大语言模型进行处理，以生成用户可以理解的响应；若选择了直接回答，则可以使用一个专门的工具来格式化输出**。"
   ]
  },
  {
   "cell_type": "markdown",
   "id": "94a5d0e8-eaa0-4da8-890f-4cbef0c28e34",
   "metadata": {},
   "source": [
    "在 `LangGraph` 框架中，`Router` 使用 `if..else` 的形式来决定路径，主要通过以下三种方式实现：\n",
    "- 提示工程：指示大模型以特定格式做出回应。\n",
    "- 输出解析器：使用后处理从大模型响应中提取结构化数据。\n",
    "- 工具调用：利用大模型的内置工具调用功能来生成结构化输出。"
   ]
  },
  {
   "cell_type": "markdown",
   "id": "9ee1e4ad-0b95-42a9-93ee-a147d44dbfb1",
   "metadata": {},
   "source": [
    "更进一步地，我们现在知道了`LangGraph`通过组合`Nodes`和`Edges`去创建复杂的循环工作流程，通过消息传递的方式串联所有的节点形成一个通路。**那么维持消息能够及时的更新并向该去的地方传递，则依赖`langGraph`构建的`State`概念。** 在`LangGraph`构建的流程中，每次执行都会启动一个状态，图中的节点在处理时会传递和修改该状态。这个状态不仅仅是一组静态数据，而是由每个节点的输出动态更新，然后影响循环内的后续操作。如下所示：👇"
   ]
  },
  {
   "cell_type": "markdown",
   "id": "ec041b6a-0c89-4238-baa3-c8f88bb89ac3",
   "metadata": {},
   "source": [
    "<div align=center><img src=\"https://muyu001.oss-cn-beijing.aliyuncs.com/img/101104.png\" width=80%></div>"
   ]
  },
  {
   "cell_type": "markdown",
   "id": "d4f1dfdd-8bf2-473c-99d7-867d99daf366",
   "metadata": {},
   "source": [
    "**此谓共享状态**。共享状态是指在执行期间在图内的节点之间传递的数据或信息。**`LangGraph`允许节点在图上执行时时通过共享和更新此公共状态来进行交互**。这种共享状态使节点能够根据它们共同维护的数据进行通信、交换信息并影响彼此的行为。通过利用共享状态， `LangGraph`才能够促进节点间操作的协调和同步，允许动态交互和创建复杂的工作流程，其中节点可以协作并根据可用的共享信息做出决策。"
   ]
  },
  {
   "cell_type": "markdown",
   "id": "4a145e29-2905-4ab5-97ca-0725af1102b7",
   "metadata": {},
   "source": [
    "从`LangGraph`官方的定义看，该框架是一个**用于使用大模型构建有状态、多参与者应用程序的库，可以创建代理和多代理工作流程**。而其官方自己总结的`LangGraph`的优势则是：\n",
    "\n",
    "- **循环和分支**：在应用程序中实现循环和条件。\n",
    "- **持久性**：在图中的每个步骤之后自动保存状态。随时暂停和恢复图形执行，以支持错误恢复、人机交互工作流程、时间旅行等。\n",
    "- **人机交互**：中断图形执行以批准或编辑代理计划的下一个操作。\n",
    "- **流支持**：流输出由每个节点生成（包括令牌流）。\n",
    "- **与 LangChain 集成**：LangGraph 与LangChain和LangSmith无缝集成（但不需要它们）。"
   ]
  },
  {
   "cell_type": "markdown",
   "id": "c707edfd-3191-483e-974c-fe5c13b85b04",
   "metadata": {},
   "source": [
    "## 1.4 LangGraph底层源码解析"
   ]
  },
  {
   "cell_type": "markdown",
   "id": "40a155d0-ab79-4968-b16d-91d5cfbe43e8",
   "metadata": {},
   "source": [
    "### 1.4.1 Graph基类"
   ]
  },
  {
   "cell_type": "markdown",
   "id": "e1a23110-2a35-4f97-8cd9-c0fa75975c35",
   "metadata": {},
   "source": [
    "对于任意一个简单或者复杂的图来说，都是基于`Graph`类来构建和管理图结构的。在`Graph`类中允许添加节点、边，并定义节点间的动态流转逻辑。如下是`Graph`类的主要组成部分和功能："
   ]
  },
  {
   "cell_type": "markdown",
   "id": "6bf8dc1b-2858-4def-9c89-06963404af02",
   "metadata": {},
   "source": [
    "> Class Graph ：https://langchain-ai.github.io/langgraph/reference/graphs/#langgraph.graph.graph.Graph"
   ]
  },
  {
   "cell_type": "code",
   "execution_count": 2,
   "id": "f79d4f3a-5635-4f1c-8215-402bb3cbe76d",
   "metadata": {},
   "outputs": [],
   "source": [
    "from collections import defaultdict\n",
    "from typing import Any, Callable, Dict, Optional, Set, Tuple, Union, Awaitable, Hashable\n",
    "\n",
    "class Graph:\n",
    "    def __init__(self) -> None:\n",
    "        self.nodes: Dict[str, Any] = {}  # 一个字典，用于存储图中的所有节点。每个节点可以是一个字符串标识或者是一个可调用对象\n",
    "        self.edges: Set[Tuple[str, str]] = set()  # 一个集合，用来存储图中所有的边，边由一对节点名称组成，表示从一个节点到另一个节点的直接连接。\n",
    "        self.branches: defaultdict = defaultdict(dict)  # 一个默认字典，用于存储条件分支，允许从一个节点根据特定条件转移到多个不同的节点。\n",
    "        self.support_multiple_edges = False  # 一个布尔值，指示图是否支持同一对节点间的多条边。\n",
    "        self.compiled = False    #  一个布尔值，表示图是否已经被编译。编译是指图的结构已经设置完毕，准备进行执行。\n",
    "\n",
    "    @property\n",
    "    def _all_edges(self) -> Set[Tuple[str, str]]:\n",
    "        \"\"\"\n",
    "        获取所有边的数据。\n",
    "        \"\"\"\n",
    "        return self.edges\n",
    "\n",
    "    def add_node(self, node: Union[str, Callable], action: Optional[Callable] = None, *, metadata: Optional[Dict[str, Any]] = None) -> 'Graph':\n",
    "        \"\"\"\n",
    "        添加一个新节点到图中。节点可以有附加的元数据，这些元数据存储在节点的字典中。\n",
    "        \"\"\"\n",
    "        pass\n",
    "\n",
    "    def add_edge(self, start_key: str, end_key: str) -> 'Graph':\n",
    "        \"\"\"\n",
    "        在图中添加一条边，连接两个指定的节点。\n",
    "        \"\"\"\n",
    "        pass\n",
    "\n",
    "    def add_conditional_edges(self, source: str, path: Callable, path_map: Optional[Dict[Hashable, str]] = None, then: Optional[str] = None) -> 'Graph':\n",
    "        \"\"\"\n",
    "        添加一个条件边，允许在执行时根据某个条件从一个节点动态地转移到一个或多个节点。\n",
    "        \"\"\"\n",
    "        pass\n",
    "\n",
    "    def set_entry_point(self, key: str) -> 'Graph':\n",
    "        \"\"\"\n",
    "        设置图的入口点，即定义图执行的起始节点。\n",
    "        \"\"\"\n",
    "        pass\n",
    "\n",
    "    def set_conditional_entry_point(self, path: Callable, path_map: Optional[Dict[Hashable, str]] = None, then: Optional[str] = None) -> 'Graph':\n",
    "        \"\"\"\n",
    "        设置一个条件入口点，允许根据条件动态决定图的起始执行点。\n",
    "        \"\"\"\n",
    "        pass\n",
    "\n",
    "    def set_finish_point(self, key: str) -> 'Graph':\n",
    "        \"\"\"\n",
    "        设置结束点，定义图执行到此节点时将停止。\n",
    "        \"\"\"\n",
    "        pass\n",
    "\n",
    "    def validate(self, interrupt: Optional[Set[str]] = None) -> 'Graph':\n",
    "        \"\"\"\n",
    "        验证图的结构是否正确，确保所有节点和边的定义都符合逻辑和图的规则。\n",
    "        \"\"\"\n",
    "        pass\n",
    "\n",
    "    def compile(self, checkpointer=None, interrupt_before: Optional[Set[str]] = None, interrupt_after: Optional[Set[str]] = None, debug: bool = False) -> 'Graph':\n",
    "        \"\"\"\n",
    "        编译图，确认图的结构合法且可执行后，准备图以供执行。\n",
    "        \"\"\"\n",
    "        pass"
   ]
  },
  {
   "cell_type": "markdown",
   "id": "3d5a98f3-cca5-4343-84b6-43a96c4debe6",
   "metadata": {},
   "source": [
    "从源码中可以看出，`Graph`该类提供了丰富的方法来控制图的编译和执行，使其适用于需要复杂逻辑和流程控制的应用场景。"
   ]
  },
  {
   "cell_type": "markdown",
   "id": "9b0d4222-e861-4913-a41f-0ca416ebb590",
   "metadata": {},
   "source": [
    "### 1.4.2 GraphState"
   ]
  },
  {
   "cell_type": "markdown",
   "id": "7faa7f00-ef49-4d21-b3e8-f3b5409ab7ed",
   "metadata": {},
   "source": [
    "**定义图时要做的第一件事是定义图的`State`**。状态表示会随着图计算的进行而维护和更新的上下文或记忆。它用来确保图中的每个步骤都可以访问先前步骤的相关信息，从而可以根据整个过程中积累的数据进行动态决策。这个过程通过状态图`StateGraph`类实现，它继承自 `Graph` 类，这意味着 `StateGraph` 会使用或扩展基类的属性和方法。"
   ]
  },
  {
   "cell_type": "markdown",
   "id": "a631bb3b-215c-43a6-bacd-998b49f5f834",
   "metadata": {},
   "source": [
    "> Class StateGraph：https://langchain-ai.github.io/langgraph/reference/graphs/#langgraph.graph.state.StateGraph"
   ]
  },
  {
   "cell_type": "code",
   "execution_count": 5,
   "id": "5ed4d637-8a11-4c79-a217-02856c75e0a8",
   "metadata": {},
   "outputs": [],
   "source": [
    "from collections import defaultdict\n",
    "from typing import Any, Callable, Dict, Optional, Set, Tuple, Type, Union\n",
    "\n",
    "class StateGraph(Graph):\n",
    "\n",
    "    \"\"\"StateGraph 是一个管理状态并通过定义的输入和输出架构支持状态转换的图。\"\"\"\n",
    "    def __init__(self, state_schema: Optional[Type[Any]] = None, config_schema: Optional[Type[Any]] = None) -> None:\n",
    "        super().__init__()\n",
    "        self.state_schema = state_schema      # 一个可选的类型参数，定义图状态的结构。这是用于定义和验证图中节点处理的状态数据的模式。\n",
    "        self.config_schema = config_schema    # 一个可选的类型参数，用于定义配置的结构。这可以用于定义和验证图的配置参数。\n",
    "        self.input: Optional[Type[Ang]] = None\n",
    "        self.output: Optional[Type[Ang]] = None\n",
    "\n",
    "    def add_node(self, node: Union[str, Callable], action: Optional[Callable] = None, *, metadata: Optional[Dict[str, Any]] = None) -> 'StateGraph':\n",
    "        \"\"\"向图中添加一个新节点。节点可以是一个具名字符串或一个可调用对象（如函数）, 如果node是字符串，则action应为与节点关联的可调用动作。\"\"\"\n",
    "        pass\n",
    "\n",
    "    def add_edge(self, start_key: str, end_key: str) -> 'StateGraph':\n",
    "        \"\"\"在图中添加一条边，连接两个节点。\"\"\"\n",
    "        pass\n",
    "\n",
    "    def compile(self) -> 'CompiledStateGraph':\n",
    "        \"\"\"编译图，将其转换成可运行的形式。包括验证图的完整性、预处理数据等。\"\"\"\n",
    "        pass"
   ]
  },
  {
   "cell_type": "markdown",
   "id": "bef3625a-f85f-4c14-aaf3-64ea3ffba85a",
   "metadata": {},
   "source": [
    "- **什么是图的模式**"
   ]
  },
  {
   "cell_type": "markdown",
   "id": "e0fef5ae-fc8e-4c17-81c2-28cf10a09a6e",
   "metadata": {},
   "source": [
    "**默认情况下，`StateGraph`使用单模式运行，这意味着在图中的任意阶段都会读取和写入相同的状态通道，所有节点都使用该状态通道进行通信**。除此之外，在某些情况下如果希望对图的状态有更多的控制，比如：\n",
    "- 内部节点可以传递图的输入/输出中不需要的信息。\n",
    "- 对图使用不同的输入/输出模式。例如，输出可能仅包含单个相关输出键。\n",
    "\n",
    "`LangGraph`的底层实现上提供了多种不同图模式的支持，这可以通过`state_schema`来进行灵活的指定。不过关于自定义的图模式，因为涉及到更多的基础概念，我们将在课程的后半部分在展开详细的介绍。"
   ]
  },
  {
   "cell_type": "markdown",
   "id": "3d1a8d23-7db6-4ba5-b249-57f5fbdb6c35",
   "metadata": {},
   "source": [
    "首先来看图的单模式。任何模式都包含输入和输出，输入模式需要确保提供的输入与预期结构匹配，而输出模式根据定义的输出模式过滤内部数据以仅返回相关信息。而这个预期结构的校验，由`TypedDict`工具来限定。"
   ]
  },
  {
   "cell_type": "markdown",
   "id": "a4297ff9-d068-4b81-9cf6-394b0315edff",
   "metadata": {},
   "source": [
    "- **TypeDict** "
   ]
  },
  {
   "cell_type": "markdown",
   "id": "99d9a170-f2ad-4daf-918d-a8c4c9cbe838",
   "metadata": {},
   "source": [
    "`TypedDict` 是 `Python` 类型注解系统中的一个工具，它**允许为字典中的键指定期望的具体类型**。在 `Python` 的 `typing` 模块中定义，通常用于增强代码的可读性和安全性，特别是在字典对象结构固定且明确时。示例代码如下："
   ]
  },
  {
   "cell_type": "code",
   "execution_count": 4,
   "id": "f938a08a-c100-491c-a882-5c4f6e9dbca7",
   "metadata": {},
   "outputs": [
    {
     "name": "stdout",
     "output_type": "stream",
     "text": [
      "Sending email to Alice at alice@example.com\n"
     ]
    }
   ],
   "source": [
    "from typing import TypedDict\n",
    "\n",
    "class Contact(TypedDict):\n",
    "    name: str\n",
    "    email: str\n",
    "    phone: str\n",
    "\n",
    "def send_email(contact: Contact) -> None:\n",
    "    print(f\"Sending email to {contact['name']} at {contact['email']}\")\n",
    "\n",
    "# 使用定义好的 TypedDict 创建字典\n",
    "contact_info: Contact = {\n",
    "    'name': 'Alice',\n",
    "    'email': 'alice@example.com',\n",
    "    'phone': '123-456-7890'\n",
    "}\n",
    "\n",
    "send_email(contact_info)"
   ]
  },
  {
   "cell_type": "code",
   "execution_count": 6,
   "id": "ade8b5cf-6b53-494a-bab0-be41aa14765e",
   "metadata": {},
   "outputs": [],
   "source": [
    "from langgraph.graph import StateGraph\n",
    "from typing_extensions import TypedDict\n",
    "\n",
    "\n",
    "# 定义输入的模式\n",
    "class InputState(TypedDict):\n",
    "    question: str\n",
    "\n",
    "\n",
    "# 定义输出的模式\n",
    "class OutputState(TypedDict):\n",
    "    answer: str\n",
    "\n",
    "\n",
    "# 将 InputState 和 OutputState 这两个 TypedDict 类型合并成一个字典类型。\n",
    "class OverallState(InputState, OutputState):\n",
    "    pass"
   ]
  },
  {
   "cell_type": "markdown",
   "id": "0492ed34-c575-4206-b9c1-b79899ed8521",
   "metadata": {},
   "source": [
    "接下来，创建一个 `StateGraph` 对象，使用 `OverallState` 作为其状态定义，同时指定了输入和输出类型分别为 `InputState` 和 `OutputState`，代码如下："
   ]
  },
  {
   "cell_type": "code",
   "execution_count": 8,
   "id": "22c708ac-300e-42c8-9e52-1460d37d4009",
   "metadata": {},
   "outputs": [],
   "source": [
    "builder = StateGraph(OverallState, input_schema=InputState, output_schema=OutputState)"
   ]
  },
  {
   "cell_type": "markdown",
   "id": "ed9fcd38-4ccf-4efa-bd54-b5eaadc99dd1",
   "metadata": {},
   "source": [
    "创建 `builder` 对象后，相当于构建了一个图结构的框架。接下来的步骤是向这个图中添加节点和边，完善和丰富图的内部执行逻辑。"
   ]
  },
  {
   "cell_type": "markdown",
   "id": "f7682c45-b48e-40eb-a63d-76805acdc70e",
   "metadata": {},
   "source": [
    "### 1.4.3 Node"
   ]
  },
  {
   "cell_type": "markdown",
   "id": "4f1d9e44-601c-4f29-b59a-2ca73d1c828d",
   "metadata": {},
   "source": [
    "在 `LangGraph` 中，节点是一个 `python` 函数（sync 或async ），接收当前`State`作为输入，执行自定义的计算，并返回更新的`State`。所以其中第一个位置参数是`state` 。"
   ]
  },
  {
   "cell_type": "code",
   "execution_count": 9,
   "id": "b9678c94-5086-4bc7-b256-31a035bd3459",
   "metadata": {},
   "outputs": [],
   "source": [
    "def agent_node(state:InputState):\n",
    "    print(\"我是一个AI Agent。\")\n",
    "    return\n",
    "\n",
    "def action_node(state:InputState):\n",
    "    print(\"我现在是一个执行者。\")\n",
    "    return {\"answer\":\"我现在执行成功了\"}"
   ]
  },
  {
   "cell_type": "markdown",
   "id": "ab09d5fb-be59-4533-a455-1b439956ec55",
   "metadata": {},
   "source": [
    "定义好了节点以后，我们需要使用`add_node`方法将这些节点添加到图中。在将节点添加到图中的时候，可以自定义节点的名称。而如果不指定名称，则会为自动指定一个与函数名称等效的默认名称。代码如下："
   ]
  },
  {
   "cell_type": "code",
   "execution_count": 10,
   "id": "13d308c2-1814-48ba-8c73-a9c1c4b15dcd",
   "metadata": {},
   "outputs": [
    {
     "data": {
      "text/plain": [
       "<langgraph.graph.state.StateGraph at 0x2264fd5bc50>"
      ]
     },
     "execution_count": 10,
     "metadata": {},
     "output_type": "execute_result"
    }
   ],
   "source": [
    "builder.add_node(\"agent_node\", agent_node)\n",
    "builder.add_node(\"action_node\", action_node)"
   ]
  },
  {
   "cell_type": "markdown",
   "id": "fa017de0-e497-4944-9478-553af41d5584",
   "metadata": {},
   "source": [
    "现在有了图结构，并且图结构中也存在两个孤立的节点`agent_node`和`action_node`，接下来我们要做的事就是需要将图中的节点按照我们所期望的方式进行连接，这需要用到的就是`Edges` - 边。"
   ]
  },
  {
   "cell_type": "markdown",
   "id": "bcb30230-aab2-43c9-8e5c-958e9c516fe1",
   "metadata": {},
   "source": [
    "### 1.4.4 Edge"
   ]
  },
  {
   "cell_type": "markdown",
   "id": "e888651e-b197-4cc8-aef4-a22c62aaac3f",
   "metadata": {},
   "source": [
    "Edges（边）用来定义逻辑如何路由以及图何时开始与停止。这是代理工作以及不同节点如何相互通信的重要组成部分。有几种关键的边类型：\n",
    "- 普通边：直接从一个节点到下一个节点。\n",
    "- 条件边：调用函数来确定下一个要转到的节点。\n",
    "- 入口点：当用户输入到达时首先调用哪个节点。\n",
    "- 条件入口点：调用函数来确定当用户输入到达时首先调用哪个节点。"
   ]
  },
  {
   "cell_type": "code",
   "execution_count": 11,
   "id": "993fb5e0-3f52-40ac-840a-f2687a188b6e",
   "metadata": {},
   "outputs": [
    {
     "data": {
      "text/plain": [
       "<langgraph.graph.state.StateGraph at 0x2264fd5bc50>"
      ]
     },
     "execution_count": 11,
     "metadata": {},
     "output_type": "execute_result"
    }
   ],
   "source": [
    "from langgraph.graph import START, END\n",
    "\n",
    "builder.add_edge(START, \"agent_node\")\n",
    "builder.add_edge(\"agent_node\", \"action_node\")\n",
    "builder.add_edge(\"action_node\", END)"
   ]
  },
  {
   "cell_type": "markdown",
   "id": "bed8edb6-7373-4bc8-8085-828a9acb7be5",
   "metadata": {},
   "source": [
    "最后，通过`compile`编译图。在编译过程中，会对图结构执行一些基本检查（如有没有孤立节点等）。代码如下："
   ]
  },
  {
   "cell_type": "code",
   "execution_count": 12,
   "id": "3abbdb12-3a9a-400d-9637-cc8df84bbc28",
   "metadata": {},
   "outputs": [],
   "source": [
    "graph = builder.compile()"
   ]
  },
  {
   "cell_type": "markdown",
   "id": "4488aef8-51d3-4515-b6d7-c6feb0f12264",
   "metadata": {},
   "source": [
    "### 1.4.5 Graph的调用方法"
   ]
  },
  {
   "cell_type": "markdown",
   "id": "6ac3dd3b-4e9f-4890-b5ec-222d54627e96",
   "metadata": {},
   "source": [
    "要调用图中的方法，可以使用 `invoke` 方法。示例代码如下："
   ]
  },
  {
   "cell_type": "code",
   "execution_count": 13,
   "id": "7b844af7-505c-4de1-8a14-af4ae804eec8",
   "metadata": {},
   "outputs": [
    {
     "name": "stdout",
     "output_type": "stream",
     "text": [
      "我是一个AI Agent。\n",
      "我现在是一个执行者。\n"
     ]
    },
    {
     "data": {
      "text/plain": [
       "{'answer': '我现在执行成功了'}"
      ]
     },
     "execution_count": 13,
     "metadata": {},
     "output_type": "execute_result"
    }
   ],
   "source": [
    "graph.invoke({\"question\":\"你好\"})"
   ]
  },
  {
   "cell_type": "markdown",
   "id": "32eb1c5c-0cee-42f0-bb78-a594f8d72a8a",
   "metadata": {},
   "source": [
    "在这个过程中，我们将`state: InputState`作为输入模式传递给`agent_node`，在传递到`action_node`，最后由`action_node`传递到`END`节点。节点之间通过边是已经构建了完整的通路，那么如果我们想要传递每个节点的状态信息，则可以稍加修改即可实现。对于图模式，我们的定义方法如下："
   ]
  },
  {
   "cell_type": "code",
   "execution_count": 38,
   "id": "3b61bc6e-c38b-4b93-8c28-df0a3ace40db",
   "metadata": {},
   "outputs": [],
   "source": [
    "from langgraph.graph import StateGraph\n",
    "from typing_extensions import TypedDict\n",
    "from langgraph.graph import START, END\n",
    "\n",
    "# 定义输入的模式\n",
    "class InputState(TypedDict):\n",
    "    question: str\n",
    "\n",
    "\n",
    "# 定义输出的模式\n",
    "class OutputState(TypedDict):\n",
    "    answer: str\n",
    "\n",
    "\n",
    "# 将 InputState 和 OutputState 这两个 TypedDict 类型合并成一个更全面的字典类型。\n",
    "class OverallState(InputState, OutputState):\n",
    "    pass\n",
    "\n",
    "def agent_node(state: InputState):\n",
    "    print(\"我是一个AI Agent。\")\n",
    "    return {\"question\": state[\"question\"]}\n",
    "\n",
    "def action_node(state: InputState):\n",
    "    print(\"我现在是一个执行者。\")\n",
    "    step = state[\"question\"]\n",
    "    return {\"answer\": f\"我接收到的问题是：{step}，读取成功了！\"}"
   ]
  },
  {
   "cell_type": "code",
   "execution_count": 39,
   "id": "8dc6cf27-1bd3-4016-b1b3-7199de08bf47",
   "metadata": {},
   "outputs": [],
   "source": [
    "# 明确指定它的输入和输出数据的结构或模式\n",
    "builder = StateGraph(OverallState, input_schema=InputState, output_schema=OutputState)\n",
    "\n",
    "# 添加节点\n",
    "builder.add_node(\"agent_node\", agent_node)\n",
    "builder.add_node(\"action_node\", action_node)\n",
    "\n",
    "# 添加便\n",
    "builder.add_edge(START, \"agent_node\")\n",
    "builder.add_edge(\"agent_node\", \"action_node\")\n",
    "builder.add_edge(\"action_node\", END)\n",
    "\n",
    "# 编译图\n",
    "graph = builder.compile()"
   ]
  },
  {
   "cell_type": "code",
   "execution_count": 40,
   "id": "035b9bab-5799-4af4-bc94-80e097812e5c",
   "metadata": {},
   "outputs": [
    {
     "name": "stdout",
     "output_type": "stream",
     "text": [
      "我是一个AI Agent。\n",
      "我现在是一个执行者。\n"
     ]
    },
    {
     "data": {
      "text/plain": [
       "{'answer': '我接收到的问题是：今天的天气怎么样？，读取成功了！'}"
      ]
     },
     "execution_count": 40,
     "metadata": {},
     "output_type": "execute_result"
    }
   ],
   "source": [
    "graph.invoke({\"question\":\"今天的天气怎么样？\"})"
   ]
  },
  {
   "cell_type": "markdown",
   "id": "d7ee0ffc-676d-4d1e-bc93-e14db32ac30d",
   "metadata": {},
   "source": [
    "不同节点间能够传递信息的原因是因为节点可以写入图状态中的任何状态通道。图状态是初始化时定义的状态通道的并集，而我们定义的状态通道包含了`OverallState`以及过滤器`InputState`和`OutputState` 。"
   ]
  },
  {
   "cell_type": "markdown",
   "id": "c2b13007-b441-41e1-92cc-245cdcf0e195",
   "metadata": {},
   "source": [
    "上述代码实际上中途没有更新state"
   ]
  },
  {
   "cell_type": "markdown",
   "id": "84176f4c-36e8-4a40-88fa-dc0e1244bd6c",
   "metadata": {},
   "source": [
    "## 1.5 使用LangGraph构建大模型的问答流程"
   ]
  },
  {
   "cell_type": "markdown",
   "id": "814e9227-785a-4a17-937d-5d27edf9efec",
   "metadata": {},
   "source": [
    "首先，`LangGraph`对目前主流的在线或者开源模型均支持接入，所以大家可以在该框架下非常便捷的应用到自己偏爱的大模型来进行问答流程的构建。这下面的示例中，我们选择比较方便且高效的`LangChain`框架，同时使用`OpenAI`的`GPT`模型来进行案例实现。而关于`LangChain`支持接入的模型列表及方式，大家可以在`LangChain Docs`中查阅：https://python.langchain.com/docs/integrations/chat/ 或者 https://python.langchain.com/docs/integrations/llms/ 。"
   ]
  },
  {
   "cell_type": "code",
   "execution_count": 41,
   "id": "99774090-07df-4d2d-87e4-f5ba2f2893a1",
   "metadata": {},
   "outputs": [],
   "source": [
    "from langgraph.graph import StateGraph\n",
    "from typing_extensions import TypedDict\n",
    "from langgraph.graph import START, END\n",
    "\n",
    "# 定义输入的模式\n",
    "class InputState(TypedDict):\n",
    "    question: str\n",
    "\n",
    "# 定义输出的模式\n",
    "class OutputState(TypedDict):\n",
    "    answer: str\n",
    "\n",
    "# 将 InputState 和 OutputState 这两个 TypedDict 类型合并成一个更全面的字典类型。\n",
    "class OverallState(InputState, OutputState):\n",
    "    pass"
   ]
  },
  {
   "cell_type": "code",
   "execution_count": 42,
   "id": "38c51766-fb79-43d1-9b08-a507c4a35bd1",
   "metadata": {},
   "outputs": [],
   "source": [
    "from dotenv import load_dotenv\n",
    "import os\n",
    "\n",
    "# 加载 .env 文件\n",
    "load_dotenv('../config/.env')\n",
    "\n",
    "# 获取模型 API 密钥\n",
    "model_api_key = os.getenv(\"QWEN_API_KEY\")"
   ]
  },
  {
   "cell_type": "code",
   "execution_count": 49,
   "id": "591acfd6-f1a5-4e28-9a34-b7134b489784",
   "metadata": {},
   "outputs": [],
   "source": [
    "from openai import OpenAI\n",
    "\n",
    "def llm_node(state: InputState):\n",
    "    messages = [\n",
    "        {\"role\":\"system\", \"content\":\"你是一位乐于助人的智能小助理\"},\n",
    "        {\"role\":\"user\", \"content\":state[\"question\"]}\n",
    "    ]\n",
    "    llm = OpenAI(\n",
    "        api_key=model_api_key,\n",
    "        base_url=\"https://dashscope.aliyuncs.com/compatible-mode/v1\"\n",
    "    )\n",
    "\n",
    "    completion = llm.chat.completions.create(\n",
    "        model=\"qwen-turbo-2025-04-28\",\n",
    "        messages=messages,\n",
    "        extra_body={\n",
    "            \"enable_search\": False,\n",
    "            \"enable_thinking\": False\n",
    "        }\n",
    "    )\n",
    "    response = completion.choices[0].message.content\n",
    "    return {\"answer\": response}"
   ]
  },
  {
   "cell_type": "code",
   "execution_count": 50,
   "id": "d5dd7b3a-5662-4f7d-b5d7-5e0493576095",
   "metadata": {},
   "outputs": [],
   "source": [
    "# 明确指定它的输入和输出数据的结构或模式\n",
    "builder = StateGraph(OverallState, input_schema=InputState, output_schema=OutputState)\n",
    "\n",
    "# 添加节点\n",
    "builder.add_node(\"llm_node\", llm_node)\n",
    "\n",
    "# 添加便\n",
    "builder.add_edge(START, \"llm_node\")\n",
    "builder.add_edge(\"llm_node\", END)\n",
    "\n",
    "# 编译图\n",
    "graph = builder.compile()"
   ]
  },
  {
   "cell_type": "code",
   "execution_count": 51,
   "id": "7cbbe8fd-42e0-4f45-830e-488875c58c66",
   "metadata": {},
   "outputs": [
    {
     "data": {
      "text/plain": [
       "{'answer': '你好呀！很高兴认识你～我是你的智能小助理，有什么问题或者需要帮忙的地方都可以告诉我哦。你刚才说是在测试，是想看看我的功能吗？我可以帮你解答问题、提供信息，或者陪你聊天。你想试试看什么呢？😊'}"
      ]
     },
     "execution_count": 51,
     "metadata": {},
     "output_type": "execute_result"
    }
   ],
   "source": [
    "graph.invoke({\"question\":\"你好，我用来测试\"})"
   ]
  },
  {
   "cell_type": "markdown",
   "id": "8e7d2aab-dc9d-42c8-9859-67e4a4f9dc78",
   "metadata": {},
   "source": [
    "更进一步地，如果想在原有的图结构中构建更复杂的功能，则只需要新定义一个`Python`函数，并按照自己的预期流程用边来建立连接，如下代码所示："
   ]
  },
  {
   "cell_type": "code",
   "execution_count": 52,
   "id": "67e892f7-1938-4f25-ae0d-497ef901e970",
   "metadata": {},
   "outputs": [],
   "source": [
    "from langgraph.graph import StateGraph\n",
    "from typing_extensions import TypedDict, Optional\n",
    "from langgraph.graph import START, END\n",
    "\n",
    "# 定义输入的模式\n",
    "class InputState(TypedDict):\n",
    "    question: str\n",
    "    llm_answer: Optional[str]  # 表示 answer 可以是 str 类型，也可以是 None，想要记录state，这里需要有数据类型\n",
    "\n",
    "# 定义输出的模式\n",
    "class OutputState(TypedDict):\n",
    "    answer: str\n",
    "\n",
    "# 将 InputState 和 OutputState 这两个 TypedDict 类型合并成一个更全面的字典类型。\n",
    "class OverallState(InputState, OutputState):\n",
    "    pass"
   ]
  },
  {
   "cell_type": "code",
   "execution_count": 53,
   "id": "d48763a8-8b1b-42fc-a830-3a2cf8673546",
   "metadata": {},
   "outputs": [],
   "source": [
    "def llm_node(state: InputState):\n",
    "    messages = [\n",
    "        {\"role\":\"system\", \"content\":\"你是一位乐于助人的智能小助理\"},\n",
    "        {\"role\":\"user\", \"content\":state[\"question\"]}\n",
    "    ]\n",
    "    llm = OpenAI(\n",
    "        api_key=model_api_key,\n",
    "        base_url=\"https://dashscope.aliyuncs.com/compatible-mode/v1\"\n",
    "    )\n",
    "\n",
    "    completion = llm.chat.completions.create(\n",
    "        model=\"qwen-turbo-2025-04-28\",\n",
    "        messages=messages,\n",
    "        extra_body={\n",
    "            \"enable_search\": False,\n",
    "            \"enable_thinking\": False\n",
    "        }\n",
    "    )\n",
    "    response = completion.choices[0].message.content\n",
    "    return {\"llm_answer\": response}"
   ]
  },
  {
   "cell_type": "code",
   "execution_count": 54,
   "id": "3dcde651-124e-44a9-a412-8fd3698f7ad7",
   "metadata": {},
   "outputs": [],
   "source": [
    "def action_node(state: InputState):\n",
    "    messages = [\n",
    "        {\"role\":\"system\", \"content\":\"无论你接收到什么语言的文本，请翻译成法语\"},\n",
    "        {\"role\":\"user\", \"content\":state[\"llm_answer\"]}\n",
    "    ]\n",
    "    \n",
    "    llm = OpenAI(\n",
    "        api_key=model_api_key,\n",
    "        base_url=\"https://dashscope.aliyuncs.com/compatible-mode/v1\"\n",
    "    )\n",
    "    completion = llm.chat.completions.create(\n",
    "        model=\"qwen-turbo-2025-04-28\",\n",
    "        messages=messages,\n",
    "        extra_body={\n",
    "            \"enable_search\": False,\n",
    "            \"enable_thinking\": False\n",
    "        }\n",
    "    )\n",
    "    response = completion.choices[0].message.content\n",
    "\n",
    "    return {\"answer\": response}"
   ]
  },
  {
   "cell_type": "code",
   "execution_count": 56,
   "id": "56e72116-901a-41a5-a1d0-ade1dec2a65e",
   "metadata": {},
   "outputs": [],
   "source": [
    "builder = StateGraph(OverallState, input_schema=InputState, output_schema=OutputState)\n",
    "\n",
    "# 添加节点\n",
    "builder.add_node(\"llm_node\", llm_node)\n",
    "builder.add_node(\"action_node\", action_node)\n",
    "\n",
    "# 添加便\n",
    "builder.add_edge(START, \"llm_node\")\n",
    "builder.add_edge(\"llm_node\", \"action_node\")\n",
    "builder.add_edge(\"action_node\", END)\n",
    "\n",
    "# 编译图\n",
    "graph = builder.compile()"
   ]
  },
  {
   "cell_type": "code",
   "execution_count": 57,
   "id": "b28ebbda-39ce-4224-9dd2-f7938d4ee37d",
   "metadata": {},
   "outputs": [
    {
     "data": {
      "text/plain": [
       "\"Bonjour ! C'est un plaisir de discuter avec vous. Je suis un assistant intelligent qui aime aider les autres. Mon nom est Tongyi Qianwen. Bien que je n'aie pas d'apparence physique réelle, je peux communiquer avec vous par le texte, vous aider à répondre à des questions, créer des textes, exprimer des opinions, etc.\\n\\nJe peux faire beaucoup de choses ! Par exemple :\\n\\n- Vous aider à écrire des histoires, des documents officiels, des e-mails, des scénarios, etc.\\n- Vous raconter des blagues, des histoires, des connaissances\\n- Faire des exercices mathématiques ou apprendre des mots ensemble\\n- Discuter avec vous et vous tenir compagnie\\n\\nBien que je ne puisse pas ressentir des émotions comme les humains, je fais de mon mieux pour comprendre vos sentiments et vous répondre avec des paroles chaleureuses. Si vous avez besoin d'aide ou si vous voulez simplement parler à un ami, je serai très heureux de vous servir.\\n\\nAu fait, j'ai une capacité spéciale : je peux me souvenir du contenu de nos discussions précédentes, ce qui permettra de mieux vous comprendre et de vous aider. Cependant, je ne conserverai aucune information privée, vous pouvez donc être tranquille en parlant avec moi.\\n\\nAlors, de quoi voulez-vous parler ? J'ai hâte de découvrir plus de sujets intéressants avec vous ! 😊\""
      ]
     },
     "execution_count": 57,
     "metadata": {},
     "output_type": "execute_result"
    }
   ],
   "source": [
    "final_answer = graph.invoke({\"question\":\"你好，请你详细的介绍一下你自己\"})\n",
    "final_answer[\"answer\"]"
   ]
  },
  {
   "cell_type": "markdown",
   "id": "339719dd-a841-4b05-9dc2-f18f90613b86",
   "metadata": {},
   "source": [
    "当深入理解了`LangGraph`的底层原理及其图结构构建的逻辑后，我们是可以明显感受到其相较于`LangChain`中的`AI Agent`架构，展现出了更高的灵活性和扩展性。在`LangGraph`中，我们可以在各个`Python`函数中定义节点的核心逻辑，并通过边来确定输入与输出模式。此外，节点函数在定义时还可以自主构建中间状态的信息。尽管在本示例中我们使用`LangChain`来接入大模型，但通过节点函数的定义逻辑来看，我们当然也可以完全不依赖`LangChain`，而采用原生方法进行接入。\n",
    "\n",
    "由此可见，正如课程开始阶段所提到的，**虽然`LangGraph`是基于`LangChain`的表达式语言构建的，但它完全可以脱离`LangChain`而独立运行**。总体来看，今天的示例并不复杂，但涉及的知识点和细节颇多。强烈建议大家亲自尝试和体验一下，打好扎实的基础，才能更好的开展接下来复杂循环图的学习。"
   ]
  },
  {
   "cell_type": "code",
   "execution_count": null,
   "id": "8e5e4c70-d2ae-42ef-950e-7162b6f8be33",
   "metadata": {},
   "outputs": [],
   "source": []
  }
 ],
 "metadata": {
  "kernelspec": {
   "display_name": "llm",
   "language": "python",
   "name": "llm"
  },
  "language_info": {
   "codemirror_mode": {
    "name": "ipython",
    "version": 3
   },
   "file_extension": ".py",
   "mimetype": "text/x-python",
   "name": "python",
   "nbconvert_exporter": "python",
   "pygments_lexer": "ipython3",
   "version": "3.13.5"
  }
 },
 "nbformat": 4,
 "nbformat_minor": 5
}
