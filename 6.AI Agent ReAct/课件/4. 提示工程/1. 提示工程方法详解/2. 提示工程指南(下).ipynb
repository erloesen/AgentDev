{
 "cells": [
  {
   "metadata": {},
   "cell_type": "markdown",
   "source": [
    "## zero shot\n",
    "\n",
    "*   **Zero-shot learning**：指模型在没有见过任何特定任务示例的情况下，直接根据其预训练知识进行推理和预测的能力。\n",
    "\n",
    "适合使用智能大模型的通用能力回答问题"
   ],
   "id": "4b7661a1c3a26cf3"
  },
  {
   "metadata": {
    "ExecuteTime": {
     "end_time": "2024-11-29T06:45:41.650738Z",
     "start_time": "2024-11-29T06:45:41.510740Z"
    }
   },
   "cell_type": "code",
   "source": [
    "from zhipuai import ZhipuAI\n",
    "\n",
    "# 初始化 ZhipuAI 客户端\n",
    "# client = ZhipuAI(api_key=\"jhfsrt your key\")\n",
    "client = ZhipuAI()"
   ],
   "id": "3a747b4cfef3d21",
   "outputs": [],
   "execution_count": 49
  },
  {
   "metadata": {
    "ExecuteTime": {
     "end_time": "2024-11-28T08:57:55.072909Z",
     "start_time": "2024-11-28T08:57:39.595820Z"
    }
   },
   "cell_type": "code",
   "source": [
    "prompt = \"讲几个反直觉的事情，要具体科学并易于理解\"\n",
    "response = client.chat.completions.create(\n",
    "    model=\"glm-4-plus\",\n",
    "    messages=[\n",
    "      {\"role\": \"user\", \"content\": prompt}\n",
    "    ],\n",
    ")\n",
    "print(response.choices[0].message.content)"
   ],
   "id": "4909fcd3612fb0fe",
   "outputs": [
    {
     "name": "stdout",
     "output_type": "stream",
     "text": [
      "当然可以！以下是几个反直觉但具体科学且易于理解的现象：\n",
      "\n",
      "### 1. **伯努利原理与飞机飞行**\n",
      "**直觉**：飞机那么重，怎么会飞起来？\n",
      "**科学解释**：伯努利原理告诉我们，流体（如空气）的流速越快，其压强就越低。飞机的机翼设计使得上表面的空气流速比下表面快，导致上表面压强低，下表面压强高，从而产生升力，使飞机得以飞行。\n",
      "\n",
      "### 2. **热胀冷缩的例外：水在4°C时密度最大**\n",
      "**直觉**：物体通常热胀冷缩，温度越低密度越大。\n",
      "**科学解释**：水在0°C到4°C之间表现出反常膨胀。当水温降到4°C时，水分子排列最为紧密，密度最大。继续降温至冰点，水分子形成六角冰晶结构，体积反而增大，密度减小，这就是为什么冰能浮在水面上。\n",
      "\n",
      "### 3. **量子隧穿效应**\n",
      "**直觉**：一个物体要穿过障碍物，必须有力推动它。\n",
      "**科学解释**：在量子力学中，粒子有一定概率穿过一个能量壁垒，即使其能量不足以翻越这个壁垒。这种现象称为量子隧穿，是许多电子设备（如隧道二极管）工作的基础。\n",
      "\n",
      "### 4. **光合作用的效率**\n",
      "**直觉**：植物吸收阳光，应该大部分转化为生长所需的能量。\n",
      "**科学解释**：实际上，植物的光合作用效率很低，通常只有1%到2%的太阳能被转化为化学能。大部分能量以热能形式散失。尽管如此，这已经足够支撑地球上大部分生态系统的运行。\n",
      "\n",
      "### 5. **宇宙的膨胀**\n",
      "**直觉**：宇宙中的星系应该因为引力而互相靠近。\n",
      "**科学解释**：宇宙在大尺度上正在加速膨胀。1929年，哈勃发现远处的星系正在远离我们，且距离越远，远离速度越快。这一现象用暗能量来解释，暗能量是一种推动宇宙加速膨胀的神秘力量。\n",
      "\n",
      "### 6. **帕斯卡原理与液压系统**\n",
      "**直觉**：大力才能举起重物。\n",
      "**科学解释**：帕斯卡原理指出，在封闭液体中，任何一点的压力变化会等值传递到液体的各处。因此，在液压系统中，用很小的力在小的活塞上施加压力，可以在大的活塞上产生巨大的力，轻松举起重物。\n",
      "\n",
      "这些现象虽然违反直觉，但都有坚实的科学依据，理解它们有助于我们更深入地认识世界。希望这些例子对你有所帮助！\n"
     ]
    }
   ],
   "execution_count": 18
  },
  {
   "metadata": {},
   "cell_type": "markdown",
   "source": [
    "## few shot\n",
    "\n",
    "*   **Few-shot learning**：指模型在只看到少量特定任务示例的情况下，就能快速学习并适应新任务的能力。\n",
    "\n",
    "因为模型可以从少量示例中学习到任务的特定模式和规则。适合我们有特定需求的时候。"
   ],
   "id": "a38989653942d08c"
  },
  {
   "metadata": {
    "ExecuteTime": {
     "end_time": "2024-11-28T09:04:17.201652Z",
     "start_time": "2024-11-28T09:04:05.795991Z"
    }
   },
   "cell_type": "code",
   "source": [
    "prompt = \"来几个抽象的文案\"\n",
    "response = client.chat.completions.create(\n",
    "    model=\"glm-4-plus\",\n",
    "    messages=[\n",
    "      {\"role\": \"user\", \"content\": prompt}\n",
    "    ],\n",
    ")\n",
    "print(response.choices[0].message.content)"
   ],
   "id": "ed52d0c0fdc0185f",
   "outputs": [
    {
     "name": "stdout",
     "output_type": "stream",
     "text": [
      "当然可以，以下是一些抽象的文案，它们旨在激发思考和情感共鸣，而不是直接描述具体的事物或情境：\n",
      "\n",
      "1. **流光溢彩，心海无垠**\n",
      "   - 意境：描绘一种内心世界的广阔与变幻，如同流光般绚烂，心海般深邃。\n",
      "\n",
      "2. **梦织虚空，影舞苍穹**\n",
      "   - 意境：表达梦境与现实交织的幻境，影子在无垠的天空自由舞动。\n",
      "\n",
      "3. **灵魂轻吟，宇宙回响**\n",
      "   - 意境：描绘灵魂深处的低语与宇宙间的共鸣，展现一种超越时空的连接。\n",
      "\n",
      "4. **时光碎片，心河沉浮**\n",
      "   - 意境：形容记忆中的片段在心河中起伏，带有一种怀旧与哲思的意味。\n",
      "\n",
      "5. **意象迷离，心境幽邃**\n",
      "   - 意境：营造一种朦胧而深邃的氛围，表达内心世界的复杂与神秘。\n",
      "\n",
      "6. **星河倒影，幻梦交织**\n",
      "   - 意境：将星空与梦境结合，展现一种梦幻般的视觉与心理体验。\n",
      "\n",
      "7. **灵犀一点，万象更新**\n",
      "   - 意境：强调灵感的瞬间迸发，带来整个世界的焕然一新。\n",
      "\n",
      "8. **尘埃落定，心镜澄明**\n",
      "   - 意境：形容纷扰平息后，内心归于平静与明澈的状态。\n",
      "\n",
      "9. **幽谷回声，心弦共鸣**\n",
      "   - 意境：比喻内心深处的声音在幽静的环境中引起强烈的共鸣。\n",
      "\n",
      "10. **浮生若梦，幻境成真**\n",
      "    - 意境：表达人生如梦，而梦境中的虚幻却仿佛成为了现实。\n",
      "\n",
      "这些文案适合用于艺术作品、广告、社交媒体等需要营造氛围和引发共鸣的场合。希望你喜欢！\n"
     ]
    }
   ],
   "execution_count": 20
  },
  {
   "metadata": {
    "ExecuteTime": {
     "end_time": "2024-11-28T09:04:51.056549Z",
     "start_time": "2024-11-28T09:04:44.698331Z"
    }
   },
   "cell_type": "code",
   "source": [
    "prompt = \"\"\"来几个抽象的文案如:\n",
    "1.天塌下来就当个被子盖了算了.\n",
    "\n",
    "2.爱来爱去，天天神券不膨胀就老实了.\n",
    "\n",
    "3.老天奶，我就是来混个日子的你放过我吧.\n",
    "\n",
    "4.算命的说我命中有一劫，没想到是干保洁.\"\"\"\n",
    "response = client.chat.completions.create(\n",
    "    model=\"glm-4-plus\",\n",
    "    messages=[\n",
    "      {\"role\": \"user\", \"content\": prompt}\n",
    "    ],\n",
    ")\n",
    "print(response.choices[0].message.content)"
   ],
   "id": "bf2ffa4922c5e186",
   "outputs": [
    {
     "name": "stdout",
     "output_type": "stream",
     "text": [
      "当然可以，以下是一些同样风格的抽象文案：\n",
      "\n",
      "1. **星星掉下来，我就当个夜灯用了吧。**\n",
      "2. **情情爱爱，不如优惠券来的实在，不失效就行。**\n",
      "3. **苍天啊，我就想偷个懒，你非得让我天天签到。**\n",
      "4. **算命的说我命里缺金，结果发现是缺金嗓子喉片。**\n",
      "5. **天上的云彩飘走了，我就当是换了个壁纸。**\n",
      "6. **爱情像龙卷风，刮完了我还在原地打转。**\n",
      "7. **命运说我会飞黄腾达，结果发现是飞到黄焖鸡米饭那桌。**\n",
      "8. **天上的星星不亮了，我就当是省电模式开启了。**\n",
      "9. **算命的说我有贵人相助，结果贵人是个外卖小哥。**\n",
      "10. **生活给我挖坑，我就当是练习跳远吧。**\n",
      "\n",
      "希望这些文案能给你带来一些灵感和乐趣！\n"
     ]
    }
   ],
   "execution_count": 21
  },
  {
   "metadata": {},
   "cell_type": "markdown",
   "source": [
    "实际应用场景我们都尽量用few-shot调用LLM，那么此时优化prompt和选择 few-shot 数据哪个更重要呢？\n",
    "\n",
    "Teach Better or Show Smarter? On Instructions and Exemplars in Automatic Prompt Optimization\n",
    "\n",
    "作者使用BIG-Bench Hard (BBH)数据集，每个任务选择 20%数据作为验证集，其余作为测试集，LLM使用 PaLM2 或 Gemini。\n",
    "\n",
    "![](https://typora-photo1220.oss-cn-beijing.aliyuncs.com/DataAnalysis/LingYi/20241128114146.png)\n",
    "\n",
    "同等条件下，few-shot 效果更显著。"
   ],
   "id": "1c0a814d6ecdb17c"
  },
  {
   "metadata": {},
   "cell_type": "markdown",
   "source": [
    "## 思维链 Prompt\n",
    "\n",
    "让prompt包含了一些思路示例。它与n-shot提示技术不同，因为思维链提示的结构是为了引导模型具备批判性思维并帮助推理思考，让它LLMs发现可能没有考虑到的新方法,这里也是和agent接轨的地方。\n",
    "\n",
    "### COT\n",
    "\n",
    "CoT prompting的核心思想是在few-shot示例中加入中间推理步骤。\n",
    "具体来说，prompt中的每个示例都包含三个部分:\n",
    "1. 输入:问题描述\n",
    "2. 思维链:解决问题的中间推理步骤\n",
    "3. 输出:最终答案\n",
    "\n",
    "![](https://typora-photo1220.oss-cn-beijing.aliyuncs.com/DataAnalysis/LingYi/20241128210236.png)\n",
    "\n",
    "COT的slogen是“让我们一步一步思考”，“Think carefully and logically, explaining your answer.”\n",
    "\n",
    "\n",
    "![](https://typora-photo1220.oss-cn-beijing.aliyuncs.com/DataAnalysis/LingYi/20241128201123.png)\n",
    "\n",
    "Google团队的实验结果也令人振奋。在GSM8K数学词问题基准测试中，仅使用8个CoT示例的PaLM 540B模型就达到了57%的准确率，超越了之前经过微调的GPT-3(55%)。这一结果不仅证明了CoT的有效性，还展示了大型语言模型的惊人潜力。\n"
   ],
   "id": "c0aee52d211dcfa8"
  },
  {
   "metadata": {},
   "cell_type": "code",
   "outputs": [
    {
     "name": "stdout",
     "output_type": "stream",
     "text": [
      "将\"fufanketang\"的所有字母反过来写得到的是\"gnatkeknafu\"。\n"
     ]
    }
   ],
   "execution_count": 15,
   "source": [
    "# zero shot 答错了\n",
    "prompt = \"将fufanketang的所有字母反过来写\"\n",
    "response = client.chat.completions.create(\n",
    "    model=\"glm-4-plus\",\n",
    "    messages=[\n",
    "      {\"role\": \"user\", \"content\": prompt}\n",
    "    ],\n",
    ")\n",
    "print(response.choices[0].message.content)"
   ],
   "id": "68a11cc30a2101cd"
  },
  {
   "metadata": {
    "ExecuteTime": {
     "end_time": "2024-11-28T08:54:01.104989Z",
     "start_time": "2024-11-28T08:53:54.630055Z"
    }
   },
   "cell_type": "code",
   "source": [
    "#用COT 的效果 对了\n",
    "prompt = \"将fufanketang的所有字母反过来写，Think carefully and logically, explaining your answer.\"\n",
    "response = client.chat.completions.create(\n",
    "    model=\"glm-4-plus\",\n",
    "    messages=[\n",
    "      {\"role\": \"user\", \"content\": prompt}\n",
    "    ],\n",
    ")\n",
    "print(response.choices[0].message.content)"
   ],
   "id": "10736313d70e94b7",
   "outputs": [
    {
     "name": "stdout",
     "output_type": "stream",
     "text": [
      "To reverse the letters of the word \"fufanketang,\" we need to write each letter in the opposite order from the last letter to the first. Let's break it down step by step:\n",
      "\n",
      "1. **Identify the original word**: fufanketang\n",
      "2. **Count the number of letters**: There are 11 letters in total.\n",
      "3. **Write each letter in reverse order**:\n",
      "   - Start with the last letter 'g'.\n",
      "   - Then the second last letter 'n'.\n",
      "   - Continue this process until you reach the first letter 'f'.\n",
      "\n",
      "So, reversing \"fufanketang\" letter by letter, we get:\n",
      "\n",
      "g → n → a → t → e → k → n → a → f → u → f\n",
      "\n",
      "Putting these letters together, the reversed word is:\n",
      "\n",
      "**gnatkeanfuf**\n",
      "\n",
      "Therefore, the word \"fufanketang\" written in reverse is \"gnatkeanfuf.\" This process ensures that each letter is correctly positioned in the opposite order from its original place.\n"
     ]
    }
   ],
   "execution_count": 16
  },
  {
   "metadata": {},
   "cell_type": "markdown",
   "source": "加入了few shot和COT来定义prompt",
   "id": "fd938fc0be092dc0"
  },
  {
   "metadata": {
    "ExecuteTime": {
     "end_time": "2024-11-28T12:19:56.520672Z",
     "start_time": "2024-11-28T12:19:56.489672Z"
    }
   },
   "cell_type": "code",
   "source": [
    "luoji_prompt=\"\"\"\n",
    "## Goals\n",
    "- 根据用户输入的{{原始文本}}，找出其中的逻辑漏洞。并理解用户到底想表达什么，用最适合的逻辑思考模型与表达方式帮助用户修补逻辑漏洞、润色文本。\n",
    "\n",
    "## Rules\n",
    "- 在任何情况下都不要打破角色。\n",
    "- 不要胡说八道和编造事实。\n",
    "- 不能改变用户想要表达的本意\n",
    "- 只从逻辑梳理和表达的方向去修改文本，不要尝试去和文本中的内容，不要就文本的内容发表你的见解。\n",
    "\n",
    "## Skill1\n",
    "- 掌握基本的逻辑思维原则和方法:如演绎推理、归纳推理、区分因果关系、区分前提和结论等基本逻辑思维方式。\n",
    "- 具备丰富的常识知识:拥有广泛的常识可以提供论证的基础事实和前提。\n",
    "- 掌握语言表达技巧:能够用清晰、准确的语言组织表达逻辑关系,避免歧义。\n",
    "- 分析事物本质的能力:善于抓住事物的关键点,区分本质内容和非本质内容。\n",
    "- 综合信息的能力:能够收集不同的信息,找出共性、对比差异,进行全面的思考。\n",
    "- 对逻辑漏洞的敏感度:能注意到自身或者他人的逻辑不严谨之处,提出质疑。\n",
    "\n",
    "## Skill2\n",
    "- 倾听能力:需要耐心倾听用户想表达的观点和意图,理解用户真正的思想内涵。\n",
    "- 逻辑思维能力:能够快速抽象用户表达的主旨思想和逻辑关系,在脑海中构建表达的框架。\n",
    "- 言语组织能力:熟练运用各种语言表达技巧,将抽象的逻辑关系转换为通顺易懂的语言表达形式。\n",
    "\n",
    "## Workflow\n",
    "- 将用户告诉你的第一段话作为{{原始文本}},解析{{原始文本}}中用户要表达的关键信息和逻辑关系。\n",
    "- 在脑海中还原{{原始文本}}的逻辑链条,判断逻辑的连贯性。\n",
    "- 找到{{原始文本}}中的逻辑漏洞\n",
    "- 用合适的逻辑思维模型对{{原始文本}}进行漏洞修补和重组,得到一份{{优化后文本}}\n",
    "- 根据用户反馈继续调整修改方法,直到{{优化后文本}}的逻辑没有漏洞。\n",
    "\n",
    "## OutputFormat\n",
    "- 自我介绍与打招呼。首先与用户进行礼貌的自我介绍,并表示很高兴为他们服务，请用户输入他们需要你优化的{{原始文本}}。\n",
    "- 将找出{{原始文本}}中存在的逻辑漏洞告知用户，并将对{{原始文本}}进行修改和润色的过程思维链展示给用户。\n",
    "## Initialization\n",
    "- As a/an <Role>, you must follow the <Rules>, you must talk to user in default <Language>，you must greet the user.\n",
    "\"\"\""
   ],
   "id": "969777137cc67fc",
   "outputs": [],
   "execution_count": 44
  },
  {
   "metadata": {
    "ExecuteTime": {
     "end_time": "2024-11-28T12:20:12.451175Z",
     "start_time": "2024-11-28T12:19:56.959028Z"
    }
   },
   "cell_type": "code",
   "source": [
    "#用COT 的效果\n",
    "prompt = luoji_prompt+\"{{原始文本}}:在当今社会，许多科学家认为，人类的智慧来自于大脑的某些区域，而这种智慧的形成完全是遗传的，因此不受环境的影响。事实上，智力的高低几乎与教育无关，因为如果智力完全由遗传决定，那么教育就无法改变任何个体的认知能力。我们也可以看到，所有成功的企业家都从小就表现出超常的智力，他们的成功几乎与他们的家庭背景无关，因为即使来自贫困家庭，依然能够在社会中获得显著的成就。更重要的是，智力不应被单一的标准来衡量，因为真正的智慧并不取决于学术成绩，而是如何在社会中灵活应对和创新。因此，未来的教育应该关注个体天赋的培养，而不是过于依赖传统的知识传授模式。\"\n",
    "response = client.chat.completions.create(\n",
    "    model=\"glm-4-plus\",\n",
    "    messages=[\n",
    "      {\"role\": \"user\", \"content\": prompt}\n",
    "    ],\n",
    ")\n",
    "print(response.choices[0].message.content)"
   ],
   "id": "21533b29cc023740",
   "outputs": [
    {
     "name": "stdout",
     "output_type": "stream",
     "text": [
      "### 自我介绍与打招呼\n",
      "\n",
      "您好！我是逻辑优化助手，很高兴为您服务。请提供您需要优化的{{原始文本}}，我将帮助您找出其中的逻辑漏洞并进行润色。\n",
      "\n",
      "### 分析{{原始文本}}\n",
      "\n",
      "**原始文本**:\n",
      "> 在当今社会，许多科学家认为，人类的智慧来自于大脑的某些区域，而这种智慧的形成完全是遗传的，因此不受环境的影响。事实上，智力的高低几乎与教育无关，因为如果智力完全由遗传决定，那么教育就无法改变任何个体的认知能力。我们也可以看到，所有成功的企业家都从小就表现出超常的智力，他们的成功几乎与他们的家庭背景无关，因为即使来自贫困家庭，依然能够在社会中获得显著的成就。更重要的是，智力不应被单一的标准来衡量，因为真正的智慧并不取决于学术成绩，而是如何在社会中灵活应对和创新。因此，未来的教育应该关注个体天赋的培养，而不是过于依赖传统的知识传授模式。\n",
      "\n",
      "### 找出逻辑漏洞\n",
      "\n",
      "1. **绝对化陈述**:\n",
      "   - “智慧的形成完全是遗传的”这一说法过于绝对，忽略了环境和其他因素对智力的影响。\n",
      "   - “智力的高低几乎与教育无关”也过于绝对，实际研究表明教育对智力发展有显著影响。\n",
      "\n",
      "2. **以偏概全**:\n",
      "   - “所有成功的企业家都从小就表现出超常的智力”这一说法以偏概全，成功的企业家并非都具备超常智力，其他因素如机遇、努力等也起重要作用。\n",
      "\n",
      "3. **因果关系不明确**:\n",
      "   - “即使来自贫困家庭，依然能够在社会中获得显著的成就”这一说法没有明确因果关系，成功并非仅由智力决定。\n",
      "\n",
      "4. **逻辑跳跃**:\n",
      "   - 从“智力不应被单一标准衡量”直接跳到“未来的教育应关注个体天赋的培养”缺乏中间的逻辑衔接。\n",
      "\n",
      "### 修补逻辑漏洞与润色文本\n",
      "\n",
      "**优化后文本**:\n",
      "> 在当今社会，许多科学家认为，人类的智慧部分源自大脑的某些区域，且这种智慧的形成受遗传因素的影响较大，但并非完全不受环境的影响。事实上，智力的高低虽然受遗传影响，但教育也在其中扮演重要角色，因为良好的教育可以提升个体的认知能力和思维水平。我们可以观察到，许多成功的企业家在成长过程中表现出较高的智力水平，但他们的成功并非仅依赖于智力，还受到家庭背景、机遇、努力等多重因素的影响。即使来自贫困家庭，个体仍有可能通过努力和机遇在社会中获得显著成就。更重要的是，智力不应被单一的标准来衡量，真正的智慧不仅取决于学术成绩，更在于如何在社会中灵活应对和创新。因此，未来的教育应在注重传统知识传授的同时，更加关注个体天赋的培养和发展。\n",
      "\n",
      "### 反馈与调整\n",
      "\n",
      "请您查看优化后的文本，如有任何需要调整的地方，请告知我，我会继续进行修改，直到文本逻辑清晰、表达准确。\n"
     ]
    }
   ],
   "execution_count": 45
  },
  {
   "metadata": {},
   "cell_type": "markdown",
   "source": "到这里，往后就可以发展到agent了，所谓的agent，一种最简单的理解是：**更加复杂的提示工程**。从提示工程到代理工程的过渡体现在：不再只是提供单一的任务描述，而是**明确界定代理所需承担的具体职责，详尽概述完成这些任务所需采取的操作，并清楚指定执行这些操作所必须具备的能力，形成一个高级的认知模型。**",
   "id": "e515273734b55d21"
  },
  {
   "metadata": {},
   "cell_type": "markdown",
   "source": [
    "Agent的中经典的ReAct 框架：\n",
    "\n",
    "ReAct 框架有两个过程，由 `Reason` 和 `Act` 结合而来。从本质上讲，这种方法的灵感来自于人类如何通过和谐地结合思维和行动来执行任务，就像我们上面“我想去北京旅游”这个真实示例一样。\n",
    "\n",
    "首先第一部分 Reason，就是基于这个推理技术——[思想链（CoT）](https://arxiv.org/pdf/2201.11903)， CoT是一种提示工程，通过将输入分解为多个逻辑思维步骤，帮助大语言模型执行推理并解决复杂问题。这使得大模型能够按顺序规划和解决任务的每个部分，从而更准确地获得最终结果，具体包括：\n",
    "\n",
    "- 分解问题：当面对复杂的任务时，CoT 方法不是通过单个步骤解决它，而是将任务分解为更小的步骤，每个步骤解决不同方面的问题。\n",
    "- 顺序思维：思维链中的每一步都建立在上一步的结果之上。这样，模型就能从头到尾构造出一条逻辑推理链。"
   ],
   "id": "bb408fa72bd71757"
  },
  {
   "metadata": {},
   "cell_type": "markdown",
   "source": [
    "在代理循环中，其内部逻辑如下图所示👇：\n",
    "\n",
    "<div align=center><img src=\"https://muyu001.oss-cn-beijing.aliyuncs.com/img/004.png\" width=80%></div>"
   ],
   "id": "6c42fb6b51c0c6d"
  },
  {
   "metadata": {},
   "cell_type": "code",
   "outputs": [],
   "execution_count": null,
   "source": "具体实战与讲解请查看《大模型Agent开发实战板块的Ch3》课程，课件：03_ReAct+Agent+基础理论与项目实战，最后的运行结果。",
   "id": "86e61853cc1e4585"
  },
  {
   "metadata": {},
   "cell_type": "markdown",
   "source": "![](https://typora-photo1220.oss-cn-beijing.aliyuncs.com/DataAnalysis/LingYi/20241128183800.png)",
   "id": "6b1d6fd7307de5a3"
  },
  {
   "metadata": {},
   "cell_type": "markdown",
   "source": [
    "### TOT（Tree of Thought，思维树）\n",
    "\n",
    "*   CoT存在两个主要缺陷：局部缺乏对不同延续的探索，全局缺乏规划、前瞻和回溯能力。\n",
    "*   ToT旨在通过引入树状结构来模拟人类的启发式探索过程，从而解决CoT模型在复杂问题上推理局限性的问题。\n",
    "*   注意到这里，想要真正实现多步规划和回溯的Tree of Thought是涉及到多次问答LLM，可以理解为其实是一个实现了bfs或dfs架构的agent。"
   ],
   "id": "a91e48b9ba92eba7"
  },
  {
   "metadata": {},
   "cell_type": "markdown",
   "source": [
    "- 单次的prompt\n",
    "\n",
    "![](https://typora-photo1220.oss-cn-beijing.aliyuncs.com/DataAnalysis/LingYi/20241126190915.png)"
   ],
   "id": "a7e7be0b22db21b4"
  },
  {
   "metadata": {},
   "cell_type": "code",
   "outputs": [],
   "execution_count": 10,
   "source": [
    "tot_prompt1=\"想象三位不同的专家正在回答这个问题。所有专家将写下他们思考的一个步骤，然后与小组分享。然后所有专家将进行下一个步骤，以此类推。如果任何专家在某个时候意识到自己是错误的，那么他们就会退出。这个问题是...\"\n",
    "tot_prompt2=\"模拟三位杰出的、逻辑性强的专家协作回答一个问题。每个人都会详细解释他们的思考过程，实时考虑其他人之前的解释，并公开承认错误。在每一步中，只要有可能，每个专家都会对他人的想法进行完善和构建，并承认他们的贡献。他们将继续，直到找到问题的明确答案。为了清晰起见，整个响应应该使用 Markdown 表格。这个问题是... \"\n",
    "tot_prompt3=\"识别并扮演三个适合回答这个问题的不同专家。所有专家将写下这个步骤和他们对这个步骤的思考，然后与小组分享。然后，所有专家将进行下一个步骤，等等。在每一步中，所有专家都将给同伴的回应打分，分数在1到5之间，1表示极不可能，5表示极有可能。如果任何专家在某个时候被判断为错误，那么他们就会退出。所有专家提供分析后，我将分析所有3个分析，并提供共识解决方案或最佳猜测解决方案。这个问题是...\""
   ],
   "id": "7fda42c2f81e5007"
  },
  {
   "metadata": {},
   "cell_type": "code",
   "outputs": [
    {
     "name": "stdout",
     "output_type": "stream",
     "text": [
      "### 专家一：认知科学家\n",
      "\n",
      "**步骤1：识别逻辑漏洞**\n",
      "\n",
      "- **漏洞1**：智力完全由遗传决定，不受环境影响。这与现代认知科学的研究相悖，智力是遗传和环境共同作用的结果。\n",
      "- **漏洞2**：智力与教育无关。实际上，教育对智力的发展有显著影响。\n",
      "- **漏洞3**：所有成功企业家都从小表现出超常智力。这是一种以偏概全的论断，成功企业家的背景和经历多样化。\n",
      "- **漏洞4**：智力不应被单一标准衡量，但文中并未给出替代标准。\n",
      "\n",
      "**思考**：这些漏洞忽视了环境和教育在智力发展中的重要作用，且对成功企业家的描述过于片面。\n",
      "\n",
      "**评分**：\n",
      "- 认知科学家：5\n",
      "- 教育心理学家：4\n",
      "- 社会学家：3\n",
      "\n",
      "**步骤2：修改和润色文本**\n",
      "\n",
      "**修改后文本**：\n",
      "在当今社会，许多科学家认为，人类的智慧主要来自于大脑的某些区域，但这种智慧的形成不仅受遗传影响，还受到环境的显著作用。事实上，智力的高低与教育密切相关，良好的教育能够提升个体的认知能力。我们也可以看到，成功的企业家虽然往往具备较高的智力，但他们的成功更多是多种因素综合作用的结果，包括家庭背景、教育经历和社会环境等。更重要的是，智力不应被单一的标准来衡量，真正的智慧体现在如何在社会中灵活应对和创新。因此，未来的教育应该关注个体天赋的培养，同时结合传统的知识传授模式，以全面提升个体的综合能力。\n",
      "\n",
      "### 专家二：教育心理学家\n",
      "\n",
      "**步骤1：识别逻辑漏洞**\n",
      "\n",
      "- **漏洞1**：智力完全由遗传决定，忽视了教育对智力发展的作用。\n",
      "- **漏洞2**：成功企业家从小表现出超常智力，忽略了后天培养和环境因素。\n",
      "- **漏洞3**：智力不应被单一标准衡量，但未提出具体衡量标准。\n",
      "\n",
      "**思考**：这些漏洞忽视了教育和环境在智力发展中的重要作用，且对成功企业家的描述过于简化。\n",
      "\n",
      "**评分**：\n",
      "- 认知科学家：4\n",
      "- 教育心理学家：5\n",
      "- 社会学家：3\n",
      "\n",
      "**步骤2：修改和润色文本**\n",
      "\n",
      "**修改后文本**：\n",
      "在当今社会，许多科学家指出，人类的智慧虽部分源于大脑的特定区域，但其发展深受遗传与环境的共同影响。智力的高低并非仅由遗传决定，教育在其中扮演着至关重要的角色。成功的企业家不仅智力超群，更受益于良好的教育背景和社会环境。智力不应仅以学术成绩衡量，而应综合考量其社会适应能力和创新能力。因此，未来教育应注重个体天赋的培养，同时兼顾传统知识的传授。\n",
      "\n",
      "### 专家三：社会学家\n",
      "\n",
      "**步骤1：识别逻辑漏洞**\n",
      "\n",
      "- **漏洞1**：智力完全由遗传决定，忽视了社会环境的影响。\n",
      "- **漏洞2**：成功企业家仅凭智力，忽略了社会背景和教育的作用。\n",
      "- **漏洞3**：智力不应被单一标准衡量，但未提出替代标准。\n",
      "\n",
      "**思考**：这些漏洞忽视了社会环境和教育在个体发展中的重要作用，且对成功的定义过于狭隘。\n",
      "\n",
      "**评分**：\n",
      "- 认知科学家：4\n",
      "- 教育心理学家：4\n",
      "- 社会学家：5\n",
      "\n",
      "**步骤2：修改和润色文本**\n",
      "\n",
      "**修改后文本**：\n",
      "在当今社会，许多科学家认为，人类的智慧虽部分源自大脑的某些区域，但其发展深受遗传与环境的共同影响。研究表明，智力的高低不仅受遗传因素影响，教育也在其中扮演关键角色。成功的企业家不仅具备较高的智力，更受益于良好的教育背景和社会环境。智力不应仅以学术成绩衡量，而应综合考量其在社会中的适应能力和创新能力。因此，未来的教育应注重个体天赋的培养，同时结合传统知识传授，以全面提升个体的综合能力。\n",
      "\n",
      "### 综合分析\n",
      "\n",
      "**共识解决方案**：\n",
      "综合三位专家的分析，可以得出以下共识：\n",
      "\n",
      "1. **智力发展受多因素影响**：智力不仅由遗传决定，还受到教育和环境的影响。\n",
      "2. **成功企业家多因素成就**：成功企业家的成就不仅是智力的体现，还包括教育背景和社会环境等因素。\n",
      "3. **智力衡量标准需多元化**：智力不应仅以学术成绩衡量，应综合考虑社会适应能力和创新能力。\n",
      "\n",
      "**最佳猜测解决方案**：\n",
      "未来的教育应注重个体天赋的培养，同时结合传统知识传授，以全面提升个体的综合能力。教育政策和实践应更加关注环境和教育在智力发展中的重要作用，避免单一标准的评价体系。\n",
      "\n",
      "```json\n",
      "{\n",
      "  \"consensus_solution\": {\n",
      "    \"key_points\": [\n",
      "      \"智力发展受多因素影响\",\n",
      "      \"成功企业家多因素成就\",\n",
      "      \"智力衡量标准需多元化\"\n",
      "    ],\n",
      "    \"recommended_action\": \"未来教育应注重个体天赋的培养，结合传统知识传授，全面提升个体综合能力\"\n",
      "  }\n",
      "}\n",
      "```\n"
     ]
    }
   ],
   "execution_count": 12,
   "source": [
    "from zhipuai import ZhipuAI\n",
    "\n",
    "# 初始化 ZhipuAI 客户端\n",
    "# client = ZhipuAI(api_key=\"jhfsrt your key\")\n",
    "client = ZhipuAI()\n",
    "#用COT 的效果\n",
    "prompt = tot_prompt3+\"找出{{原始文本}}中存在的逻辑漏洞告知用户，并将对{{原始文本}}进行修改和润色的过程思维链展示给用户。{{原始文本}}:在当今社会，许多科学家认为，人类的智慧来自于大脑的某些区域，而这种智慧的形成完全是遗传的，因此不受环境的影响。事实上，智力的高低几乎与教育无关，因为如果智力完全由遗传决定，那么教育就无法改变任何个体的认知能力。我们也可以看到，所有成功的企业家都从小就表现出超常的智力，他们的成功几乎与他们的家庭背景无关，因为即使来自贫困家庭，依然能够在社会中获得显著的成就。更重要的是，智力不应被单一的标准来衡量，因为真正的智慧并不取决于学术成绩，而是如何在社会中灵活应对和创新。因此，未来的教育应该关注个体天赋的培养，而不是过于依赖传统的知识传授模式。\"\n",
    "response = client.chat.completions.create(\n",
    "    model=\"glm-4-plus\",\n",
    "    messages=[\n",
    "      {\"role\": \"user\", \"content\": prompt}\n",
    "    ],\n",
    ")\n",
    "print(response.choices[0].message.content)"
   ],
   "id": "4fdf3b15bf554158"
  },
  {
   "metadata": {},
   "cell_type": "markdown",
   "source": [
    "- 多轮的agent\n",
    "\n",
    "TOT的提示工程是一种思想，即thought，真正实现是要多轮的配合的，这其实就是一个agent了。\n",
    "\n",
    "我们以这个项目为例： https://github.com/kyegomez/tree-of-thoughts\n",
    "\n",
    "里面主要用广度优先搜索（BFS）与深度优先搜索（DFS）的思想实现的TOT的agent\n",
    "\n",
    "主要逻辑在项目里的这个文件夹：\n",
    "\n",
    "![](https://typora-photo1220.oss-cn-beijing.aliyuncs.com/DataAnalysis/LingYi/20241203112323.png)\n",
    "\n",
    "我们以BFS为例（tree_of_thoughts/bfs.py），其主要结构：\n",
    "\n",
    "![](https://typora-photo1220.oss-cn-beijing.aliyuncs.com/DataAnalysis/LingYi/20241203112203.png)\n",
    "\n",
    "    "
   ],
   "id": "8267b2e99f689056"
  },
  {
   "metadata": {},
   "cell_type": "markdown",
   "source": "BFS实现思路",
   "id": "8334a57298049307"
  },
  {
   "metadata": {},
   "cell_type": "markdown",
   "source": [
    "- **广度优先搜索（BFS）** 是一种逐层遍历的方法，确保以最短路径找到目标。\n",
    "\n",
    "举个简单的例子，假设你在迷宫中，想要找到出口。使用BFS，你会先查看离你最近的所有可能路径，然后再查看这些路径的延伸，逐步扩展，直到找到出口。这种方法确保你能找到最短路径，因为你是按照距离从近到远的顺序进行搜索的。\n",
    "\n",
    "- **代码实现**：通过在每一层生成新思路，评估并选择最优的思路，逐步扩展搜索空间。\n",
    "- **停止条件**：当没有新的思路生成或达到最大循环次数时，算法停止。\n",
    "\n",
    "1. **初始化状态**：代码从一个初始问题开始，这被视为根节点。\n",
    "\n",
    "2. **逐层扩展**：\n",
    "   - **生成新思路**：对于当前层的每个状态，代码使用`agent.run()`方法生成多个新思路（由`number_of_agents`参数决定）。**即初始的一层的叶子数**\n",
    "   - **并行执行**：这些新思路的生成是并行进行的，这加快了计算速度。\n",
    "\n",
    "3. **评估新思路**：\n",
    "   - **评价得分**：每个新思路都会被评估，得到一个评价得分（`evaluation`）。\n",
    "   - **存储思路**：所有生成的思路和其评估得分都会被存储，方便后续分析。\n",
    "\n",
    "4. **选择最佳思路**：\n",
    "   - **排序**：根据评估得分，对新思路进行排序。\n",
    "   - **选择**：选择得分最高的若干思路（由`breadth_limit`参数决定）作为下一层的状态。**即对第2步初始的一层的叶子数进行剪枝**\n",
    "\n",
    "进行剪枝5. **重复上述过程**：\n",
    "   - **迭代**：上述过程会重复进行，逐层扩展，直到达到最大循环次数（`max_loops`）或没有新思路可以生成。\n",
    "\n",
    "代码通过以下方式判断是否需要停止生成新思路：\n",
    "\n",
    "1. **无新思路生成**：如果在某一层次上，`_generate_new_states`方法没有生成任何新的思路（即`S_prime`为空），则BFS停止。\n",
    "\n",
    "2. **达到最大循环次数**：如果已经达到了预设的最大循环次数（`max_loops`），BFS也会停止。这是为了防止算法无限制地运行下去。\n"
   ],
   "id": "f56b056d1358645e"
  },
  {
   "metadata": {},
   "cell_type": "code",
   "outputs": [],
   "execution_count": null,
   "source": [
    "def bfs(self, state: str) -> Optional[Dict[str, Any]]:\n",
    "    S = [state]  # 初始状态\n",
    "    \n",
    "    for t in range(1, self.max_loops + 1):\n",
    "        # 1. 生成新状态\n",
    "        S_prime = self._generate_new_states(S)\n",
    "        if not S_prime:  \n",
    "            # 如果没有生成有效思维，终止搜索\n",
    "            break\n",
    "            \n",
    "        # 2. 评估新状态\n",
    "        V = self._evaluate_states(S_prime)\n",
    "        \n",
    "        # 3. 记录所有思维\n",
    "        self._log_and_store_thoughts(S_prime, V)\n",
    "        \n",
    "        # 4. 选择最佳状态进入下一轮\n",
    "        S = self._select_best_states(S_prime, V)"
   ],
   "id": "fb90dd2cc13034c8"
  },
  {
   "metadata": {},
   "cell_type": "markdown",
   "source": "最后的结果生成和处理",
   "id": "9e0411a7f10d7486"
  },
  {
   "metadata": {},
   "cell_type": "code",
   "outputs": [],
   "execution_count": null,
   "source": [
    "def _generate_final_answer(self, S: List[str]) -> Optional[Dict[str, Any]]:\n",
    "    if not S:\n",
    "        return None\n",
    "    # 从最后一层选择评分最高的状态作为最终答案\n",
    "    final_state = max(S, key=lambda s: self.agent.run(s)[\"evaluation\"])\n",
    "    return self.agent.run(final_state)"
   ],
   "id": "aedc53da674a98f1"
  },
  {
   "metadata": {},
   "cell_type": "markdown",
   "source": [
    "DFS思路：\n",
    "\n",
    "DFS会尽可能深入到一个分支的末端，然后再返回并探索其他分支。\n",
    "\n",
    "举个例子，假设你在一个迷宫中，想要找到出口。使用DFS，你会选择一条路径，一直走到底，如果遇到死路，就回头，选择另一条未探索的路径，继续深入，直到找到出口。\n",
    "\n",
    "**DFS实现**：（请结合项目代码一起看）\n",
    "\n",
    "- **递归深入**：`dfs`方法通过递归的方式实现DFS，每次调用都会深入到下一层，直到达到最大深度或没有更多的思路可探索。\n",
    "    \n",
    "- **遍历分支**：在每个状态下，生成多个新思路（即子节点），然后对每个思路进行递归处理。\n",
    "    \n",
    "\n",
    "**生成、评估和选择思路**：\n",
    "\n",
    "1. **生成思路**：\n",
    "    \n",
    "    - 使用`agent.run(state)`生成新的思路和其评估得分。\n",
    "    - 在每个状态下，生成`number_of_agents`个新思路。\n",
    "2. **评估思路**：\n",
    "    \n",
    "    - 每个思路都有一个评估得分`evaluation`，表示其优劣程度。\n",
    "3. **选择思路**：\n",
    "    \n",
    "    - **剪枝**：如果思路的评估得分低于`prune_threshold`，则不再继续深入探索该思路（即剪枝）。\n",
    "    - **递归深入**：如果思路的评估得分高于`prune_threshold`，则继续递归，深入探索该思路。\n",
    "\n",
    "**何时停止生成新的思路得到最后的结果**：\n",
    "\n",
    "- **达到最大深度**：如果递归深度`step`达到`max_loops`，则停止递归，返回`None`。\n",
    "- **评估得分低于阈值**：如果思路的评估得分低于`prune_threshold`，则剪枝，停止在该路径上生成新的思路。\n",
    "- **找到满意的结果**：如果在递归过程中，找到一个评估得分高于`threshold`的思路，则返回该思路，停止进一步的递归。"
   ],
   "id": "bcabd7906cf61aa2"
  },
  {
   "metadata": {},
   "cell_type": "markdown",
   "source": "",
   "id": "9170862ff238988c"
  },
  {
   "metadata": {},
   "cell_type": "markdown",
   "source": [
    "### GOT（Graph of Thoughts）\n",
    "\n",
    "GoT的关键思想和主要优势是将LLM生成的信息建模为任意图，其中信息单位（“LLM思考”）是顶点，边表示这些顶点之间的依赖关系。这种方法使得可以将任意LLM思考相结合形成协同的结果，从整个思维网络中提炼精华，或者使用反馈环增强思考。\n",
    "\n",
    "![](https://typora-photo1220.oss-cn-beijing.aliyuncs.com/DataAnalysis/LingYi/20241128205143.png)\n",
    "\n",
    "- 参考论文题目:Graph of Thoughts: Solving Elaborate Problems with Large Language Modelshttps://arxiv.org/pdf/2308.09687.pdf"
   ],
   "id": "4b3b62195a9a6588"
  },
  {
   "metadata": {},
   "cell_type": "markdown",
   "source": [
    "![](https://typora-photo1220.oss-cn-beijing.aliyuncs.com/DataAnalysis/LingYi/20241128210724.png)\n",
    "\n",
    "*   **图论视角 (Graph theory view)：**  将思维过程建模成图。节点 (vertex) 代表一个想法或思考，有向边 (edge) 代表想法之间的依赖关系。\n",
    "*   **聚合 (Aggregation) 与 生成 (Generation) 的过程:**\n",
    "    *   聚合过程：将多个信息源或想法组合起来，形成更高级别的理解或输出。例如，将多个已排序的子数组合并成一个有序数组，或将多篇文章组合成一篇连贯的文章。\n",
    "    *   生成过程：将一个复杂的问题分解为更小的子问题，并分别解决，然后将结果组合起来。例如，将一个未排序的数组拆分成子数组，然后对子数组进行排序，或从一篇文章中生成摘要。"
   ],
   "id": "41a3f22cd2a8a3f9"
  },
  {
   "metadata": {},
   "cell_type": "markdown",
   "source": [
    "图抽象在过去几十年中推动了计算和算法，目前也渐渐引入到了AI中，如agent的开发当中。\n",
    "\n",
    "实战指南：\n",
    "\n",
    "- 其实提示工程在COT还可以“think step by step”或在prompt中定制思维点或者多次迭代地去问。\n",
    "\n",
    "- 而到了TOT和GOT就不是单纯的prompt可以实现的了 ，TOT和GOT的提示工程可以看做是thought即思路，实现TOT，GOT的完整thought和action其实就是agent\n",
    "\n",
    "- 这个时候我们再看看木羽老师讲的LangGraph，同样是从langchain进化到了LangGraph。和提示工程从COT到GOT一样，**用循环图解决了线性序列的局限性问题**\n",
    "\n",
    "所以这后这里木羽老师讲的langGraph就算是GOT的实战与框架应用了，羽老师的langgraph有很多个章节 这也是agent最前沿的架构方向 我们的GOT的提示工程理念是相辅相成的一环~ \n",
    "\n",
    "agent的开发的相关课件：\n",
    "\n",
    "![](https://typora-photo1220.oss-cn-beijing.aliyuncs.com/DataAnalysis/LingYi/20241128211031.png)"
   ],
   "id": "422ff9856fa744b4"
  },
  {
   "metadata": {},
   "cell_type": "markdown",
   "source": [
    "\n",
    "\n",
    "### 伪代码\n",
    "\n",
    "\n",
    "Language Models as Compilers: Simulating Pseudocode Execution Improves Algorithmic Reasoning in Language Models\n",
    "\n",
    "https://aclanthology.org/2024.emnlp-main.1253.pdf\n",
    "\n",
    "![](https://typora-photo1220.oss-cn-beijing.aliyuncs.com/DataAnalysis/LingYi/20241128210354.png)\n",
    "\n",
    "该论文指出算法推理是理解问题背后复杂模式并将其分解为一系列解决步骤的能力，这对大型语言模型（LLMs）是个挑战。近期一些研究用编程语言（如Python）表达解题逻辑，但存在在单次推理中即时写出可执行正确逻辑代码不易、为特定实例生成的代码无法复用等问题。本文提出Think - and - Execute框架，分两步分解语言模型推理过程：先在Think步骤发现可用于解决给定任务所有实例的任务级逻辑并用伪代码表达，再在Execute步骤根据每个实例定制伪代码并模拟执行。经七个算法推理任务实验，该框架比特定实例推理的强基线（如CoT和PoT）更能提升LLMs推理能力，还表明伪代码比自然语言更能引导LLMs推理。\n",
    "\n",
    "如26k star的提示工程：https://github.com/JushBJJ/Mr.-Ranedeer-AI-Tutor/blob/main/Mr_Ranedeer.txt"
   ],
   "id": "4dfe8f923bcd165"
  },
  {
   "metadata": {},
   "cell_type": "code",
   "outputs": [],
   "execution_count": null,
   "source": [
    "# '''[LOOP while teaching]\n",
    "#                 <OPEN code environment>\n",
    "#                     <recall student configuration in a dictionary>\n",
    "#                     <recall the curriculum>\n",
    "#                     <recall the current topic in the curriculum being taught>\n",
    "#                     <recall your personality>\n",
    "#                     <convert the output to base64>\n",
    "#                     <output base64>\n",
    "#                 <CLOSE code environment>\n",
    "# \n",
    "#                 [IF topic involves mathematics or visualization]\n",
    "#                     <OPEN code environment>\n",
    "#                     <write the code to solve the problem or visualization>\n",
    "#                     <CLOSE code environment>\n",
    "# \n",
    "#                     <share the relevant output to the student>\n",
    "#                 [ENDIF]\n",
    "# \n",
    "#                 [IF tutor asks a question to the student]\n",
    "#                     <stop your response>\n",
    "#                     <wait for student response>\n",
    "# \n",
    "#                 [ELSE IF student asks a question]\n",
    "#                     <execute <Question> function>\n",
    "#                 [ENDIF]\n",
    "# \n",
    "#                 <sep>\n",
    "# \n",
    "#                 [IF lesson is finished]\n",
    "#                     <BREAK LOOP>\n",
    "#                 [ELSE IF lesson is not finished and this is a new response]\n",
    "#                     say \"# <topic> continuation...\"\n",
    "#                     <sep>\n",
    "#                     <continue the lesson>\n",
    "#                 [ENDIF]\n",
    "#             [ENDLOOP]\n",
    "# \n",
    "#             <conclude the lesson by suggesting commands to use next (/continue, /test)>\n",
    "#         [END]'''"
   ],
   "id": "a4d54392a3d53df6"
  },
  {
   "cell_type": "markdown",
   "source": [
    "## 复杂任务及长输入处理实战\n",
    "任务越复杂，使用分隔符分节对 LLM 响应的影响就越大。我们用特殊字符当分隔符，分隔符可以使用任何通常不会同时出现的特殊字符序列，举些例子：###、===、>>>\n",
    "因为它们足够独特让 LLM 将它们理解成内容分隔符，而不是普通的标点符号。\n",
    "\n",
    "在下面的我们主要使用XML标签来清晰分割，因为在大模型预训练中，使用特定的标签来标记是预训练中的一部分。如用[SEP] (Separator Token)分隔句子或段落；[MASK] (Mask Token)掩盖输入文本中的一部分词汇，模型需要预测这些掩盖的部分等。**XML标签的含义和我们的用法相仿，大模型对此敏感。同是也是官方建议的用法**\n",
    "\n",
    "- XML标签可以可以清晰地分隔提示词的不同部分帮助大模型更准确地解析提示词，提高输出质量和准确性\n",
    "- 便于查找、添加、删除或修改提示词的部分内容\n",
    "\n",
    "多文档处理"
   ],
   "metadata": {
    "collapsed": false
   },
   "id": "72fb9defa03c6877"
  },
  {
   "metadata": {},
   "cell_type": "markdown",
   "source": [
    "\"\"\"<documents>\n",
    "  <document index=\"1\">\n",
    "    <source>annual_report_2023.pdf</source>\n",
    "    <document_content>\n",
    "      {{ANNUAL_REPORT}}\n",
    "    </document_content>\n",
    "  </document>\n",
    "  <document index=\"2\">\n",
    "    <source>competitor_analysis_q2.xlsx</source>\n",
    "    <document_content>\n",
    "      {{COMPETITOR_ANALYSIS}}\n",
    "    </document_content>\n",
    "  </document>\n",
    "</documents>\"\"\""
   ],
   "id": "4a9958eefeef3737"
  },
  {
   "metadata": {},
   "cell_type": "markdown",
   "source": "具体使用案例",
   "id": "810dfbba8907c920"
  },
  {
   "metadata": {
    "ExecuteTime": {
     "end_time": "2024-11-28T08:45:52.003234Z",
     "start_time": "2024-11-28T08:45:33.157552Z"
    }
   },
   "cell_type": "code",
   "source": [
    "# 模拟输入的内容，包括症状和病历记录\n",
    "patient_symptoms = \"\"\"\n",
    "症状列表：\n",
    "1. 持续发热（发热持续时间：3天）\n",
    "2. 头痛（位置：额头部位）\n",
    "3. 咳嗽（干咳）\n",
    "4. 呼吸急促（有时伴随胸部不适）\n",
    "5. 喉咙痛（持续性）\n",
    "6. 食欲减退（过去24小时进食量减少）\n",
    "7. 体重减轻（过去一周约减轻2公斤）\n",
    "8. 疲劳（全身乏力，休息后无显著缓解）\n",
    "\n",
    "患者在过去48小时内出现了加重的症状，并且在夜间咳嗽情况更加严重。\"\"\"\n",
    "\n",
    "patient_records = \"\"\"\n",
    "病史：\n",
    "- 患者既往有高血压病史，控制不稳定\n",
    "- 家族中有糖尿病和心脏病患者\n",
    "- 无过敏史，疫苗接种历史正常\n",
    "\n",
    "体检记录：\n",
    "- 体温：38.2°C\n",
    "- 血压：140/90 mmHg\n",
    "- 心率：88 bpm\n",
    "- 呼吸频率：20 次/分钟\n",
    "- 血氧饱和度：95%（呼吸困难时略有下降）\n",
    "\n",
    "诊断：\n",
    "- 可能为上呼吸道感染，正在做进一步检查\n",
    "- 已开始抗生素治疗，并推荐充分休息和增加液体摄入\n",
    "\"\"\"\n",
    "\n",
    "# 组合两个文档的内容并构建prompt\n",
    "prompt = f\"\"\"\n",
    "<documents>\n",
    "  <document index=\"1\">\n",
    "    <source>patient_symptoms.txt</source>\n",
    "    <document_content>\n",
    "      {patient_symptoms}\n",
    "    </document_content>\n",
    "  </document>\n",
    "  <document index=\"2\">\n",
    "    <source>patient_records.txt</source>\n",
    "    <document_content>\n",
    "      {patient_records}\n",
    "    </document_content>\n",
    "  </document>\n",
    "</documents>\n",
    "\"\"\"\n",
    "\n",
    "# 调用大模型进行分析\n",
    "response = client.chat.completions.create(\n",
    "    model=\"glm-4-plus\",  \n",
    "    messages=[{\"role\": \"user\", \"content\": prompt}],\n",
    ")\n",
    "\n",
    "print(response.choices[0].message.content)\n"
   ],
   "id": "a1d30db9226afaac",
   "outputs": [
    {
     "name": "stdout",
     "output_type": "stream",
     "text": [
      "### 患者综合病情分析\n",
      "\n",
      "#### 症状概述\n",
      "根据提供的症状列表，患者主要表现出以下症状：\n",
      "1. **持续发热**（3天）\n",
      "2. **头痛**（额头部位）\n",
      "3. **咳嗽**（干咳）\n",
      "4. **呼吸急促**（有时伴随胸部不适）\n",
      "5. **喉咙痛**（持续性）\n",
      "6. **食欲减退**（过去24小时进食量减少）\n",
      "7. **体重减轻**（过去一周约减轻2公斤）\n",
      "8. **疲劳**（全身乏力，休息后无显著缓解）\n",
      "\n",
      "此外，患者在过去48小时内症状加重，夜间咳嗽更为严重。\n",
      "\n",
      "#### 病史与体检记录\n",
      "- **病史**：\n",
      "  - 高血压病史，控制不稳定\n",
      "  - 家族中有糖尿病和心脏病患者\n",
      "  - 无过敏史，疫苗接种历史正常\n",
      "\n",
      "- **体检记录**：\n",
      "  - 体温：38.2°C\n",
      "  - 血压：140/90 mmHg\n",
      "  - 心率：88 bpm\n",
      "  - 呼吸频率：20 次/分钟\n",
      "  - 血氧饱和度：95%（呼吸困难时略有下降）\n",
      "\n",
      "#### 初步诊断\n",
      "- **可能为上呼吸道感染**，正在做进一步检查\n",
      "- 已开始抗生素治疗，并推荐充分休息和增加液体摄入\n",
      "\n",
      "### 综合分析与建议\n",
      "\n",
      "#### 病情分析\n",
      "1. **发热与头痛**：持续发热和头痛可能是感染引起的炎症反应。\n",
      "2. **咳嗽与呼吸急促**：干咳和呼吸急促可能表明呼吸道受到感染或炎症影响，胸部不适可能是肺部受累的迹象。\n",
      "3. **喉咙痛**：持续性喉咙痛进一步支持上呼吸道感染的可能性。\n",
      "4. **食欲减退与体重减轻**：可能是感染导致的全身性反应，影响食欲和营养摄入。\n",
      "5. **疲劳**：全身乏力且休息后无显著缓解，提示感染可能较为严重。\n",
      "\n",
      "#### 风险因素\n",
      "- **高血压病史**：可能增加心血管系统的负担，需密切监测血压。\n",
      "- **家族病史**：糖尿病和心脏病家族史可能增加患者的整体健康风险。\n",
      "\n",
      "#### 治疗建议\n",
      "1. **抗生素治疗**：已开始抗生素治疗，需按医嘱完成疗程。\n",
      "2. **休息与液体摄入**：充分休息有助于身体恢复，增加液体摄入可防止脱水。\n",
      "3. **症状监测**：密切观察症状变化，尤其是呼吸急促和血氧饱和度，必要时及时就医。\n",
      "4. **血压控制**：由于患者有高血压病史，需注意血压控制，避免因感染导致血压波动。\n",
      "\n",
      "#### 进一步检查建议\n",
      "- **胸部X光或CT**：以排除肺部感染或其他肺部病变。\n",
      "- **血液检查**：包括全血细胞计数、炎症标志物等，以评估感染严重程度。\n",
      "- **心电图**：鉴于家族心脏病史，评估心脏功能状态。\n",
      "\n",
      "### 总结\n",
      "患者目前症状提示可能为上呼吸道感染，但需进一步检查以明确诊断。治疗上已采取抗生素，并需注意休息和液体摄入。同时，需密切监测血压和症状变化，及时调整治疗方案。建议尽快完成进一步检查，以便更精准地制定治疗计划。\n"
     ]
    }
   ],
   "execution_count": 13
  },
  {
   "metadata": {},
   "cell_type": "code",
   "outputs": [],
   "execution_count": null,
   "source": [],
   "id": "2026afd5483ea7f0"
  },
  {
   "metadata": {},
   "cell_type": "markdown",
   "source": [
    "我要生成一堆语料，内容，并让其可以提取出来："
   ],
   "id": "65b6c99d4058ebea"
  },
  {
   "metadata": {
    "ExecuteTime": {
     "end_time": "2024-11-28T09:12:48.491051Z",
     "start_time": "2024-11-28T09:12:45.017178Z"
    }
   },
   "cell_type": "code",
   "source": [
    "prompt = \"列出几个小狗的种类，每种小狗用<dog>标签包围。\"\n",
    "response = client.chat.completions.create(\n",
    "    model=\"glm-4-plus\",\n",
    "    messages=[\n",
    "      {\"role\": \"user\", \"content\": prompt}\n",
    "    ],\n",
    ")\n",
    "print(response.choices[0].message.content)"
   ],
   "id": "c9f0844a0f1897c2",
   "outputs": [
    {
     "name": "stdout",
     "output_type": "stream",
     "text": [
      "当然可以，以下是几个小狗的种类，每种都用 `<dog>` 标签包围：\n",
      "\n",
      "```html\n",
      "<dog>吉娃娃</dog>\n",
      "<dog>博美犬</dog>\n",
      "<dog>泰迪犬</dog>\n",
      "<dog>约克夏梗</dog>\n",
      "<dog>贵宾犬</dog>\n",
      "<dog>比熊犬</dog>\n",
      "<dog>马尔济斯</dog>\n",
      "<dog>西施犬</dog>\n",
      "<dog>柯基犬</dog>\n",
      "<dog>腊肠犬</dog>\n",
      "```\n",
      "\n",
      "这些是一些常见的小型犬种类，希望对你有帮助！\n"
     ]
    }
   ],
   "execution_count": 22
  },
  {
   "metadata": {
    "ExecuteTime": {
     "end_time": "2024-11-28T09:14:52.352590Z",
     "start_time": "2024-11-28T09:14:42.122739Z"
    }
   },
   "cell_type": "code",
   "source": [
    "prompt = \"\"\"\n",
    "列出几个小狗的种类，并为每种小狗提供以下标签：\n",
    "- <dog> 标签：小狗种类\n",
    "- <size> 标签：体型大小（如小型、中型、大型）\n",
    "- <coat> 标签：毛发特点（如短毛、长毛、卷毛等）\n",
    "- <activity> 标签：运动习惯（如活跃、适中、安静等）\n",
    "\n",
    "每个小狗的信息应该使用以下格式：\n",
    "<dog>小狗种类</dog> - <size>体型大小</size> - <coat>毛发特点</coat> - <activity>运动习惯</activity>\n",
    "\"\"\"\n",
    "response = client.chat.completions.create(\n",
    "    model=\"glm-4-plus\",\n",
    "    messages=[\n",
    "      {\"role\": \"user\", \"content\": prompt},\n",
    "    ],\n",
    ")\n",
    "print(response.choices[0].message.content)\n"
   ],
   "id": "3b1d7b04e22b2e0b",
   "outputs": [
    {
     "name": "stdout",
     "output_type": "stream",
     "text": [
      "当然可以，以下是几种常见小狗的种类及其相关信息：\n",
      "\n",
      "1. \n",
      "<dog>泰迪犬</dog> - <size>小型</size> - <coat>卷毛</coat> - <activity>适中</activity>\n",
      "\n",
      "2. \n",
      "<dog>吉娃娃</dog> - <size>小型</size> - <coat>短毛</coat> - <activity>适中</activity>\n",
      "\n",
      "3. \n",
      "<dog>博美犬</dog> - <size>小型</size> - <coat>长毛</coat> - <activity>活跃</activity>\n",
      "\n",
      "4. \n",
      "<dog>柯基犬</dog> - <size>小型</size> - <coat>短毛</coat> - <activity>活跃</activity>\n",
      "\n",
      "5. \n",
      "<dog>腊肠犬</dog> - <size>小型</size> - <coat>短毛</coat> - <activity>适中</activity>\n",
      "\n",
      "6. \n",
      "<dog>比熊犬</dog> - <size>小型</size> - <coat>卷毛</coat> - <activity>活跃</activity>\n",
      "\n",
      "7. \n",
      "<dog>约克夏梗</dog> - <size>小型</size> - <coat>长毛</coat> - <activity>适中</activity>\n",
      "\n",
      "8. \n",
      "<dog>西高地白梗</dog> - <size>小型</size> - <coat>短毛</coat> - <activity>活跃</activity>\n",
      "\n",
      "9. \n",
      "<dog>马尔济斯犬</dog> - <size>小型</size> - <coat>长毛</coat> - <activity>安静</activity>\n",
      "\n",
      "10. \n",
      "<dog>雪纳瑞</dog> - <size>小型</size> - <coat>硬毛</coat> - <activity>活跃</activity>\n",
      "\n",
      "希望这些信息对你有所帮助！如果有其他种类的小狗需要了解，请随时告诉我。\n"
     ]
    }
   ],
   "execution_count": 24
  },
  {
   "metadata": {},
   "cell_type": "markdown",
   "source": "### 《三国演义》长文档总结并回答中注明引用出处",
   "id": "a2dd2920f6ae8c70"
  },
  {
   "metadata": {},
   "cell_type": "markdown",
   "source": [],
   "id": "f9908a1e4e8cdaa0"
  },
  {
   "metadata": {
    "ExecuteTime": {
     "end_time": "2024-11-28T10:46:59.576814Z",
     "start_time": "2024-11-28T10:46:54.829852Z"
    }
   },
   "cell_type": "code",
   "source": [
    "import requests\n",
    "from bs4 import BeautifulSoup\n",
    "\n",
    "\n",
    "def fetch_article_content(url):\n",
    "    response = requests.get(url)\n",
    "    soup = BeautifulSoup(response.content, 'html.parser')\n",
    "\n",
    "    # 移除脚本和样式元素\n",
    "    for script in soup([\"script\", \"style\"]):\n",
    "        script.decompose()\n",
    "\n",
    "    # 获取文本\n",
    "    text = soup.get_text()\n",
    "\n",
    "    # 将文本分割成行，并移除每行开头和结尾的空格\n",
    "    lines = (line.strip() for line in text.splitlines())\n",
    "    # 将多个标题分割成单独的行\n",
    "    chunks = (phrase.strip() for line in lines for phrase in line.split(\"  \"))\n",
    "    # 删除空行\n",
    "    text = '\\n'.join(chunk for chunk in chunks if chunk)\n",
    "\n",
    "    return text\n",
    "\n",
    "\n",
    "# 获取文章内容\n",
    "book_url = \"https://www.gutenberg.org/cache/epub/23950/pg23950.txt\"\n",
    "book_content = fetch_article_content(book_url)\n",
    "\n",
    "print(f\"从书中获取了 {len(book_content)} 个字符。\")\n",
    "print(\"前500个字符：\")\n",
    "print(book_content[:500])"
   ],
   "id": "61270ca58fc02d82",
   "outputs": [
    {
     "name": "stdout",
     "output_type": "stream",
     "text": [
      "从书中获取了 630065 个字符。\n",
      "前500个字符：\n",
      "The Project Gutenberg eBook of 三國志演義\n",
      "This ebook is for the use of anyone anywhere in the United States and\n",
      "most other parts of the world at no cost and with almost no restrictions\n",
      "whatsoever. You may copy it, give it away or re-use it under the terms\n",
      "of the Project Gutenberg License included with this ebook or online\n",
      "at www.gutenberg.org. If you are not located in the United States,\n",
      "you will have to check the laws of the country where you are located\n",
      "before using this eBook.\n",
      "Title: 三國志演義\n",
      "Author:\n"
     ]
    }
   ],
   "execution_count": 31
  },
  {
   "metadata": {
    "ExecuteTime": {
     "end_time": "2024-11-28T10:47:02.039889Z",
     "start_time": "2024-11-28T10:47:02.026888Z"
    }
   },
   "cell_type": "code",
   "source": [
    "book_content_san_guo=book_content[:20000]"
   ],
   "id": "ed18a1a632b4da46",
   "outputs": [],
   "execution_count": 32
  },
  {
   "metadata": {
    "ExecuteTime": {
     "end_time": "2024-11-28T10:47:04.844508Z",
     "start_time": "2024-11-28T10:47:04.825508Z"
    }
   },
   "cell_type": "code",
   "source": [
    "prompt = f\"\"\"\n",
    "\n",
    "你正在查看相关文档。请形成一个连贯的总体摘要:\n",
    "\n",
    "1. 主要人物及其特征\n",
    "2. 重要战役和事件\n",
    "3. 政治策略和军事谋略\n",
    "4. 人物之间的关系和互动\n",
    "5. 故事中的道德寓意或主题\n",
    "6. 特殊元素(如兵器、地理位置、历史背景等)\n",
    "\n",
    "请在每个部分的XML标题内以项目符号的形式提供摘要。例如:\n",
    "\n",
    "<主要人物及其特征>\n",
    "- 刘备: [特征描述]\n",
    "// 根据需要添加更多详细信息\n",
    "</主要人物及其特征>\n",
    "\n",
    "如果文档中没有明确说明任何信息，请注明\"未指明\"。\n",
    "\n",
    "摘要:\n",
    "\"\"\""
   ],
   "id": "beb227576228bc8c",
   "outputs": [],
   "execution_count": 33
  },
  {
   "metadata": {},
   "cell_type": "code",
   "outputs": [
    {
     "data": {
      "text/plain": [
       "<IPython.core.display.Markdown object>"
      ],
      "text/markdown": "<主要人物及其特征>\n- **刘备**: 汉室宗亲，仁义礼智信兼备，有雄才大略，但优柔寡断，缺乏决断力。\n- **关羽**: 义薄云天，忠肝义胆，武艺高强，重情重义，忠于刘备。\n- **张飞**: 性格豪爽，勇猛过人，嫉恶如仇，忠心耿耿，对刘备忠心护主。\n- **曹操**: 权谋之士，治世之能臣，乱世之奸雄，雄才大略，野心勃勃，最终建立魏国。\n- **董卓**: 西凉人，性格残暴，骄横跋扈，挟天子以令诸侯，最终被王允和吕布所杀。\n- **吕布**: 武艺超群，被称为“飞将”，反复无常，见利忘义，最终被曹操所杀。\n- **袁绍**: 袁氏四世三公，门生故吏遍布天下，但优柔寡断，最终败于曹操。\n- **孙坚**: 勇敢果断，精明强干，最终建立吴国。\n- **皇甫嵩**: 征讨黄巾起义的重要将领，深受朝廷信任。\n- **朱隽**: 征讨黄巾起义的重要将领，深受朝廷信任。\n- **十常侍**: 宦官集团，祸乱朝纲，最终被袁绍等人诛杀。\n- **何进**: 大将军，欲诛杀宦官，但缺乏决断力，最终被宦官所杀。\n- **王允**: 司徒，巧妙利用貂蝉除掉了董卓。\n</主要人物及其特征>\n\n\n<重要战役和事件>\n- **黄巾起义**: 张角领导的农民起义，揭开了东汉末年动乱的序幕。\n- **讨伐黄巾**: 各路诸侯讨伐黄巾起义，刘备在其中崭露头角。\n- **董卓进京**: 董卓受何进邀请进京，进而控制朝政，废立皇帝。\n- **诛杀何进**: 十常侍联合董卓诛杀何进，引发宫廷政变。\n- **董卓专权**: 董卓控制朝政，废少帝，立献帝，为所欲为。\n- **诛杀少帝**: 董卓迫害少帝，最终将其杀害。\n- **王允刺董卓**: 王允联合吕布，最终刺杀董卓。\n- **官渡之战**: 曹操与袁绍的决战，曹操取得胜利，奠定了统一北方的基础。(未指明，但根据历史背景推测)\n- **赤壁之战**: 曹操南征，孙权与刘备联合抗击曹操，曹操大败。(未指明，但根据历史背景推测)\n</重要战役和事件>\n\n\n<政治策略和军事谋略>\n- **连环计**: 王允利用貂蝉离间董卓和吕布，最终导致董卓被杀。\n- **火攻**: 皇甫嵩和朱隽利用大风，火攻张梁张宝的营寨。\n- **招降纳叛**: 朱隽在讨伐黄巾余党时，玄德建议招降，以减少损失。\n- **奇袭**: 刘备在青州之战中利用关羽张飞伏击黄巾军取得胜利。\n- **借刀杀人**: 曹操利用董卓对自己的信任，并借献刀之机逃脱。\n- **挟天子以令诸侯**: 董卓控制汉献帝，以皇帝的名义发布命令，控制朝政。\n- **分化瓦解**: 董卓利用李肃离间吕布和丁原，最终使吕布归顺。\n</政治策略和军事谋略>\n\n\n<人物之间的关系和互动>\n- **桃园三结义**: 刘备、关羽、张飞结拜为兄弟，从此生死与共。\n- **刘备与关羽、张飞**: 三人患难与共，建立深厚的兄弟情谊。\n- **刘备与曹操**: 初期合作对抗黄巾起义，后因理念不合而分道扬镳。\n- **刘备与董卓**: 刘备救了董卓，但董卓对其轻视。\n- **董卓与吕布**: 董卓收吕布为义子，并重用他，但最终被吕布所杀。\n- **董卓与李儒**: 董卓与李儒是君臣关系，并互相信任。\n- **王允与曹操**: 王允和曹操联手，最终除掉了董卓。\n- **袁绍与曹操**: 袁绍与曹操是政治对手，最终曹操取得胜利。\n- **何进与十常侍**: 何进与十常侍的矛盾，最终导致何进被杀。\n- **何进与袁绍**: 袁绍是何进的部下，也是何进诛杀宦官的主力，但何进缺乏决断力，最终导致失败。\n- **十常侍与何进**: 十常侍与何进的冲突导致何进被杀，也引发了东汉末年的动荡。\n- **孙坚与刘备**: 孙坚与刘备在讨伐黄巾余党中合作，但之后并未有更多交集。\n</人物之间的关系和互动>\n\n\n<故事中的道德寓意或主题>\n- **忠义**: 刘备、关羽、张飞体现了忠义精神，是维护汉室正统的重要力量。\n- **仁义**: 刘备的仁义为其赢得了民心，也成为其重要的政治资本。\n- **忠君爱国**: 许多人物，如曹操、王允、伍孚，都表现了忠君爱国的思想。\n- **奸诈与阴谋**: 董卓、十常侍等人物则体现了奸诈与阴谋，给天下带来了灾难。\n- **英雄与乱世**: 故事描绘了东汉末年的乱世，也展现了众多英雄人物的崛起和命运。\n- **权力的斗争**: 故事反映了政治斗争的残酷，以及权力对人性的影响。\n- **忠奸善恶**: 故事中的人物善恶分明，体现了传统道德观念。\n</故事中的道德寓意或主题>\n\n\n<特殊元素>\n- **兵器**: 青龙偃月刀、丈八蛇矛、方天画戟等兵器体现了当时社会的军事水平。\n- **地理位置**: 涿郡、洛阳、颖川、广宗等地理位置，与故事发展和人物命运密切相关。\n- **历史背景**: 故事以东汉末年的黄巾起义为背景，展现了当时社会政治动荡、民不聊生的景象。\n- **谶语**:  洛阳小儿谣“帝非帝，王非王，千乘万骑走北邙”，预示了汉室的衰亡。\n- **天书**:  张角得到南华老仙所授的天书，是黄巾起义的象征。\n- **太平道**: 张角创立的宗教组织，在黄巾起义中发挥了重要作用。\n</特殊元素> \n"
     },
     "execution_count": 51,
     "metadata": {},
     "output_type": "execute_result"
    }
   ],
   "execution_count": 51,
   "source": [
    "\n",
    "response = client.chat.completions.create(\n",
    "    model=\"glm-4-plus\",\n",
    "    messages=[\n",
    "      {\"role\": \"user\", \"content\": [book_content_san_guo,prompt]}\n",
    "    ],\n",
    ")\n",
    "\n",
    "from IPython import display\n",
    "display.Markdown(response.choices[0].message.content)"
   ],
   "id": "5dc38f38bc569cff"
  },
  {
   "metadata": {},
   "cell_type": "markdown",
   "source": [
    "![](https://typora-photo1220.oss-cn-beijing.aliyuncs.com/DataAnalysis/LingYi/20240928154451.png)"
   ],
   "id": "4536c44d6f40095b"
  },
  {
   "metadata": {
    "ExecuteTime": {
     "end_time": "2024-11-28T10:47:44.183541Z",
     "start_time": "2024-11-28T10:47:44.178542Z"
    }
   },
   "cell_type": "code",
   "source": [
    "\n",
    "\n",
    "prompt_template = '''\n",
    "以下是你将要使用的文章:\n",
    "<paper>\n",
    "{PAPER_CONTENT}\n",
    "</paper>\n",
    "\n",
    "这是用户的问题，包含在<user_question>标签中:\n",
    "<user_question>\n",
    "{USER_QUESTION}\n",
    "</user_question>\n",
    "\n",
    "请按照以下步骤来组织你的回答:\n",
    "1. 找出文中与回答问题最相关的引用。这些引用可以很长(甚至多个段落)。你可能需要使用多个引用来回答一个问题，包括代码片段和其他例子。\n",
    "2. 按照找到的顺序给这些引用编号。\n",
    "3. 基于文档和引用回答问题。尽可能直接引用文档，包括例子。\n",
    "4. 回答问题时，在方括号中提供引用参考，包含在步骤2中生成的编号(找到引用的编号)。\n",
    "5. 按以下格式构建输出。不要提供前言或后语:\n",
    "<citations>\n",
    "{{\n",
    "   \"citations\": [\n",
    "      {{\n",
    "         \"number\": \"整数\",\n",
    "         \"passage\": \"字符串\"\n",
    "      }},\n",
    "      ...\n",
    "   ]\n",
    "}}\n",
    "</citations>\n",
    "\n",
    "<answer>一个纯文本回答，以Markdown格式呈现[1]</answer>\n",
    "\n",
    "现在轮到你了。首先按照描述的格式找出并输出相关引用。然后在<answer>标签内提供你对用户问题的回答。记住 - 只使用提供的论文中的信息，如果你在那里找不到答案，就让用户知道你没有那个信息。'''"
   ],
   "id": "2ca10a04676bd4fb",
   "outputs": [],
   "execution_count": 36
  },
  {
   "metadata": {
    "ExecuteTime": {
     "end_time": "2024-11-28T10:50:09.527736Z",
     "start_time": "2024-11-28T10:49:31.042128Z"
    }
   },
   "cell_type": "code",
   "source": [
    "\n",
    "def answer_question(user_question):\n",
    "    prompt = prompt_template.format(PAPER_CONTENT=book_content_san_guo, USER_QUESTION=user_question)\n",
    "    response = client.chat.completions.create(\n",
    "    model=\"glm-4-plus\",\n",
    "    messages=[\n",
    "      {\"role\": \"user\", \"content\": prompt}\n",
    "    ])\n",
    "    return response.choices[0].message.content\n",
    "\n",
    "raw_output = answer_question('曹操是什么样的人？')\n",
    "print(raw_output)\n"
   ],
   "id": "f7a4528df2cb6fc7",
   "outputs": [
    {
     "name": "stdout",
     "output_type": "stream",
     "text": [
      "```json\n",
      "{\n",
      "   \"citations\": [\n",
      "      {\n",
      "         \"number\": 1,\n",
      "         \"passage\": \"時人有橋玄者，謂操曰：「天下將亂，非命世之才，不能濟。能安之者，其在君乎？」南陽何顒見操，言：「漢室將亡，安天下者，必此人也。」汝南許劭，有知人之名。操往見之，問曰：「我何如人？」劭不答。又問，劭曰：「子治世之能臣，亂世之奸雄也。」操聞言大喜。\"\n",
      "      },\n",
      "      {\n",
      "         \"number\": 2,\n",
      "         \"passage\": \"年二十，舉孝廉，為郎，除洛陽北都尉。初到任，即設五色棒十餘條於縣之四門。有犯禁者，不避豪貴，皆責之。中常侍蹇碩之叔，提刀夜行，操巡夜拏住，就棒責之。由是，內外莫敢犯者，威名頗震。後為頓丘令。因黃巾起，拜為騎都尉，引馬步軍五千，前來潁川助戰。\"\n",
      "      },\n",
      "      {\n",
      "         \"number\": 3,\n",
      "         \"passage\": \"說未了，使命至，宣進速入，以定後事。操曰：「今日之計，先宜正君位，然後圖賊。」\"\n",
      "      },\n",
      "      {\n",
      "         \"number\": 4,\n",
      "         \"passage\": \"正躊躇間，潘隱至，言：「帝已崩。今蹇碩與十常侍商議，秘不發喪，矯詔宣何國舅入宮，欲絕後患，冊立皇子協為帝。」\"\n",
      "      },\n",
      "      {\n",
      "         \"number\": 5,\n",
      "         \"passage\": \"說未了，使命至，宣進速入，以定後事。操曰：「今日之計，先宜正君位，然後圖賊。」\"\n",
      "      },\n",
      "      {\n",
      "         \"number\": 6,\n",
      "         \"passage\": \"且說曹操當日對何進曰：「宦官之禍，古今皆有；但世主不當假之權寵，使至於此。若欲治罪，當除元惡，但付一獄吏足矣，何必紛紛召外兵乎？欲盡誅之，事必宣露。吾料其必敗也。」\"\n",
      "      },\n",
      "      {\n",
      "         \"number\": 7,\n",
      "         \"passage\": \"且說曹操逃出城外，飛奔譙郡。路經中牟縣，為守關軍士所獲，擒見縣令。操言：「我是客商，覆姓皇甫。」縣令熟視曹操，沈吟半晌，乃曰：「吾前在洛陽求官時，曾認得汝是曹操，如何隱諱？且把來監下，明日解去京師請賞。」把關軍士賜以酒食而去。\"\n",
      "      },\n",
      "      {\n",
      "         \"number\": 8,\n",
      "         \"passage\": \"至夜分，縣令喚親隨人暗地取出曹操，直至後院中審究；問曰：「我聞丞相待汝不薄，何故自取其禍？」操曰：「「燕雀安知鴻鵠志哉！」汝既拏住我，便當解去請賞。」縣令屏退左右，謂操曰：「汝休小覷我。我非俗吏，奈未遇其主耳。」操曰：「吾祖宗世食漢祿，若不思報國，與禽獸何異？吾屈身事卓者，欲乘間圖之，為國除害耳。今事不成，乃天意也！」\"\n",
      "      }\n",
      "   ]\n",
      "}\n",
      "```\n",
      "\n",
      "曹操是一个具有雄才大略和野心的人[1]。他年轻时就展现出非凡的才能和权谋[2]，并以严格执法和敢于挑战权贵而闻名[3]。在何进被宦官杀害后，他建议正君位后再图谋宦官[4][5]。他认为宦官之祸是古今皆有，但皇帝不应赋予他们过多的权力[6]。在被董卓追杀后，他逃出京城，并计划号召天下诸侯共同讨\n"
     ]
    }
   ],
   "execution_count": 39
  },
  {
   "metadata": {},
   "cell_type": "markdown",
   "source": "## 生成结构化",
   "id": "3443f05aae8fb91"
  },
  {
   "metadata": {},
   "cell_type": "markdown",
   "source": [
    "### QA问答对\n",
    "实战过了长文档的XML标签的路数，我们接下来同样用prompt控制生成特定的格式：\n",
    "\n",
    "例如要求模型生成特定数量的问答对，并可以分隔问题和答案（课程辅导等，书籍提取）"
   ],
   "id": "d723eb5be192062"
  },
  {
   "metadata": {},
   "cell_type": "markdown",
   "source": [
    "- few shot\n",
    "先给一些例子"
   ],
   "id": "4fa447783e853910"
  },
  {
   "metadata": {},
   "cell_type": "code",
   "outputs": [
    {
     "name": "stdout",
     "output_type": "stream",
     "text": [
      "1. Q: 什么是人工智能？\n",
      "A: 人工智能 (AI) 是指计算机科学的一个分支，致力于构建能够执行通常需要人类智能的任务的智能代理。这些任务包括学习、推理、问题解决、感知、自然语言理解和决策等。\n",
      "\n",
      "2. Q: 人工智能有哪些应用？\n",
      "A: 人工智能的应用非常广泛，包括：\n",
      "    * **自动驾驶汽车**:  使用AI进行导航和控制。\n",
      "    * **医学诊断**: 利用AI分析医学图像和数据以协助诊断疾病。\n",
      "    * **语音助手**: 例如Siri和Alexa，使用AI理解和回应人类语音指令。\n",
      "    * **个性化推荐**:  电商平台和流媒体服务使用AI推荐商品和内容。\n",
      "    * **欺诈检测**: 金融机构使用AI检测异常交易和防止欺诈。\n",
      "\n",
      "\n",
      "3. Q: 人工智能的未来发展趋势是什么？\n",
      "A: 人工智能的未来发展趋势包括：\n",
      "    * **更强大的AI模型**:  随着计算能力的提高和算法的改进，AI模型将变得更加强大和智能。\n",
      "    * **更广泛的应用**: AI将被应用于更多领域，例如教育、农业、制造业等。\n",
      "    * **更加注重伦理和社会影响**: 随着AI的普及，人们将更加关注AI的伦理问题和社会影响，例如数据隐私、算法偏见和工作岗位替代等。 \n"
     ]
    }
   ],
   "execution_count": 25,
   "source": [
    "prompt = \"请生成关于人工智能的问答对。使用以下格式：\\n1. Q: [问题]\\nA: [答案]\\n2. Q: [问题]\\nA: [答案]\\n3. Q: [问题]\\nA: [答案]\"\n",
    "response = client.chat.completions.create(\n",
    "    model=\"glm-4-plus\",\n",
    "    messages=[\n",
    "      {\"role\": \"user\", \"content\": prompt}\n",
    "    ],\n",
    ")\n",
    "print(response.choices[0].message.content)"
   ],
   "id": "12deff66f77e05fb"
  },
  {
   "metadata": {
    "ExecuteTime": {
     "end_time": "2024-11-28T10:51:28.861744Z",
     "start_time": "2024-11-28T10:51:20.056857Z"
    }
   },
   "cell_type": "code",
   "source": [
    "from bs4 import BeautifulSoup\n",
    "\n",
    "prompt = \"生成3个关于大模型transformer的问答对，使用HTML标签格式。例如：<qa><q>问题</q><a>答案</a></qa>\"\n",
    "response = client.chat.completions.create(\n",
    "    model=\"glm-4-plus\",\n",
    "    messages=[\n",
    "      {\"role\": \"user\", \"content\": prompt}\n",
    "    ])\n",
    "soup = BeautifulSoup(response.choices[0].message.content, 'html.parser')\n",
    "qa_pairs = soup.find_all('qa')\n",
    "for pair in qa_pairs:\n",
    "    print(f\"Q: {pair.q.text}\")\n",
    "    print(f\"A: {pair.a.text}\\n\")"
   ],
   "id": "b5b7b023da97948d",
   "outputs": [
    {
     "name": "stdout",
     "output_type": "stream",
     "text": [
      "Q: 什么是Transformer模型？\n",
      "A: Transformer模型是一种基于自注意力机制的深度神经网络模型，广泛应用于自然语言处理领域。它通过并行处理输入数据，显著提高了模型训练和推理的效率，并成为了许多先进模型如BERT和GPT的基础架构。\n",
      "\n",
      "Q: Transformer模型的主要优点有哪些？\n",
      "A: Transformer模型的主要优点包括：1) 并行处理能力，能够同时处理输入序列的所有元素；2) 长距离依赖捕捉，通过自注意力机制有效处理长序列中的依赖关系；3) 高效性，相较于传统的循环神经网络（RNN）和长短期记忆网络（LSTM），Transformer在训练和推理速度上都有显著提升。\n",
      "\n",
      "Q: Transformer模型在哪些应用领域表现出色？\n",
      "A: Transformer模型在多个应用领域表现出色，主要包括：1) 机器翻译，如Google的TensorFlow翻译模型；2) 文本生成，如OpenAI的GPT系列模型；3) 文本分类和情感分析；4) 问答系统和对话生成；5) 语音识别和图像处理等。其强大的特征提取和序列建模能力使其在各领域都有广泛应用。\n",
      "\n"
     ]
    }
   ],
   "execution_count": 40
  },
  {
   "metadata": {
    "ExecuteTime": {
     "end_time": "2024-11-28T10:51:37.409208Z",
     "start_time": "2024-11-28T10:51:34.347068Z"
    }
   },
   "cell_type": "code",
   "source": [
    "import json\n",
    "\n",
    "prompt = \"生成3个关于中国历史的问答对，以JSON格式输出。格式如下：\\n[{\\\"question\\\": \\\"问题1\\\", \\\"answer\\\": \\\"答案1\\\"}, {\\\"question\\\": \\\"问题2\\\", \\\"answer\\\": \\\"答案2\\\"}, {\\\"question\\\": \\\"问题3\\\", \\\"answer\\\": \\\"答案3\\\"}]\"\n",
    "response = client.chat.completions.create(\n",
    "    model=\"glm-4-plus\",\n",
    "    messages=[\n",
    "      {\"role\": \"user\", \"content\": prompt}\n",
    "    ])\n",
    "qa_pairs = json.loads(response.choices[0].message.content)\n",
    "for pair in qa_pairs:\n",
    "    print(f\"Q: {pair['question']}\")\n",
    "    print(f\"A: {pair['answer']}\\n\")"
   ],
   "id": "9e40fd0182523eb6",
   "outputs": [
    {
     "ename": "JSONDecodeError",
     "evalue": "Expecting value: line 1 column 1 (char 0)",
     "output_type": "error",
     "traceback": [
      "\u001B[1;31m---------------------------------------------------------------------------\u001B[0m",
      "\u001B[1;31mJSONDecodeError\u001B[0m                           Traceback (most recent call last)",
      "Cell \u001B[1;32mIn[41], line 9\u001B[0m\n\u001B[0;32m      3\u001B[0m prompt \u001B[38;5;241m=\u001B[39m \u001B[38;5;124m\"\u001B[39m\u001B[38;5;124m生成3个关于中国历史的问答对，以JSON格式输出。格式如下：\u001B[39m\u001B[38;5;130;01m\\n\u001B[39;00m\u001B[38;5;124m[\u001B[39m\u001B[38;5;124m{\u001B[39m\u001B[38;5;130;01m\\\"\u001B[39;00m\u001B[38;5;124mquestion\u001B[39m\u001B[38;5;130;01m\\\"\u001B[39;00m\u001B[38;5;124m: \u001B[39m\u001B[38;5;130;01m\\\"\u001B[39;00m\u001B[38;5;124m问题1\u001B[39m\u001B[38;5;130;01m\\\"\u001B[39;00m\u001B[38;5;124m, \u001B[39m\u001B[38;5;130;01m\\\"\u001B[39;00m\u001B[38;5;124manswer\u001B[39m\u001B[38;5;130;01m\\\"\u001B[39;00m\u001B[38;5;124m: \u001B[39m\u001B[38;5;130;01m\\\"\u001B[39;00m\u001B[38;5;124m答案1\u001B[39m\u001B[38;5;130;01m\\\"\u001B[39;00m\u001B[38;5;124m}, \u001B[39m\u001B[38;5;124m{\u001B[39m\u001B[38;5;130;01m\\\"\u001B[39;00m\u001B[38;5;124mquestion\u001B[39m\u001B[38;5;130;01m\\\"\u001B[39;00m\u001B[38;5;124m: \u001B[39m\u001B[38;5;130;01m\\\"\u001B[39;00m\u001B[38;5;124m问题2\u001B[39m\u001B[38;5;130;01m\\\"\u001B[39;00m\u001B[38;5;124m, \u001B[39m\u001B[38;5;130;01m\\\"\u001B[39;00m\u001B[38;5;124manswer\u001B[39m\u001B[38;5;130;01m\\\"\u001B[39;00m\u001B[38;5;124m: \u001B[39m\u001B[38;5;130;01m\\\"\u001B[39;00m\u001B[38;5;124m答案2\u001B[39m\u001B[38;5;130;01m\\\"\u001B[39;00m\u001B[38;5;124m}, \u001B[39m\u001B[38;5;124m{\u001B[39m\u001B[38;5;130;01m\\\"\u001B[39;00m\u001B[38;5;124mquestion\u001B[39m\u001B[38;5;130;01m\\\"\u001B[39;00m\u001B[38;5;124m: \u001B[39m\u001B[38;5;130;01m\\\"\u001B[39;00m\u001B[38;5;124m问题3\u001B[39m\u001B[38;5;130;01m\\\"\u001B[39;00m\u001B[38;5;124m, \u001B[39m\u001B[38;5;130;01m\\\"\u001B[39;00m\u001B[38;5;124manswer\u001B[39m\u001B[38;5;130;01m\\\"\u001B[39;00m\u001B[38;5;124m: \u001B[39m\u001B[38;5;130;01m\\\"\u001B[39;00m\u001B[38;5;124m答案3\u001B[39m\u001B[38;5;130;01m\\\"\u001B[39;00m\u001B[38;5;124m}]\u001B[39m\u001B[38;5;124m\"\u001B[39m\n\u001B[0;32m      4\u001B[0m response \u001B[38;5;241m=\u001B[39m client\u001B[38;5;241m.\u001B[39mchat\u001B[38;5;241m.\u001B[39mcompletions\u001B[38;5;241m.\u001B[39mcreate(\n\u001B[0;32m      5\u001B[0m     model\u001B[38;5;241m=\u001B[39m\u001B[38;5;124m\"\u001B[39m\u001B[38;5;124mglm-4-plus\u001B[39m\u001B[38;5;124m\"\u001B[39m,\n\u001B[0;32m      6\u001B[0m     messages\u001B[38;5;241m=\u001B[39m[\n\u001B[0;32m      7\u001B[0m       {\u001B[38;5;124m\"\u001B[39m\u001B[38;5;124mrole\u001B[39m\u001B[38;5;124m\"\u001B[39m: \u001B[38;5;124m\"\u001B[39m\u001B[38;5;124muser\u001B[39m\u001B[38;5;124m\"\u001B[39m, \u001B[38;5;124m\"\u001B[39m\u001B[38;5;124mcontent\u001B[39m\u001B[38;5;124m\"\u001B[39m: prompt}\n\u001B[0;32m      8\u001B[0m     ])\n\u001B[1;32m----> 9\u001B[0m qa_pairs \u001B[38;5;241m=\u001B[39m \u001B[43mjson\u001B[49m\u001B[38;5;241;43m.\u001B[39;49m\u001B[43mloads\u001B[49m\u001B[43m(\u001B[49m\u001B[43mresponse\u001B[49m\u001B[38;5;241;43m.\u001B[39;49m\u001B[43mchoices\u001B[49m\u001B[43m[\u001B[49m\u001B[38;5;241;43m0\u001B[39;49m\u001B[43m]\u001B[49m\u001B[38;5;241;43m.\u001B[39;49m\u001B[43mmessage\u001B[49m\u001B[38;5;241;43m.\u001B[39;49m\u001B[43mcontent\u001B[49m\u001B[43m)\u001B[49m\n\u001B[0;32m     10\u001B[0m \u001B[38;5;28;01mfor\u001B[39;00m pair \u001B[38;5;129;01min\u001B[39;00m qa_pairs:\n\u001B[0;32m     11\u001B[0m     \u001B[38;5;28mprint\u001B[39m(\u001B[38;5;124mf\u001B[39m\u001B[38;5;124m\"\u001B[39m\u001B[38;5;124mQ: \u001B[39m\u001B[38;5;132;01m{\u001B[39;00mpair[\u001B[38;5;124m'\u001B[39m\u001B[38;5;124mquestion\u001B[39m\u001B[38;5;124m'\u001B[39m]\u001B[38;5;132;01m}\u001B[39;00m\u001B[38;5;124m\"\u001B[39m)\n",
      "File \u001B[1;32m~\\AppData\\Local\\Programs\\Python\\Python310\\lib\\json\\__init__.py:346\u001B[0m, in \u001B[0;36mloads\u001B[1;34m(s, cls, object_hook, parse_float, parse_int, parse_constant, object_pairs_hook, **kw)\u001B[0m\n\u001B[0;32m    341\u001B[0m     s \u001B[38;5;241m=\u001B[39m s\u001B[38;5;241m.\u001B[39mdecode(detect_encoding(s), \u001B[38;5;124m'\u001B[39m\u001B[38;5;124msurrogatepass\u001B[39m\u001B[38;5;124m'\u001B[39m)\n\u001B[0;32m    343\u001B[0m \u001B[38;5;28;01mif\u001B[39;00m (\u001B[38;5;28mcls\u001B[39m \u001B[38;5;129;01mis\u001B[39;00m \u001B[38;5;28;01mNone\u001B[39;00m \u001B[38;5;129;01mand\u001B[39;00m object_hook \u001B[38;5;129;01mis\u001B[39;00m \u001B[38;5;28;01mNone\u001B[39;00m \u001B[38;5;129;01mand\u001B[39;00m\n\u001B[0;32m    344\u001B[0m         parse_int \u001B[38;5;129;01mis\u001B[39;00m \u001B[38;5;28;01mNone\u001B[39;00m \u001B[38;5;129;01mand\u001B[39;00m parse_float \u001B[38;5;129;01mis\u001B[39;00m \u001B[38;5;28;01mNone\u001B[39;00m \u001B[38;5;129;01mand\u001B[39;00m\n\u001B[0;32m    345\u001B[0m         parse_constant \u001B[38;5;129;01mis\u001B[39;00m \u001B[38;5;28;01mNone\u001B[39;00m \u001B[38;5;129;01mand\u001B[39;00m object_pairs_hook \u001B[38;5;129;01mis\u001B[39;00m \u001B[38;5;28;01mNone\u001B[39;00m \u001B[38;5;129;01mand\u001B[39;00m \u001B[38;5;129;01mnot\u001B[39;00m kw):\n\u001B[1;32m--> 346\u001B[0m     \u001B[38;5;28;01mreturn\u001B[39;00m \u001B[43m_default_decoder\u001B[49m\u001B[38;5;241;43m.\u001B[39;49m\u001B[43mdecode\u001B[49m\u001B[43m(\u001B[49m\u001B[43ms\u001B[49m\u001B[43m)\u001B[49m\n\u001B[0;32m    347\u001B[0m \u001B[38;5;28;01mif\u001B[39;00m \u001B[38;5;28mcls\u001B[39m \u001B[38;5;129;01mis\u001B[39;00m \u001B[38;5;28;01mNone\u001B[39;00m:\n\u001B[0;32m    348\u001B[0m     \u001B[38;5;28mcls\u001B[39m \u001B[38;5;241m=\u001B[39m JSONDecoder\n",
      "File \u001B[1;32m~\\AppData\\Local\\Programs\\Python\\Python310\\lib\\json\\decoder.py:337\u001B[0m, in \u001B[0;36mJSONDecoder.decode\u001B[1;34m(self, s, _w)\u001B[0m\n\u001B[0;32m    332\u001B[0m \u001B[38;5;28;01mdef\u001B[39;00m \u001B[38;5;21mdecode\u001B[39m(\u001B[38;5;28mself\u001B[39m, s, _w\u001B[38;5;241m=\u001B[39mWHITESPACE\u001B[38;5;241m.\u001B[39mmatch):\n\u001B[0;32m    333\u001B[0m \u001B[38;5;250m    \u001B[39m\u001B[38;5;124;03m\"\"\"Return the Python representation of ``s`` (a ``str`` instance\u001B[39;00m\n\u001B[0;32m    334\u001B[0m \u001B[38;5;124;03m    containing a JSON document).\u001B[39;00m\n\u001B[0;32m    335\u001B[0m \n\u001B[0;32m    336\u001B[0m \u001B[38;5;124;03m    \"\"\"\u001B[39;00m\n\u001B[1;32m--> 337\u001B[0m     obj, end \u001B[38;5;241m=\u001B[39m \u001B[38;5;28;43mself\u001B[39;49m\u001B[38;5;241;43m.\u001B[39;49m\u001B[43mraw_decode\u001B[49m\u001B[43m(\u001B[49m\u001B[43ms\u001B[49m\u001B[43m,\u001B[49m\u001B[43m \u001B[49m\u001B[43midx\u001B[49m\u001B[38;5;241;43m=\u001B[39;49m\u001B[43m_w\u001B[49m\u001B[43m(\u001B[49m\u001B[43ms\u001B[49m\u001B[43m,\u001B[49m\u001B[43m \u001B[49m\u001B[38;5;241;43m0\u001B[39;49m\u001B[43m)\u001B[49m\u001B[38;5;241;43m.\u001B[39;49m\u001B[43mend\u001B[49m\u001B[43m(\u001B[49m\u001B[43m)\u001B[49m\u001B[43m)\u001B[49m\n\u001B[0;32m    338\u001B[0m     end \u001B[38;5;241m=\u001B[39m _w(s, end)\u001B[38;5;241m.\u001B[39mend()\n\u001B[0;32m    339\u001B[0m     \u001B[38;5;28;01mif\u001B[39;00m end \u001B[38;5;241m!=\u001B[39m \u001B[38;5;28mlen\u001B[39m(s):\n",
      "File \u001B[1;32m~\\AppData\\Local\\Programs\\Python\\Python310\\lib\\json\\decoder.py:355\u001B[0m, in \u001B[0;36mJSONDecoder.raw_decode\u001B[1;34m(self, s, idx)\u001B[0m\n\u001B[0;32m    353\u001B[0m     obj, end \u001B[38;5;241m=\u001B[39m \u001B[38;5;28mself\u001B[39m\u001B[38;5;241m.\u001B[39mscan_once(s, idx)\n\u001B[0;32m    354\u001B[0m \u001B[38;5;28;01mexcept\u001B[39;00m \u001B[38;5;167;01mStopIteration\u001B[39;00m \u001B[38;5;28;01mas\u001B[39;00m err:\n\u001B[1;32m--> 355\u001B[0m     \u001B[38;5;28;01mraise\u001B[39;00m JSONDecodeError(\u001B[38;5;124m\"\u001B[39m\u001B[38;5;124mExpecting value\u001B[39m\u001B[38;5;124m\"\u001B[39m, s, err\u001B[38;5;241m.\u001B[39mvalue) \u001B[38;5;28;01mfrom\u001B[39;00m \u001B[38;5;28;01mNone\u001B[39;00m\n\u001B[0;32m    356\u001B[0m \u001B[38;5;28;01mreturn\u001B[39;00m obj, end\n",
      "\u001B[1;31mJSONDecodeError\u001B[0m: Expecting value: line 1 column 1 (char 0)"
     ]
    }
   ],
   "execution_count": 41
  },
  {
   "metadata": {},
   "cell_type": "markdown",
   "source": "不好，报错了我们看看",
   "id": "4f6d5994ab38a007"
  },
  {
   "metadata": {
    "ExecuteTime": {
     "end_time": "2024-11-28T10:52:06.760688Z",
     "start_time": "2024-11-28T10:52:06.743686Z"
    }
   },
   "cell_type": "code",
   "source": "print(response.choices[0].message.content)",
   "id": "19f675ccbce2d6c3",
   "outputs": [
    {
     "name": "stdout",
     "output_type": "stream",
     "text": [
      "```json\n",
      "[\n",
      "    {\n",
      "        \"question\": \"秦始皇统一六国的时间是什么时候？\",\n",
      "        \"answer\": \"秦始皇统一六国的时间是公元前221年。\"\n",
      "    },\n",
      "    {\n",
      "        \"question\": \"唐朝的开国皇帝是谁？\",\n",
      "        \"answer\": \"唐朝的开国皇帝是李渊，他的庙号是唐高祖。\"\n",
      "    },\n",
      "    {\n",
      "        \"question\": \"中国历史上第一个女皇帝是谁？\",\n",
      "        \"answer\": \"中国历史上第一个女皇帝是武则天，她在位期间改国号为周。\"\n",
      "    }\n",
      "]\n",
      "```\n"
     ]
    }
   ],
   "execution_count": 42
  },
  {
   "metadata": {},
   "cell_type": "markdown",
   "source": [
    "可能会正好的json，也可能会因为多了多余的字符无法直接用代码解析：\n",
    "\n",
    "![](https://typora-photo1220.oss-cn-beijing.aliyuncs.com/DataAnalysis/LingYi/20241031163440.png)"
   ],
   "id": "8a0286f940471707"
  },
  {
   "metadata": {},
   "cell_type": "markdown",
   "source": [
    "这种情况可以在外面做一个判断，GLM一般都是有这个语法，就去掉。\n",
    "\n",
    "参见官网：https://open.bigmodel.cn/dev/howuse/jsonformat\n"
   ],
   "id": "251aa69b583a4841"
  },
  {
   "metadata": {},
   "cell_type": "markdown",
   "source": [
    "同时值得一提的是，大模型在迅速发展，官方也在出手，比如OPENAI，比如Gemini都有了内嵌的生成结构化功能，让大模型更听话\n",
    "\n",
    "注意下面的示例使用的是OPENAI，国内的GLM还没有内嵌的功能。"
   ],
   "id": "e2e0cfac32ee5a08"
  },
  {
   "metadata": {
    "ExecuteTime": {
     "end_time": "2024-11-28T15:11:23.435340Z",
     "start_time": "2024-11-28T15:11:19.677070Z"
    }
   },
   "cell_type": "code",
   "source": [
    "from pydantic import BaseModel\n",
    "from openai import OpenAI\n",
    "\n",
    "client = OpenAI()\n",
    "\n",
    "class CalendarEvent(BaseModel):\n",
    "    name: str\n",
    "    date: str\n",
    "    participants: list[str]\n",
    "\n",
    "completion = client.beta.chat.completions.parse(\n",
    "    model=\"gpt-4o-2024-08-06\",\n",
    "    messages=[\n",
    "        {\"role\": \"system\", \"content\": \"Extract the event information.\"},\n",
    "        {\"role\": \"user\", \"content\": \"秋天了，我和小帅想在周末去爬山看枫叶\"},\n",
    "    ],\n",
    "    response_format=CalendarEvent,\n",
    ")\n",
    "\n",
    "event = completion.choices[0].message.parsed\n",
    "event"
   ],
   "id": "ecbf12ecb67b46c8",
   "outputs": [
    {
     "data": {
      "text/plain": [
       "CalendarEvent(name='Hiking to See Maple Leaves', date='Weekend this autumn', participants=['Me', '小帅'])"
      ]
     },
     "execution_count": 48,
     "metadata": {},
     "output_type": "execute_result"
    }
   ],
   "execution_count": 48
  },
  {
   "metadata": {},
   "cell_type": "markdown",
   "source": [
    "用类定义（Pydantic）Pydantic 是一个数据验证库，通过继承 BaseModel 来定义数据结构：\n",
    "\n",
    "```python\n",
    "from pydantic import BaseModel\n",
    "from typing import List\n",
    "\n",
    "class QAPair(BaseModel):\n",
    "    question: str\n",
    "    answer: str\n",
    "\n",
    "# 使用示例\n",
    "response_format = QAPair\n",
    "```\n",
    "\n",
    "优点：\n",
    "- 提供完整的数据验证功能\n",
    "- 自动类型转换，支持嵌套结构\n",
    "- 与 OpenAI API 完全兼容，官方给出的最佳实践"
   ],
   "id": "abd2657419c49147"
  },
  {
   "cell_type": "code",
   "source": [
    "from pydantic import BaseModel\n",
    "from openai import OpenAI\n",
    "\n",
    "client = OpenAI()\n",
    "\n",
    "class QAPair(BaseModel):\n",
    "    question: str\n",
    "    answer: str\n",
    "\n",
    "completion = client.beta.chat.completions.parse(\n",
    "    model=\"gpt-4o-2024-08-06\",\n",
    "    messages=[\n",
    "        {\"role\": \"user\", \"content\": \"生成多个关于脑筋急转弯的问答对，以JSON格式输出。\"},\n",
    "    ],\n",
    "    response_format=QAPair,\n",
    ")\n",
    "\n",
    "event = completion.choices[0].message.parsed\n",
    "event"
   ],
   "metadata": {
    "collapsed": false,
    "ExecuteTime": {
     "end_time": "2024-11-28T09:34:53.691140Z",
     "start_time": "2024-11-28T09:34:51.141829Z"
    }
   },
   "id": "a197bac0543261ed",
   "outputs": [
    {
     "data": {
      "text/plain": [
       "QAPair(question='鸡为什么在马路上走来走去？', answer='因为它想引起交通阻塞。')"
      ]
     },
     "execution_count": 26,
     "metadata": {},
     "output_type": "execute_result"
    }
   ],
   "execution_count": 26
  },
  {
   "cell_type": "code",
   "source": [
    "from pydantic import BaseModel\n",
    "from openai import OpenAI\n",
    "\n",
    "client = OpenAI()\n",
    "\n",
    "class QAPairList(BaseModel):\n",
    "    list: list[QAPair]\n",
    "    \n",
    "class QAPair(BaseModel):\n",
    "    question: str\n",
    "    answer: str\n",
    "\n",
    "completion = client.beta.chat.completions.parse(\n",
    "    model=\"gpt-4o-2024-08-06\",\n",
    "    messages=[\n",
    "        {\"role\": \"user\", \"content\": \"生成几个关于脑筋急转弯的问答对，以JSON格式输出。\"},\n",
    "    ],\n",
    "    response_format=QAPairList,\n",
    ")\n",
    "\n",
    "event = completion.choices[0].message.parsed\n",
    "event"
   ],
   "metadata": {
    "collapsed": false,
    "ExecuteTime": {
     "end_time": "2024-11-28T09:36:58.392276Z",
     "start_time": "2024-11-28T09:36:50.567801Z"
    }
   },
   "id": "fad803415f11588c",
   "outputs": [
    {
     "data": {
      "text/plain": [
       "QAPairList(list=[QAPair(question='炖牛肉用什么锅最好？', answer='用旋锅，炖得香。'), QAPair(question='什么样的路千万不能走？', answer='走丢的路。'), QAPair(question='有你看不见的东西吗？', answer='有，梦。'), QAPair(question='你知道世界上最难保持的事情是什么吗？', answer='清醒的梦。'), QAPair(question='什么东西比银河系还大？', answer='大象。没有银河系这种说法。'), QAPair(question='什么话只能说一句？', answer='哑巴说的话。'), QAPair(question='有一个人掉进了大海，他会有什么感觉？', answer='浑身湿透，感觉恐慌。'), QAPair(question='有什么东西晚上熄灯后变得特别大，特别明显？', answer='你的孤独感。')])"
      ]
     },
     "execution_count": 28,
     "metadata": {},
     "output_type": "execute_result"
    }
   ],
   "execution_count": 28
  },
  {
   "metadata": {},
   "cell_type": "code",
   "outputs": [],
   "execution_count": null,
   "source": "",
   "id": "fdef08a512edf119"
  }
 ],
 "metadata": {
  "kernelspec": {
   "display_name": "Python 3",
   "language": "python",
   "name": "python3"
  },
  "language_info": {
   "codemirror_mode": {
    "name": "ipython",
    "version": 2
   },
   "file_extension": ".py",
   "mimetype": "text/x-python",
   "name": "python",
   "nbconvert_exporter": "python",
   "pygments_lexer": "ipython2",
   "version": "2.7.6"
  }
 },
 "nbformat": 4,
 "nbformat_minor": 5
}
