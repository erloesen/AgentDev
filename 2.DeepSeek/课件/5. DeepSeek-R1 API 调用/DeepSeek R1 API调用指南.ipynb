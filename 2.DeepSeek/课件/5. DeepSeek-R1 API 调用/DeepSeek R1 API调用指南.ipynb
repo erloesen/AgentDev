{
 "cells": [
  {
   "cell_type": "markdown",
   "id": "785c68a6-2ff9-4379-a2f2-07faa6156b48",
   "metadata": {},
   "source": [
    "## <center> 《2025大模型Agent智能体开发实战》体验课\n",
    "## <center> DeepSeek R1 API调用指南"
   ]
  },
  {
   "cell_type": "code",
   "execution_count": 13,
   "id": "e518d1c9-d401-456e-8ed4-89102f6b117e",
   "metadata": {},
   "outputs": [],
   "source": [
    "import os\n",
    "from IPython.display import display, Code, Markdown\n",
    "import requests\n",
    "import json"
   ]
  },
  {
   "cell_type": "markdown",
   "id": "ee89a9fc-fbfc-441d-b26a-059d5ca9c066",
   "metadata": {},
   "source": [
    "- DeepSeek R1账号注册与API获取"
   ]
  },
  {
   "cell_type": "markdown",
   "id": "276e57b5-91b2-4078-9482-7ff30c22e249",
   "metadata": {},
   "source": [
    "&emsp;&emsp;DeepSeek-R1正式版已于2025年1月20号正式上线，在后训练阶段大规模使用了强化学习技术，在仅有极少标注数据的情况下，极大提升了模型推理能力。在数学、代码、自然语言推理等任务上，性能比肩 OpenAI o1 正式版。"
   ]
  },
  {
   "cell_type": "markdown",
   "id": "522141b6-4f2e-4923-8aed-164400524988",
   "metadata": {},
   "source": [
    "<center><img src=\"https://ml2022.oss-cn-hangzhou.aliyuncs.com/img/image-20250121160224813.png\" alt=\"image-20250121160224813\" style=\"zoom:50%;\" />"
   ]
  },
  {
   "cell_type": "markdown",
   "id": "60043a9c-cd94-4c37-982e-9c64a624521c",
   "metadata": {},
   "source": [
    "DeepSeek R1模型性能解读视频：https://www.bilibili.com/video/BV1UBwbe4E1D/"
   ]
  },
  {
   "cell_type": "markdown",
   "id": "96fdde2f-7e35-4d17-b1b6-581b65c64da4",
   "metadata": {},
   "source": [
    "<center><img src=\"https://ml2022.oss-cn-hangzhou.aliyuncs.com/img/image-20250121160441161.png\" alt=\"image-20250121160441161\" style=\"zoom:50%;\" />"
   ]
  },
  {
   "cell_type": "markdown",
   "id": "75d08ea1-b917-42d5-b2f6-fa62f09e76c5",
   "metadata": {},
   "source": [
    "DeepSeek官网：https://www.deepseek.com/"
   ]
  },
  {
   "cell_type": "markdown",
   "id": "f16b2914-43a0-45fb-a4bf-df7b5b1a8c6a",
   "metadata": {},
   "source": [
    "<center><img src=\"https://ml2022.oss-cn-hangzhou.aliyuncs.com/img/image-20250121155923170.png\" alt=\"image-20250121155923170\" style=\"zoom:50%;\" />"
   ]
  },
  {
   "cell_type": "markdown",
   "id": "cbdbfe37-70aa-435d-a64b-de2e763f24b9",
   "metadata": {},
   "source": [
    "<center><img src=\"https://ml2022.oss-cn-hangzhou.aliyuncs.com/img/image-20250107155925049.png\" alt=\"image-20250107155925049\" style=\"zoom:25%;\" />"
   ]
  },
  {
   "cell_type": "markdown",
   "id": "7e9c4c60-658c-4ba3-8ac3-6be1ee1a4d1a",
   "metadata": {},
   "source": [
    "新用户注册即赠送10元额度，约500万token额度。"
   ]
  },
  {
   "cell_type": "markdown",
   "id": "6c8c3422-f5b3-48fd-a0c7-d0f2a1ba1b6c",
   "metadata": {},
   "source": [
    "&emsp;&emsp;价格方面，DeepSeek R1价格约为OpenAI o1正式版模型的1/50："
   ]
  },
  {
   "cell_type": "markdown",
   "id": "b7dd18bd-8866-4b25-89e5-7286d2949361",
   "metadata": {},
   "source": [
    "<center><img src=\"https://ml2022.oss-cn-hangzhou.aliyuncs.com/img/image-20250121160013833.png\" alt=\"image-20250121160013833\" style=\"zoom:50%;\" />"
   ]
  },
  {
   "cell_type": "markdown",
   "id": "82120d9c-bd6e-45d0-94cf-c66cf81a9976",
   "metadata": {},
   "source": [
    "以下是OpenAI o1模型API调用价格："
   ]
  },
  {
   "cell_type": "markdown",
   "id": "1a2bcaf2-60bb-463a-96c6-a5bdc87cee86",
   "metadata": {},
   "source": [
    "<center><img src=\"https://ml2022.oss-cn-hangzhou.aliyuncs.com/img/image-20250121160123441.png\" alt=\"image-20250121160123441\" style=\"zoom:50%;\" />"
   ]
  },
  {
   "cell_type": "markdown",
   "id": "bd25f506-e247-41f2-a123-7413841f5adf",
   "metadata": {},
   "source": [
    "目前DeepSeek R1模型调用不限速："
   ]
  },
  {
   "cell_type": "markdown",
   "id": "b9806277-9693-468e-b680-4a65e4b3de6f",
   "metadata": {},
   "source": [
    "<center><img src=\"https://ml2022.oss-cn-hangzhou.aliyuncs.com/img/image-20250107160659366.png\" alt=\"image-20250107160659366\" style=\"zoom:33%;\" />"
   ]
  },
  {
   "cell_type": "markdown",
   "id": "2c1d5e2a-02fc-428e-97a7-0d06ba8db025",
   "metadata": {},
   "source": [
    "并且调用风格和OpenAI完全一致：提示词缓存、Json Output等功能完全相同，暂不支持多模态和Function calling功能："
   ]
  },
  {
   "cell_type": "markdown",
   "id": "6e9c6c78-dd65-4687-9fd2-33dbdc2bdb5b",
   "metadata": {},
   "source": [
    "<center><img src=\"https://ml2022.oss-cn-hangzhou.aliyuncs.com/img/image-20250107161014344.png\" alt=\"image-20250107161014344\" style=\"zoom:33%;\" />"
   ]
  },
  {
   "cell_type": "markdown",
   "id": "3c63ae3d-4094-4e10-b386-e214a484a3de",
   "metadata": {},
   "source": [
    "<center><img src=\"https://ml2022.oss-cn-hangzhou.aliyuncs.com/img/image-20250107161058708.png\" alt=\"image-20250107161058708\" style=\"zoom:33%;\" />"
   ]
  },
  {
   "cell_type": "markdown",
   "id": "72369670-243b-4fca-92ca-206ce711aee7",
   "metadata": {},
   "source": [
    "- DeepSeek R1调用流程"
   ]
  },
  {
   "cell_type": "markdown",
   "id": "f7c2443d-c2e9-4ce5-8c67-3dc4f8031b8a",
   "metadata": {},
   "source": [
    "对比OpenAI GPT4o调用流程："
   ]
  },
  {
   "cell_type": "code",
   "execution_count": 1,
   "id": "beda1871-4ad0-4d23-938b-dcb75886a481",
   "metadata": {
    "collapsed": true,
    "jupyter": {
     "outputs_hidden": true
    }
   },
   "outputs": [
    {
     "name": "stdout",
     "output_type": "stream",
     "text": [
      "Requirement already satisfied: openai in /root/anaconda3/lib/python3.12/site-packages (1.57.2)\n",
      "Requirement already satisfied: anyio<5,>=3.5.0 in /root/anaconda3/lib/python3.12/site-packages (from openai) (4.2.0)\n",
      "Requirement already satisfied: distro<2,>=1.7.0 in /root/anaconda3/lib/python3.12/site-packages (from openai) (1.9.0)\n",
      "Requirement already satisfied: httpx<1,>=0.23.0 in /root/anaconda3/lib/python3.12/site-packages (from openai) (0.28.1)\n",
      "Requirement already satisfied: jiter<1,>=0.4.0 in /root/anaconda3/lib/python3.12/site-packages (from openai) (0.8.2)\n",
      "Requirement already satisfied: pydantic<3,>=1.9.0 in /root/anaconda3/lib/python3.12/site-packages (from openai) (2.5.3)\n",
      "Requirement already satisfied: sniffio in /root/anaconda3/lib/python3.12/site-packages (from openai) (1.3.0)\n",
      "Requirement already satisfied: tqdm>4 in /root/anaconda3/lib/python3.12/site-packages (from openai) (4.66.4)\n",
      "Requirement already satisfied: typing-extensions<5,>=4.11 in /root/anaconda3/lib/python3.12/site-packages (from openai) (4.11.0)\n",
      "Requirement already satisfied: idna>=2.8 in /root/anaconda3/lib/python3.12/site-packages (from anyio<5,>=3.5.0->openai) (3.7)\n",
      "Requirement already satisfied: certifi in /root/anaconda3/lib/python3.12/site-packages (from httpx<1,>=0.23.0->openai) (2024.6.2)\n",
      "Requirement already satisfied: httpcore==1.* in /root/anaconda3/lib/python3.12/site-packages (from httpx<1,>=0.23.0->openai) (1.0.7)\n",
      "Requirement already satisfied: h11<0.15,>=0.13 in /root/anaconda3/lib/python3.12/site-packages (from httpcore==1.*->httpx<1,>=0.23.0->openai) (0.14.0)\n",
      "Requirement already satisfied: annotated-types>=0.4.0 in /root/anaconda3/lib/python3.12/site-packages (from pydantic<3,>=1.9.0->openai) (0.6.0)\n",
      "Requirement already satisfied: pydantic-core==2.14.6 in /root/anaconda3/lib/python3.12/site-packages (from pydantic<3,>=1.9.0->openai) (2.14.6)\n",
      "\u001b[33mWARNING: Running pip as the 'root' user can result in broken permissions and conflicting behaviour with the system package manager. It is recommended to use a virtual environment instead: https://pip.pypa.io/warnings/venv\u001b[0m\u001b[33m\n",
      "\u001b[0m"
     ]
    }
   ],
   "source": [
    "!pip install openai"
   ]
  },
  {
   "cell_type": "code",
   "execution_count": 2,
   "id": "829f47c7-f1dd-4cd8-902d-946e1706e711",
   "metadata": {},
   "outputs": [],
   "source": [
    "import openai"
   ]
  },
  {
   "cell_type": "code",
   "execution_count": 3,
   "id": "8cd3efbb-0974-4261-aa98-531bdb70d4ff",
   "metadata": {},
   "outputs": [
    {
     "data": {
      "text/plain": [
       "'1.57.2'"
      ]
     },
     "execution_count": 3,
     "metadata": {},
     "output_type": "execute_result"
    }
   ],
   "source": [
    "openai.__version__"
   ]
  },
  {
   "cell_type": "code",
   "execution_count": 10,
   "id": "e58e95f8-e8b1-405d-9f39-b19de199b509",
   "metadata": {},
   "outputs": [],
   "source": [
    "from openai import OpenAI"
   ]
  },
  {
   "cell_type": "code",
   "execution_count": 4,
   "id": "169d842b-cee8-4d88-b8a6-a013215350d3",
   "metadata": {},
   "outputs": [],
   "source": [
    "openai_api_key = 'YOUR_API_KEY'"
   ]
  },
  {
   "cell_type": "code",
   "execution_count": 3,
   "id": "d4655aab-4f2b-4480-aa2d-3d961205b76e",
   "metadata": {},
   "outputs": [],
   "source": [
    "# 实例化客户端\n",
    "client = OpenAI(api_key=openai_api_key, \n",
    "                base_url=\"https://ai.devtool.tech/proxy/v1\")"
   ]
  },
  {
   "cell_type": "code",
   "execution_count": 4,
   "id": "31b1ff1b-890f-4369-afcd-c8655cd362d9",
   "metadata": {
    "scrolled": true
   },
   "outputs": [],
   "source": [
    "response = client.chat.completions.create(\n",
    "    model=\"o1-preview\",\n",
    "    messages=[\n",
    "        {\"role\": \"user\", \"content\": \"请问，9.8和9.11哪个更大？\"}\n",
    "    ]\n",
    ")"
   ]
  },
  {
   "cell_type": "code",
   "execution_count": 5,
   "id": "8da543a5-ed50-4cad-91d2-2ccee4a78d7c",
   "metadata": {},
   "outputs": [
    {
     "data": {
      "text/plain": [
       "ChatCompletion(id='chatcmpl-As3CtGiIhcFVMpNEW9H170lzm1xVa', choices=[Choice(finish_reason='stop', index=0, logprobs=None, message=ChatCompletionMessage(content='9.8 比 9.11 大。\\n\\n在比较这两个数字时，9.8 等于 9.80，而 9.11 等于 9.11。因为 9.80 大于 9.11，所以 9.8 比 9.11 大。', refusal=None, role='assistant', audio=None, function_call=None, tool_calls=None))], created=1737445403, model='o1-preview-2024-09-12', object='chat.completion', service_tier='default', system_fingerprint='fp_6722463bcd', usage=CompletionUsage(completion_tokens=592, prompt_tokens=21, total_tokens=613, completion_tokens_details=CompletionTokensDetails(accepted_prediction_tokens=0, audio_tokens=0, reasoning_tokens=512, rejected_prediction_tokens=0), prompt_tokens_details=PromptTokensDetails(audio_tokens=0, cached_tokens=0)))"
      ]
     },
     "execution_count": 5,
     "metadata": {},
     "output_type": "execute_result"
    }
   ],
   "source": [
    "response"
   ]
  },
  {
   "cell_type": "code",
   "execution_count": 6,
   "id": "9d4f7ba7-e754-4d84-8764-1606a749fa47",
   "metadata": {},
   "outputs": [
    {
     "name": "stdout",
     "output_type": "stream",
     "text": [
      "9.8 比 9.11 大。\n",
      "\n",
      "在比较这两个数字时，9.8 等于 9.80，而 9.11 等于 9.11。因为 9.80 大于 9.11，所以 9.8 比 9.11 大。\n"
     ]
    }
   ],
   "source": [
    "print(response.choices[0].message.content)"
   ]
  },
  {
   "cell_type": "markdown",
   "id": "98720ac8-0c54-430d-9036-72e5867e9071",
   "metadata": {},
   "source": [
    "上述代码中 model 参数指定了使用的模型（o1-preview），messages 列表定义了对话内容，其中 role 为 user 表示用户的输入内容。"
   ]
  },
  {
   "cell_type": "markdown",
   "id": "e8e135e0-a6a5-487f-a678-d4c14c435a5c",
   "metadata": {},
   "source": [
    "DeepSeek R1调用流程:"
   ]
  },
  {
   "cell_type": "markdown",
   "id": "765eed3c-a0cd-4acf-8aec-f33ffbbad5bf",
   "metadata": {},
   "source": [
    "首先在官网申请API-KEY：https://platform.deepseek.com/api_keys"
   ]
  },
  {
   "cell_type": "markdown",
   "id": "3ea0e153-647a-40b9-be43-d1b8061969dc",
   "metadata": {},
   "source": [
    "<center><img src=\"https://ml2022.oss-cn-hangzhou.aliyuncs.com/img/image-20250107162553252.png\" alt=\"image-20250107162553252\" style=\"zoom:33%;\" />"
   ]
  },
  {
   "cell_type": "markdown",
   "id": "c76dac76-e723-4f72-9b6b-8018614a0293",
   "metadata": {},
   "source": [
    "<center><img src=\"https://ml2022.oss-cn-hangzhou.aliyuncs.com/img/image-20250107162642821.png\" alt=\"image-20250107162642821\" style=\"zoom:33%;\" />"
   ]
  },
  {
   "cell_type": "code",
   "execution_count": 29,
   "id": "299abd27-a91c-4447-ac94-90c3aa46fb23",
   "metadata": {},
   "outputs": [],
   "source": [
    "ds_api_key = \"YOUR_DS_API_KEY\""
   ]
  },
  {
   "cell_type": "code",
   "execution_count": 14,
   "id": "fd6f0ab0-17f8-4e60-9524-a35aa36e5e52",
   "metadata": {},
   "outputs": [],
   "source": [
    "# 实例化客户端\n",
    "client = OpenAI(api_key=ds_api_key, \n",
    "                base_url=\"https://api.deepseek.com\")"
   ]
  },
  {
   "cell_type": "code",
   "execution_count": 8,
   "id": "aeb55183-b8ba-44a1-b53b-8d693e11f693",
   "metadata": {},
   "outputs": [],
   "source": [
    "# 调用 deepseekv3 模型\n",
    "response = client.chat.completions.create(\n",
    "    model=\"deepseek-reasoner\",\n",
    "    messages=[\n",
    "        {\"role\": \"user\", \"content\": \"请问，9.8和9.11哪个更大？\"}\n",
    "    ]\n",
    ")"
   ]
  },
  {
   "cell_type": "code",
   "execution_count": 9,
   "id": "449cd716-33eb-4b6a-a5ff-ed6b1adc6acb",
   "metadata": {},
   "outputs": [
    {
     "data": {
      "text/plain": [
       "'在比较数值大小时，9.8 和 9.11 需要统一小数位数来逐位对比：\\n\\n- **9.8** 可以写作 **9.80**  \\n- **9.11** 保持原格式 **9.11**\\n\\n**比较步骤：**  \\n1. **整数部分**：均为 9，相等。  \\n2. **十分位**（小数点后第一位）：9.80 的 **8** > 9.11 的 **1**。  \\n\\n此时已能判定大小，无需继续比较后续位数。  \\n\\n**结论**：  \\n**9.8 > 9.11**  \\n\\n注意：如果是版本号（如软件版本），可能遵循不同规则（如 `9.11` 表示第9版第11次更新，大于 `9.8`），但纯数学比较时，**9.8 更大**。'"
      ]
     },
     "execution_count": 9,
     "metadata": {},
     "output_type": "execute_result"
    }
   ],
   "source": [
    "# 最终回复\n",
    "response.choices[0].message.content"
   ]
  },
  {
   "cell_type": "code",
   "execution_count": 10,
   "id": "845ddfdf-3752-4776-b69a-91c18275e6e1",
   "metadata": {},
   "outputs": [
    {
     "data": {
      "text/plain": [
       "'嗯，用户问的是9.8和9.11哪个更大。这看起来像是一个小数比较的问题，但可能有一些细节需要注意。首先，我应该明确这两个数的位数。9.8和9.11，表面上看起来，可能有人会直接比较小数点后的数字，比如8和11，然后觉得11更大，所以9.11更大。不过其实这可能是个误区，因为小数的比较需要逐位来看。\\n\\n首先，我要确认这两个数的整数部分是否相同。是的，都是9，所以接下来比较小数部分。对于9.8，可以写成9.80，这样小数部分有两位，和9.11对齐。这样的话，小数部分分别是80和11。这时候比较的话，80显然比11大，所以9.80（即9.8）大于9.11。可能用户会混淆小数点的位数，比如误以为9.11的小数点后两位比9.8的一位大，但其实需要补齐位数再比较。\\n\\n或者，用户可能是在不同的上下文中使用这些数字，比如版本号，这时候9.11可能代表的是第九版的第11次更新，而9.8则是第九版的第8次，那么在这种情况下，9.11确实更大。但通常数学比较中，还是按照数值大小来判断。因此需要确认用户的意图，但根据问题本身，可能更偏向数值比较。\\n\\n所以，正确的做法是将两个数的小数位数统一，比较每一位的数字，得出9.8更大的结论。不过要确保用户没有特殊的上下文，比如软件版本或其他非数值比较的情况。如果没有特别说明，数学上9.8确实大于9.11。'"
      ]
     },
     "execution_count": 10,
     "metadata": {},
     "output_type": "execute_result"
    }
   ],
   "source": [
    "# 思考链\n",
    "response.choices[0].message.reasoning_content"
   ]
  },
  {
   "cell_type": "markdown",
   "id": "08fae3cf-2730-4a9a-875e-39ed1155ed1a",
   "metadata": {},
   "source": [
    "- DeepSeek R1参数解释"
   ]
  },
  {
   "cell_type": "markdown",
   "id": "3a64193d-d09d-44a8-bc7a-26fee35e5bb1",
   "metadata": {},
   "source": [
    "(1). max_tokens：最终回答的最大长度（不含思维链输出），默认为 4K，最大为 8K。请注意，思维链的输出最多可以达到 32K tokens，控思维链的长度的参数（reasoning_effort）将会在近期上线。  "
   ]
  },
  {
   "cell_type": "markdown",
   "id": "df6e627d-f665-4701-a837-2b2d1419a131",
   "metadata": {},
   "source": [
    "(2). reasoning_content：思维链内容，与 content 同级        "
   ]
  },
  {
   "cell_type": "markdown",
   "id": "cbff008a-becb-44ed-afd5-f681a6e06710",
   "metadata": {},
   "source": [
    "(3). 上下文长度：API 最大支持 64K 上下文，输出的 reasoning_content 长度不计入 64K 上下文长度中    "
   ]
  },
  {
   "cell_type": "markdown",
   "id": "b42a61a7-29ad-4a30-a2e9-95f13c5d9a03",
   "metadata": {},
   "source": [
    "(4). 支持的功能：对话补全，对话前缀续写 (Beta)     "
   ]
  },
  {
   "cell_type": "markdown",
   "id": "dea97993-76a3-421f-8078-3f53f50b1c66",
   "metadata": {},
   "source": [
    "(5). 不支持的功能：Function Call、Json Output、FIM 补全 (Beta)   "
   ]
  },
  {
   "cell_type": "markdown",
   "id": "d3dce530-3639-4da3-94bb-1995a785e8c3",
   "metadata": {},
   "source": [
    "(6). 不支持的参数：temperature、top_p、presence_penalty、frequency_penalty、logprobs、top_logprobs。请注意，为了兼容已有软件，设置这些参数不会报错，但也不会生效。"
   ]
  },
  {
   "cell_type": "markdown",
   "id": "c3a21e1b-372b-4a18-8e3e-83d25f13b48d",
   "metadata": {},
   "source": [
    "- DeepSeek R1思维链执行过程"
   ]
  },
  {
   "cell_type": "markdown",
   "id": "f6bdb5c5-dee4-42a0-8f5a-82c6a1219a79",
   "metadata": {},
   "source": [
    "<center><img src=\"https://ml2022.oss-cn-hangzhou.aliyuncs.com/img/image-20250121163405449.png\" alt=\"image-20250121163405449\" style=\"zoom:50%;\" />"
   ]
  },
  {
   "cell_type": "markdown",
   "id": "7ad4f662-11bb-4a20-ac25-428c5a2f3d77",
   "metadata": {},
   "source": [
    "- 尝试借助DeepSeek R1编写完整开发项目"
   ]
  },
  {
   "cell_type": "code",
   "execution_count": 15,
   "id": "092e42a5-3ac8-4707-b70f-47e9b5f15961",
   "metadata": {},
   "outputs": [],
   "source": [
    "prompt = \"\"\"\n",
    "我想构建一个Python应用程序，它能够接收用户的问题，并在数据库中查找与之对应的答案。\n",
    "如果有接近匹配的答案，它就检索出匹配的答案。\n",
    "如果没有，它就请求用户提供答案，并将问题/答案对存储在数据库中。\n",
    "为我规划所需的目录结构，然后完整地返回每个文件。只需在代码的开始和结束时提供你的推理，而不用贯穿整个代码。\n",
    "\"\"\"\n",
    "\n",
    "response = client.chat.completions.create(\n",
    "    model=\"deepseek-reasoner\",\n",
    "    messages=[\n",
    "        {\n",
    "            \"role\": \"user\",\n",
    "            \"content\": [\n",
    "                {\n",
    "                    \"type\": \"text\",\n",
    "                    \"text\": prompt\n",
    "                },\n",
    "            ],\n",
    "        }\n",
    "    ]\n",
    ")"
   ]
  },
  {
   "cell_type": "code",
   "execution_count": 16,
   "id": "e78c0420-6dbb-4f80-8eec-1aed475ac0ed",
   "metadata": {
    "scrolled": true
   },
   "outputs": [
    {
     "data": {
      "text/markdown": [
       "以下是为您规划的Python应用程序结构和完整代码文件：\n",
       "\n",
       "```text\n",
       "qa_app/\n",
       "├── config/\n",
       "│   ├── __init__.py\n",
       "│   └── config.py\n",
       "├── database/\n",
       "│   ├── __init__.py\n",
       "│   └── db_connector.py\n",
       "├── daos/\n",
       "│   ├── __init__.py\n",
       "│   └── qa_dao.py\n",
       "├── services/\n",
       "│   ├── __init__.py\n",
       "│   └── qa_service.py\n",
       "└── main.py\n",
       "```\n",
       "\n",
       "**config/config.py**\n",
       "```python\n",
       "DB_PATH = 'qa_database.db'\n",
       "```\n",
       "\n",
       "**database/db_connector.py**\n",
       "```python\n",
       "import sqlite3\n",
       "from config.config import DB_PATH\n",
       "\n",
       "def get_db_connection():\n",
       "    conn = sqlite3.connect(DB_PATH)\n",
       "    conn.row_factory = sqlite3.Row\n",
       "    return conn\n",
       "\n",
       "def init_db():\n",
       "    with get_db_connection() as conn:\n",
       "        conn.execute('''\n",
       "            CREATE TABLE IF NOT EXISTS qa_pairs (\n",
       "                id INTEGER PRIMARY KEY AUTOINCREMENT,\n",
       "                question TEXT NOT NULL UNIQUE,\n",
       "                answer TEXT NOT NULL,\n",
       "                match_count INTEGER DEFAULT 0,\n",
       "                created_at DATETIME DEFAULT CURRENT_TIMESTAMP\n",
       "            )\n",
       "        ''')\n",
       "        conn.commit()\n",
       "```\n",
       "\n",
       "**daos/qa_dao.py**\n",
       "```python\n",
       "from database.db_connector import get_db_connection\n",
       "\n",
       "class QaDao:\n",
       "    @staticmethod\n",
       "    def find_question(question):\n",
       "        with get_db_connection() as conn:\n",
       "            cursor = conn.execute('''\n",
       "                SELECT * FROM qa_pairs \n",
       "                WHERE question LIKE ? \n",
       "                ORDER BY match_count DESC \n",
       "                LIMIT 1\n",
       "            ''', ('%' + question + '%',))\n",
       "            return cursor.fetchone()\n",
       "\n",
       "    @staticmethod\n",
       "    def insert_qa_pair(question, answer):\n",
       "        with get_db_connection() as conn:\n",
       "            cursor = conn.execute('''\n",
       "                INSERT INTO qa_pairs (question, answer) \n",
       "                VALUES (?, ?)\n",
       "            ''', (question, answer))\n",
       "            conn.commit()\n",
       "            return cursor.lastrowid\n",
       "\n",
       "    @staticmethod\n",
       "    def increment_match_count(qa_id):\n",
       "        with get_db_connection() as conn:\n",
       "            conn.execute('''\n",
       "                UPDATE qa_pairs \n",
       "                SET match_count = match_count + 1 \n",
       "                WHERE id = ?\n",
       "            ''', (qa_id,))\n",
       "            conn.commit()\n",
       "```\n",
       "\n",
       "**services/qa_service.py**\n",
       "```python\n",
       "from daos.qa_dao import QaDao\n",
       "\n",
       "class QaService:\n",
       "    @staticmethod\n",
       "    def get_answer(question):\n",
       "        qa_pair = QaDao.find_question(question)\n",
       "        if qa_pair:\n",
       "            QaDao.increment_match_count(qa_pair['id'])\n",
       "            return qa_pair['answer']\n",
       "        return None\n",
       "\n",
       "    @staticmethod\n",
       "    def save_new_qa(question, answer):\n",
       "        return QaDao.insert_qa_pair(question, answer)\n",
       "```\n",
       "\n",
       "**main.py**\n",
       "```python\n",
       "from database.db_connector import init_db\n",
       "from services.qa_service import QaService\n",
       "\n",
       "def main():\n",
       "    init_db()\n",
       "    print(\"QA System - Type 'exit' to quit\")\n",
       "    while True:\n",
       "        question = input(\"\\nYour question: \").strip()\n",
       "        if question.lower() == 'exit':\n",
       "            break\n",
       "        if not question:\n",
       "            continue\n",
       "        answer = QaService.get_answer(question)\n",
       "        if answer:\n",
       "            print(f\"Answer: {answer}\")\n",
       "        else:\n",
       "            new_answer = input(\"No answer found. Please provide the answer: \").strip()\n",
       "            if new_answer:\n",
       "                QaService.save_new_qa(question, new_answer)\n",
       "                print(\"New QA pair added!\")\n",
       "            else:\n",
       "                print(\"Answer cannot be empty. QA pair not saved.\")\n",
       "\n",
       "if __name__ == \"__main__\":\n",
       "    main()\n",
       "```\n",
       "\n",
       "推理过程：\n",
       "1. 使用分层架构设计（数据访问层、服务层、表示层）实现关注点分离\n",
       "2. 采用SQLite作为嵌入式数据库便于快速原型开发\n",
       "3. 通过LIKE操作符实现简单的模糊匹配逻辑\n",
       "4. 使用match_count字段跟踪常用答案的优先级\n",
       "5. 包含数据库初始化脚本和唯一性约束保证数据完整性\n",
       "\n",
       "代码结束后的改进建议：\n",
       "1. 可添加更智能的模糊匹配算法（如Levenshtein距离）\n",
       "2. 可扩展为Web应用版本（如使用Flask/Django框架）\n",
       "3. 可增加答案反馈机制优化匹配质量\n",
       "4. 可添加管理员界面管理QA对\n",
       "5. 可增加自然语言处理组件提升问答准确性"
      ],
      "text/plain": [
       "<IPython.core.display.Markdown object>"
      ]
     },
     "metadata": {},
     "output_type": "display_data"
    }
   ],
   "source": [
    "display(Markdown(response.choices[0].message.content))"
   ]
  },
  {
   "cell_type": "markdown",
   "id": "c2fa3b1b-0c04-431e-9818-a23361d0d151",
   "metadata": {},
   "source": [
    "- 尝试编写贪吃蛇小游戏"
   ]
  },
  {
   "cell_type": "code",
   "execution_count": 17,
   "id": "f8114c60-6091-4648-bf6a-c7f8c177bb3a",
   "metadata": {},
   "outputs": [],
   "source": [
    "prompt = \"\"\"\n",
    "实现一个使用 HTML + JS + CSS 的贪吃蛇游戏。\n",
    "整个代码应该写在一个单一的 HTML 块中，嵌入 JS 和 CSS。不要使用任何远程资源。\n",
    "打开 HTML 后，用户需要按空格键开始/重新开始游戏，蛇在开始时会随机朝一个方向移动，并使用 \"wasd\" 键来控制蛇的方向。\n",
    "让游戏界面美观，并使游戏区域较大。\n",
    "\"\"\""
   ]
  },
  {
   "cell_type": "code",
   "execution_count": 18,
   "id": "88fd143d-da5d-4e39-bad5-c6561e52c31b",
   "metadata": {},
   "outputs": [],
   "source": [
    "response1 = client.chat.completions.create(\n",
    "    model=\"deepseek-reasoner\",\n",
    "    messages=[\n",
    "        {\n",
    "            \"role\": \"user\",\n",
    "            \"content\": [\n",
    "                {\n",
    "                    \"type\": \"text\",\n",
    "                    \"text\": prompt\n",
    "                },\n",
    "            ],\n",
    "        }\n",
    "    ]\n",
    ")"
   ]
  },
  {
   "cell_type": "code",
   "execution_count": 19,
   "id": "152bc3ac-b490-49e1-963e-d2ab7951f38c",
   "metadata": {
    "scrolled": true
   },
   "outputs": [
    {
     "data": {
      "text/markdown": [
       "以下是一个符合要求的贪吃蛇游戏实现，包含美观的界面和完整的游戏逻辑：\n",
       "\n",
       "```html\n",
       "<!DOCTYPE html>\n",
       "<html>\n",
       "<head>\n",
       "    <title>经典贪吃蛇</title>\n",
       "    <style>\n",
       "        body {\n",
       "            display: flex;\n",
       "            flex-direction: column;\n",
       "            align-items: center;\n",
       "            background: linear-gradient(135deg, #1a1a1a, #2a2a2a);\n",
       "            margin: 0;\n",
       "            min-height: 100vh;\n",
       "            font-family: Arial, sans-serif;\n",
       "        }\n",
       "\n",
       "        #gameContainer {\n",
       "            position: relative;\n",
       "            margin-top: 20px;\n",
       "        }\n",
       "\n",
       "        #gameCanvas {\n",
       "            border: 3px solid #4CAF50;\n",
       "            border-radius: 10px;\n",
       "            box-shadow: 0 0 20px rgba(76, 175, 80, 0.3);\n",
       "            background: #000;\n",
       "        }\n",
       "\n",
       "        #score {\n",
       "            position: absolute;\n",
       "            top: -40px;\n",
       "            left: 0;\n",
       "            color: #4CAF50;\n",
       "            font-size: 24px;\n",
       "            font-weight: bold;\n",
       "        }\n",
       "\n",
       "        #instructions {\n",
       "            color: #fff;\n",
       "            margin: 20px;\n",
       "            text-align: center;\n",
       "        }\n",
       "\n",
       "        .game-over {\n",
       "            position: absolute;\n",
       "            top: 50%;\n",
       "            left: 50%;\n",
       "            transform: translate(-50%, -50%);\n",
       "            color: #ff4444;\n",
       "            font-size: 48px;\n",
       "            font-weight: bold;\n",
       "            text-shadow: 2px 2px 4px rgba(0, 0, 0, 0.5);\n",
       "        }\n",
       "    </style>\n",
       "</head>\n",
       "<body>\n",
       "    <div id=\"gameContainer\">\n",
       "        <div id=\"score\">得分: 0</div>\n",
       "        <canvas id=\"gameCanvas\"></canvas>\n",
       "    </div>\n",
       "    <div id=\"instructions\">按空格键开始/重新开始 | 使用 WASD 控制方向</div>\n",
       "\n",
       "    <script>\n",
       "        const canvas = document.getElementById('gameCanvas');\n",
       "        const ctx = canvas.getContext('2d');\n",
       "        const scoreElement = document.getElementById('score');\n",
       "        \n",
       "        // 游戏设置\n",
       "        const gridSize = 20;\n",
       "        const gameSpeed = 100;\n",
       "        canvas.width = 800;\n",
       "        canvas.height = 600;\n",
       "\n",
       "        let snake = [];\n",
       "        let food = {};\n",
       "        let direction = '';\n",
       "        let nextDirection = '';\n",
       "        let score = 0;\n",
       "        let gameLoop = null;\n",
       "        let isGameOver = true;\n",
       "\n",
       "        function initGame() {\n",
       "            // 初始化蛇的位置\n",
       "            snake = [{x: 10, y: 10}];\n",
       "            score = 0;\n",
       "            scoreElement.textContent = `得分: ${score}`;\n",
       "            \n",
       "            // 随机初始方向\n",
       "            const directions = ['up', 'down', 'left', 'right'];\n",
       "            direction = directions[Math.floor(Math.random() * directions.length)];\n",
       "            nextDirection = direction;\n",
       "            \n",
       "            generateFood();\n",
       "            isGameOver = false;\n",
       "        }\n",
       "\n",
       "        function generateFood() {\n",
       "            while(true) {\n",
       "                food = {\n",
       "                    x: Math.floor(Math.random() * (canvas.width / gridSize)),\n",
       "                    y: Math.floor(Math.random() * (canvas.height / gridSize))\n",
       "                };\n",
       "                // 确保食物不在蛇身上\n",
       "                if (!snake.some(segment => segment.x === food.x && segment.y === food.y)) {\n",
       "                    break;\n",
       "                }\n",
       "            }\n",
       "        }\n",
       "\n",
       "        function draw() {\n",
       "            // 清空画布\n",
       "            ctx.fillStyle = '#000';\n",
       "            ctx.fillRect(0, 0, canvas.width, canvas.height);\n",
       "\n",
       "            // 绘制食物\n",
       "            ctx.fillStyle = '#ff4444';\n",
       "            ctx.fillRect(food.x * gridSize, food.y * gridSize, gridSize - 2, gridSize - 2);\n",
       "\n",
       "            // 绘制蛇\n",
       "            snake.forEach((segment, index) => {\n",
       "                ctx.fillStyle = index === 0 ? '#4CAF50' : '#2E7D32';\n",
       "                ctx.fillRect(segment.x * gridSize, segment.y * gridSize, gridSize - 2, gridSize - 2);\n",
       "            });\n",
       "\n",
       "            // 游戏结束显示\n",
       "            if (isGameOver) {\n",
       "                ctx.fillStyle = 'rgba(0, 0, 0, 0.7)';\n",
       "                ctx.fillRect(0, 0, canvas.width, canvas.height);\n",
       "                ctx.fillStyle = '#ff4444';\n",
       "                ctx.font = '48px Arial';\n",
       "                ctx.textAlign = 'center';\n",
       "                ctx.fillText('游戏结束！', canvas.width/2, canvas.height/2);\n",
       "            }\n",
       "        }\n",
       "\n",
       "        function update() {\n",
       "            if (isGameOver) return;\n",
       "\n",
       "            direction = nextDirection;\n",
       "            const head = {...snake[0]};\n",
       "\n",
       "            switch(direction) {\n",
       "                case 'up': head.y--; break;\n",
       "                case 'down': head.y++; break;\n",
       "                case 'left': head.x--; break;\n",
       "                case 'right': head.x++; break;\n",
       "            }\n",
       "\n",
       "            // 碰撞检测\n",
       "            if (head.x < 0 || head.x >= canvas.width/gridSize ||\n",
       "                head.y < 0 || head.y >= canvas.height/gridSize ||\n",
       "                snake.some(segment => segment.x === head.x && segment.y === head.y)) {\n",
       "                isGameOver = true;\n",
       "                return;\n",
       "            }\n",
       "\n",
       "            snake.unshift(head);\n",
       "\n",
       "            // 吃食物检测\n",
       "            if (head.x === food.x && head.y === food.y) {\n",
       "                score += 10;\n",
       "                scoreElement.textContent = `得分: ${score}`;\n",
       "                generateFood();\n",
       "            } else {\n",
       "                snake.pop();\n",
       "            }\n",
       "        }\n",
       "\n",
       "        function gameStep() {\n",
       "            update();\n",
       "            draw();\n",
       "        }\n",
       "\n",
       "        document.addEventListener('keydown', (e) => {\n",
       "            switch(e.key.toLowerCase()) {\n",
       "                case 'w': if (direction !== 'down') nextDirection = 'up'; break;\n",
       "                case 's': if (direction !== 'up') nextDirection = 'down'; break;\n",
       "                case 'a': if (direction !== 'right') nextDirection = 'left'; break;\n",
       "                case 'd': if (direction !== 'left') nextDirection = 'right'; break;\n",
       "                case ' ':\n",
       "                    if (isGameOver) {\n",
       "                        initGame();\n",
       "                        if (!gameLoop) {\n",
       "                            gameLoop = setInterval(gameStep, gameSpeed);\n",
       "                        }\n",
       "                    }\n",
       "                    break;\n",
       "            }\n",
       "        });\n",
       "\n",
       "        // 初始绘制\n",
       "        draw();\n",
       "    </script>\n",
       "</body>\n",
       "</html>\n",
       "```\n",
       "\n",
       "这个实现包含以下特点：\n",
       "\n",
       "1. **美观界面**：\n",
       "   - 渐变背景和发光边框\n",
       "   - 不同颜色的蛇头和蛇身\n",
       "   - 红色食物粒子效果\n",
       "   - 清晰的得分显示\n",
       "   - 半透明的游戏结束覆盖层\n",
       "\n",
       "2. **游戏功能**：\n",
       "   - 按空格键开始/重新开始游戏\n",
       "   - WASD控制方向\n",
       "   - 随机初始方向\n",
       "   - 碰撞检测（墙壁和自身）\n",
       "   - 得分系统\n",
       "   - 食物生成避免重叠\n",
       "\n",
       "3. **优化特性**：\n",
       "   - 流畅的动画效果（100ms/帧）\n",
       "   - 防止180度立即转向\n",
       "   - 响应式控制\n",
       "   - 清晰的游戏状态提示\n",
       "\n",
       "4. **技术参数**：\n",
       "   - 游戏区域：800x600像素\n",
       "   - 网格尺寸：20x20像素\n",
       "   - 初始速度：100ms/格\n",
       "   - 每次得分增加10分\n",
       "\n",
       "要开始游戏，只需：\n",
       "1. 打开HTML文件\n",
       "2. 按空格键开始\n",
       "3. 使用WASD键控制方向\n",
       "4. 吃到红色食物增长并得分\n",
       "5. 碰撞后按空格键重新开始\n",
       "\n",
       "游戏会在以下情况结束：\n",
       "- 蛇头碰到墙壁\n",
       "- 蛇头碰到自己身体\n",
       "- 任何碰撞发生时会有明显的红色提示"
      ],
      "text/plain": [
       "<IPython.core.display.Markdown object>"
      ]
     },
     "metadata": {},
     "output_type": "display_data"
    }
   ],
   "source": [
    "display(Markdown(response1.choices[0].message.content))"
   ]
  },
  {
   "cell_type": "markdown",
   "id": "911a3008-4d07-4054-aa3e-7cec11559b50",
   "metadata": {},
   "source": [
    "<center><img src=\"https://ml2022.oss-cn-hangzhou.aliyuncs.com/img/image-20250121162718373.png\" alt=\"image-20250121162718373\" style=\"zoom:50%;\" />"
   ]
  },
  {
   "cell_type": "markdown",
   "id": "dbf3a175-d507-4b78-8791-def81385062b",
   "metadata": {},
   "source": [
    "- 尝试进行复杂机器学习建模"
   ]
  },
  {
   "cell_type": "code",
   "execution_count": 13,
   "id": "7aedf5fb-2be2-4bb6-adbe-5c2bff6d14d9",
   "metadata": {},
   "outputs": [],
   "source": [
    "prompt = \"\"\"\n",
    "我需要完成一个机器学习建模任务，需要使用Python来读取本地的telco.csv文件，\n",
    "并完整进行数据探索、数据清洗、特征衍生、特征筛选、集成学习算法建模、模型融合等操作，\n",
    "请你帮我完成这个建模任务。\n",
    "\"\"\""
   ]
  },
  {
   "cell_type": "code",
   "execution_count": 14,
   "id": "5d07e680-74f2-4959-adc4-45f38252dcfb",
   "metadata": {},
   "outputs": [],
   "source": [
    "response2 = client.chat.completions.create(\n",
    "    model=\"o1-mini\",\n",
    "    messages=[\n",
    "        {\n",
    "            \"role\": \"user\",\n",
    "            \"content\": [\n",
    "                {\n",
    "                    \"type\": \"text\",\n",
    "                    \"text\": prompt\n",
    "                },\n",
    "            ],\n",
    "        }\n",
    "    ]\n",
    ")"
   ]
  },
  {
   "cell_type": "code",
   "execution_count": 15,
   "id": "d423f10a-5e96-4489-a116-c6f12ae46357",
   "metadata": {
    "scrolled": true
   },
   "outputs": [
    {
     "data": {
      "text/markdown": [
       "当然，我很高兴帮助你完成这个机器学习建模任务。下面是一个完整的 Python 工作流程，涵盖了读取数据、数据探索、数据清洗、特征衍生、特征筛选、集成学习算法建模以及模型融合等步骤。我们将使用常用的 Python 库，如 pandas、numpy、matplotlib、seaborn、scikit-learn 等。\n",
       "\n",
       "请确保你已经安装了所需的库。如果还没有安装，你可以使用 `pip` 来安装：\n",
       "\n",
       "```bash\n",
       "pip install pandas numpy matplotlib seaborn scikit-learn\n",
       "```\n",
       "\n",
       "以下是详细的步骤和对应的代码示例：\n",
       "\n",
       "---\n",
       "\n",
       "## 1. 导入必要的库\n",
       "\n",
       "```python\n",
       "import pandas as pd\n",
       "import numpy as np\n",
       "import matplotlib.pyplot as plt\n",
       "import seaborn as sns\n",
       "\n",
       "# 机器学习相关\n",
       "from sklearn.model_selection import train_test_split, GridSearchCV, cross_val_score\n",
       "from sklearn.preprocessing import LabelEncoder, OneHotEncoder, StandardScaler\n",
       "from sklearn.impute import SimpleImputer\n",
       "from sklearn.feature_selection import SelectKBest, chi2, RFE\n",
       "from sklearn.ensemble import RandomForestClassifier, GradientBoostingClassifier, VotingClassifier\n",
       "from sklearn.linear_model import LogisticRegression\n",
       "from sklearn.metrics import classification_report, confusion_matrix, accuracy_score, roc_auc_score, roc_curve\n",
       "```\n",
       "\n",
       "---\n",
       "\n",
       "## 2. 读取数据\n",
       "\n",
       "假设你的 `telco.csv` 文件位于当前工作目录下：\n",
       "\n",
       "```python\n",
       "# 读取CSV文件\n",
       "df = pd.read_csv('telco.csv')\n",
       "\n",
       "# 查看前几行数据\n",
       "print(df.head())\n",
       "```\n",
       "\n",
       "---\n",
       "\n",
       "## 3. 数据探索（Exploratory Data Analysis, EDA）\n",
       "\n",
       "### 3.1 数据基本信息\n",
       "\n",
       "```python\n",
       "# 查看数据集的形状\n",
       "print(f\"数据集有 {df.shape[0]} 行和 {df.shape[1]} 列。\")\n",
       "\n",
       "# 查看数据类型和缺失值\n",
       "print(df.info())\n",
       "\n",
       "# 查看描述性统计\n",
       "print(df.describe())\n",
       "```\n",
       "\n",
       "### 3.2 可视化分析\n",
       "\n",
       "#### 3.2.1 目标变量分布\n",
       "\n",
       "假设目标变量为 `Churn`（客户流失）：\n",
       "\n",
       "```python\n",
       "# 目标变量分析\n",
       "sns.countplot(x='Churn', data=df)\n",
       "plt.title('目标变量分布')\n",
       "plt.show()\n",
       "```\n",
       "\n",
       "#### 3.2.2 数值变量分析\n",
       "\n",
       "```python\n",
       "# 选择数值型特征\n",
       "numerical_features = df.select_dtypes(include=['int64', 'float64']).columns.tolist()\n",
       "numerical_features.remove('Churn')  # 排除目标变量\n",
       "\n",
       "# 绘制数值变量的分布\n",
       "df[numerical_features].hist(bins=30, figsize=(15, 10))\n",
       "plt.tight_layout()\n",
       "plt.show()\n",
       "```\n",
       "\n",
       "#### 3.2.3 类别变量分析\n",
       "\n",
       "```python\n",
       "# 选择类别型特征\n",
       "categorical_features = df.select_dtypes(include=['object']).columns.tolist()\n",
       "categorical_features.remove('Churn')  # 排除目标变量\n",
       "\n",
       "# 绘制类别变量的计数图\n",
       "plt.figure(figsize=(20, 15))\n",
       "for i, col in enumerate(categorical_features, 1):\n",
       "    plt.subplot(4, 4, i)\n",
       "    sns.countplot(x=col, hue='Churn', data=df)\n",
       "    plt.xticks(rotation=45)\n",
       "plt.tight_layout()\n",
       "plt.show()\n",
       "```\n",
       "\n",
       "---\n",
       "\n",
       "## 4. 数据清洗\n",
       "\n",
       "### 4.1 处理缺失值\n",
       "\n",
       "首先，检查缺失值：\n",
       "\n",
       "```python\n",
       "# 缺失值情况\n",
       "print(df.isnull().sum())\n",
       "```\n",
       "\n",
       "假设部分列存在缺失值，我们可以采取以下措施：\n",
       "\n",
       "```python\n",
       "# 对于数值型缺失值，用中位数填补\n",
       "numerical_imputer = SimpleImputer(strategy='median')\n",
       "df[numerical_features] = numerical_imputer.fit_transform(df[numerical_features])\n",
       "\n",
       "# 对于类别型缺失值，用众数填补\n",
       "categorical_imputer = SimpleImputer(strategy='most_frequent')\n",
       "df[categorical_features] = categorical_imputer.fit_transform(df[categorical_features])\n",
       "```\n",
       "\n",
       "### 4.2 处理重复值\n",
       "\n",
       "```python\n",
       "# 查看重复值\n",
       "print(f\"重复值数量: {df.duplicated().sum()}\")\n",
       "\n",
       "# 删除重复值\n",
       "df = df.drop_duplicates()\n",
       "```\n",
       "\n",
       "### 4.3 处理异常值\n",
       "\n",
       "可以使用箱线图或Z-score等方法检测异常值，这里以箱线图为例：\n",
       "\n",
       "```python\n",
       "# 绘制箱线图查看异常值\n",
       "for col in numerical_features:\n",
       "    plt.figure(figsize=(6, 4))\n",
       "    sns.boxplot(x=df[col])\n",
       "    plt.title(f'{col} 的箱线图')\n",
       "    plt.show()\n",
       "```\n",
       "\n",
       "根据业务理解，决定是否移除或处理这些异常值。\n",
       "\n",
       "---\n",
       "\n",
       "## 5. 特征工程\n",
       "\n",
       "### 5.1 编码类别变量\n",
       "\n",
       "#### 5.1.1 标签编码\n",
       "\n",
       "对于二分类的类别变量，可以使用标签编码：\n",
       "\n",
       "```python\n",
       "binary_cols = [col for col in categorical_features if df[col].nunique() == 2]\n",
       "le = LabelEncoder()\n",
       "for col in binary_cols:\n",
       "    df[col] = le.fit_transform(df[col])\n",
       "```\n",
       "\n",
       "#### 5.1.2 独热编码\n",
       "\n",
       "对于多分类的类别变量，使用独热编码：\n",
       "\n",
       "```python\n",
       "multiclass_cols = [col for col in categorical_features if df[col].nunique() > 2]\n",
       "df = pd.get_dummies(df, columns=multiclass_cols, drop_first=True)\n",
       "```\n",
       "\n",
       "### 5.2 特征缩放\n",
       "\n",
       "对于数值型特征，进行标准化：\n",
       "\n",
       "```python\n",
       "scaler = StandardScaler()\n",
       "df[numerical_features] = scaler.fit_transform(df[numerical_features])\n",
       "```\n",
       "\n",
       "### 5.3 特征衍生\n",
       "\n",
       "根据业务理解，可以创建新的特征。这里以示例创建一个 `TotalCharges` 特征：\n",
       "\n",
       "假设原数据中有 `MonthlyCharges` 和 `tenure`，可以创建 `TotalCharges`：\n",
       "\n",
       "```python\n",
       "if 'MonthlyCharges' in df.columns and 'tenure' in df.columns:\n",
       "    df['TotalCharges'] = df['MonthlyCharges'] * df['tenure']\n",
       "```\n",
       "\n",
       "---\n",
       "\n",
       "## 6. 特征选择\n",
       "\n",
       "### 6.1 相关性分析\n",
       "\n",
       "```python\n",
       "# 计算相关矩阵\n",
       "corr = df.corr()\n",
       "\n",
       "# 查看与目标变量的相关性\n",
       "plt.figure(figsize=(12, 8))\n",
       "sns.heatmap(corr[['Churn']].sort_values(by='Churn', ascending=False), annot=True)\n",
       "plt.title('特征与目标变量的相关性')\n",
       "plt.show()\n",
       "```\n",
       "\n",
       "### 6.2 选择K个最好特征\n",
       "\n",
       "使用 `SelectKBest` 选择最重要的特征：\n",
       "\n",
       "```python\n",
       "X = df.drop('Churn', axis=1)\n",
       "y = df['Churn']\n",
       "\n",
       "selector = SelectKBest(score_func=chi2, k=20)\n",
       "X_new = selector.fit_transform(X, y)\n",
       "\n",
       "# 获取被选中的特征\n",
       "cols = selector.get_support(indices=True)\n",
       "selected_features = X.columns[cols]\n",
       "print(f\"被选中的特征: {selected_features.tolist()}\")\n",
       "```\n",
       "\n",
       "---\n",
       "\n",
       "## 7. 划分训练集和测试集\n",
       "\n",
       "```python\n",
       "X = df[selected_features]\n",
       "y = df['Churn']\n",
       "\n",
       "X_train, X_test, y_train, y_test = train_test_split(\n",
       "    X, y, test_size=0.2, random_state=42, stratify=y\n",
       ")\n",
       "```\n",
       "\n",
       "---\n",
       "\n",
       "## 8. 集成学习算法建模\n",
       "\n",
       "### 8.1 随机森林分类器\n",
       "\n",
       "```python\n",
       "rf = RandomForestClassifier(n_estimators=100, random_state=42)\n",
       "rf.fit(X_train, y_train)\n",
       "\n",
       "# 预测\n",
       "y_pred_rf = rf.predict(X_test)\n",
       "\n",
       "# 评估\n",
       "print(\"随机森林分类器评估:\")\n",
       "print(confusion_matrix(y_test, y_pred_rf))\n",
       "print(classification_report(y_test, y_pred_rf))\n",
       "```\n",
       "\n",
       "### 8.2 梯度提升分类器\n",
       "\n",
       "```python\n",
       "gb = GradientBoostingClassifier(n_estimators=100, random_state=42)\n",
       "gb.fit(X_train, y_train)\n",
       "\n",
       "# 预测\n",
       "y_pred_gb = gb.predict(X_test)\n",
       "\n",
       "# 评估\n",
       "print(\"梯度提升分类器评估:\")\n",
       "print(confusion_matrix(y_test, y_pred_gb))\n",
       "print(classification_report(y_test, y_pred_gb))\n",
       "```\n",
       "\n",
       "### 8.3 其他集成方法（可选）\n",
       "\n",
       "你可以尝试例如 XGBoost、LightGBM 等其他集成方法，前提是你已经安装相关库。\n",
       "\n",
       "---\n",
       "\n",
       "## 9. 模型融合（Model Fusion）\n",
       "\n",
       "### 9.1 投票分类器\n",
       "\n",
       "结合多种模型的预测结果：\n",
       "\n",
       "```python\n",
       "# 定义基模型\n",
       "log_clf = LogisticRegression(random_state=42)\n",
       "rf_clf = RandomForestClassifier(n_estimators=100, random_state=42)\n",
       "gb_clf = GradientBoostingClassifier(n_estimators=100, random_state=42)\n",
       "\n",
       "# 创建投票分类器\n",
       "voting_clf = VotingClassifier(\n",
       "    estimators=[\n",
       "        ('lr', log_clf),\n",
       "        ('rf', rf_clf),\n",
       "        ('gb', gb_clf)\n",
       "    ],\n",
       "    voting='soft'\n",
       ")\n",
       "\n",
       "# 训练投票分类器\n",
       "voting_clf.fit(X_train, y_train)\n",
       "\n",
       "# 预测\n",
       "y_pred_vc = voting_clf.predict(X_test)\n",
       "\n",
       "# 评估\n",
       "print(\"投票分类器评估:\")\n",
       "print(confusion_matrix(y_test, y_pred_vc))\n",
       "print(classification_report(y_test, y_pred_vc))\n",
       "```\n",
       "\n",
       "### 9.2 堆叠分类器（Stacking）\n",
       "\n",
       "使用堆叠方法来融合多个模型：\n",
       "\n",
       "```python\n",
       "from sklearn.ensemble import StackingClassifier\n",
       "\n",
       "# 定义基模型\n",
       "estimators = [\n",
       "    ('rf', RandomForestClassifier(n_estimators=100, random_state=42)),\n",
       "    ('gb', GradientBoostingClassifier(n_estimators=100, random_state=42))\n",
       "]\n",
       "\n",
       "# 定义堆叠分类器\n",
       "stack_clf = StackingClassifier(\n",
       "    estimators=estimators,\n",
       "    final_estimator=LogisticRegression(),\n",
       "    cv=5\n",
       ")\n",
       "\n",
       "# 训练堆叠分类器\n",
       "stack_clf.fit(X_train, y_train)\n",
       "\n",
       "# 预测\n",
       "y_pred_stack = stack_clf.predict(X_test)\n",
       "\n",
       "# 评估\n",
       "print(\"堆叠分类器评估:\")\n",
       "print(confusion_matrix(y_test, y_pred_stack))\n",
       "print(classification_report(y_test, y_pred_stack))\n",
       "```\n",
       "\n",
       "---\n",
       "\n",
       "## 10. 模型评估与选择\n",
       "\n",
       "比较各模型的性能指标，如准确率、精确率、召回率、F1分数、AUC 等，选择表现最好的模型。\n",
       "\n",
       "```python\n",
       "# 计算不同模型的AUC\n",
       "models = {\n",
       "    'Random Forest': rf,\n",
       "    'Gradient Boosting': gb,\n",
       "    'Voting Classifier': voting_clf,\n",
       "    'Stacking Classifier': stack_clf\n",
       "}\n",
       "\n",
       "for name, model in models.items():\n",
       "    y_pred_proba = model.predict_proba(X_test)[:, 1]\n",
       "    auc = roc_auc_score(y_test, y_pred_proba)\n",
       "    print(f\"{name} 的AUC: {auc:.4f}\")\n",
       "```\n",
       "\n",
       "### 绘制ROC曲线\n",
       "\n",
       "```python\n",
       "plt.figure(figsize=(10, 8))\n",
       "for name, model in models.items():\n",
       "    y_pred_proba = model.predict_proba(X_test)[:, 1]\n",
       "    fpr, tpr, _ = roc_curve(y_test, y_pred_proba)\n",
       "    plt.plot(fpr, tpr, label=f'{name} (AUC = {roc_auc_score(y_test, y_pred_proba):.2f})')\n",
       "\n",
       "plt.plot([0, 1], [0, 1], 'k--')  # 随机猜测的线\n",
       "plt.xlabel('False Positive Rate')\n",
       "plt.ylabel('True Positive Rate')\n",
       "plt.title('ROC曲线')\n",
       "plt.legend()\n",
       "plt.show()\n",
       "```\n",
       "\n",
       "---\n",
       "\n",
       "## 11. 超参数调优（可选）\n",
       "\n",
       "使用网格搜索来优化模型的超参数，以进一步提升模型性能。\n",
       "\n",
       "```python\n",
       "# 以随机森林为例\n",
       "param_grid = {\n",
       "    'n_estimators': [100, 200, 300],\n",
       "    'max_depth': [None, 10, 20, 30],\n",
       "    'min_samples_split': [2, 5, 10]\n",
       "}\n",
       "\n",
       "grid_search = GridSearchCV(\n",
       "    estimator=RandomForestClassifier(random_state=42),\n",
       "    param_grid=param_grid,\n",
       "    cv=5,\n",
       "    n_jobs=-1,\n",
       "    scoring='roc_auc'\n",
       ")\n",
       "\n",
       "grid_search.fit(X_train, y_train)\n",
       "\n",
       "print(f\"最佳参数: {grid_search.best_params_}\")\n",
       "print(f\"最佳AUC: {grid_search.best_score_:.4f}\")\n",
       "\n",
       "# 使用最佳参数重新训练模型\n",
       "best_rf = grid_search.best_estimator_\n",
       "y_pred_best_rf = best_rf.predict(X_test)\n",
       "\n",
       "# 评估\n",
       "print(\"调优后的随机森林分类器评估:\")\n",
       "print(confusion_matrix(y_test, y_pred_best_rf))\n",
       "print(classification_report(y_test, y_pred_best_rf))\n",
       "```\n",
       "\n",
       "---\n",
       "\n",
       "## 12. 保存模型（可选）\n",
       "\n",
       "如果你希望将训练好的模型保存以供后续使用，可以使用 `joblib` 或 `pickle`：\n",
       "\n",
       "```python\n",
       "import joblib\n",
       "\n",
       "# 保存随机森林模型\n",
       "joblib.dump(best_rf, 'best_random_forest_model.pkl')\n",
       "\n",
       "# 加载模型\n",
       "loaded_rf = joblib.load('best_random_forest_model.pkl')\n",
       "```\n",
       "\n",
       "---\n",
       "\n",
       "## 总结\n",
       "\n",
       "以上步骤提供了一个全面的机器学习工作流程，从数据读取到模型融合。请注意，具体操作可能需要根据 `telco.csv` 数据集的实际情况进行调整。例如，特征工程和特征选择的步骤需要结合业务知识和数据特点进行优化。\n",
       "\n",
       "如果在实施过程中遇到任何具体的问题，欢迎随时提问！"
      ],
      "text/plain": [
       "<IPython.core.display.Markdown object>"
      ]
     },
     "metadata": {},
     "output_type": "display_data"
    }
   ],
   "source": [
    "display(Markdown(response2.choices[0].message.content))"
   ]
  }
 ],
 "metadata": {
  "kernelspec": {
   "display_name": "Python 3 (ipykernel)",
   "language": "python",
   "name": "python3"
  },
  "language_info": {
   "codemirror_mode": {
    "name": "ipython",
    "version": 3
   },
   "file_extension": ".py",
   "mimetype": "text/x-python",
   "name": "python",
   "nbconvert_exporter": "python",
   "pygments_lexer": "ipython3",
   "version": "3.11.7"
  }
 },
 "nbformat": 4,
 "nbformat_minor": 5
}
