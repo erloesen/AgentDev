{
 "cells": [
  {
   "cell_type": "markdown",
   "id": "dda7ec57-04db-414b-a478-48b4fe8373d8",
   "metadata": {},
   "source": [
    "# <center>本地部署开源大模型"
   ]
  },
  {
   "cell_type": "markdown",
   "id": "c31003ae-d576-4b00-8e36-63e3cdb91dd4",
   "metadata": {
    "tags": []
   },
   "source": [
    "## <center>Ch.2 智选GPU算力平台：免费与付费租赁指南"
   ]
  },
  {
   "cell_type": "markdown",
   "id": "c2229cb6-6cb6-4449-be0f-215a3d262c73",
   "metadata": {},
   "source": [
    "&emsp;&emsp;上一期内容中我们详细的剖析了如果想本地部署开源大模型，如何去搭配一台合适的个人计算机或者服务器。除此之外，还可以通过租用在线GPU算力，来更灵活的获取计算资源。"
   ]
  },
  {
   "cell_type": "markdown",
   "id": "fa6c964a-f5f9-45a3-ab2c-5afc3893b6ce",
   "metadata": {},
   "source": [
    "&emsp;&emsp;GPU云主机租用是一种云计算服务模式，用户可以通过向云服务提供商支付租金，将GPU云主机上的计算资源用于自己的任务中。对于初学者，或仅仅是要做短期项目研究的学生，甚至是探索AI应用落地尝试的企业人员，相较于直接购买高昂的硬件设备和自行搭建计算集群，使用GPU云服务器具有较高的性价比。其一，GPU云服务器具有灵活的配置和租赁方式，可根据实际需求调整计算资源。其次，GPU云服务器提供了高效、稳定、安全的计算环境。总体投入成本是很低的。"
   ]
  },
  {
   "cell_type": "markdown",
   "id": "05ff6dc3-8a46-43fa-9077-dcd77e608afd",
   "metadata": {},
   "source": [
    "&emsp;&emsp;市面上提供GPU租赁的平台不少，比如国外的谷歌，vast.ai这种，可以薅资本主义羊毛。因为不花钱，必然多花精力和时间，看各种攻略，想各种办法突破限制。整体看来看来其实不划算，有那精力还是做点更有意义的事情，毕竟人的自由时间才是最大的财富。而国内的服务商，大厂的比如阿里、金山的都比较贵，相反，现在崛起的平价GPU云服务商。各种类型都有，有自己搭建的民房，有用数字币结算的，还有矿机改的，名字不提了。所以如何选择呢？\n",
    "\n",
    "&emsp;&emsp;各个平台，首先要保证机器的稳定性，其中包括GPU的分布情况，合理的分配机制，被无辜占用的风险或者是一些项目运行急停的预警等等，最怕的就是幸幸苦苦跑了半天结果被中断，功亏一篑！当然价格肯定是影响大家选择的一个很重要的因素！细水长流还是比较重要的，就GPU海量计算而言，阿里云是国内首选。阿里云的GPU云服务器是基于GPU应用的计算服务，最适合AI深度学习、视频处理、科学计算、图形可视化等应用场景。阿里云的GPU服务器支持周、月、年购买，支持批量支付，对于短期需求的用户来说相当方便。但是它确实是太贵。总的来说，在各个机型的价格对比都差不多，选择一个使用舒服的平台还是比较重要，如果你有心思去进行各个平台的活动比价，还是可以是有很多的选择。"
   ]
  },
  {
   "cell_type": "markdown",
   "id": "6bc7ab58-3bea-446e-82fc-9ca098b232b8",
   "metadata": {},
   "source": [
    "&emsp;&emsp;本文我们就从两方面：白嫖和付费两方面来剖析目前市场上主流的算力平台。但需要说明的是：对于本地化部署开源大模型的小伙伴来说，免费的GPU资源都不足以支撑起大模型的服务，必须要去根据GPU的显存要求去选择更高配置的机器。"
   ]
  },
  {
   "cell_type": "markdown",
   "id": "201acecd-7cb1-46f3-8f2d-8f49d785e99d",
   "metadata": {},
   "source": [
    "&emsp;&emsp;但是，我给大家薅到了一个免费、且支持大模型开发的云计算平台，就是阿里云的人工智能PAI，接下来我们就先来看一下。"
   ]
  },
  {
   "cell_type": "markdown",
   "id": "b4241ea4-899e-44f1-8660-61218d9692a3",
   "metadata": {},
   "source": [
    "# 一、免费GPU资源推荐"
   ]
  },
  {
   "cell_type": "markdown",
   "id": "b098af95-cf40-4d89-b6fe-47b361ea2da5",
   "metadata": {},
   "source": [
    "## 1.1 阿里云人工智能PAI"
   ]
  },
  {
   "cell_type": "markdown",
   "id": "90622d7d-3a12-4b5e-af57-9dd19ff67ace",
   "metadata": {},
   "source": [
    "&emsp;&emsp;阿里云人工智能平台 PAI 是面向开发者和企业的AI工程化平台，提供了覆盖数据准备、模型开发、模型训练、模型部署的全流程服务。可以白嫖GPU资源的用户群体是：**阿里云认证用户且为产品的新用户。**有3款支持试用的产品，分别是：\n",
    "\n",
    "1. 交互式建模 PAI-DSW：深度学习开发环境，集成JupyterLab，支持调试和运行Python代码。支持开源框架的安装，提供了阿里巴巴深度优化的Tensorflow框架；\n",
    "2. 模型在线服务 PAI-EAS：模型在线服务平台，支持用户将模型一键部署为在线推理服务或AI-Web应用；\n",
    "3. 机器学习PAI-DLC：深度学习训练平台，提供灵活、稳定、易用和高性能的机器学习训练环境。支持多种算法框架，超大规模分布式深度学习任务运行及自定义算法框架；"
   ]
  },
  {
   "cell_type": "markdown",
   "id": "2852a589-0edd-4ce5-bea8-898de286d5dd",
   "metadata": {},
   "source": [
    "<div align=center><img src=\"https://snowball101.oss-cn-beijing.aliyuncs.com/img/202312261403533.png\" width=70%></div>"
   ]
  },
  {
   "cell_type": "markdown",
   "id": "2dd35629-9ac5-450b-ae7f-b4941e4cb337",
   "metadata": {},
   "source": [
    "&emsp;&emsp;如果需要实践大模型的相关测试，闭眼选交互式建模PAD-DSW。从官方的教程上也可以看出，每个机型都适用于不同的应用场景。"
   ]
  },
  {
   "cell_type": "markdown",
   "id": "5fb70089-abca-4d90-9439-8aa85fbd43fb",
   "metadata": {},
   "source": [
    "<div align=center><img src=\"https://snowball101.oss-cn-beijing.aliyuncs.com/img/202312221209166.png\" width=90%></div>"
   ]
  },
  {
   "cell_type": "markdown",
   "id": "fb844caa-0e17-4049-af77-cfa77d565d43",
   "metadata": {},
   "source": [
    "&emsp;&emsp;领取试用产品的方式也比较方便，每日上午08点开始限量领取 500 份，从实际情况上看资源并不紧张，为了制作本教程，我是下午领取的产品资源，依然还有存货。阿里还是大气。"
   ]
  },
  {
   "cell_type": "markdown",
   "id": "1b69afff-132a-4925-93d1-6d7604101c1f",
   "metadata": {},
   "source": [
    "&emsp;&emsp;详细的试用过程如下："
   ]
  },
  {
   "cell_type": "markdown",
   "id": "d38488f1-76d4-4fe6-812f-4158acc24a3f",
   "metadata": {},
   "source": [
    "- **Step 1. 进入阿里云官网：https://cn.aliyun.com/**"
   ]
  },
  {
   "cell_type": "markdown",
   "id": "ef1b166a-8f33-4fe7-b81a-567b2b1d04ef",
   "metadata": {},
   "source": [
    "<div align=center><img src=\"https://snowball101.oss-cn-beijing.aliyuncs.com/img/202312221145635.png\" width=100%></div>"
   ]
  },
  {
   "cell_type": "markdown",
   "id": "93cc2aa5-82d8-421a-ab39-28b20dbd9a9f",
   "metadata": {},
   "source": [
    "- **Step 2. 登陆或注册**"
   ]
  },
  {
   "cell_type": "markdown",
   "id": "c3a30206-95a1-4f55-ab86-18cd6860880a",
   "metadata": {},
   "source": [
    "&emsp;&emsp;点击官网主页的右上角部分，进行登陆或者注册。"
   ]
  },
  {
   "cell_type": "markdown",
   "id": "274cdc7b-9983-4b53-8407-4dac53f0d6b8",
   "metadata": {},
   "source": [
    "<div align=center><img src=\"https://snowball101.oss-cn-beijing.aliyuncs.com/img/202312221146910.png\" width=70%></div>"
   ]
  },
  {
   "cell_type": "markdown",
   "id": "86834af5-0a53-4618-8d27-ee30272938a0",
   "metadata": {},
   "source": [
    "- **Step 3.进入人工智能平台PAI**"
   ]
  },
  {
   "cell_type": "markdown",
   "id": "ab72079f-ecba-4d7f-bb1d-34029a7a5e4b",
   "metadata": {},
   "source": [
    "<div align=center><img src=\"https://snowball101.oss-cn-beijing.aliyuncs.com/img/202312221151405.png\" width=70%></div>"
   ]
  },
  {
   "cell_type": "markdown",
   "id": "4d7c5699-bab6-432b-9f97-62361a5d5f6d",
   "metadata": {},
   "source": [
    "<div align=center><img src=\"https://snowball101.oss-cn-beijing.aliyuncs.com/img/202312221151406.png\" width=70%></div>"
   ]
  },
  {
   "cell_type": "markdown",
   "id": "d7314b13-39a8-4678-8f36-ee5aa9df8c89",
   "metadata": {},
   "source": [
    "- **Step 4. 免费试用产品**"
   ]
  },
  {
   "cell_type": "markdown",
   "id": "f3d64431-f9dc-41e7-a72a-3e6a44a4f982",
   "metadata": {},
   "source": [
    "<div align=center><img src=\"https://snowball101.oss-cn-beijing.aliyuncs.com/img/202312221157453.png\" width=70%></div>"
   ]
  },
  {
   "cell_type": "markdown",
   "id": "a7e219dd-ab99-4beb-be11-3d0935ff3071",
   "metadata": {},
   "source": [
    "- **Step 5. 选择使用产品**"
   ]
  },
  {
   "cell_type": "markdown",
   "id": "b42420b7-28dc-4b8c-b70e-a036a6a4c3e4",
   "metadata": {},
   "source": [
    "&emsp;&emsp;这里我们选择**交互式建模 PAI-DSW。**"
   ]
  },
  {
   "cell_type": "markdown",
   "id": "973cd7fe-8771-4b25-9814-806bbda5a0e4",
   "metadata": {},
   "source": [
    "<div align=center><img src=\"https://snowball101.oss-cn-beijing.aliyuncs.com/img/202312221209165.png\" width=70%></div>"
   ]
  },
  {
   "cell_type": "markdown",
   "id": "cc006439-ad78-4fa1-ba20-4a0648972faf",
   "metadata": {},
   "source": [
    "&emsp;&emsp;点击试用教程，可以看到PAI-DSW资源支持的示例场景。"
   ]
  },
  {
   "cell_type": "markdown",
   "id": "2907f190-820d-4c86-a04e-bfad6d027844",
   "metadata": {},
   "source": [
    "<div align=center><img src=\"https://snowball101.oss-cn-beijing.aliyuncs.com/img/202312221212470.png\" width=40%></div>"
   ]
  },
  {
   "cell_type": "markdown",
   "id": "26e81930-4d5c-4d3e-96bb-9ef6d4f49b70",
   "metadata": {},
   "source": [
    "&emsp;&emsp;该资源支持Langchain的应用，ChatGLM-6B模型的部署等实力场景，并且官方也给了比较详细的应用教程。"
   ]
  },
  {
   "cell_type": "markdown",
   "id": "82e0fe2e-955d-4d6f-8ef8-9f3374aaa5e2",
   "metadata": {},
   "source": [
    "<div align=center><img src=\"https://snowball101.oss-cn-beijing.aliyuncs.com/img/202312221209166.png\" width=80%></div>"
   ]
  },
  {
   "cell_type": "markdown",
   "id": "b6a2fa7f-0a39-48a4-aba4-7256d28d03c7",
   "metadata": {},
   "source": [
    "- **Step 6. 选择交互式建模 PAI-DSW，进行试用。**"
   ]
  },
  {
   "cell_type": "markdown",
   "id": "6d9eb6c5-e063-4500-9d6e-5e0f705a26ce",
   "metadata": {},
   "source": [
    "&emsp;&emsp;交互式建模 PAI-DSW资源AI 机器学习；使用 Python 代码进行模型开发的场景，但需要注意的是：从说明上看，开始每日上午08点开始限量领取 500 份，所以如果当日显示无法试用，就说明份额已经被领取完了，需要第二天再来拼手速。"
   ]
  },
  {
   "cell_type": "markdown",
   "id": "0039047d-e407-41d5-97d2-d96b48840316",
   "metadata": {},
   "source": [
    "<div align=center><img src=\"https://snowball101.oss-cn-beijing.aliyuncs.com/img/202312221303075.png\" width=40%></div>"
   ]
  },
  {
   "cell_type": "markdown",
   "id": "86bf5fa0-d122-434f-b1e5-770a124eb8bc",
   "metadata": {},
   "source": [
    "&emsp;&emsp;试用赠送了5000计算时，相当于10000元的价值，血赚。能选择的机型为 A10，V100和G6，按小时计费，不同机型每小时的费用也不同，做大模型部署的话，建议选择V100，其次是A10。"
   ]
  },
  {
   "cell_type": "markdown",
   "id": "384ed624-32a4-4dc4-9e0f-eb5a9174493a",
   "metadata": {},
   "source": [
    "<div align=center><img src=\"https://snowball101.oss-cn-beijing.aliyuncs.com/img/202312221254651.png\" width=50%></div>"
   ]
  },
  {
   "cell_type": "markdown",
   "id": "13b6bcd7-76d3-4b4c-8078-6e256a0ed6a0",
   "metadata": {},
   "source": [
    "- **Step 7.成功创建实例**"
   ]
  },
  {
   "cell_type": "markdown",
   "id": "d8140886-b23f-4cba-bf34-aa3b8150ce5c",
   "metadata": {},
   "source": [
    "&emsp;&emsp;点击立即试用后，如果今日还有免费份额，即可成功创建实例。"
   ]
  },
  {
   "cell_type": "markdown",
   "id": "e7d7cfc8-cb91-4808-8f0c-11cc4c4419e4",
   "metadata": {},
   "source": [
    "<div align=center><img src=\"https://snowball101.oss-cn-beijing.aliyuncs.com/img/202312221502885.png\" width=50%></div>"
   ]
  },
  {
   "cell_type": "markdown",
   "id": "7509cf37-e741-4766-aaea-621d4f296584",
   "metadata": {},
   "source": [
    "- **Step 8.进入控制台**"
   ]
  },
  {
   "cell_type": "markdown",
   "id": "53ddb273-19d7-49e0-8eae-ffcd2616b347",
   "metadata": {},
   "source": [
    "<div align=center><img src=\"https://snowball101.oss-cn-beijing.aliyuncs.com/img/202312221532244.png\" width=60%></div>"
   ]
  },
  {
   "cell_type": "markdown",
   "id": "548c4b80-3285-4f9c-8f1c-0719532e5503",
   "metadata": {},
   "source": [
    "- **Step 9.开通PAI 并创建默认空间**"
   ]
  },
  {
   "cell_type": "markdown",
   "id": "2ff80ecc-9581-4241-85ef-b2c48d1d7809",
   "metadata": {},
   "source": [
    "<div align=center><img src=\"https://snowball101.oss-cn-beijing.aliyuncs.com/img/202312221536327.png\" width=60%></div>"
   ]
  },
  {
   "cell_type": "markdown",
   "id": "80adfb49-eeb0-4fd2-af22-17fd2f54eeee",
   "metadata": {},
   "source": [
    "- **Step 10.进行服务角色授权**"
   ]
  },
  {
   "cell_type": "markdown",
   "id": "29b7bf28-f683-473e-b35a-e7b4555fa296",
   "metadata": {},
   "source": [
    "<div align=center><img src=\"https://snowball101.oss-cn-beijing.aliyuncs.com/img/202312221536328.png\" width=50%></div>"
   ]
  },
  {
   "cell_type": "markdown",
   "id": "ee09d5dd-1214-4934-bb3d-2952c669fb4d",
   "metadata": {},
   "source": [
    "&emsp;&emsp;授权页面全部默认选项，点击同意授权即可。"
   ]
  },
  {
   "cell_type": "markdown",
   "id": "b80c17c6-73c2-4105-858e-e7834ecf271e",
   "metadata": {},
   "source": [
    "<div align=center><img src=\"https://snowball101.oss-cn-beijing.aliyuncs.com/img/202312221536329.png\" width=70%></div>"
   ]
  },
  {
   "cell_type": "markdown",
   "id": "4ddcc4d6-41b5-4b37-9301-26e070bccd9a",
   "metadata": {},
   "source": [
    "&emsp;&emsp;出现此页面时，表明授权成功。"
   ]
  },
  {
   "cell_type": "markdown",
   "id": "f3d5386f-a1a5-4aef-8a86-d1dc772e6c3d",
   "metadata": {},
   "source": [
    "<div align=center><img src=\"https://snowball101.oss-cn-beijing.aliyuncs.com/img/202312221536330.png\" width=60%></div>"
   ]
  },
  {
   "cell_type": "markdown",
   "id": "54edceb9-2ac0-40f7-a736-81b30556d37c",
   "metadata": {},
   "source": [
    "- **Step 11.确认开通并创建默认工作空间**"
   ]
  },
  {
   "cell_type": "markdown",
   "id": "806ccc91-ee41-4254-8920-8985edc900ee",
   "metadata": {},
   "source": [
    "<div align=center><img src=\"https://snowball101.oss-cn-beijing.aliyuncs.com/img/202312221536331.png\" width=60%></div>"
   ]
  },
  {
   "cell_type": "markdown",
   "id": "9ae66a9e-46a4-4efb-a31e-837e1a9e089f",
   "metadata": {},
   "source": [
    "- **Step 12.开通成功后，进入PAI控制台**"
   ]
  },
  {
   "cell_type": "markdown",
   "id": "1c885d71-3738-4956-ae45-3194808b2c7e",
   "metadata": {},
   "source": [
    "<div align=center><img src=\"https://snowball101.oss-cn-beijing.aliyuncs.com/img/202312221536332.png\" width=60%></div>"
   ]
  },
  {
   "cell_type": "markdown",
   "id": "1215d9b3-b5d8-4408-b79a-c1595abf056f",
   "metadata": {},
   "source": [
    "- **Step 13.进入交互式建模（DSW）**"
   ]
  },
  {
   "cell_type": "markdown",
   "id": "97bea30a-4b2f-40d3-a9a2-225868dd3746",
   "metadata": {},
   "source": [
    "<div align=center><img src=\"https://snowball101.oss-cn-beijing.aliyuncs.com/img/202312221602142.png\" width=60%></div>"
   ]
  },
  {
   "cell_type": "markdown",
   "id": "5068a9ae-e9dc-4d03-8d5e-8dfcf49aa33d",
   "metadata": {},
   "source": [
    "- **Step 14.新建一个工作空间**"
   ]
  },
  {
   "cell_type": "markdown",
   "id": "efc65258-1af7-480b-a003-97ccb85be5b0",
   "metadata": {},
   "source": [
    "<div align=center><img src=\"https://snowball101.oss-cn-beijing.aliyuncs.com/img/202312221602143.png\" width=60%></div>"
   ]
  },
  {
   "cell_type": "markdown",
   "id": "e45d93b7-f163-45e6-ae70-24441e16385b",
   "metadata": {},
   "source": [
    "- **Step 14.填名称即可，OOS相关内容可以忽略**"
   ]
  },
  {
   "cell_type": "markdown",
   "id": "c83c9da0-8f52-43fc-b34c-1673b6ae1b1b",
   "metadata": {},
   "source": [
    "<div align=center><img src=\"https://snowball101.oss-cn-beijing.aliyuncs.com/img/202312221602144.png\" width=60%></div>"
   ]
  },
  {
   "cell_type": "markdown",
   "id": "74b70bab-d7cd-4f02-a082-0780bd1d9756",
   "metadata": {},
   "source": [
    "<div align=center><img src=\"https://snowball101.oss-cn-beijing.aliyuncs.com/img/202312221602145.png\" width=70%></div>"
   ]
  },
  {
   "cell_type": "markdown",
   "id": "75ac0da8-6faa-456c-a4dc-106ed9d647eb",
   "metadata": {},
   "source": [
    "- **Step 15.创建完成后，进入工作空间**"
   ]
  },
  {
   "cell_type": "markdown",
   "id": "5b304ace-deab-49f0-9745-d2f3a68cb58f",
   "metadata": {},
   "source": [
    "<div align=center><img src=\"https://snowball101.oss-cn-beijing.aliyuncs.com/img/202312221602146.png\" width=60%></div>"
   ]
  },
  {
   "cell_type": "markdown",
   "id": "097eb6b3-b838-40b7-af25-7fe1dbc66cd8",
   "metadata": {},
   "source": [
    "- **Step 16.创建DSW实例**"
   ]
  },
  {
   "cell_type": "markdown",
   "id": "ecf1badc-adc8-4cd2-a659-f448ddbe2557",
   "metadata": {},
   "source": [
    "<div align=center><img src=\"https://snowball101.oss-cn-beijing.aliyuncs.com/img/202312221602147.png\" width=60%></div>"
   ]
  },
  {
   "cell_type": "markdown",
   "id": "4388d180-533d-44b6-9cb7-d4cc4c934e0d",
   "metadata": {},
   "source": [
    "- **Step 17.自行选择GPU规格，不同GPU费用不同，我这里选择V100。**"
   ]
  },
  {
   "cell_type": "markdown",
   "id": "6d33a6d9-5bf4-4b5e-a647-261ccbece092",
   "metadata": {},
   "source": [
    "&emsp;&emsp;这里能够使用赠送的计算点数的只有三款，V100，A10和G6。根据自己的需求选择。注意：这里要选择支持资源包抵扣的。"
   ]
  },
  {
   "cell_type": "markdown",
   "id": "8d0702e1-dd1b-48a8-bd37-78ab796ca624",
   "metadata": {},
   "source": [
    "<div align=center><img src=\"https://snowball101.oss-cn-beijing.aliyuncs.com/img/202312221622620.png\" width=60%></div>"
   ]
  },
  {
   "cell_type": "markdown",
   "id": "192a7589-81b4-43f6-b1f3-6bac4907e054",
   "metadata": {},
   "source": [
    "- **Step 18.确认创建实例**"
   ]
  },
  {
   "cell_type": "markdown",
   "id": "ff30f6dd-57b1-4360-8993-869dc6fde705",
   "metadata": {},
   "source": [
    "<div align=center><img src=\"https://snowball101.oss-cn-beijing.aliyuncs.com/img/202312221622621.png\" width=60%></div>"
   ]
  },
  {
   "cell_type": "markdown",
   "id": "1069ea2d-a558-4e0a-b085-df22fe8de1b0",
   "metadata": {},
   "source": [
    "<div align=center><img src=\"https://snowball101.oss-cn-beijing.aliyuncs.com/img/202312221622622.png\" width=70%></div>"
   ]
  },
  {
   "cell_type": "markdown",
   "id": "3035a0f7-8907-4e09-991e-cd4f0c03ef62",
   "metadata": {},
   "source": [
    "- **Step 19.等待创建完成，需要1~3分钟**"
   ]
  },
  {
   "cell_type": "markdown",
   "id": "868c468b-1ee4-413b-9bfc-3190d6aec6a2",
   "metadata": {},
   "source": [
    "<div align=center><img src=\"https://snowball101.oss-cn-beijing.aliyuncs.com/img/202312221622623.png\" width=100%></div>"
   ]
  },
  {
   "cell_type": "markdown",
   "id": "600cd3b3-6068-4f4e-8451-ed696650ccee",
   "metadata": {},
   "source": [
    "- **Step 20.创建完成后，可以进入运行环境**"
   ]
  },
  {
   "cell_type": "markdown",
   "id": "3bbe466f-80a3-45ac-8b21-6955af6958e6",
   "metadata": {},
   "source": [
    "<div align=center><img src=\"https://snowball101.oss-cn-beijing.aliyuncs.com/img/202312221624118.png\" width=100%></div>"
   ]
  },
  {
   "cell_type": "markdown",
   "id": "9c51c021-939c-4144-bb25-69080a77b137",
   "metadata": {},
   "source": [
    "- **Step 21.创建Notebook**"
   ]
  },
  {
   "cell_type": "markdown",
   "id": "0149b890-cf2e-4b43-9e95-f617ee35221b",
   "metadata": {},
   "source": [
    "<div align=center><img src=\"https://snowball101.oss-cn-beijing.aliyuncs.com/img/202312221636529.png\" width=100%></div>"
   ]
  },
  {
   "cell_type": "markdown",
   "id": "c02f23e2-4b57-43d5-99c5-81cdc7364e58",
   "metadata": {},
   "source": [
    "- **Step 22.验证实例配置**"
   ]
  },
  {
   "cell_type": "markdown",
   "id": "f76f1a2d-0e0e-438b-bf96-6c5fb2f44b6f",
   "metadata": {},
   "source": [
    "<div align=center><img src=\"https://snowball101.oss-cn-beijing.aliyuncs.com/img/202312221636531.png\" width=60%></div>"
   ]
  },
  {
   "cell_type": "markdown",
   "id": "cfd1a0fd-8a8c-4158-a21d-09fe54fd41ff",
   "metadata": {},
   "source": [
    "## 1.2 阿里天池实验室"
   ]
  },
  {
   "cell_type": "markdown",
   "id": "41d199a9-f243-44cf-9f1a-df0c942b0731",
   "metadata": {},
   "source": [
    "&emsp;&emsp;阿里天池实验室阿里云提供的打比赛的平台。 提供了云端的开发环境，其notebook集成机器学习PAI DSW（DataScienceWorkshop）探索者版，是天池实验室的底座，可以提供完备的IDE以及丰富的计算资源。同时对于任意用户来说，有60个小时的GPU免费使用额度，同时也可以通过在天池内参加比赛、公开notebook、上传数据集等方式活跃账号来获得积分，增加额外的免费时长。\n",
    "\n",
    "&emsp;&emsp;其整体的优点是：国内可直接访问，社区活跃度强，数据集丰富，且开发环境的兼容性非常好。对于GPU的使用，分配资源的方式分为两种：\n",
    "- GPU独享型：即当前环境下独享GPU资源，但存在的问题就是很多时候会提示没有资源，所以只能碰运气。同时即使获取到了GPU资源，单次使用GPU的时长也不能超过8个小时，会被释放掉；\n",
    "- GPU共享型：即当前环境下和其他人共享同一个GPU资源，这种情况下基本就无法使用，因为你会发现，当使用这种模型的时候，CPU和Mem都是直接被拉满的。\n",
    "\n",
    "&emsp;&emsp;另外需要注意的是，GPU并不能自主选择，只能让系统随机分配，比如我就分配到 A10，V100，T4等不同的GPU型号。而且有一个小Bug，就是新环境的notebook上传数据后，下次会丢失，好像到目前都没有解决。\n",
    "\n",
    "&emsp;&emsp;但总的来说，阿里的天池实验室可以说是目前用过的非常好用的免费GPU资源。其具体的试用过程如下："
   ]
  },
  {
   "cell_type": "markdown",
   "id": "09fad7ae-0f69-42ef-b5b0-498a4c53523b",
   "metadata": {},
   "source": [
    "- **Step 1.登陆阿里天池官方，进行登陆或者注册：https://tianchi.aliyun.com/**"
   ]
  },
  {
   "cell_type": "markdown",
   "id": "dc103539-59a7-47ff-92e0-38364957064c",
   "metadata": {},
   "source": [
    "<div align=center><img src=\"https://snowball101.oss-cn-beijing.aliyuncs.com/img/202312221822764.png\" width=100%></div>"
   ]
  },
  {
   "cell_type": "markdown",
   "id": "9d3fe75a-fe2b-4de1-b33e-05e152526c93",
   "metadata": {},
   "source": [
    "- **Step 2.登陆后，进入天池实验室的NoteBook**"
   ]
  },
  {
   "cell_type": "markdown",
   "id": "0994766c-a1eb-4182-8701-00f596467a4d",
   "metadata": {},
   "source": [
    "<div align=center><img src=\"https://snowball101.oss-cn-beijing.aliyuncs.com/img/202312221822765.png\" width=100%></div>"
   ]
  },
  {
   "cell_type": "markdown",
   "id": "3a8635fb-33c5-4870-9b87-6fa3e4eff6b7",
   "metadata": {},
   "source": [
    "- **Step 3.进入后可以看到，有60小时的免费GPU使用**"
   ]
  },
  {
   "cell_type": "markdown",
   "id": "9184d5ba-e6dc-4a5c-aacd-0be4642ea65c",
   "metadata": {},
   "source": [
    "<div align=center><img src=\"https://snowball101.oss-cn-beijing.aliyuncs.com/img/202312221822766.png\" width=60%></div>"
   ]
  },
  {
   "cell_type": "markdown",
   "id": "7cc46eb5-cb59-408e-bfcf-7adffc6948f7",
   "metadata": {},
   "source": [
    "- **Step 4.需要进行实名认证**"
   ]
  },
  {
   "cell_type": "markdown",
   "id": "d3256239-39ff-44c7-bea9-725cc769baae",
   "metadata": {},
   "source": [
    "<div align=center><img src=\"https://snowball101.oss-cn-beijing.aliyuncs.com/img/202312221822768.png\" width=60%></div>"
   ]
  },
  {
   "cell_type": "markdown",
   "id": "edd43514-1797-4f25-a19c-e5d93b5812a2",
   "metadata": {},
   "source": [
    "- **Step 5.进入我的实验室**"
   ]
  },
  {
   "cell_type": "markdown",
   "id": "e9f65527-bd97-42dd-8de7-f7941c11a54e",
   "metadata": {},
   "source": [
    "<div align=center><img src=\"https://snowball101.oss-cn-beijing.aliyuncs.com/img/202312221822769.png\" width=70%></div>"
   ]
  },
  {
   "cell_type": "markdown",
   "id": "cadf64c3-c603-4d87-afb8-bea40efb3b3e",
   "metadata": {},
   "source": [
    "- **Step 6.创建一个新的NoteBook，如果第一次使用，系统会默认生成一个，也可以直接使用**"
   ]
  },
  {
   "cell_type": "markdown",
   "id": "c2d9ee79-ec1f-4a23-a6ef-f493bce89888",
   "metadata": {},
   "source": [
    "<div align=center><img src=\"https://snowball101.oss-cn-beijing.aliyuncs.com/img/202312221833563.png\" width=60%></div>"
   ]
  },
  {
   "cell_type": "markdown",
   "id": "d061ee6c-7f21-4348-b083-314627c12801",
   "metadata": {},
   "source": [
    "- **Step 7.NoteBook需要点击`编辑`按钮后，进入编辑环境才能进行操作**"
   ]
  },
  {
   "cell_type": "markdown",
   "id": "a02e490a-27bf-4978-99c3-f6c742b26d3d",
   "metadata": {},
   "source": [
    "<div align=center><img src=\"https://snowball101.oss-cn-beijing.aliyuncs.com/img/202312221822771.png\" width=80%></div>"
   ]
  },
  {
   "cell_type": "markdown",
   "id": "b572bc97-6f23-4bca-a64e-95d3e92bde76",
   "metadata": {},
   "source": [
    "- **Step 8.默认开启的是CPU，如需改为GPU，需要进行切换**"
   ]
  },
  {
   "cell_type": "markdown",
   "id": "83c03a3d-cce8-45a2-9762-89bbe67591d8",
   "metadata": {},
   "source": [
    "<div align=center><img src=\"https://snowball101.oss-cn-beijing.aliyuncs.com/img/202312221822772.png\" width=80%></div>"
   ]
  },
  {
   "cell_type": "markdown",
   "id": "45965232-054f-43e3-bad1-c792af9527a0",
   "metadata": {},
   "source": [
    "- **Step 9.最好在执行代码前切换环境，否则需要重新运行全部代码**"
   ]
  },
  {
   "cell_type": "markdown",
   "id": "ceec7de7-47cc-49d8-aa5d-bad9b2313bdb",
   "metadata": {},
   "source": [
    "<div align=center><img src=\"https://snowball101.oss-cn-beijing.aliyuncs.com/img/202312221822773.png\" width=80%></div>"
   ]
  },
  {
   "cell_type": "markdown",
   "id": "56dd9910-374b-4f7b-b1c3-11db3e8a03b2",
   "metadata": {},
   "source": [
    "- **Step 10.测试当前环境是否正常加载GPU，可以看到，目前加载的是 NVIDIA 的 A10**"
   ]
  },
  {
   "cell_type": "markdown",
   "id": "ea1273fe-10bc-41bf-807a-578559c87837",
   "metadata": {},
   "source": [
    "<div align=center><img src=\"https://snowball101.oss-cn-beijing.aliyuncs.com/img/202312221822774.png\" width=80%></div>"
   ]
  },
  {
   "cell_type": "markdown",
   "id": "0ddcf5d3-f8f9-4efe-b64d-4a030a3cce99",
   "metadata": {},
   "source": [
    "&emsp;&emsp;如果60小时的免费GPU时长全部用尽后，也可以通过积极参加天池的活动、比赛等，较高的活跃度会获得不同数量的积分，达到一定的积分后，阿里天池官方会自动增加免费的GPU使用时长。"
   ]
  },
  {
   "cell_type": "markdown",
   "id": "484ca151-7bb2-4ce8-bd90-9a3a6b80c518",
   "metadata": {},
   "source": [
    "<div align=center><img src=\"https://snowball101.oss-cn-beijing.aliyuncs.com/img/202312221822767.png\" width=80%></div>"
   ]
  },
  {
   "cell_type": "markdown",
   "id": "0f85339a-ff55-4625-8149-7977486e10d8",
   "metadata": {},
   "source": [
    "<div align=center><img src=\"https://snowball101.oss-cn-beijing.aliyuncs.com/img/202312221822775.png\" width=80%></div>"
   ]
  },
  {
   "cell_type": "markdown",
   "id": "e30a3541-3302-4e5b-8388-b3f9578d38b7",
   "metadata": {
    "tags": []
   },
   "source": [
    "## 1.3 Kaggle"
   ]
  },
  {
   "cell_type": "markdown",
   "id": "ae368779-4454-425a-89ec-347635a16505",
   "metadata": {},
   "source": [
    "&emsp;&emsp;Kaggle是一个进行数据发掘和预测竞赛的在线平台。从企业的角度来讲，可以提供一些数据和实际需要解决的问题；从参赛者的角度来讲，可以组队参与项目，针对其中一个问题提出解决方案，最终由选出的最佳方案获得对应的奖金。Kaggle一直致力于解决业界难题，因此也创造了一种全新的劳动力市场——不再以学历和工作经验作为唯一的人才评判标准，而是着眼于个人技能，为顶尖人才和公司之间搭建了一座桥梁。"
   ]
  },
  {
   "cell_type": "markdown",
   "id": "52aee2b5-66ee-43cf-ae1d-fa3f82fd3b9c",
   "metadata": {},
   "source": [
    "&emsp;&emsp;作为这样一个大型竞赛平台，其提供了可以免费访问并可以在云端 GPU 进行深度学习训练的资源和环境。每个用户每周有30个小时的GPU额度。其详细使用过程如下："
   ]
  },
  {
   "cell_type": "markdown",
   "id": "22ef4187-9f75-4e90-a6b7-fe43172e03f5",
   "metadata": {},
   "source": [
    "- **Step 1.登录Kaggle官网，如果是老用户，可以直接登录。新用户的话先进行注册**"
   ]
  },
  {
   "cell_type": "markdown",
   "id": "9655ed19-87ab-45ff-9c7c-ddcdab5f37f8",
   "metadata": {},
   "source": [
    "<div align=center><img src=\"https://snowball101.oss-cn-beijing.aliyuncs.com/img/202312221904888.png\" width=80%></div>"
   ]
  },
  {
   "cell_type": "markdown",
   "id": "d1e11fcd-ca7b-47cd-bc63-2e9641455f9e",
   "metadata": {},
   "source": [
    "- **Step 2.如果使用Google账号注册，需要挂梯子。如果不想挂梯子或没有梯子，可以选择邮箱注册，QQ邮箱也可以。**"
   ]
  },
  {
   "cell_type": "markdown",
   "id": "543dbcb5-422f-4fbd-8c9f-09616cbdb989",
   "metadata": {},
   "source": [
    "<div align=center><img src=\"https://snowball101.oss-cn-beijing.aliyuncs.com/img/202312221904889.png\" width=60%></div>"
   ]
  },
  {
   "cell_type": "markdown",
   "id": "ebf0b7d9-4052-4b3a-83ed-5bc6fe76c2c7",
   "metadata": {},
   "source": [
    "- **Step 3.登录成功后，需要验证手机号才可以使用免费GPU。**"
   ]
  },
  {
   "cell_type": "markdown",
   "id": "8f6e65d0-1ea9-4d51-90d9-d823d0014c57",
   "metadata": {},
   "source": [
    "<div align=center><img src=\"https://snowball101.oss-cn-beijing.aliyuncs.com/img/202312221904891.png\" width=70%></div>"
   ]
  },
  {
   "cell_type": "markdown",
   "id": "4b535f28-98c0-4d1c-81b7-a59392fc6dce",
   "metadata": {},
   "source": [
    "- **Step 4.支持中国手机号验证。**"
   ]
  },
  {
   "cell_type": "markdown",
   "id": "d62c6db6-c402-4b72-ac28-c8d794721d2b",
   "metadata": {},
   "source": [
    "<div align=center><img src=\"https://snowball101.oss-cn-beijing.aliyuncs.com/img/202312221904892.png\" width=60%></div>"
   ]
  },
  {
   "cell_type": "markdown",
   "id": "37d18f25-07bd-4c34-a3cb-334af6c3d972",
   "metadata": {},
   "source": [
    "<div align=center><img src=\"https://snowball101.oss-cn-beijing.aliyuncs.com/img/202312221904893.png\" width=60%></div>"
   ]
  },
  {
   "cell_type": "markdown",
   "id": "437920d8-e1f9-472d-953d-406c38a00112",
   "metadata": {},
   "source": [
    "- **Step 5.认证手机号后，新建一个NoteBook。**"
   ]
  },
  {
   "cell_type": "markdown",
   "id": "25bb140c-ea43-4781-9236-624fed8ea46d",
   "metadata": {},
   "source": [
    "<div align=center><img src=\"https://snowball101.oss-cn-beijing.aliyuncs.com/img/202312221904894.png\" width=60%></div>"
   ]
  },
  {
   "cell_type": "markdown",
   "id": "8e353c65-67e2-45a7-8c32-d4d8ad2eb4c4",
   "metadata": {},
   "source": [
    "- **Step 6.打开NoteBook之后再右侧菜单栏里的 Notebook options——ACCELERATOR 里就可以在几种GPU之间进行选择**"
   ]
  },
  {
   "cell_type": "markdown",
   "id": "13bf5121-5167-4fdb-aec3-1448dbec7ca9",
   "metadata": {},
   "source": [
    "<div align=center><img src=\"https://snowball101.oss-cn-beijing.aliyuncs.com/img/202312221909471.png\" width=60%></div>"
   ]
  },
  {
   "cell_type": "markdown",
   "id": "1cc7c478-6aab-4639-9d84-15ae851bbf83",
   "metadata": {},
   "source": [
    "- **Step 7.选择GPU。这里我们选择P100。**"
   ]
  },
  {
   "cell_type": "markdown",
   "id": "71c5e9a7-a764-4221-ab08-b8b4f3597f13",
   "metadata": {},
   "source": [
    "<div align=center><img src=\"https://snowball101.oss-cn-beijing.aliyuncs.com/img/202312261604468.png\" width=80%></div>"
   ]
  },
  {
   "cell_type": "markdown",
   "id": "7eb97b13-8e69-41b0-9bf2-e1e39d0e87e0",
   "metadata": {},
   "source": [
    "- **Step 8.环境验证。**"
   ]
  },
  {
   "cell_type": "markdown",
   "id": "f83be830-7bc8-48dc-89de-c02bec6df29c",
   "metadata": {},
   "source": [
    "<div align=center><img src=\"https://snowball101.oss-cn-beijing.aliyuncs.com/img/202312261604469.png\" width=80%></div>"
   ]
  },
  {
   "cell_type": "markdown",
   "id": "f8e7a358-bc40-4795-834c-2c6566e89d79",
   "metadata": {},
   "source": [
    "- **Step 8.注意：如果安装不上任何包，把页面右侧Setting栏中的Internet选项开启即可正常安装。**"
   ]
  },
  {
   "cell_type": "markdown",
   "id": "af3a483a-d5ee-4c71-a038-60bdd4cf280b",
   "metadata": {},
   "source": [
    "<div align=center><img src=\"https://snowball101.oss-cn-beijing.aliyuncs.com/img/202312261604470.png\" width=80%></div>"
   ]
  },
  {
   "cell_type": "markdown",
   "id": "a8cf9bc8-3b89-4621-bc9d-392d3cbccd9a",
   "metadata": {},
   "source": [
    "- **Step 9.查看剩余配额情况。**"
   ]
  },
  {
   "cell_type": "markdown",
   "id": "870f63cd-51f7-49d7-a633-01719a202453",
   "metadata": {},
   "source": [
    "<div align=center><img src=\"https://snowball101.oss-cn-beijing.aliyuncs.com/img/202312261604471.png\" width=80%></div>"
   ]
  },
  {
   "cell_type": "markdown",
   "id": "08b60cd7-3cec-402b-851e-00e36a7cb852",
   "metadata": {},
   "source": [
    "## 1.4 Colab"
   ]
  },
  {
   "cell_type": "markdown",
   "id": "bea6a2a1-2c2f-45d7-8b62-2dc0f7298338",
   "metadata": {},
   "source": [
    "&emsp;&emsp;Colab是由Google研发的，它免费提供CPU、GPU甚至TPU资源。但是，有一点要注意:要使用你得准备好翻墙的梯子。可以说，大名鼎鼎的谷歌的Colab，全世界都在薅羊毛。历史最久，用户最多，可谓部署界的大佬。谷歌Colab是谷歌打造的深度学习平台，为开发者和研究人员提供免费的云端笔记本运行环境。同时搭载了强大的GPU和TPU计算资源，再搭配一应俱全的深度学习框架和工具，开发者可以直接在上面运行代码或者进行模型训练。\n",
    "\n",
    "&emsp;&emsp;Colab的部署类型属于拎包入住，但分配到的资源都是临时的。分为免费版和收费版，免费版并没有公开具体的配置信息。收费版的Colab Pro每月9.99美金。在选择笔记本时，用户无法选择特定的GPU型号，会自动分配K80，P100，T4，V100等显卡，16G左右的内存，70G左右的存储空间，资源是临时的，每次重启项目时，都需要重新加载，"
   ]
  },
  {
   "cell_type": "markdown",
   "id": "7fd64bb6-0789-4077-b821-956bc78cea6b",
   "metadata": {},
   "source": [
    "&emsp;&emsp;对于免费用户来说，Notebook最长可以持续运行 12 小时，限额后不知道过多久能重新恢复使用。同时，GPU的类型只能选Tesla T4。除非开通Colab Pro，才能选择更多的GPU资源，但不论是免费用户还是付费用户，限制都很多：\n",
    "\n",
    "- 实例空间的内存和磁盘都是有限制的，如果模型训练的过程中超过了内存或磁盘的限制，那么程序运行就会中断并报错。实例空间内的文件保存不是永久的，当代码执行程序被断开时，实例空间内的所有资源都会被释放，在\"/content\"目录下上传的文件也会全部消失；\n",
    "\n",
    "- 有限的连接时间：笔记本连接到代码执行程序的时长是有限制的，这体现在三个方面：如果关闭浏览器，代码执行程序会在短时间内断开而不是在后台继续执行（这个“短时间”大概在几分钟左右，如果只是切换一下wifi之类的操作不会产生任何影响）；如果空闲状态过长（无互动操作或正在执行的代码块），则会立即断开连接；如果连接时长到达上限（免费用户最长连接12小时），也会立刻断开连接；\n",
    "\n",
    "- 有限的GPU运行时：无论是免费用户还是colab pro用户，每天所能使用的GPU运行时间都是有限的。到达时间上限后，使用GPU的代码执行程序将被立刻断开且用户将被限制在当天继续使用任何形式的GPU。在这种情况下我们只能等待第二天重置；\n",
    "\n",
    "- 频繁的互动检测：当一段时间没有检测到活动时，Colab就会进行互动检测，如果长时间不点击人机身份验证，代码执行程序就会断开。此外，如果频繁地断开和连接代码执行程序，也会出现人机身份验证；\n",
    "\n",
    "- 就算是一直在训练，也会时不时断线，不稳定；"
   ]
  },
  {
   "cell_type": "markdown",
   "id": "4f5c17d1-11ae-44f0-950b-a2f07269ed52",
   "metadata": {},
   "source": [
    "&emsp;&emsp;其加载过程如下："
   ]
  },
  {
   "cell_type": "markdown",
   "id": "0382d37b-4143-48b5-8b51-94e95d2e5b20",
   "metadata": {},
   "source": [
    "- **Step 1.登录Colab官网（注意：需要挂梯子）https://colab.research.google.com/**"
   ]
  },
  {
   "cell_type": "markdown",
   "id": "8341d304-4fed-4ebd-9b16-a111a58620ca",
   "metadata": {},
   "source": [
    "<div align=center><img src=\"https://snowball101.oss-cn-beijing.aliyuncs.com/img/202312251006541.png\" width=100%></div>"
   ]
  },
  {
   "cell_type": "markdown",
   "id": "1b9cf5af-c086-4903-bba4-d1dc16953c01",
   "metadata": {},
   "source": [
    "- **Step 2.使用Google账号登录**"
   ]
  },
  {
   "cell_type": "markdown",
   "id": "416524b4-6867-43e9-87bc-dc20c4d01ff6",
   "metadata": {},
   "source": [
    "<div align=center><img src=\"https://snowball101.oss-cn-beijing.aliyuncs.com/img/202312251006542.png\" width=70%></div>"
   ]
  },
  {
   "cell_type": "markdown",
   "id": "543f90c2-3c96-4c6d-a98d-e13db1512e03",
   "metadata": {},
   "source": [
    "- **Step 3.登陆成功后，新建一个Notebook**"
   ]
  },
  {
   "cell_type": "markdown",
   "id": "b9878c63-2666-4a0e-9f1d-2193015b0b87",
   "metadata": {},
   "source": [
    "<div align=center><img src=\"https://snowball101.oss-cn-beijing.aliyuncs.com/img/202312261541686.png\" width=80%></div>"
   ]
  },
  {
   "cell_type": "markdown",
   "id": "3a61962c-59f6-45ec-935c-80afde66f9fd",
   "metadata": {},
   "source": [
    "- **Step 4.连接资源**"
   ]
  },
  {
   "cell_type": "markdown",
   "id": "71e7f88b-91f0-4d89-b20a-0801831cbc62",
   "metadata": {},
   "source": [
    "<div align=center><img src=\"https://snowball101.oss-cn-beijing.aliyuncs.com/img/202312251006544.png\" width=100%></div>"
   ]
  },
  {
   "cell_type": "markdown",
   "id": "04776ef9-7196-45c5-8283-d4b751dd14c1",
   "metadata": {},
   "source": [
    "- **Step 5.更改运行环境为GPU**"
   ]
  },
  {
   "cell_type": "markdown",
   "id": "5526b636-cb10-4858-8529-8b8896d97483",
   "metadata": {},
   "source": [
    "<div align=center><img src=\"https://snowball101.oss-cn-beijing.aliyuncs.com/img/202312251006545.png\" width=60%></div>"
   ]
  },
  {
   "cell_type": "markdown",
   "id": "2de8bcfc-570d-43f0-8cce-ac86c4e4cfdc",
   "metadata": {},
   "source": [
    "- **Step 6.免费用户只能选择T4 GPU**"
   ]
  },
  {
   "cell_type": "markdown",
   "id": "72821f13-47bc-4fa6-86f3-d255bd1242c8",
   "metadata": {},
   "source": [
    "<div align=center><img src=\"https://snowball101.oss-cn-beijing.aliyuncs.com/img/202312251006546.png\" width=70%></div>"
   ]
  },
  {
   "cell_type": "markdown",
   "id": "9ddfe3f4-3820-4d4d-b025-3de9f34d51c8",
   "metadata": {},
   "source": [
    "- **Step 7.可以看到，已正常加载GPU T4**"
   ]
  },
  {
   "cell_type": "markdown",
   "id": "2c4ad29c-767b-4d2b-af56-31c4a81ee315",
   "metadata": {},
   "source": [
    "<div align=center><img src=\"https://snowball101.oss-cn-beijing.aliyuncs.com/img/202312251006559.png\" width=90%></div>"
   ]
  },
  {
   "cell_type": "markdown",
   "id": "782b7f60-fa0e-42c8-a520-41f71337e8c2",
   "metadata": {},
   "source": [
    "&emsp;&emsp;但需要注意的是，这个分配的资源是临时的（相当于一台没有硬盘的电脑），所以我们还得进行一些操作。即配合Google drive使用。Drive也是免费的。普通Google账号中Drive会有15G的空间。"
   ]
  },
  {
   "cell_type": "markdown",
   "id": "ee0ab45d-f965-4a37-9f9c-e462791dadb2",
   "metadata": {},
   "source": [
    "- **Step 8. 挂载Google Driver**"
   ]
  },
  {
   "cell_type": "markdown",
   "id": "4d7e722f-f23e-4831-8626-0c008326b9a8",
   "metadata": {},
   "source": [
    "<div align=center><img src=\"https://snowball101.oss-cn-beijing.aliyuncs.com/img/202312251006547.png\" width=100%></div>"
   ]
  },
  {
   "cell_type": "markdown",
   "id": "5bb781be-c2d4-49fc-b242-8bbc9d6f0e99",
   "metadata": {},
   "source": [
    "- **Step 9.账号授权**"
   ]
  },
  {
   "cell_type": "markdown",
   "id": "685a6f52-597b-4dae-add6-74c447a7bd3d",
   "metadata": {},
   "source": [
    "<div align=center><img src=\"https://snowball101.oss-cn-beijing.aliyuncs.com/img/202312251006548.png\" width=70%></div>"
   ]
  },
  {
   "cell_type": "markdown",
   "id": "47861417-f899-4256-88e5-ec2650d76870",
   "metadata": {},
   "source": [
    "&emsp;&emsp;全部默认选项即可。"
   ]
  },
  {
   "cell_type": "markdown",
   "id": "ac3e8125-f9d6-45ab-b0b8-8312b251807f",
   "metadata": {},
   "source": [
    "<div align=center><img src=\"https://snowball101.oss-cn-beijing.aliyuncs.com/img/202312251006549.png\" width=70%></div>"
   ]
  },
  {
   "cell_type": "markdown",
   "id": "9ed5dd7a-87b3-4cc4-8df9-ccac3f561aa6",
   "metadata": {},
   "source": [
    "&emsp;&emsp;点击允许后，命令行终端会生成如下命令。"
   ]
  },
  {
   "cell_type": "markdown",
   "id": "18976d1c-2b16-4156-8f99-e9ade4e73e33",
   "metadata": {},
   "source": [
    "<div align=center><img src=\"https://snowball101.oss-cn-beijing.aliyuncs.com/img/202312251006550.png\" width=70%></div>"
   ]
  },
  {
   "cell_type": "markdown",
   "id": "cf62643d-67d2-408a-8e59-5f8e1539c83a",
   "metadata": {},
   "source": [
    "&emsp;&emsp;此时Colab就用上了Google Drive了。在左边目录可以看到硬盘里面的文件了，把它当做当前的工作环境就可以："
   ]
  },
  {
   "cell_type": "markdown",
   "id": "c90db346-478f-436d-a2fe-cdaf0df704a8",
   "metadata": {},
   "source": [
    "<div align=center><img src=\"https://snowball101.oss-cn-beijing.aliyuncs.com/img/202312251006551.png\" width=70%></div>"
   ]
  },
  {
   "cell_type": "markdown",
   "id": "40808f44-addc-4cb5-82a5-a6d3f33753a5",
   "metadata": {},
   "source": [
    "<div align=center><img src=\"https://snowball101.oss-cn-beijing.aliyuncs.com/img/202312251006552.png\" width=70%></div>"
   ]
  },
  {
   "cell_type": "markdown",
   "id": "615a3778-bb5d-4bd9-a957-7c070f0d2e2d",
   "metadata": {},
   "source": [
    "- **Step 10.测试安装依赖包**"
   ]
  },
  {
   "cell_type": "markdown",
   "id": "f106ef4c-cd06-49d9-b6a7-d936bd32d10b",
   "metadata": {},
   "source": [
    "<div align=center><img src=\"https://snowball101.oss-cn-beijing.aliyuncs.com/img/202312251006553.png\" width=70%></div>"
   ]
  },
  {
   "cell_type": "markdown",
   "id": "1dc868ec-4204-41b3-af69-0f4e81bc0f11",
   "metadata": {},
   "source": [
    "- **Step 11.上传文件**"
   ]
  },
  {
   "cell_type": "markdown",
   "id": "93466dcc-6c7c-4b4e-8222-18a10eb616cd",
   "metadata": {},
   "source": [
    "<div align=center><img src=\"https://snowball101.oss-cn-beijing.aliyuncs.com/img/202312251006554.png\" width=70%></div>"
   ]
  },
  {
   "cell_type": "markdown",
   "id": "2a25010f-989b-4805-bd6e-fc693d3eafd0",
   "metadata": {},
   "source": [
    "<div align=center><img src=\"https://snowball101.oss-cn-beijing.aliyuncs.com/img/202312251006555.png\" width=70%></div>"
   ]
  },
  {
   "cell_type": "markdown",
   "id": "b078cd07-14b6-47fc-9302-914f7275fbcd",
   "metadata": {},
   "source": [
    "&emsp;&emsp;而由于需要挂梯子的原因，大文件有时上传很麻烦,熟悉linux命令的同学应该知道wget命令，可以直接使用wget下载，而这里一个小技巧就是：大文件可以先传到百度云盘，然后在百度云盘里生成下载链接嘛（生成那种不需要验证码的）。百度云盘下载很慢但是上传很快。然后再用wget。传文件，服务器与服务器的速度真的超乎本地和服务器。"
   ]
  },
  {
   "cell_type": "markdown",
   "id": "94e71388-df14-4433-bd44-3d4a1aa675dd",
   "metadata": {},
   "source": [
    "<div align=center><img src=\"https://snowball101.oss-cn-beijing.aliyuncs.com/img/202312251006556.png\" width=70%></div>"
   ]
  },
  {
   "cell_type": "markdown",
   "id": "43a46158-f002-473e-b569-d98a3445bd2b",
   "metadata": {},
   "source": [
    "<div align=center><img src=\"https://snowball101.oss-cn-beijing.aliyuncs.com/img/202312251006557.png\" width=70%></div>"
   ]
  },
  {
   "cell_type": "markdown",
   "id": "1b16826c-5a9a-4e6a-a948-a462d6482b5b",
   "metadata": {},
   "source": [
    "<div align=center><img src=\"https://snowball101.oss-cn-beijing.aliyuncs.com/img/202312251006558.png\" width=90%></div>"
   ]
  },
  {
   "cell_type": "markdown",
   "id": "9c363190-2e5c-4de6-9a7d-8694fa88a925",
   "metadata": {},
   "source": [
    "## 1.5 其他平台"
   ]
  },
  {
   "cell_type": "markdown",
   "id": "ded5133c-ac2f-47a5-9dbf-8838c221412c",
   "metadata": {},
   "source": [
    "&emsp;&emsp;除了上述推荐的平台，还有两个很多人使用的平台，比如移动九天平台：https://jiutian.10086.cn/edu/#/home ，移动推出的集比赛、数据、训练于一体的平台，貌似不是很活跃，数据集都没多少，但是模型训练的羊毛还是要薅的。通过签到、邀请增加训练时长，按照算例豆来计算，使用过程还可以，但是算力豆消耗的很快。除此之外，百度的AI Studio，是百度提供的一个针对AI学习者的在线一体化开发实训平台，但是V100只能用百度的框架PaddlePaddle，并不是很通用。"
   ]
  },
  {
   "cell_type": "markdown",
   "id": "fdbbc7a1-6afc-4c83-ba40-a34820a9060c",
   "metadata": {},
   "source": [
    "# 二、付费GPU资源推荐"
   ]
  },
  {
   "cell_type": "markdown",
   "id": "1e5bcacb-b84f-4ed4-a684-89b4cc48c448",
   "metadata": {},
   "source": [
    "&emsp;&emsp;相比于免费平台，付费平台就非常乱了。随着老美的制裁，高端显卡的供不应求，国内超高溢价的情况下，个人、机构由购转租，无疑是一个合适的选择。从而也带动起了显卡租赁厂商的快速增长。这也就导致目前的租赁环境非常乱。首先来看国内大厂如阿里，腾讯，其生态好，行业积累长，但是其对应的GPU实例价格很高，一般个人、学生很难承担的起，更多的是面向企业的采购。而平价的云服务上，鱼龙混杂，生态乱、架构乱、GPU质量难以保障，同时还可能搭着免费的旗号明目张胆的割韭菜。那么在选择平台的时候，如何选择呢？"
   ]
  },
  {
   "cell_type": "markdown",
   "id": "17ddc65e-a6cb-4416-ae0e-83ebcbacb081",
   "metadata": {},
   "source": [
    "&emsp;&emsp;首先需要明确需求，对于大模型来说，先选择显卡，最低配置是3090；其次是价格，这是很多人关心的一个因素，不同的提供商有不同的计费方式和折扣政策，你需要根据你的预算和使用需求来选择合适的价格方案。而关于配置，这是影响gpu云服务器使用体验的一个重要因素，一般平台都支持灵活扩容，不需要太担心。最后需要关注系统环境，很多系统都比较纯净，对一些依赖如Pytorch不兼容，这对开发人员会造成很大的困扰，尤其对小白不太友好。总体来看，需要保证机器的整体稳定性和开发环境的兼容性。"
   ]
  },
  {
   "cell_type": "markdown",
   "id": "7ced05ea-5a57-4286-97a2-5396ba6aa831",
   "metadata": {},
   "source": [
    "&emsp;&emsp;推荐如下，按先后排名。"
   ]
  },
  {
   "cell_type": "markdown",
   "id": "370aeae0-3a96-47a4-934d-4f8da3c6381f",
   "metadata": {},
   "source": [
    "## 2.1 AutoDL"
   ]
  },
  {
   "cell_type": "markdown",
   "id": "88f216cc-eeb4-4213-abb6-235e45d89c9c",
   "metadata": {},
   "source": [
    "&emsp;&emsp;AutoDL刚开始接触这个平台的时候惊艳到我了，和别的租云服务器的平台相比，价格对于学生党来说不要太友好。如果是学生，认证之后直接升级到炼金师三会员等级，可以享受平台最低价。平时活动还超多，代金券领不完的。"
   ]
  },
  {
   "cell_type": "markdown",
   "id": "23c288a6-c421-41f9-905a-29fe47230bcd",
   "metadata": {},
   "source": [
    "- **优惠方案**"
   ]
  },
  {
   "cell_type": "markdown",
   "id": "1705d0c0-2cab-4582-b360-ebe0d7380f99",
   "metadata": {},
   "source": [
    "&emsp;&emsp;新用户注册就送炼丹会员，享受9.5折，一个月有效期，这一个月内通过充值提升积分来保持会员，对于学生来说，认证期间一直是会员，非常友好。"
   ]
  },
  {
   "cell_type": "markdown",
   "id": "4b7b024a-0729-4153-8ce4-0c861791ccf8",
   "metadata": {},
   "source": [
    "- **显卡种类及费用**"
   ]
  },
  {
   "cell_type": "markdown",
   "id": "f57336a4-d9fc-4b80-945d-116ae69a1273",
   "metadata": {},
   "source": [
    "&emsp;&emsp;从1080Ti到A100，共计16种类型的GPU资源，对于大模型来说，我们仅考虑3090及以上级别的资源，各阶段的资费如下："
   ]
  },
  {
   "cell_type": "markdown",
   "id": "8f65ff69-6719-44c9-844e-857940bc4808",
   "metadata": {},
   "source": [
    "| 显卡型号    | 每小时费用 | 每天费用 | 每月费用 |\n",
    "|----------|---------------|-------------|--------------|\n",
    "| RTX 3090 | 1.58          | 36.72        | 805.41       |\n",
    "| RTX 4090 | 2.48          | 53.20       | 1360.00       |\n",
    "| A 100 80G| 6.68（最便宜）          | /      | /      |"
   ]
  },
  {
   "cell_type": "markdown",
   "id": "b06d5911-06a6-4993-873c-bc3331d56c3b",
   "metadata": {},
   "source": [
    "- **实际使用情况**"
   ]
  },
  {
   "cell_type": "markdown",
   "id": "18ba4cc9-918c-43fb-bfe5-93d657863ae5",
   "metadata": {},
   "source": [
    "1. **可选地域限制**：可选择的服务地域包括西北、北京、芜湖、西南、佛山、内蒙多个区，且每个区的资源都很多；\n",
    "2. **显卡资源分布**：主流的显卡基本都有资源，相对来说A100 80G短缺；\n",
    "3. **存储情况**：提供50GB数据盘，不太够用，如果超出按照0.0066/元/日/GB付费；\n",
    "4. **系统环境**：可选择平台预测环境，也可以选择社区环境，且系统的依赖包预选安装了很多，整体环境对用户比较友好；\n",
    "5. **开发环境**：只能SSH连接，同时提供云端的运行环境；"
   ]
  },
  {
   "cell_type": "markdown",
   "id": "00bf21ee-bdf9-4373-aa00-75545acd192f",
   "metadata": {},
   "source": [
    "&emsp;&emsp;具体的使用过程如下："
   ]
  },
  {
   "cell_type": "markdown",
   "id": "9fecda4c-31d9-4ec4-8114-a369d3d9b3b6",
   "metadata": {},
   "source": [
    "- **Step 1.进入官网：https://www.autodl.com/home**"
   ]
  },
  {
   "cell_type": "markdown",
   "id": "ca3b82d5-cb94-4337-a425-078c194f6ba1",
   "metadata": {},
   "source": [
    "<div align=center><img src=\"https://snowball101.oss-cn-beijing.aliyuncs.com/img/202312251501092.png\" width=90%></div>"
   ]
  },
  {
   "cell_type": "markdown",
   "id": "cb80b6a0-aa14-4f0c-9f40-ae6e08b0a146",
   "metadata": {},
   "source": [
    "- **Step 2.老用户可以直接登陆，新用户需要注册**"
   ]
  },
  {
   "cell_type": "markdown",
   "id": "d4a00478-aa3c-411f-a0b9-fb2231d4b99e",
   "metadata": {},
   "source": [
    "<div align=center><img src=\"https://snowball101.oss-cn-beijing.aliyuncs.com/img/202312251501093.png\" width=70%></div>"
   ]
  },
  {
   "cell_type": "markdown",
   "id": "d21122c9-6457-41b3-ba34-10d12936f9b8",
   "metadata": {},
   "source": [
    "<div align=center><img src=\"https://snowball101.oss-cn-beijing.aliyuncs.com/img/202312251501097.png\" width=70%></div>"
   ]
  },
  {
   "cell_type": "markdown",
   "id": "08a931ac-902e-473e-ad98-fd6aa667561e",
   "metadata": {},
   "source": [
    "- **Step 3.登录后，需要认证相关信息，才可以进行GPU的租赁**"
   ]
  },
  {
   "cell_type": "markdown",
   "id": "28e3a826-c469-4f04-b23e-96cb35c5e1ff",
   "metadata": {},
   "source": [
    "<div align=center><img src=\"https://snowball101.oss-cn-beijing.aliyuncs.com/img/202312251501094.png\" width=70%></div>"
   ]
  },
  {
   "cell_type": "markdown",
   "id": "8fad1d6b-0055-4373-bf47-b5170a79e55f",
   "metadata": {},
   "source": [
    "<div align=center><img src=\"https://snowball101.oss-cn-beijing.aliyuncs.com/img/202312251501095.png\" width=90%></div>"
   ]
  },
  {
   "cell_type": "markdown",
   "id": "04d26ab0-3ec3-4dd1-857b-b2b3f984e947",
   "metadata": {},
   "source": [
    "- **Step 4.认证完成后，进行充值，AutoDL对于新用户，目前也没有体验金活动**"
   ]
  },
  {
   "cell_type": "markdown",
   "id": "3b1dc51f-c7f2-4a85-9cad-ebf143477d90",
   "metadata": {},
   "source": [
    "<div align=center><img src=\"https://snowball101.oss-cn-beijing.aliyuncs.com/img/202312251501105.png\" width=70%></div>"
   ]
  },
  {
   "cell_type": "markdown",
   "id": "8ec5b589-023c-4bfb-bbc0-aa2b42270980",
   "metadata": {},
   "source": [
    "- **Step 5.充值方式支持微信支付、支付宝和对公汇款**"
   ]
  },
  {
   "cell_type": "markdown",
   "id": "f9ebac79-6bf3-4ec0-85e6-88e60da2bf63",
   "metadata": {},
   "source": [
    "<div align=center><img src=\"https://snowball101.oss-cn-beijing.aliyuncs.com/img/202312251501106.png\" width=70%></div>"
   ]
  },
  {
   "cell_type": "markdown",
   "id": "d169fafb-87ee-44ae-b753-7196c80490b8",
   "metadata": {},
   "source": [
    "- **Step 6.在进行实例创建前，如果不知道如何选择GPU，还可以在官网首页参考下GPU的算力排名**"
   ]
  },
  {
   "cell_type": "markdown",
   "id": "fbb9fa6c-ce48-4c05-a8ae-091e3e137147",
   "metadata": {},
   "source": [
    "<div align=center><img src=\"https://snowball101.oss-cn-beijing.aliyuncs.com/img/202312251501099.png\" width=70%></div>"
   ]
  },
  {
   "cell_type": "markdown",
   "id": "aed2f684-18ca-4c3d-92e1-cc54dd31d481",
   "metadata": {},
   "source": [
    "<div align=center><img src=\"https://snowball101.oss-cn-beijing.aliyuncs.com/img/202312251501101.png\" width=70%></div>"
   ]
  },
  {
   "cell_type": "markdown",
   "id": "116f94c9-fa14-4dd9-ae41-d93fcd094bf2",
   "metadata": {},
   "source": [
    "- **Step 7.在算力市场，可以选择GPU资源**"
   ]
  },
  {
   "cell_type": "markdown",
   "id": "ea95b0c2-8156-48d4-bc92-8870994f0eec",
   "metadata": {},
   "source": [
    "<div align=center><img src=\"https://snowball101.oss-cn-beijing.aliyuncs.com/img/202312251501102.png\" width=90%></div>"
   ]
  },
  {
   "cell_type": "markdown",
   "id": "20e8a78e-5f1f-45ba-936e-fa533ac491ab",
   "metadata": {},
   "source": [
    "&emsp;&emsp;我们选择一个2080Ti来尝试一下。（为什么不选规格更高的，因为账户的钱不够）"
   ]
  },
  {
   "cell_type": "markdown",
   "id": "52c2e2d8-93bf-416a-a39e-5777b39d0f52",
   "metadata": {},
   "source": [
    "<div align=center><img src=\"https://snowball101.oss-cn-beijing.aliyuncs.com/img/202312251501104.png\" width=70%></div>"
   ]
  },
  {
   "cell_type": "markdown",
   "id": "2ac880c2-6aee-4c38-bf0b-85c3671275c9",
   "metadata": {},
   "source": [
    "&emsp;&emsp;这里选择周期和地域，不同地域下的可用GPU资源不同。"
   ]
  },
  {
   "cell_type": "markdown",
   "id": "f49b252a-efc7-4f05-bf6a-a07d329cfc85",
   "metadata": {},
   "source": [
    "<div align=center><img src=\"https://snowball101.oss-cn-beijing.aliyuncs.com/img/202312251501103.png\" width=70%></div>"
   ]
  },
  {
   "cell_type": "markdown",
   "id": "4c87fcb0-0ebe-4d7e-be84-bf3d5752b6b8",
   "metadata": {},
   "source": [
    "&emsp;&emsp;在选择镜像的时候，这里非常好的一点是可以直接拉去社区镜像。比如我们想部署ChatGLM3，就可以直接在Github上选择一个镜像来安装。"
   ]
  },
  {
   "cell_type": "markdown",
   "id": "df034f90-db29-4273-8720-ff26872474b3",
   "metadata": {},
   "source": [
    "<div align=center><img src=\"https://snowball101.oss-cn-beijing.aliyuncs.com/img/202312251501107.png\" width=70%></div>"
   ]
  },
  {
   "cell_type": "markdown",
   "id": "04adfd3d-3c6f-42d6-a845-0b5901e51df1",
   "metadata": {},
   "source": [
    "&emsp;&emsp;比如我们想部署ChatGLM3，就可以直接在Github上选择一个镜像来安装。"
   ]
  },
  {
   "cell_type": "markdown",
   "id": "00da325b-0ccd-48dc-9c2d-607c6fa76ca8",
   "metadata": {},
   "source": [
    "<div align=center><img src=\"https://snowball101.oss-cn-beijing.aliyuncs.com/img/202312251501108.png\" width=70%></div>"
   ]
  },
  {
   "cell_type": "markdown",
   "id": "d6612d16-ef09-4d2d-8a5a-6cc9410064d8",
   "metadata": {},
   "source": [
    "&emsp;&emsp;提交订单，开始创建实例。"
   ]
  },
  {
   "cell_type": "markdown",
   "id": "a389950f-9cd6-4f13-9a6c-e68ad93afd8a",
   "metadata": {},
   "source": [
    "<div align=center><img src=\"https://snowball101.oss-cn-beijing.aliyuncs.com/img/202312251501109.png\" width=80%></div>"
   ]
  },
  {
   "cell_type": "markdown",
   "id": "ba75d7a5-6970-4622-9a1e-18539bc7e72d",
   "metadata": {},
   "source": [
    "&emsp;&emsp;这里会显示创建过程，一般需要等到 3 min以上。"
   ]
  },
  {
   "cell_type": "markdown",
   "id": "238e45d3-9c73-4496-b4e2-0c610ce1070a",
   "metadata": {},
   "source": [
    "<div align=center><img src=\"https://snowball101.oss-cn-beijing.aliyuncs.com/img/202312251501110.png\" width=100%></div>"
   ]
  },
  {
   "cell_type": "markdown",
   "id": "3af97492-885b-4ec2-877b-dddb3b5a2ce7",
   "metadata": {},
   "source": [
    "&emsp;&emsp;创建完成后，可以通过远程ssh工具连接 或者 AutoDL提供的云端运行环境。"
   ]
  },
  {
   "cell_type": "markdown",
   "id": "1c48c6d9-08c6-446d-8e20-743ab24eb164",
   "metadata": {},
   "source": [
    "<div align=center><img src=\"https://snowball101.oss-cn-beijing.aliyuncs.com/img/202312251501111.png\" width=100%></div>"
   ]
  },
  {
   "cell_type": "markdown",
   "id": "eb1acb41-0e02-48fb-8503-a82c7958b325",
   "metadata": {},
   "source": [
    "- **Step 8.这里我们选择在云端的Jupyter lab运行**"
   ]
  },
  {
   "cell_type": "markdown",
   "id": "4bdd2294-ad99-4555-b848-9e0e6233bbd0",
   "metadata": {},
   "source": [
    "\n",
    "<div align=center><img src=\"https://snowball101.oss-cn-beijing.aliyuncs.com/img/202312251501112.png\" width=70%></div>"
   ]
  },
  {
   "cell_type": "markdown",
   "id": "01e71fb0-137f-446f-8d6d-ca6eacab5f79",
   "metadata": {},
   "source": [
    "&emsp;&emsp;可以看到，由于我们选择了ChatGLM的镜像环境，在初始化机器的时候已经帮我们创建好了， 这能省去我们非常多的时间。"
   ]
  },
  {
   "cell_type": "markdown",
   "id": "845b0c0f-cb35-4922-8b79-72497c808a59",
   "metadata": {},
   "source": [
    "<div align=center><img src=\"https://snowball101.oss-cn-beijing.aliyuncs.com/img/202312251501113.png\" width=70%></div>\n"
   ]
  },
  {
   "cell_type": "markdown",
   "id": "e8676db9-f782-48dd-8954-7c9f8237bd03",
   "metadata": {},
   "source": [
    "- **Step 9.测试GPU资源**"
   ]
  },
  {
   "cell_type": "markdown",
   "id": "6e7a3300-c5a4-4a9d-bf91-11947229c73a",
   "metadata": {},
   "source": [
    "<div align=center><img src=\"https://snowball101.oss-cn-beijing.aliyuncs.com/img/202312251501114.png\" width=70%></div>"
   ]
  },
  {
   "cell_type": "markdown",
   "id": "5d779526-deff-49c5-8d31-8f4506087f45",
   "metadata": {},
   "source": [
    "<div align=center><img src=\"https://snowball101.oss-cn-beijing.aliyuncs.com/img/202312251501115.png\" width=70%></div>"
   ]
  },
  {
   "cell_type": "markdown",
   "id": "7a66c076-86d1-4352-8f9b-85557aba29f5",
   "metadata": {},
   "source": [
    "- **Step 10.如果不用，释放掉资源，避免产生额外的费用**"
   ]
  },
  {
   "cell_type": "markdown",
   "id": "7db52065-4945-433f-a3b3-30339fe82804",
   "metadata": {},
   "source": [
    "<div align=center><img src=\"https://snowball101.oss-cn-beijing.aliyuncs.com/img/202312251501116.png\" width=70%></div>"
   ]
  },
  {
   "cell_type": "markdown",
   "id": "94128501-42f7-414c-a193-8a6305fccafa",
   "metadata": {},
   "source": [
    "- **Step 11.如何白嫖？**"
   ]
  },
  {
   "cell_type": "markdown",
   "id": "2af37b41-d72a-41ba-a4a6-71d1aeaf9191",
   "metadata": {},
   "source": [
    "&emsp;&emsp;首先，如果是学生，一定要去做学生认证，可以一直享受9.5折会员价。"
   ]
  },
  {
   "cell_type": "markdown",
   "id": "5c591283-720c-4058-be2f-563f520b67e0",
   "metadata": {},
   "source": [
    "<div align=center><img src=\"https://snowball101.oss-cn-beijing.aliyuncs.com/img/202312251501096.png\" width=70%></div>"
   ]
  },
  {
   "cell_type": "markdown",
   "id": "bfb725f2-444e-4f9b-8609-2c83d56cd926",
   "metadata": {},
   "source": [
    "<div align=center><img src=\"https://snowball101.oss-cn-beijing.aliyuncs.com/img/202312251501098.png\" width=70%></div>"
   ]
  },
  {
   "cell_type": "markdown",
   "id": "bbc71b6b-24c5-46c1-b8ab-45ae64f16894",
   "metadata": {},
   "source": [
    "&emsp;&emsp;其次，AutoDL经常会搞活动，发放优惠卷和代金卷，可以常关注一下。"
   ]
  },
  {
   "cell_type": "markdown",
   "id": "e054235b-6c92-43d4-86fa-df101e1c0dfc",
   "metadata": {},
   "source": [
    "<div align=center><img src=\"https://snowball101.oss-cn-beijing.aliyuncs.com/img/202312251501117.png\" width=70%></div>"
   ]
  },
  {
   "cell_type": "markdown",
   "id": "dd9280ea-6f20-456d-abd3-65fd246ba42d",
   "metadata": {},
   "source": [
    "## 2.2 Gpushare Cloud"
   ]
  },
  {
   "cell_type": "markdown",
   "id": "ab79ea39-9884-4875-93be-7e85136a339b",
   "metadata": {},
   "source": [
    "&emsp;&emsp;Gpushare Cloud，即恒源云，和AutoDL是目前市场是最大的两家。"
   ]
  },
  {
   "cell_type": "markdown",
   "id": "a008cf41-3b73-400e-92c1-d776dbfd3a6a",
   "metadata": {},
   "source": [
    "- **优惠活动**"
   ]
  },
  {
   "cell_type": "markdown",
   "id": "ebe5e397-dab8-41cb-ad8e-6c94662ae8e2",
   "metadata": {},
   "source": [
    "&emsp;&emsp;新用户注册送50元优惠卷，但是前提是要完成全部的新手任务才会给，其中就包含首冲30元的任务。所以直接白嫖测试，是没有什么机会的。\n",
    "\n",
    "&emsp;&emsp;学生认证，通过消费提升会员等级，学生的充值金额较少，如果要到黄金会员级别，学生账号仅需充值600，而非学生账号充值30000。"
   ]
  },
  {
   "cell_type": "markdown",
   "id": "f2308f25-c215-418c-bfb5-70a8fe0fd01e",
   "metadata": {},
   "source": [
    "<div align=center><img src=\"https://snowball101.oss-cn-beijing.aliyuncs.com/img/202312271203446.png\" width=70%></div>"
   ]
  },
  {
   "cell_type": "markdown",
   "id": "a37a9f8e-cb18-4a4a-bca7-5cece4fd29ac",
   "metadata": {},
   "source": [
    "- **显卡种类及费用**"
   ]
  },
  {
   "cell_type": "markdown",
   "id": "1a19cd94-1578-4cc0-88cf-c77268e316e8",
   "metadata": {},
   "source": [
    "&emsp;&emsp;从2060s到A100，共计31种类型的GPU资源，对于大模型来说，我们仅考虑3090及以上级别的资源，各阶段的资费如下："
   ]
  },
  {
   "cell_type": "markdown",
   "id": "f2e990e6-8f61-47b9-a439-033484793788",
   "metadata": {},
   "source": [
    "| 显卡型号    | 每小时费用 | 每天费用 | 每月费用 |\n",
    "|----------|---------------|-------------|--------------|\n",
    "| RTX 3090 | 1.29 （最便宜）         | 30.03   （最便宜）     | 835.92  （最便宜）      |\n",
    "| RTX 4090 | 2.6          | 59.28  （最便宜）      | 1591.20    （最便宜）   |\n",
    "| A 100 80G|/          | /      | /      |"
   ]
  },
  {
   "cell_type": "markdown",
   "id": "42036123-4dca-4bf0-99db-cf5afc4588b2",
   "metadata": {},
   "source": [
    "- **实际使用情况**"
   ]
  },
  {
   "cell_type": "markdown",
   "id": "7484e33d-7caf-491d-b906-7f90813520f2",
   "metadata": {},
   "source": [
    "1. **可选地域限制**：可选择的服务地域包括华东、华中、东北、西北、华南和西南多个区，且每个区的资源都很多；\n",
    "2. **显卡资源分布**：主流的显卡基本都有资源，相对来说A100 80G短缺；\n",
    "3. **存储情况**：提供50GB数据盘，不太够用，如果超出按照0.0004/GB付费；\n",
    "4. **系统环境**：可选择平台预设环境，同时提供镜像市场，但需要占用个人存储空间；\n",
    "5. **开发环境**：支持远程工具连接，同时也提供云端的运行环境"
   ]
  },
  {
   "cell_type": "markdown",
   "id": "6a16284b-4e1d-437c-9f99-b319758c1a87",
   "metadata": {},
   "source": [
    "&emsp;&emsp;具体的使用过程如下："
   ]
  },
  {
   "cell_type": "markdown",
   "id": "5e4b2746-2dc2-4bfb-af4d-7298937e5468",
   "metadata": {},
   "source": [
    "- **Step 1.进入官网：https://www.gpushare.com/**"
   ]
  },
  {
   "cell_type": "markdown",
   "id": "bfa2c054-146b-41fe-89af-7bd6ba4a91f5",
   "metadata": {},
   "source": [
    "<div align=center><img src=\"https://snowball101.oss-cn-beijing.aliyuncs.com/img/202312251612326.png\" width=100%></div>"
   ]
  },
  {
   "cell_type": "markdown",
   "id": "e8ececab-e980-4360-9196-df7ffe4e9f17",
   "metadata": {},
   "source": [
    "- **Step 2.新用户先注册**"
   ]
  },
  {
   "cell_type": "markdown",
   "id": "7a1158ed-b011-4b20-a6a4-d02763f62c69",
   "metadata": {},
   "source": [
    "<div align=center><img src=\"https://snowball101.oss-cn-beijing.aliyuncs.com/img/202312251719693.png\" width=60%></div>"
   ]
  },
  {
   "cell_type": "markdown",
   "id": "93f1c62f-1a1b-449a-85f7-957114eeda79",
   "metadata": {},
   "source": [
    "- **Step 3.新用户注册后，可以领取50元的代金卷，但比较坑的是，必须做完全部新手任务才能一次性领取，其中就包含首冲30任务**"
   ]
  },
  {
   "cell_type": "markdown",
   "id": "bdcb18b8-cb10-437b-88ef-b98eb1b7b120",
   "metadata": {},
   "source": [
    "<div align=center><img src=\"https://snowball101.oss-cn-beijing.aliyuncs.com/img/202312251719694.png\" width=70%></div>"
   ]
  },
  {
   "cell_type": "markdown",
   "id": "6e87c08d-7778-4546-a30f-d2d4c757b069",
   "metadata": {},
   "source": [
    "<div align=center><img src=\"https://snowball101.oss-cn-beijing.aliyuncs.com/img/202312251719695.png\" width=70%></div>"
   ]
  },
  {
   "cell_type": "markdown",
   "id": "7bcda135-aacf-4085-96af-ad004555476d",
   "metadata": {},
   "source": [
    "- **Step 4.所以在创建实例之前，需要先进行充值**"
   ]
  },
  {
   "cell_type": "markdown",
   "id": "f76c3e62-1290-4bec-bdab-86eaa28c0f91",
   "metadata": {},
   "source": [
    "<div align=center><img src=\"https://snowball101.oss-cn-beijing.aliyuncs.com/img/202312251719696.png\" width=70%></div>"
   ]
  },
  {
   "cell_type": "markdown",
   "id": "9090e3fe-7b67-4663-b87c-39e160338f0c",
   "metadata": {},
   "source": [
    "&emsp;&emsp;同样，支持支付宝、微信和对公转账三种方式。"
   ]
  },
  {
   "cell_type": "markdown",
   "id": "5cc303bc-2d8f-468b-af77-aae294df9f19",
   "metadata": {},
   "source": [
    "<div align=center><img src=\"https://snowball101.oss-cn-beijing.aliyuncs.com/img/202312251719697.png\" width=70%></div>"
   ]
  },
  {
   "cell_type": "markdown",
   "id": "f715a642-fcf2-4bb2-adeb-305cc59ed631",
   "metadata": {},
   "source": [
    "- **Step 5.充值成功后，创建实例**"
   ]
  },
  {
   "cell_type": "markdown",
   "id": "620f9013-9485-445e-9c16-e5a765361e7b",
   "metadata": {},
   "source": [
    "<div align=center><img src=\"https://snowball101.oss-cn-beijing.aliyuncs.com/img/202312251719699.png\" width=70%></div>"
   ]
  },
  {
   "cell_type": "markdown",
   "id": "53caa81c-5c3a-46e7-bc64-8a3635b46ba4",
   "metadata": {},
   "source": [
    "&emsp;&emsp;支持的GPU类型非常多，从2060 ~ A800共计31种GPU显卡类型。"
   ]
  },
  {
   "cell_type": "markdown",
   "id": "2a365d60-c81a-463e-bcda-16a87d741062",
   "metadata": {},
   "source": [
    "<div align=center><img src=\"https://snowball101.oss-cn-beijing.aliyuncs.com/img/202312251719700.png\" width=70%></div>"
   ]
  },
  {
   "cell_type": "markdown",
   "id": "9ecd2b0f-822a-4801-b2ff-c88cb4c8d75c",
   "metadata": {},
   "source": [
    "&emsp;&emsp;这里提供镜像市场，但需要占用个人的存储空间，超出后需要按照0.0004/GB付费。"
   ]
  },
  {
   "cell_type": "markdown",
   "id": "091dddc6-0169-4ddb-b225-7356b82d8ffb",
   "metadata": {},
   "source": [
    "<div align=center><img src=\"https://snowball101.oss-cn-beijing.aliyuncs.com/img/202312251719702.png\" width=70%></div>"
   ]
  },
  {
   "cell_type": "markdown",
   "id": "77ffe2e6-cb4e-4aae-9c90-0aa5fdab8e8a",
   "metadata": {},
   "source": [
    "<div align=center><img src=\"https://snowball101.oss-cn-beijing.aliyuncs.com/img/202312251719703.png\" width=70%></div>"
   ]
  },
  {
   "cell_type": "markdown",
   "id": "3afde001-b018-471e-ba3b-558977ecf3f1",
   "metadata": {},
   "source": [
    "&emsp;&emsp;选择完成后创建实例。"
   ]
  },
  {
   "cell_type": "markdown",
   "id": "3d8a108e-c407-47e5-9c40-8b4ca71d524b",
   "metadata": {},
   "source": [
    "<div align=center><img src=\"https://snowball101.oss-cn-beijing.aliyuncs.com/img/202312251719701.png\" width=70%></div>"
   ]
  },
  {
   "cell_type": "markdown",
   "id": "abd666a2-eb3a-4e72-89e5-66731ac519f5",
   "metadata": {},
   "source": [
    "&emsp;&emsp;等待创建完成，这里显示资源的创建进度。"
   ]
  },
  {
   "cell_type": "markdown",
   "id": "44c3191b-e4bc-4492-9e60-c8b4448b190b",
   "metadata": {},
   "source": [
    "<div align=center><img src=\"https://snowball101.oss-cn-beijing.aliyuncs.com/img/202312251719704.png\" width=100%></div>"
   ]
  },
  {
   "cell_type": "markdown",
   "id": "ed2710a6-c1f8-42ea-b9a6-d7abfc3634f6",
   "metadata": {},
   "source": [
    "- **Step 5.Gpushare cloud提供了远程工具连接和云端的运行环境。**"
   ]
  },
  {
   "cell_type": "markdown",
   "id": "cdfcfacc-a2f6-421d-91e1-f74bc0365c9d",
   "metadata": {},
   "source": [
    "<div align=center><img src=\"https://snowball101.oss-cn-beijing.aliyuncs.com/img/202312251719705.png\" width=100%></div>"
   ]
  },
  {
   "cell_type": "markdown",
   "id": "253eae31-806d-4ef9-98b1-8db1a1738ead",
   "metadata": {},
   "source": [
    "&emsp;&emsp;这里我们选择直接使用Jupyter lab运行"
   ]
  },
  {
   "cell_type": "markdown",
   "id": "f17ac1ef-c346-49d3-84d0-1385a08a12ae",
   "metadata": {},
   "source": [
    "<div align=center><img src=\"https://snowball101.oss-cn-beijing.aliyuncs.com/img/202312251719706.png\" width=70%></div>"
   ]
  },
  {
   "cell_type": "markdown",
   "id": "ce3c4445-c6d9-4d34-918d-4599978cfb36",
   "metadata": {},
   "source": [
    "&emsp;&emsp;使用过程与本地Jupyter lab一致。"
   ]
  },
  {
   "cell_type": "markdown",
   "id": "4e9bb3dd-15c8-47cd-8171-193d49e54229",
   "metadata": {},
   "source": [
    "<div align=center><img src=\"https://snowball101.oss-cn-beijing.aliyuncs.com/img/202312251719707.png\" width=70%></div>"
   ]
  },
  {
   "cell_type": "markdown",
   "id": "f7472d1e-c293-41f3-bfd1-f08d521f1e57",
   "metadata": {},
   "source": [
    "- **Step 6.验证GPU环境**"
   ]
  },
  {
   "cell_type": "markdown",
   "id": "35e5bfe0-2c5b-4152-b33c-679840f74f81",
   "metadata": {},
   "source": [
    "<div align=center><img src=\"https://snowball101.oss-cn-beijing.aliyuncs.com/img/202312251719708.png\" width=70%></div>"
   ]
  },
  {
   "cell_type": "markdown",
   "id": "4bb5aca6-1aea-497d-998d-2bc7960d3945",
   "metadata": {},
   "source": [
    "- **Step 7.释放资源**"
   ]
  },
  {
   "cell_type": "markdown",
   "id": "e1f572af-6c36-440d-b2e2-64efa987f09b",
   "metadata": {},
   "source": [
    "<div align=center><img src=\"https://snowball101.oss-cn-beijing.aliyuncs.com/img/202312251719709.png\" width=70%></div>"
   ]
  },
  {
   "cell_type": "markdown",
   "id": "289eb030-9b31-4a33-8b6e-bb5b5b414360",
   "metadata": {},
   "source": [
    "- **Step 8.如何白嫖？**"
   ]
  },
  {
   "cell_type": "markdown",
   "id": "44781436-2b10-41dc-976d-0b895072e4bf",
   "metadata": {},
   "source": [
    "&emsp;&emsp;首先，如果是学生的话，一定要做学生认证。"
   ]
  },
  {
   "cell_type": "markdown",
   "id": "6bcdad6f-952c-4186-b137-26e85ba09882",
   "metadata": {},
   "source": [
    "<div align=center><img src=\"https://snowball101.oss-cn-beijing.aliyuncs.com/img/202312251719710.png\" width=70%></div>"
   ]
  },
  {
   "cell_type": "markdown",
   "id": "60aed110-4a95-4460-b4d4-dbe91cd0d834",
   "metadata": {},
   "source": [
    "&emsp;&emsp;其次，还是老套路，邀请人给自己增加现金奖励。"
   ]
  },
  {
   "cell_type": "markdown",
   "id": "766a488b-05f4-4e07-8d03-8a5b0a1a3cbd",
   "metadata": {},
   "source": [
    "<div align=center><img src=\"https://snowball101.oss-cn-beijing.aliyuncs.com/img/202312251719698.png\" width=70%></div>"
   ]
  },
  {
   "cell_type": "markdown",
   "id": "bad7b515-58ef-4f25-82cd-3fccb05cf6ba",
   "metadata": {},
   "source": [
    "## 2.3 Featurize"
   ]
  },
  {
   "cell_type": "markdown",
   "id": "5d25e5a7-7e92-4950-b2c5-9e9ca5f8d4d8",
   "metadata": {},
   "source": [
    "&emsp;&emsp;Featurize也是一个比较好用的平台，主要内置了很多比赛和公开的数据集，属于比较受高校实验室青睐的，之前一直以价格为优势，但现在从各大平台上比较来看，已然成了最贵的。"
   ]
  },
  {
   "cell_type": "markdown",
   "id": "cc438157-d89e-40ab-a26b-3b7f0d5b1970",
   "metadata": {},
   "source": [
    "- **优惠方案**"
   ]
  },
  {
   "cell_type": "markdown",
   "id": "11a21aa9-6d07-4d8d-aeae-923bd82e73fd",
   "metadata": {},
   "source": [
    "&emsp;&emsp;靠充值提升会员等级，最高充值20000元，获取8折优惠，同时充值的时候也会有代金卷。"
   ]
  },
  {
   "cell_type": "markdown",
   "id": "e8893580-0be2-41e8-9c59-4161c7452e38",
   "metadata": {},
   "source": [
    "- **显卡种类及费用**"
   ]
  },
  {
   "cell_type": "markdown",
   "id": "d9bf99ec-4dbc-4dec-bb63-420099063036",
   "metadata": {},
   "source": [
    "&emsp;&emsp;从1080Ti到A6000，共计9种类型的GPU资源，对于大模型来说，如果仅考虑3090及以上级别的资源各阶段的资费如下："
   ]
  },
  {
   "cell_type": "markdown",
   "id": "0313db58-fef3-4b63-aed2-bdf753f41d3e",
   "metadata": {},
   "source": [
    "| 显卡型号    | 每小时费用 | 每天费用 | 每月费用 |\n",
    "|----------|---------------|-------------|--------------|\n",
    "| RTX 3090 | 2.49         | 55   （最贵）     | 1500  （最贵）     |\n",
    "| RTX 4090 | 2.78          | 63  （最贵）      | 1700    （最贵）   |\n",
    "| A 100 80G| /        | /      | /      |"
   ]
  },
  {
   "cell_type": "markdown",
   "id": "bafddda4-51be-4e2c-99d8-4fc2b6e34f05",
   "metadata": {},
   "source": [
    "- **实际使用情况**"
   ]
  },
  {
   "cell_type": "markdown",
   "id": "db4a8bd8-ac9b-4ef5-a325-48beef2c0b7f",
   "metadata": {},
   "source": [
    "1. **可选地域限制**：不可选\n",
    "2. **显卡资源分布**：支持的显卡基本都能找到资源\n",
    "3. **存储情况**：不同机型，配备的内存和硬盘空间都不同，且不可选择\n",
    "4. **系统环境**：选择平台预设环境，只有Pytorch和SD环境\n",
    "5. **开发环境**：支持VScode、Pycharm等IDE远程连接，并提供详细的教程，同时也提供云端的环境"
   ]
  },
  {
   "cell_type": "markdown",
   "id": "9524563d-948e-451d-b6c5-e97bce76088e",
   "metadata": {},
   "source": [
    "&emsp;&emsp;具体的使用过程如下："
   ]
  },
  {
   "cell_type": "markdown",
   "id": "9596090a-04ff-4bbc-93fa-c7bb3d96ed6a",
   "metadata": {},
   "source": [
    "- **Step 1.进入官网：https://featurize.cn/**"
   ]
  },
  {
   "cell_type": "markdown",
   "id": "47ccc245-e283-4d9b-bcb4-293ef8fa2db5",
   "metadata": {},
   "source": [
    "<div align=center><img src=\"https://snowball101.oss-cn-beijing.aliyuncs.com/img/202312251612327.png\" width=70%></div>"
   ]
  },
  {
   "cell_type": "markdown",
   "id": "8d74cbc0-66a9-4b4f-88bf-87751956b9a4",
   "metadata": {},
   "source": [
    "&emsp;&emsp;其显卡以高性价比著称，但就目前的平台比价来看，其价格并不占优势。"
   ]
  },
  {
   "cell_type": "markdown",
   "id": "d947ed0f-a1a4-4084-b5ac-f692c1c58c30",
   "metadata": {},
   "source": [
    "<div align=center><img src=\"https://snowball101.oss-cn-beijing.aliyuncs.com/img/202312251612328.png\" width=70%></div>"
   ]
  },
  {
   "cell_type": "markdown",
   "id": "fae99744-9749-4508-8d8e-e95d9aeed64a",
   "metadata": {},
   "source": [
    "- **Step 2.进入控制台**"
   ]
  },
  {
   "cell_type": "markdown",
   "id": "4549b926-46de-4126-81f9-d5e74703888c",
   "metadata": {},
   "source": [
    "<div align=center><img src=\"https://snowball101.oss-cn-beijing.aliyuncs.com/img/202312251612331.png\" width=70%></div>"
   ]
  },
  {
   "cell_type": "markdown",
   "id": "799a73ba-402d-40c2-8a38-4c39608f5a38",
   "metadata": {},
   "source": [
    "- **Step 3.进行登陆/注册**"
   ]
  },
  {
   "cell_type": "markdown",
   "id": "6c5a3d3b-0cc5-4476-911c-7ca49dc4f371",
   "metadata": {},
   "source": [
    "<div align=center><img src=\"https://snowball101.oss-cn-beijing.aliyuncs.com/img/202312251612332.png\" width=100%></div>"
   ]
  },
  {
   "cell_type": "markdown",
   "id": "2e204eff-dff4-4b4f-8e8b-04589ebf7e27",
   "metadata": {},
   "source": [
    "- **Step 4.目前只支持微信扫码登录**"
   ]
  },
  {
   "cell_type": "markdown",
   "id": "72df3226-8f87-4023-a1d0-436c0d68a1f4",
   "metadata": {},
   "source": [
    "<div align=center><img src=\"https://snowball101.oss-cn-beijing.aliyuncs.com/img/202312251612333.png\" width=60%></div>"
   ]
  },
  {
   "cell_type": "markdown",
   "id": "dce66fa2-af38-4ab0-a67f-16a1e73cf5ba",
   "metadata": {},
   "source": [
    "- **Step 5.目前该平台没有任何活动，如果需要创建实例，需要自行充值测试**"
   ]
  },
  {
   "cell_type": "markdown",
   "id": "b67c623e-e08a-42ca-9b5e-444714a5d44c",
   "metadata": {},
   "source": [
    "<div align=center><img src=\"https://snowball101.oss-cn-beijing.aliyuncs.com/img/202312251612335.png\" width=60%></div>"
   ]
  },
  {
   "cell_type": "markdown",
   "id": "3bba6559-a76e-4f0d-97bc-d90f2323b7c4",
   "metadata": {},
   "source": [
    "- **Step 6.主页上直接进行GPU资源的选择，这里我们可以看到，目前支持1080Ti到A6000共计9种GPU资源类型**"
   ]
  },
  {
   "cell_type": "markdown",
   "id": "1fedd478-58e0-44a9-9490-5faad25a2529",
   "metadata": {},
   "source": [
    "<div align=center><img src=\"https://snowball101.oss-cn-beijing.aliyuncs.com/img/202312251612336.png\" width=70%></div>"
   ]
  },
  {
   "cell_type": "markdown",
   "id": "be63a351-cab9-4615-9731-38edf22d165a",
   "metadata": {},
   "source": [
    "- **Step 7.创建实例，这里选择3080进行尝试**"
   ]
  },
  {
   "cell_type": "markdown",
   "id": "7ab7efcd-04b2-4720-bb6f-5c1ccdd9b064",
   "metadata": {},
   "source": [
    "<div align=center><img src=\"https://snowball101.oss-cn-beijing.aliyuncs.com/img/202312251612337.png\" width=70%></div>"
   ]
  },
  {
   "cell_type": "markdown",
   "id": "ba36fba6-b294-40ee-81d0-8c68e85473bb",
   "metadata": {},
   "source": [
    "&emsp;&emsp;这里能显示服务器的详细信息。"
   ]
  },
  {
   "cell_type": "markdown",
   "id": "387394dc-62b6-4042-9c1e-439ad7a23d07",
   "metadata": {},
   "source": [
    "<div align=center><img src=\"https://snowball101.oss-cn-beijing.aliyuncs.com/img/202312251612338.png\" width=60%></div>"
   ]
  },
  {
   "cell_type": "markdown",
   "id": "6e78cbaa-601e-4924-a523-79fd1f79f869",
   "metadata": {},
   "source": [
    "&emsp;&emsp;执行完创建后，可以查看资源创建的进度。一般来说需要3min以上。"
   ]
  },
  {
   "cell_type": "markdown",
   "id": "07b378da-68fa-4e25-9a62-35b51a2b7951",
   "metadata": {},
   "source": [
    "<div align=center><img src=\"https://snowball101.oss-cn-beijing.aliyuncs.com/img/202312251612339.png\" width=70%></div>|"
   ]
  },
  {
   "cell_type": "markdown",
   "id": "bf8ced57-fea9-4cb3-ace2-5c2ed9471485",
   "metadata": {},
   "source": [
    "- **Step 8.远程连接**"
   ]
  },
  {
   "cell_type": "markdown",
   "id": "ee7eff18-4167-4bc0-9c01-5c2924e72e5b",
   "metadata": {},
   "source": [
    "&emsp;&emsp;Featurize 提供了本地远程工具连接和云端云端运行环境两种，并且给出了详细的教程。"
   ]
  },
  {
   "cell_type": "markdown",
   "id": "053f5b12-8b9d-414a-974c-f7ef04e5ed91",
   "metadata": {},
   "source": [
    "<div align=center><img src=\"https://snowball101.oss-cn-beijing.aliyuncs.com/img/202312251612340.png\" width=70%></div>"
   ]
  },
  {
   "cell_type": "markdown",
   "id": "65f68198-2734-415e-8384-d67fd3fb0f1c",
   "metadata": {},
   "source": [
    "&emsp;&emsp;比如想通过Pycharm连接的话。"
   ]
  },
  {
   "cell_type": "markdown",
   "id": "3fa0eb1b-e485-4869-a956-ca479044ab9b",
   "metadata": {},
   "source": [
    "<div align=center><img src=\"https://snowball101.oss-cn-beijing.aliyuncs.com/img/202312251612341.png\" width=70%></div>"
   ]
  },
  {
   "cell_type": "markdown",
   "id": "aad8a759-9b57-4685-9eb6-a3cc20049a98",
   "metadata": {},
   "source": [
    "<div align=center><img src=\"https://snowball101.oss-cn-beijing.aliyuncs.com/img/202312251612342.png\" width=70%></div>"
   ]
  },
  {
   "cell_type": "markdown",
   "id": "84af39db-3700-4ef3-a81d-1569f5b656f9",
   "metadata": {},
   "source": [
    "&emsp;&emsp;使用云端运行环境连接，就更加简便。"
   ]
  },
  {
   "cell_type": "markdown",
   "id": "daa7bfba-97ca-4b92-8acb-d008ab4efad7",
   "metadata": {},
   "source": [
    "<div align=center><img src=\"https://snowball101.oss-cn-beijing.aliyuncs.com/img/202312251635137.png\" width=70%></div>"
   ]
  },
  {
   "cell_type": "markdown",
   "id": "75b97f65-77d3-4a32-b9df-d63ee7b62b69",
   "metadata": {},
   "source": [
    "<div align=center><img src=\"https://snowball101.oss-cn-beijing.aliyuncs.com/img/202312251636583.png\" width=70%></div>"
   ]
  },
  {
   "cell_type": "markdown",
   "id": "e9812319-2f4d-48ca-9948-0f9e14e6818d",
   "metadata": {},
   "source": [
    "- **Step 9.使用本地工具Xshell测试连接**"
   ]
  },
  {
   "cell_type": "markdown",
   "id": "21630aaf-4d22-4bf2-a1f5-42c172dd1b94",
   "metadata": {},
   "source": [
    "<div align=center><img src=\"https://snowball101.oss-cn-beijing.aliyuncs.com/img/202312251612343.png\" width=70%></div>"
   ]
  },
  {
   "cell_type": "markdown",
   "id": "0a444f73-4844-42db-8f8c-3597121b2883",
   "metadata": {},
   "source": [
    "&emsp;&emsp;直接复制官方给出的命令至Xshell的终端。"
   ]
  },
  {
   "cell_type": "markdown",
   "id": "9f752183-4e1a-4ac4-aab3-f240b0f4672a",
   "metadata": {},
   "source": [
    "<div align=center><img src=\"https://snowball101.oss-cn-beijing.aliyuncs.com/img/202312251612344.png\" width=60%></div>"
   ]
  },
  {
   "cell_type": "markdown",
   "id": "1e2877a5-966f-47e6-acfc-1f32c2e25baf",
   "metadata": {},
   "source": [
    "&emsp;&emsp;需要修改一下，去掉命令行的-p，否则会报错。"
   ]
  },
  {
   "cell_type": "markdown",
   "id": "2ef81aed-c53b-481a-b49a-8a71f9141ae4",
   "metadata": {},
   "source": [
    "<div align=center><img src=\"https://snowball101.oss-cn-beijing.aliyuncs.com/img/202312251612345.png\" width=70%></div>"
   ]
  },
  {
   "cell_type": "markdown",
   "id": "2a40d83d-ecc1-4d01-9e48-02723d026436",
   "metadata": {},
   "source": [
    "&emsp;&emsp;看到此页面，说明远程连接服务器成功，可以在此环境下进行相关的操作。"
   ]
  },
  {
   "cell_type": "markdown",
   "id": "145014d1-fc54-46b4-957c-75a25a631479",
   "metadata": {},
   "source": [
    "<div align=center><img src=\"https://snowball101.oss-cn-beijing.aliyuncs.com/img/202312251612346.png\" width=70%></div>"
   ]
  },
  {
   "cell_type": "markdown",
   "id": "b8eab374-a289-4cf5-8602-d29e163b81ef",
   "metadata": {},
   "source": [
    "- **Step 10.查看GPU资源**"
   ]
  },
  {
   "cell_type": "markdown",
   "id": "78d2eae5-3248-47e7-8435-da36c166d97c",
   "metadata": {},
   "source": [
    "<div align=center><img src=\"https://snowball101.oss-cn-beijing.aliyuncs.com/img/202312251612347.png\" width=70%></div>"
   ]
  },
  {
   "cell_type": "markdown",
   "id": "e0a7dfbf-52b5-4431-9fac-8c46ca6aa512",
   "metadata": {},
   "source": [
    "- **Step 11.释放资源**"
   ]
  },
  {
   "cell_type": "markdown",
   "id": "d73ff7af-1db7-47cf-8be4-fb3699936282",
   "metadata": {},
   "source": [
    "<div align=center><img src=\"https://snowball101.oss-cn-beijing.aliyuncs.com/img/202312251612348.png\" width=70%></div>"
   ]
  },
  {
   "cell_type": "markdown",
   "id": "d0d03569-7a39-4bc4-bfe8-29d2e94a40aa",
   "metadata": {},
   "source": [
    "- **Step 12.如何白嫖？**"
   ]
  },
  {
   "cell_type": "markdown",
   "id": "31f2b124-fa5a-4360-afd2-df1f7226a476",
   "metadata": {},
   "source": [
    "&emsp;&emsp;还是老套路，邀请别人自己得奖励。"
   ]
  },
  {
   "cell_type": "markdown",
   "id": "b513d681-466f-4b6f-a8a7-7740cf4a6c0b",
   "metadata": {},
   "source": [
    "<div align=center><img src=\"https://snowball101.oss-cn-beijing.aliyuncs.com/img/202312251612334.png\" width=70%></div>"
   ]
  },
  {
   "cell_type": "markdown",
   "id": "3e7b2fe2-712d-4e8b-b3c1-1c74ffe35918",
   "metadata": {},
   "source": [
    "## 2.4 AnyGPU"
   ]
  },
  {
   "cell_type": "markdown",
   "id": "f4c45ea5-04eb-4664-ad69-fc0d786f2652",
   "metadata": {},
   "source": [
    "&emsp;&emsp;AnyGPU主要服务AI深度学习、高性能计算、渲染测绘、云游戏等领域。"
   ]
  },
  {
   "cell_type": "markdown",
   "id": "e253d731-7b35-48e8-a2a7-dbed54dbae9c",
   "metadata": {},
   "source": [
    "- **优惠方案**"
   ]
  },
  {
   "cell_type": "markdown",
   "id": "9ce014d5-ca61-49bb-ba0e-bb6591e2ebf7",
   "metadata": {},
   "source": [
    "&emsp;&emsp;首次充值返现优惠：首次充值即享受 15% 的返现优惠。充值的金额越多，获得的返现也越多。例如，若充值 575 元，实际只需支付 500 元。\n",
    "\n",
    "&emsp;&emsp;会员专享折扣：成为会员后，享受所有服务 8.8 折优惠。要成为会员，需要联系客服，并支付 88 元的会员费。相当于是一种“免费送”的优惠，因为会员所享受的折扣将覆盖这笔费用。"
   ]
  },
  {
   "cell_type": "markdown",
   "id": "2f77cc69-3449-4647-a332-629ed2e15ccc",
   "metadata": {},
   "source": [
    "- **显卡种类及费用**"
   ]
  },
  {
   "cell_type": "markdown",
   "id": "90f59949-888e-4b14-922c-4bcc7c096475",
   "metadata": {},
   "source": [
    "&emsp;&emsp;从2080Ti到A100，共计12种类型的GPU资源，对于大模型来说，我们仅考虑3090及以上级别的资源，各阶段的资费如下：（目前仅支持按量付费，也就是小时。）"
   ]
  },
  {
   "cell_type": "markdown",
   "id": "40909283-13e4-4566-8282-ec259084a56e",
   "metadata": {},
   "source": [
    "| 显卡型号    | 每小时费用 | 每天费用 | 每月费用 |\n",
    "|----------|---------------|-------------|--------------|\n",
    "| RTX 3090 | 1.33          | 32.00       | 800.00       |\n",
    "| RTX 4090 | 2.27          | 54.40       | 1360.00      |\n",
    "| A 100 80G| 7.22          | 165.44      | 4180.00      |"
   ]
  },
  {
   "cell_type": "markdown",
   "id": "0032ab1d-981a-469c-9d36-4367177fe6fd",
   "metadata": {},
   "source": [
    "- **实际使用情况**"
   ]
  },
  {
   "cell_type": "markdown",
   "id": "b63cd211-d0b0-4e74-b93f-3d770a57900c",
   "metadata": {},
   "source": [
    "1. **可选地域限制**：可选择的服务地域包括福州、广州、北京和上海四个地域。但是北京和上海的资源基本创建不到\n",
    "2. **显卡资源分布**：目前较为充足的显卡资源主要集中在 GeForce RTX 2080Ti、3080 和 3090，RTX 4090 和 A 系列显卡基本没有，而且尽管系统上显示资源存在，实际上在创建过程中经常出现报错，导致无法成功创建实例。\n",
    "3. **存储和系统环境**：提供 200GB 的数据盘，通常足够使用。但系统环境只能选择平台预设的选项，不支持自定义镜像。并且操作仅能通过 SSH 远程工具完成，不提供云端运行环境。\n",
    "4. **系统环境纯净但对新手不友好**：系统环境较为“纯净”，许多必要的依赖包并未预装，这对于初学者来说可能不太友好，需要自行配置和安装所需软件。"
   ]
  },
  {
   "cell_type": "markdown",
   "id": "0d043df3-c4ce-4452-94d7-72a0a1312fd1",
   "metadata": {},
   "source": [
    "&emsp;&emsp;具体的使用过程如下："
   ]
  },
  {
   "cell_type": "markdown",
   "id": "a8dea47f-d015-448e-a36b-2fd22246c773",
   "metadata": {},
   "source": [
    "- **Step 1.进入官网：https://www.anygpu.cn/**"
   ]
  },
  {
   "cell_type": "markdown",
   "id": "505dfcef-ae9e-4dac-887e-63a750fe3063",
   "metadata": {},
   "source": [
    "<div align=center><img src=\"https://snowball101.oss-cn-beijing.aliyuncs.com/img/202312251155452.png\" width=70%></div>"
   ]
  },
  {
   "cell_type": "markdown",
   "id": "543974b9-d29c-4869-af40-4f07b092db70",
   "metadata": {},
   "source": [
    "- **Step 2. 新用户先进行账户注册**"
   ]
  },
  {
   "cell_type": "markdown",
   "id": "ecc01971-f34f-416b-8dd1-2970320406fa",
   "metadata": {},
   "source": [
    "<div align=center><img src=\"https://snowball101.oss-cn-beijing.aliyuncs.com/img/202312251156578.png\" width=70%></div>"
   ]
  },
  {
   "cell_type": "markdown",
   "id": "0ff8db3d-21c0-4a5f-9da1-a8667b7c933e",
   "metadata": {},
   "source": [
    "- **Step 3. 首次注册，关注公众号可以获得10元体验金，可用于租赁服务器**"
   ]
  },
  {
   "cell_type": "markdown",
   "id": "19adce42-068b-44cc-b469-289dbcbd9a8e",
   "metadata": {},
   "source": [
    "<div align=center><img src=\"https://snowball101.oss-cn-beijing.aliyuncs.com/img/202312251156580.png\" width=70%></div>"
   ]
  },
  {
   "cell_type": "markdown",
   "id": "841bc0f1-9ee4-4656-a959-61a084018198",
   "metadata": {},
   "source": [
    "<div align=center><img src=\"https://snowball101.oss-cn-beijing.aliyuncs.com/img/202312251156585.png\" width=100%></div>"
   ]
  },
  {
   "cell_type": "markdown",
   "id": "b79d8357-ad40-4251-b134-fee2c4569307",
   "metadata": {},
   "source": [
    "- **Step 4. 同时，参加问卷调查，可以额外获得10 ~ 50体验金，5~10个工作日到账**"
   ]
  },
  {
   "cell_type": "markdown",
   "id": "23b056b7-f79e-4b3f-acd9-8232f1fdfbc4",
   "metadata": {},
   "source": [
    "<div align=center><img src=\"https://snowball101.oss-cn-beijing.aliyuncs.com/img/202312251156581.png\" width=70%></div>"
   ]
  },
  {
   "cell_type": "markdown",
   "id": "bae9bdca-15ee-4804-8373-e0ab2d01df7e",
   "metadata": {},
   "source": [
    "<div align=center><img src=\"https://snowball101.oss-cn-beijing.aliyuncs.com/img/202312251156579.png\" width=70%></div>"
   ]
  },
  {
   "cell_type": "markdown",
   "id": "144c30ba-13b9-4759-9847-12694c331ca5",
   "metadata": {},
   "source": [
    "- **Step 5. 注册完成后进入控制台**"
   ]
  },
  {
   "cell_type": "markdown",
   "id": "e556d16d-09dc-4cfa-9cfd-9883ab8d6bb9",
   "metadata": {},
   "source": [
    "<div align=center><img src=\"https://snowball101.oss-cn-beijing.aliyuncs.com/img/202312251156577.png\" width=70%></div>"
   ]
  },
  {
   "cell_type": "markdown",
   "id": "93e6d055-050f-408d-96b4-7c42776cb224",
   "metadata": {},
   "source": [
    "- **Step 6. 这里可以看一下，该平台会员是8.8折优惠**"
   ]
  },
  {
   "cell_type": "markdown",
   "id": "d99701a5-ae9d-468a-929d-be2c85cc1837",
   "metadata": {},
   "source": [
    "<div align=center><img src=\"https://snowball101.oss-cn-beijing.aliyuncs.com/img/202312251156591.png\" width=70%></div>"
   ]
  },
  {
   "cell_type": "markdown",
   "id": "6e35a1ae-e221-41d9-a6a0-d5497bead58b",
   "metadata": {},
   "source": [
    "&emsp;&emsp;我也咨询了一下客服，是需要充值88元到账户中，会给开通会员。其实也算白送一个月会员。"
   ]
  },
  {
   "cell_type": "markdown",
   "id": "2fbb3c5c-64bf-4d4c-9b5a-228d24cd073b",
   "metadata": {},
   "source": [
    "<div align=center><img src=\"https://snowball101.oss-cn-beijing.aliyuncs.com/img/202312251156588.png\" width=70%></div>"
   ]
  },
  {
   "cell_type": "markdown",
   "id": "5c5975b0-61cb-45c3-8f4c-6c8b72b46f72",
   "metadata": {},
   "source": [
    "<div align=center><img src=\"https://snowball101.oss-cn-beijing.aliyuncs.com/img/202312251156590.png\" width=70%></div>"
   ]
  },
  {
   "cell_type": "markdown",
   "id": "f3172cb9-81ec-461c-ab20-e6376fae6bb5",
   "metadata": {},
   "source": [
    "&emsp;&emsp;同时，也有一个首冲福利。充的越多，越划算。"
   ]
  },
  {
   "cell_type": "markdown",
   "id": "f0afc0b4-936c-4116-bcac-40dcea1ffe1f",
   "metadata": {},
   "source": [
    "<div align=center><img src=\"https://snowball101.oss-cn-beijing.aliyuncs.com/img/202312251156587.png\" width=70%></div>"
   ]
  },
  {
   "cell_type": "markdown",
   "id": "7a6e0665-b37a-4ffb-af1e-7efad42514bb",
   "metadata": {},
   "source": [
    "- **Step 7. 目前该平台支持从2080Ti到A100共计12种类型的GPU资源**"
   ]
  },
  {
   "cell_type": "markdown",
   "id": "ebf74690-9ed0-46da-8009-ecb9aa671b9d",
   "metadata": {},
   "source": [
    "<div align=center><img src=\"https://snowball101.oss-cn-beijing.aliyuncs.com/img/202312251156586.png\" width=70%></div>"
   ]
  },
  {
   "cell_type": "markdown",
   "id": "5128dd6a-6600-4a55-8700-dfe12fa39788",
   "metadata": {},
   "source": [
    "- **Step 8. 在创建实例前，建议完善一下账号信息，毕竟涉及财产安全**"
   ]
  },
  {
   "cell_type": "markdown",
   "id": "8cb3a4da-4036-4843-8983-933d8dc5281d",
   "metadata": {},
   "source": [
    "<div align=center><img src=\"https://snowball101.oss-cn-beijing.aliyuncs.com/img/202312251156584.png\" width=70%></div>"
   ]
  },
  {
   "cell_type": "markdown",
   "id": "e0093729-ede0-43e0-85c3-3c9b2405452c",
   "metadata": {},
   "source": [
    "&emsp;&emsp;绑定手机号。"
   ]
  },
  {
   "cell_type": "markdown",
   "id": "0a91cb93-7f67-4819-acee-1cbf19bf91dd",
   "metadata": {},
   "source": [
    "<div align=center><img src=\"https://snowball101.oss-cn-beijing.aliyuncs.com/img/202312251156583.png\" width=70%></div>"
   ]
  },
  {
   "cell_type": "markdown",
   "id": "97b051f1-2b50-46db-b24d-be8f9dd52367",
   "metadata": {},
   "source": [
    "- **Step 9. 完善账号信息后，创建实例**"
   ]
  },
  {
   "cell_type": "markdown",
   "id": "875b2c1b-85a7-41a1-95f2-94c979ce3864",
   "metadata": {},
   "source": [
    "<div align=center><img src=\"https://snowball101.oss-cn-beijing.aliyuncs.com/img/202312251156592.png\" width=100%></div>"
   ]
  },
  {
   "cell_type": "markdown",
   "id": "90507e77-9663-4bc3-8f2f-78c9ec3c8214",
   "metadata": {},
   "source": [
    "&emsp;&emsp;这里可以切换地域，不同地域下可创建的资源不同。"
   ]
  },
  {
   "cell_type": "markdown",
   "id": "d8ecf100-1a14-4464-baa1-80ac0a0e0db2",
   "metadata": {},
   "source": [
    "<div align=center><img src=\"https://snowball101.oss-cn-beijing.aliyuncs.com/img/202312251156593.png\" width=70%></div>"
   ]
  },
  {
   "cell_type": "markdown",
   "id": "dd0bae65-660e-4999-bea9-2cb0db98d6c2",
   "metadata": {},
   "source": [
    "&emsp;&emsp;选择具体的GPU资源，同时还有免费的200GB的数据盘。"
   ]
  },
  {
   "cell_type": "markdown",
   "id": "1a37d710-c6a1-4f81-8773-fbb4e12b70c1",
   "metadata": {},
   "source": [
    "<div align=center><img src=\"https://snowball101.oss-cn-beijing.aliyuncs.com/img/202312251156594.png\" width=90%></div>"
   ]
  },
  {
   "cell_type": "markdown",
   "id": "0979632a-220d-4951-ade6-04fd0af737ce",
   "metadata": {},
   "source": [
    "&emsp;&emsp;只能选择系统提供的镜像。在这里选择操作系统。"
   ]
  },
  {
   "cell_type": "markdown",
   "id": "18b9c476-4a36-4cc9-a8a6-928df35ad2e0",
   "metadata": {},
   "source": [
    "<div align=center><img src=\"https://snowball101.oss-cn-beijing.aliyuncs.com/img/202312251156595.png\" width=90%></div>"
   ]
  },
  {
   "cell_type": "markdown",
   "id": "70f8341b-8e90-4810-ae62-6ca86f27942d",
   "metadata": {},
   "source": [
    "&emsp;&emsp;只能选择系统提供的镜像。在这里选择操作系统。"
   ]
  },
  {
   "cell_type": "markdown",
   "id": "dd0a0f1c-76e3-42d2-b175-13336fa736df",
   "metadata": {},
   "source": [
    "<div align=center><img src=\"https://snowball101.oss-cn-beijing.aliyuncs.com/img/202312251156596.png\" width=90%></div>"
   ]
  },
  {
   "cell_type": "markdown",
   "id": "d067e4e3-b301-4d5a-a2c4-18594b815f5d",
   "metadata": {},
   "source": [
    "<div align=center><img src=\"https://snowball101.oss-cn-beijing.aliyuncs.com/img/202312251156597.png\" width=90%></div>"
   ]
  },
  {
   "cell_type": "markdown",
   "id": "105e3126-c0c7-49f0-9062-524b748aa8d4",
   "metadata": {},
   "source": [
    "- **Step 10. 提交订单后等待创建完成**"
   ]
  },
  {
   "cell_type": "markdown",
   "id": "01f5faef-58c1-4b4a-abf9-57afd5c5a62f",
   "metadata": {},
   "source": [
    "<div align=center><img src=\"https://snowball101.oss-cn-beijing.aliyuncs.com/img/202312251156598.png\" width=90%></div>"
   ]
  },
  {
   "cell_type": "markdown",
   "id": "e0221e56-17ec-46ae-9566-d53df20e423b",
   "metadata": {},
   "source": [
    "&emsp;&emsp;有个问题是：尽管资源显示充足，但是经常性创建失败，我这里3090一直无法创建，所以最终创建一台3080."
   ]
  },
  {
   "cell_type": "markdown",
   "id": "18896331-7851-461c-b2a4-5be6083b3747",
   "metadata": {},
   "source": [
    "<div align=center><img src=\"https://snowball101.oss-cn-beijing.aliyuncs.com/img/202312251156599.png\" width=90%></div>"
   ]
  },
  {
   "cell_type": "markdown",
   "id": "603fcda2-ad84-4fff-bbb4-4682e3331c3a",
   "metadata": {},
   "source": [
    "- **Step 11. 该平台目前只能SSH远程连接，并没有提供云端运行环境**"
   ]
  },
  {
   "cell_type": "markdown",
   "id": "2d2be318-2925-47c3-b48d-a29c766a2ac0",
   "metadata": {},
   "source": [
    "<div align=center><img src=\"https://snowball101.oss-cn-beijing.aliyuncs.com/img/202312251156600.png\" width=90%></div>"
   ]
  },
  {
   "cell_type": "markdown",
   "id": "bc54e2dd-b410-47e9-b742-5848d25d6776",
   "metadata": {},
   "source": [
    "&emsp;&emsp;点击 SSH 连接，可以查看相关的远程连接信息。"
   ]
  },
  {
   "cell_type": "markdown",
   "id": "caead68a-b290-4b94-b535-8bbd3fee5b60",
   "metadata": {},
   "source": [
    "<div align=center><img src=\"https://snowball101.oss-cn-beijing.aliyuncs.com/img/202312251156601.png\" width=70%></div>"
   ]
  },
  {
   "cell_type": "markdown",
   "id": "deafeccd-740c-45fc-af04-ed3c00e43086",
   "metadata": {},
   "source": [
    "- **Step 12. 使用Xshell远程工具连接服务器**"
   ]
  },
  {
   "cell_type": "markdown",
   "id": "bebbd861-548b-44fe-ad38-1bcc4d7c87b3",
   "metadata": {},
   "source": [
    "<div align=center><img src=\"https://snowball101.oss-cn-beijing.aliyuncs.com/img/202312251156602.png\" width=70%></div>"
   ]
  },
  {
   "cell_type": "markdown",
   "id": "6a757c40-c9bd-4fe7-b239-3dca16ebbd83",
   "metadata": {},
   "source": [
    "&emsp;&emsp;输入用户名和密码。"
   ]
  },
  {
   "cell_type": "markdown",
   "id": "f171d545-5a67-4e2d-8298-9dbf48bace3e",
   "metadata": {},
   "source": [
    "<div align=center><img src=\"https://snowball101.oss-cn-beijing.aliyuncs.com/img/202312251156604.png\" width=70%></div>"
   ]
  },
  {
   "cell_type": "markdown",
   "id": "c43665e7-4cdf-4731-a3af-9f601919ed75",
   "metadata": {},
   "source": [
    "- **Step 13. 登陆成功后验证GPU资源**"
   ]
  },
  {
   "cell_type": "markdown",
   "id": "262a983f-7dc0-4c9e-8929-c3f79f6aa0c1",
   "metadata": {},
   "source": [
    "&emsp;&emsp;`nvidia-smi` 命令可以监控和管理与 NVIDIA GPU 相关的硬件和软件状态。"
   ]
  },
  {
   "cell_type": "markdown",
   "id": "ee1299a7-95a1-4945-99bc-cdb5f6308b02",
   "metadata": {},
   "source": [
    "<div align=center><img src=\"https://snowball101.oss-cn-beijing.aliyuncs.com/img/202312251156605.png\" width=70%></div>"
   ]
  },
  {
   "cell_type": "markdown",
   "id": "30bd59e9-8e94-4315-9bee-c6b51d2bc469",
   "metadata": {},
   "source": [
    "&emsp;&emsp;这里出现报错，说明需要安装相应的 NVIDIA 驱动程序。在安装新的驱动程序之前，先更新系统软件包列表。在终端中运行以下命令："
   ]
  },
  {
   "cell_type": "markdown",
   "id": "8bdd5f2e-ba3a-4dc3-b8e4-be2f5f45ef13",
   "metadata": {},
   "source": [
    "<div align=center><img src=\"https://snowball101.oss-cn-beijing.aliyuncs.com/img/202312251156606.png\" width=70%></div>"
   ]
  },
  {
   "cell_type": "markdown",
   "id": "c452845e-5bd8-4063-9025-228b56bb79f4",
   "metadata": {},
   "source": [
    "&emsp;&emsp;NVIDIA GeForce RTX 3080 显卡应该安装一个比较新的 NVIDIA 驱动程序版本，建议 510 或更高版本。"
   ]
  },
  {
   "cell_type": "markdown",
   "id": "2903cc88-f80d-4a1b-b031-7a4216602c31",
   "metadata": {},
   "source": [
    "<div align=center><img src=\"https://snowball101.oss-cn-beijing.aliyuncs.com/img/202312251156607.png\" width=70%></div>"
   ]
  },
  {
   "cell_type": "markdown",
   "id": "807f9a22-19c8-4a32-8350-19c9356b7452",
   "metadata": {},
   "source": [
    "&emsp;&emsp;安装驱动后，可以看到已经能够正常加载。"
   ]
  },
  {
   "cell_type": "markdown",
   "id": "fd4a075d-5540-45d8-ae9c-f39b06e34222",
   "metadata": {},
   "source": [
    "<div align=center><img src=\"https://snowball101.oss-cn-beijing.aliyuncs.com/img/202312251156608.png\" width=70%></div>"
   ]
  },
  {
   "cell_type": "markdown",
   "id": "4c1dfe7c-c765-4d51-bccc-7436ed51724c",
   "metadata": {},
   "source": [
    "- **Step 14. 如果不使用该资源后，需要进行释放，以免花费额外的费用**"
   ]
  },
  {
   "cell_type": "markdown",
   "id": "2e1fd94b-eefc-4ecb-8b67-cbece5e5651c",
   "metadata": {},
   "source": [
    "<div align=center><img src=\"https://snowball101.oss-cn-beijing.aliyuncs.com/img/202312251156609.png\" width=90%></div>"
   ]
  },
  {
   "cell_type": "markdown",
   "id": "b64f5785-7920-497c-8ac2-806541508892",
   "metadata": {},
   "source": [
    "\n",
    "<div align=center><img src=\"https://snowball101.oss-cn-beijing.aliyuncs.com/img/202312251156610.png\" width=70%></div>"
   ]
  },
  {
   "cell_type": "markdown",
   "id": "bb627f34-c560-4207-8cf0-0473c39dea2d",
   "metadata": {},
   "source": []
  },
  {
   "cell_type": "markdown",
   "id": "f034449d-5052-43e2-93e6-6f6303a8caf3",
   "metadata": {},
   "source": [
    "## 2.5 阿里云"
   ]
  },
  {
   "cell_type": "markdown",
   "id": "f2dbe4d6-4cf8-4d1f-8dae-5f066fd13faa",
   "metadata": {},
   "source": [
    "&emsp;&emsp;阿里云GPU服务器租用价格表包括包年包月价格、一个小时收费以及学生GPU服务器租用费用，阿里云GPU计算卡包括NVIDIA V100计算卡、T4计算卡、A10计算卡和A100计算卡，分为多种实例规格，如NVIDIA V100 GPU卡的GPU云服务器gn6v实例、GPU云服务器gn6i采用T4计算卡、GPU云服务器gn7e实例采用A100计算卡、GPU云服务器gn7i实例采用A10计算卡。GPU云服务器规格不同、CPU内存配置不同价格也不同。\n",
    "\n",
    "&emsp;&emsp;整体来说，服务器价格对于学生和个人来说小贵，更多的是面向企业用户。"
   ]
  },
  {
   "cell_type": "markdown",
   "id": "5fa13184-3aa2-44c8-8f4c-79167528b8b2",
   "metadata": {},
   "source": [
    "- **Step 1.先进入阿里云官网，登陆账户：https://cn.aliyun.com/**"
   ]
  },
  {
   "cell_type": "markdown",
   "id": "dc5a07a7-7f5c-4889-aec4-e7a937ba845a",
   "metadata": {},
   "source": [
    "<div align=center><img src=\"https://snowball101.oss-cn-beijing.aliyuncs.com/img/202312251816180.png\" width=100%></div>"
   ]
  },
  {
   "cell_type": "markdown",
   "id": "3eba0f5e-b526-41e4-ab90-8ab0df78148c",
   "metadata": {},
   "source": [
    "- **Step 2.在产品-计算中，找到GPU云服务器入口**"
   ]
  },
  {
   "cell_type": "markdown",
   "id": "e6628d47-1898-4eb7-98c3-ce08d36e5cac",
   "metadata": {},
   "source": [
    "<div align=center><img src=\"https://snowball101.oss-cn-beijing.aliyuncs.com/img/202312251816181.png\" width=70%></div>"
   ]
  },
  {
   "cell_type": "markdown",
   "id": "6db15f2c-bb84-4db8-a8ae-8abec0206167",
   "metadata": {},
   "source": [
    "- **Step 3.阿里云提供了V100、T4、A10、P4、P100 共计5种显卡配置的GPU云服务器，其中如果涉及训练和科学计算的，一定要选择V100。**"
   ]
  },
  {
   "cell_type": "markdown",
   "id": "b79b58cd-658e-4461-b2ca-9e5e669873da",
   "metadata": {},
   "source": [
    "<div align=center><img src=\"https://snowball101.oss-cn-beijing.aliyuncs.com/img/202312251816182.png\" width=70%></div>"
   ]
  },
  {
   "cell_type": "markdown",
   "id": "753870c3-f531-4faa-8f01-2e73b81495e1",
   "metadata": {},
   "source": [
    "- **Step 4.根据个人需求选择配置和操作系统。**"
   ]
  },
  {
   "cell_type": "markdown",
   "id": "7067bb9d-ab10-48ae-8092-46af15d049f1",
   "metadata": {},
   "source": [
    "<div align=center><img src=\"https://snowball101.oss-cn-beijing.aliyuncs.com/img/202312251816183.png\" width=70%></div>"
   ]
  },
  {
   "cell_type": "markdown",
   "id": "db2611b9-75b0-42ae-bd1b-287f4e36b1e3",
   "metadata": {},
   "source": [
    "&emsp;&emsp;通过对比也可以看到，云服务厂商的 GPU 服务器对大多数人来说都是租不起的，阿里云或 AWS 的 GPU 实例价格大家都知道的。很多学生或者自由职业者想自己做做ML和DL的同学都苦于没有廉价的平台来做实验。GPU租赁市场很乱，大家一定要记得去甄别一些，所谓的“免费”！有些打折免费的口号，根本没有机器去选择，最后引导还是会指向用户去选择更贵的机器，所以拥有个性化推荐的平台是非常有优势的，根据个人的项目情况选择最具性价比的机器，避免算力浪费的同时也降低了用户的使用成本，这样的循环才是好的。站在消费者的角度来看，我觉得大家不是为了选择便宜而去选择，从接受一个新平台来说，如果有一种物超所值的感受，那么价格绝对就不是某个平台的核心竞争力，保证流畅/效率/安全，才是对一个开发者而言最重要的。"
   ]
  }
 ],
 "metadata": {
  "kernelspec": {
   "display_name": "Python 3 (ipykernel)",
   "language": "python",
   "name": "python3"
  },
  "language_info": {
   "codemirror_mode": {
    "name": "ipython",
    "version": 3
   },
   "file_extension": ".py",
   "mimetype": "text/x-python",
   "name": "python",
   "nbconvert_exporter": "python",
   "pygments_lexer": "ipython3",
   "version": "3.12.3"
  }
 },
 "nbformat": 4,
 "nbformat_minor": 5
}
