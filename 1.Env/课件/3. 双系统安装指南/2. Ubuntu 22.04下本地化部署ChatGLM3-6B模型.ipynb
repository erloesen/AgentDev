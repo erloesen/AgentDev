{
 "cells": [
  {
   "cell_type": "markdown",
   "id": "cbeae5ca-5949-4c79-b2a0-f1ff103860b5",
   "metadata": {},
   "source": [
    "# <center>本地部署开源大模型"
   ]
  },
  {
   "cell_type": "markdown",
   "id": "80069f49-2ea4-431b-8b94-48c14ec19966",
   "metadata": {
    "tags": []
   },
   "source": [
    "## <center>Ch.4 在Ubuntu 22.04系统下部署运行ChatGLM3-6B模型"
   ]
  },
  {
   "cell_type": "markdown",
   "id": "ff34bc1d-ee4a-49b9-821a-a4cfa7f5b085",
   "metadata": {},
   "source": [
    "&emsp;&emsp;大模型部署整体来看并不复杂，且官方一般都会提供标准的模型部署流程，但很多人在部署过程中会遇到各种各样的问题，很难成功部署，主要是因为这个过程会涉及非常多依赖库的安装和更新及根据本地的\n",
    "安装情况，需要适时的调整代码逻辑。除此之外也有一定的硬件要求，总的来说还是具有一定的部署和使用门槛。因此本期课程，我们特地详细整理了一份ChatGLM3-6B模型的部署流程教程，供大家参考和学习。"
   ]
  },
  {
   "cell_type": "markdown",
   "id": "fb9668c3-b883-46d1-8735-2c8610ea8dc8",
   "metadata": {},
   "source": [
    "- **操作系统要求**"
   ]
  },
  {
   "cell_type": "markdown",
   "id": "0aabf1b4-8ba8-4f0d-81b0-a85b469578c0",
   "metadata": {},
   "source": [
    "&emsp;&emsp;首先看系统要求。目前开源的大模型都支持在Windows、Linux和Mac上部署运行。但在应用开发领域中，Linux 系统通常被优先选择而不是 Windows，主要原因是Linux 系统具有强大的包管理系统（如 apt, yum, pacman），允许开发者轻松安装、更新和管理软件包，这比 Windows 操作系统上的软件安装和管理更加方便快捷。同时Linux系统与多种编程语言和开发工具的兼容性较好，尤其是一些开源工具，仅支持在Linux系统上使用。整体来看，在应用运行方面对硬件的要求较低，且在处理多任务时表现出色，所以被广泛认为是一个非常稳定和可靠的系统，特别是对于服务器和长时间运行的应用。\n",
    "\n",
    "&emsp;&emsp;Linux 操作系统有许多不同的发行版，每种发行版都有其特定的特点和用途，如CentOS、Ubuntu和Debian等。 CentOS 是一种企业级的 Linux 发行版，以稳定性和安全性著称。它是 RHEL（Red Hat Enterprise Linux）的免费替代品，与 RHEL 完全兼容，适用于服务器和企业环境。而Ubuntu，是最受欢迎的 Linux 发行版之一，其优势就是对用户友好和很强的易用性，其图形化界面都适合大部分人的习惯。\n",
    "\n",
    "&emsp;&emsp;所以，在实践大模型时，强烈建议大家使用Ubuntu系统。同时，本教程也是针对Ubuntu 22.04 桌面版系统来进行ChatGLM3-6B模型的部署和运行的。"
   ]
  },
  {
   "cell_type": "markdown",
   "id": "c36112d8-24ee-459b-b284-2011a47cfc03",
   "metadata": {},
   "source": [
    "- **硬件配置要求**"
   ]
  },
  {
   "cell_type": "markdown",
   "id": "a2758efe-a3c2-4694-8187-f785ebbe4e14",
   "metadata": {},
   "source": [
    "&emsp;&emsp;其次，关于硬件的需求，ChatGLM3-6B支持GPU运行（需要英伟达显卡）、CPU运行以及Apple M系列芯片运行。其中GPU运行需要至少6GB以上显存（4Bit精度运行模式下），而CPU运行则需要至少32G的内存。而由于Apple M系列芯片是统一内存架构，因此最少需要13G内存即可运行。其中CPU运行模式下内存占用过大且运行效率较低，因此我们也强调过，GPU模式部署才能有效的进行大模型的学习实践。\n",
    "\n",
    "&emsp;&emsp;在本教程中，我们将重点讲解如何配置GPU环境来部署运行ChatGLM3-6B模型。"
   ]
  },
  {
   "cell_type": "markdown",
   "id": "cc5d5dac-2024-4e3d-8b0b-388292608f61",
   "metadata": {},
   "source": [
    "&emsp;&emsp;基于上述两方面的原因，我们在前两期内容也分别详细地介绍了如何根据大模型的官方配置需求来选择最合适的硬件环境，及如何部署一个纯净的Ubuntu 22.04双系统。本期内容就在这样的环境基础上，安装必要的大模型运行依赖环境，并实际部署、运行及使用ChatGLM3-6B模型。"
   ]
  },
  {
   "cell_type": "markdown",
   "id": "721a7c1c-04df-45f5-80de-72e55e300b0e",
   "metadata": {},
   "source": [
    "&emsp;&emsp;在开始之前，请大家确定当前使用的硬件环境满足ChatGLM3-6B模型本地化运行的官方最低配置需求："
   ]
  },
  {
   "cell_type": "markdown",
   "id": "d624bc2d-2615-49c6-8fe6-ddea696386eb",
   "metadata": {},
   "source": [
    "<div align=center><img src=\"https://snowball101.oss-cn-beijing.aliyuncs.com/img/202401021814642.png\" width=60%></div>"
   ]
  },
  {
   "cell_type": "markdown",
   "id": "f4d7935e-9c57-42b7-8b78-3a38404e1a61",
   "metadata": {},
   "source": [
    "&emsp;&emsp;如果配置满足需求，接下来我们就一步一步执行本地化部署ChatGLM3-6B模型。本期内容将首先介绍ChatGLM3-6B模型在Ubuntu 22.04系统下单显卡部署流程，更加专业的Linux多卡部署模式，我们将在下一期课程中进行详细介绍。\n",
    "\n",
    "&emsp;&emsp;本期教程进行演示环境的GPU资源是：NVIDIA RTX 4080, 单卡共计16G显存。"
   ]
  },
  {
   "cell_type": "markdown",
   "id": "248699c7-91bb-4cdd-b3f0-e39d327f37a4",
   "metadata": {},
   "source": [
    "# 一、Ubuntu系统初始化配置"
   ]
  },
  {
   "cell_type": "markdown",
   "id": "36812856-c349-4c65-8b7f-21e179017aa4",
   "metadata": {},
   "source": [
    "&emsp;&emsp;如果跟随上一期视频安装完Ubuntu双系统后，当前的环境是一个比较纯净的系统，首先建议大家做的操作是进行系统的软件更新。这种更新涉及安全补丁、软件更新、之前版本中的错误和问题修复和依赖包的更新，一方面是可以提升系统的安全性，另一方面更重要的也是，更新可以确保所有依赖项都是最新和相互兼容的。虽然不做更新系统仍然可以运行，但我们强烈建议先执行这一操作。"
   ]
  },
  {
   "cell_type": "markdown",
   "id": "1266a480-7341-4193-b39c-1ca836b78ac2",
   "metadata": {},
   "source": [
    "## 1.1 更换国内软件源"
   ]
  },
  {
   "cell_type": "markdown",
   "id": "ce0968c0-a805-4046-92a4-d6b330bd74a2",
   "metadata": {},
   "source": [
    "&emsp;&emsp;Ubuntu的软件源服务器在境外，所以会导致下载速度很慢，甚至有时无法使用，所以建议在进行软件更新前，将软件源更改为国内的镜像网站。"
   ]
  },
  {
   "cell_type": "markdown",
   "id": "23048bb5-d721-405f-be0a-65e8f992cb28",
   "metadata": {},
   "source": [
    "- **Step 1. 备份软件源配置文件**"
   ]
  },
  {
   "cell_type": "markdown",
   "id": "68be6903-a204-4d1d-a7b4-16c30f5e5655",
   "metadata": {},
   "source": [
    "&emsp;&emsp;进入 `/ect/apt` 路径，找到软件源配置文件“sources.list”, 将其源文件做个备份，以免修改后出现问题可以及时回退。命令如下：\n",
    "\n",
    "```bash\n",
    "cd /ect/apt\n",
    "\n",
    "sudo cp sources.list sources.list.backup\n",
    "```"
   ]
  },
  {
   "cell_type": "markdown",
   "id": "a17aa24b-4ec9-4c32-8ff6-60f1ef3ab2a7",
   "metadata": {},
   "source": [
    "<div align=center><img src=\"https://muyu001.oss-cn-beijing.aliyuncs.com/img/image-20240103122125506.png\" width=80%></div>"
   ]
  },
  {
   "cell_type": "markdown",
   "id": "b164fc3f-5a4a-468c-a9ce-3c0a19a8b845",
   "metadata": {},
   "source": [
    "- **Step 2. 安装vim编辑器**"
   ]
  },
  {
   "cell_type": "markdown",
   "id": "0741b161-8900-41f7-be9f-3d9192cbcf7c",
   "metadata": {},
   "source": [
    "&emsp;&emsp;Ubuntu 默认自带的 vi 是一个非常基础的文本编辑器，而 vim（Vi IMproved）是 vi 的扩展版本，提供了语法高亮、代码折叠、多级撤销/重做、自动命令、宏记录和播放等高级编辑功能。先执行如下命令进行安装：\n",
    "\n",
    "```bash\n",
    "sudo apt install vim\n",
    "```"
   ]
  },
  {
   "cell_type": "markdown",
   "id": "b6b67160-8aa5-4a1d-8506-7d98559ab7a9",
   "metadata": {},
   "source": [
    "<div align=center><img src=\"https://muyu001.oss-cn-beijing.aliyuncs.com/img/image-20240103122940614.png\" width=80%></div>"
   ]
  },
  {
   "cell_type": "markdown",
   "id": "b8995ffc-66b9-4c2e-8dac-a369f9b55d14",
   "metadata": {},
   "source": [
    "- **Step 3. 使用 vim 编辑器修改软件源配置文件**"
   ]
  },
  {
   "cell_type": "markdown",
   "id": "b0372eac-9bbe-450a-9a52-3ff67e69e818",
   "metadata": {},
   "source": [
    "&emsp;&emsp;Ubuntu的国内镜像源非常多，比较有代表性的有清华源、中科大源、阿里源、网易源，以下是它们的网址：\n",
    "```bash\n",
    "清华源：https://mirrors.tuna.tsinghua.edu.cn/help/ubuntu/\n",
    "\n",
    "中科大源：http://mirrors.ustc.edu.cn/help/ubuntu.html\n",
    "\n",
    "阿里源：https://developer.aliyun.com/mirror/ubuntu?spm=a2c6h.13651102.0.0.3e221b11xgh2AI\n",
    "\n",
    "网易源：http://mirrors.163.com/.help/ubuntu.html\n",
    "```\n",
    "&emsp;&emsp;我们这里使用中科大源。使用 Vim 编辑器进入后，按\"i\"键插入内容，将如下内容复制进去： "
   ]
  },
  {
   "cell_type": "markdown",
   "id": "997b86a4-3cb1-4832-883a-55d6e2a8cd3a",
   "metadata": {},
   "source": [
    "```bash\n",
    "deb https://mirrors.ustc.edu.cn/ubuntu/ focal main restricted universe multiverse\n",
    "deb https://mirrors.ustc.edu.cn/ubuntu/ focal-updates main restricted universe multiverse\n",
    "deb https://mirrors.ustc.edu.cn/ubuntu/ focal-backports main restricted universe multiverse\n",
    "deb https://mirrors.ustc.edu.cn/ubuntu/ focal-security main restricted universe multiverse\n",
    "```"
   ]
  },
  {
   "cell_type": "markdown",
   "id": "e9d57ead-5870-426a-9d03-0fd949baabe0",
   "metadata": {},
   "source": [
    "<div align=center><img src=\"https://muyu001.oss-cn-beijing.aliyuncs.com/img/image-20240103123017512.png\" width=80%></div>"
   ]
  },
  {
   "cell_type": "markdown",
   "id": "630001b0-1bcc-48e6-87fb-d590f582e5e6",
   "metadata": {},
   "source": [
    "&emsp;&emsp;写入内容后，先按 `ESC`，然后输入`:wq!`后保存写入并退出。"
   ]
  },
  {
   "cell_type": "markdown",
   "id": "0f1952a5-8d6e-4bf1-a436-9446cf1c3408",
   "metadata": {},
   "source": [
    "## 1.2 系统软件更新"
   ]
  },
  {
   "cell_type": "markdown",
   "id": "9d26a596-6406-4f36-a41a-72a0835a8cb8",
   "metadata": {},
   "source": [
    "&emsp;&emsp;更新完软件源后，我们执行系统的软件更新。"
   ]
  },
  {
   "cell_type": "markdown",
   "id": "23afb9a3-46f8-4e32-8d3f-ed66d1b3b0ed",
   "metadata": {},
   "source": [
    "- **Step 1. 打开“终端” -> 输入 `sudo apt update` 命令，先更新软件包列表**"
   ]
  },
  {
   "cell_type": "markdown",
   "id": "0056dc9d-a1f6-47ce-8576-e733449717bd",
   "metadata": {},
   "source": [
    "&emsp;&emsp;在这里，如果大家看到的URL前缀已经变成了刚才设置的软件源（中科大），就说明上一步更改国内镜像源成功了，否则请返回上一步检查执行的操作哪里出现了纰漏。"
   ]
  },
  {
   "cell_type": "markdown",
   "id": "5922797a-91db-432b-822a-6c7787e0669d",
   "metadata": {},
   "source": [
    "<div align=center><img src=\"https://muyu001.oss-cn-beijing.aliyuncs.com/img/image-20240103123452592.png\" width=70%></div>"
   ]
  },
  {
   "cell_type": "markdown",
   "id": "ac8750c9-d70f-4673-9932-f53d4e144020",
   "metadata": {},
   "source": [
    "- **Step 2. 输入 `sudo apt upgrade` 命令，执行更新所有可更新的软件包**"
   ]
  },
  {
   "cell_type": "markdown",
   "id": "37898b5e-ee23-4c4b-9973-356032a4979f",
   "metadata": {},
   "source": [
    "<div align=center><img src=\"https://muyu001.oss-cn-beijing.aliyuncs.com/img/image-20240103123728950.png\" width=70%></div>"
   ]
  },
  {
   "cell_type": "markdown",
   "id": "c8b6cd2e-f9b3-4582-bf9f-bdc4df4658a5",
   "metadata": {},
   "source": [
    "## 1.3 设置英文目录路径"
   ]
  },
  {
   "cell_type": "markdown",
   "id": "964a6ab8-bde7-4d4e-b56f-5e8b3134d96c",
   "metadata": {},
   "source": [
    "&emsp;&emsp;上一期视频中在Ubuntu的双系统安装过程中，我们建议大家选择的语言是“English”，主要还是因为英文的路径在使用命令行进行路径切换时不会产生字符编码的问题。而如果有小伙伴选择了中文安装，强烈建议大家要将路径名称更改成英文，如果直接使用的是英文安装的，可以跳过这一步骤。"
   ]
  },
  {
   "cell_type": "markdown",
   "id": "092da321-a446-471b-a472-dea16397f535",
   "metadata": {},
   "source": [
    "- **Step 1. 如果大家当前的路径是这样的，说明就是中文的**"
   ]
  },
  {
   "cell_type": "markdown",
   "id": "d2fbb360-4243-4de4-88bc-4d5512abfdab",
   "metadata": {},
   "source": [
    "<div align=center><img src=\"https://muyu001.oss-cn-beijing.aliyuncs.com/img/image-20240103094615792.png\" width=60%></div>"
   ]
  },
  {
   "cell_type": "markdown",
   "id": "e1805cbb-a0fb-4584-b800-57e550715c7a",
   "metadata": {},
   "source": [
    "- **Step 2. 打开终端，快捷键`Ctrl + Alt + T`**"
   ]
  },
  {
   "cell_type": "markdown",
   "id": "077c1038-7632-4e5f-9099-7944e95c7d5c",
   "metadata": {},
   "source": [
    "&emsp;&emsp;依次输入如下命令：\n",
    "\n",
    "```bash\n",
    "export LANG=en_US  # 设置当前会话的语言环境变量为英文\n",
    "xdg-user-dirs-gtk-update  # xdg-user-dirs 是一个管理用户目录（如“文档”、“音乐”、“图片”等）的工具，用于更新用户目录的 GTK+ 版本\n",
    "```"
   ]
  },
  {
   "cell_type": "markdown",
   "id": "8ce30d53-27a2-4785-8585-e58b36a913f3",
   "metadata": {},
   "source": [
    "<div align=center><img src=\"https://snowball101.oss-cn-beijing.aliyuncs.com/img/202401041043725.png\" width=80%></div>"
   ]
  },
  {
   "cell_type": "markdown",
   "id": "2733358f-7e3e-409c-8bf8-6475bbe8ca7f",
   "metadata": {},
   "source": [
    "- **Step 3. 跳出对话框询问是否将目录转化为英文路径**"
   ]
  },
  {
   "cell_type": "markdown",
   "id": "dd05915c-3c4f-400f-8818-82d3b1041122",
   "metadata": {},
   "source": [
    "<div align=center><img src=\"https://muyu001.oss-cn-beijing.aliyuncs.com/img/image-20240103095031902.png\" width=30%></div>"
   ]
  },
  {
   "cell_type": "markdown",
   "id": "1b86cf28-8d2f-4a13-a316-bba3a3850195",
   "metadata": {},
   "source": [
    "- **Step 4. 如果没有弹出，需要重新生成user-dirs.locale文件**"
   ]
  },
  {
   "cell_type": "markdown",
   "id": "2df345fb-46a8-47d2-9d80-e2ae5bd9e936",
   "metadata": {},
   "source": [
    "&emsp;&emsp;`user-dirs.locale`主要作用是存储关于用户目录（如“文档”、“下载”、“音乐”、“图片”等）的本地化（语言和地区）设置，如果这个文件中的语言设置为英语，那么用户目录将使用英文名称（如 Documents, Downloads），如果设置为中文，则这些目录可能会显示为中文名称（如 文档, 下载）。依次输入如下命令：\n",
    "```bash\n",
    "\n",
    "# 先生成user-dirs.locale文件，\n",
    "echo 'en_US' > ~/.config/user-dirs.locale\n",
    "\n",
    "# 再重新设置语言\n",
    "export LANG=en_US\n",
    "xdg-user-dirs-gtk-update\n",
    "```"
   ]
  },
  {
   "cell_type": "markdown",
   "id": "7d574c35-facc-414c-b174-d1701cff7e44",
   "metadata": {},
   "source": [
    "<div align=center><img src=\"https://muyu001.oss-cn-beijing.aliyuncs.com/img/image-20240103094436164.png\" width=80%></div>"
   ]
  },
  {
   "cell_type": "markdown",
   "id": "1092c16e-b338-46e1-a79a-25a245147db8",
   "metadata": {},
   "source": [
    "- **Step 5. 更改成功后，如下所示**"
   ]
  },
  {
   "cell_type": "markdown",
   "id": "e75a9bf2-c55a-4224-bafb-043da6a9ed03",
   "metadata": {},
   "source": [
    "<div align=center><img src=\"https://muyu001.oss-cn-beijing.aliyuncs.com/img/image-20240103094506905.png\" width=50%></div>"
   ]
  },
  {
   "cell_type": "markdown",
   "id": "3c6cb3db-a6b3-4afd-835b-249c1dc4e8ef",
   "metadata": {},
   "source": [
    "&emsp;&emsp;此时相关目录名称已经变更。（实际上是删除原中文名目录再新建英文名目录，如果中文名称的目录中有文件，则会被保留下来，如“图片”和“Pictures”）"
   ]
  },
  {
   "cell_type": "markdown",
   "id": "9f919cf2-1bd4-4aee-9033-92bd9cf5d466",
   "metadata": {},
   "source": [
    "## 1.4 安装Chrome浏览器"
   ]
  },
  {
   "cell_type": "markdown",
   "id": "7699b1d9-a807-457a-8984-212298882642",
   "metadata": {},
   "source": [
    "&emsp;&emsp;安装Chrome浏览器很有必要，对于开发来说，其优势还是在于与 Google 的其他服务（如 Gmail、Google Drive 和 Google 搜索）紧密集成，且展程序生态系统丰富，提供了大量的扩展程序。除此之外，后面我们需要配置VPN、启用ChatGLM3-6B 时采用基于Gradio 的Web端等操作，都需要用到浏览器。其安装过程相较于Windwos操作系统稍有复杂。具体安装过程如下："
   ]
  },
  {
   "cell_type": "markdown",
   "id": "eda6f45a-964a-48ec-be4f-4ec0b73fd321",
   "metadata": {},
   "source": [
    "- **Step 1. 先找到Ubuntu的默认安装的浏览器**"
   ]
  },
  {
   "cell_type": "markdown",
   "id": "704c149c-68b3-42e7-906d-7ca9f697fa25",
   "metadata": {},
   "source": [
    "<div align=center><img src=\"https://snowball101.oss-cn-beijing.aliyuncs.com/img/202401041057898.png\" width=80%></div>"
   ]
  },
  {
   "cell_type": "markdown",
   "id": "dfb7c809-56ff-4042-9c39-e2a23453ce69",
   "metadata": {},
   "source": [
    "- **Step 2. 进入谷歌浏览器官网：https://www.google.com/intl/zh-CN/chrome/**"
   ]
  },
  {
   "cell_type": "markdown",
   "id": "81574c8d-4a41-45bd-a1c5-14c6ac022716",
   "metadata": {},
   "source": [
    "<div align=center><img src=\"https://muyu001.oss-cn-beijing.aliyuncs.com/img/image-20240103094011166.png\" width=80%></div>"
   ]
  },
  {
   "cell_type": "markdown",
   "id": "ffa3e10a-c131-4270-9ea7-244cb5650226",
   "metadata": {},
   "source": [
    "- **Step 3. 下载Chrome浏览器的“deb”后缀文件**"
   ]
  },
  {
   "cell_type": "markdown",
   "id": "1367c53d-1821-4a73-8687-4bc486dae329",
   "metadata": {},
   "source": [
    "&emsp;&emsp;Ubuntu 使用 .deb 包格式的原因与其底层架构和历史有关。Ubuntu 是基于 Debian 操作系统的，而 Debian 使用 .deb 包格式来管理和分发软件。.deb 文件中包含了软件程序的文件、脚本以及安装该软件所需的其他信息。这种格式支持复杂的安装场景，包括依赖关系处理、预先和事后脚本执行等。"
   ]
  },
  {
   "cell_type": "markdown",
   "id": "61286bdd-1ae7-4148-be04-8328185e91b9",
   "metadata": {},
   "source": [
    "<div align=center><img src=\"https://muyu001.oss-cn-beijing.aliyuncs.com/img/image-20240103094041552.png\" width=50%></div>"
   ]
  },
  {
   "cell_type": "markdown",
   "id": "c411c103-d231-47e9-88fc-07cb9db8b51e",
   "metadata": {},
   "source": [
    "&emsp;&emsp;下载的文件，默认是存放在`/home/Downloads`中的。"
   ]
  },
  {
   "cell_type": "markdown",
   "id": "d6a43065-c43c-429d-a9ec-eeb6b0cbbe32",
   "metadata": {},
   "source": [
    "- **Step 4. 进入终端，执行安装**"
   ]
  },
  {
   "cell_type": "markdown",
   "id": "9a0f34ba-9706-4d92-b98e-12490e49da35",
   "metadata": {},
   "source": [
    "&emsp;&emsp;Ubuntu 使用 DPKG 包管理系统来安装、删除和管理 .deb 包，提供了一种稳定和灵活的方式来管理系统中的软件。"
   ]
  },
  {
   "cell_type": "markdown",
   "id": "e21f6c60-bcbd-43f6-a458-455ed3983151",
   "metadata": {},
   "source": [
    "<div align=center><img src=\"https://snowball101.oss-cn-beijing.aliyuncs.com/img/202401041101972.png\" width=80%></div>"
   ]
  },
  {
   "cell_type": "markdown",
   "id": "78b9ab74-93fc-4815-80ba-5037d0bf37da",
   "metadata": {},
   "source": [
    "- **Step 5. 验证安装**"
   ]
  },
  {
   "cell_type": "markdown",
   "id": "71f31cb3-4d17-4b9f-a813-fa283eedefc2",
   "metadata": {},
   "source": [
    "&emsp;&emsp;当安装完成后，可以在左下角的程序管理页面，找到对应的应用图标。"
   ]
  },
  {
   "cell_type": "markdown",
   "id": "a5ce8292-6d14-4ffe-acc8-de54124e555c",
   "metadata": {},
   "source": [
    "<div align=center><img src=\"https://muyu001.oss-cn-beijing.aliyuncs.com/img/image-20240103121609024.png\" width=70%></div>"
   ]
  },
  {
   "cell_type": "markdown",
   "id": "469be653-470f-4c0c-b5ac-0484c18ef7d8",
   "metadata": {},
   "source": [
    "## 1.5 配置VPN"
   ]
  },
  {
   "cell_type": "markdown",
   "id": "75491e33-6d0e-4776-9ef5-c170add6fc70",
   "metadata": {},
   "source": [
    "&emsp;&emsp;在 Linux 系统上科学上网方式有很多，一般使用的软件，都支持在各平台上使用。大家根据个人的使用情况，按照其软件说明进行配置即可，一般都会有比较详细的说明。这里需要配置VPN的原因主要是后面下载Chatglm3-6B的模型权重时需要用到。我个人使用的Pigcha加速器，大家可以参考一下配置过程。"
   ]
  },
  {
   "cell_type": "markdown",
   "id": "23cbf1b9-6e3e-4989-81c6-22b5b348fa9a",
   "metadata": {},
   "source": [
    "- **Step 1. 进入官网：https://www.pigcha.com.hk/**"
   ]
  },
  {
   "cell_type": "markdown",
   "id": "f6103bc7-4d15-4ca2-88ca-cdf5bea4ee69",
   "metadata": {},
   "source": [
    "<div align=center><img src=\"https://muyu001.oss-cn-beijing.aliyuncs.com/img/image-20240103193136735.png\" width=80%></div>"
   ]
  },
  {
   "cell_type": "markdown",
   "id": "a6805b69-7ac7-43ec-bd89-cb6436c9dc7b",
   "metadata": {},
   "source": [
    "- **Step 2. 选择Linux版本的软件进行下载**"
   ]
  },
  {
   "cell_type": "markdown",
   "id": "47f5f3a8-21ba-4df8-9e8d-d8d462922232",
   "metadata": {},
   "source": [
    "<div align=center><img src=\"https://muyu001.oss-cn-beijing.aliyuncs.com/img/image-20240103193159799.png\" width=80%></div>"
   ]
  },
  {
   "cell_type": "markdown",
   "id": "4767e4f0-f682-4e4c-8c26-d9d3aec3e4a0",
   "metadata": {},
   "source": [
    "- **Step 3. 使用`dpkg -i` 的方式安装.deb的包**"
   ]
  },
  {
   "cell_type": "markdown",
   "id": "833c90bd-2c41-4a1a-abee-707c541a8225",
   "metadata": {},
   "source": [
    "<div align=center><img src=\"https://muyu001.oss-cn-beijing.aliyuncs.com/img/image-20240103193227279.png\" width=80%></div>"
   ]
  },
  {
   "cell_type": "markdown",
   "id": "4afbc081-a277-4ff0-96e8-c9f69be2f93d",
   "metadata": {},
   "source": [
    "&emsp;&emsp;安装完成，即可找到该加速器的快捷方式，可以直接打开使用。"
   ]
  },
  {
   "cell_type": "markdown",
   "id": "2ec0eed8-02b6-4d5d-a7d3-714cfc74990f",
   "metadata": {},
   "source": [
    "<div align=center><img src=\"https://muyu001.oss-cn-beijing.aliyuncs.com/img/image-20240103193248783.png\" width=50%></div>"
   ]
  },
  {
   "cell_type": "markdown",
   "id": "193fd468-9a65-4f28-ba24-c766f88f1f5f",
   "metadata": {},
   "source": [
    "- **Step 4. 按需输入购买的账户和密码**"
   ]
  },
  {
   "cell_type": "markdown",
   "id": "f16acdc6-2ad5-4c1c-95b1-d676ffa84443",
   "metadata": {},
   "source": [
    "<div align=center><img src=\"https://muyu001.oss-cn-beijing.aliyuncs.com/img/image-20240103193301844.png\" width=50%></div>"
   ]
  },
  {
   "cell_type": "markdown",
   "id": "f87116e7-bbf7-4456-95e3-c65120783a0c",
   "metadata": {},
   "source": [
    "- **Step 5. 验证网络的连通性**"
   ]
  },
  {
   "cell_type": "markdown",
   "id": "4de39be7-9b15-4af1-b86e-e3ecbeb23bc4",
   "metadata": {},
   "source": [
    "&emsp;&emsp;进如果开启加速器后可以访问到Google的资源，说明代理可以正常使用。"
   ]
  },
  {
   "cell_type": "markdown",
   "id": "96ce4114-a672-4b3e-a644-a8e43cfa8f22",
   "metadata": {},
   "source": [
    "<div align=center><img src=\"https://muyu001.oss-cn-beijing.aliyuncs.com/img/image-20240103193322357.png\" width=50%></div>"
   ]
  },
  {
   "cell_type": "markdown",
   "id": "3ed28d54-ffca-493f-a542-3f866c58bb7a",
   "metadata": {},
   "source": [
    "# 二、配置大模型运行环境"
   ]
  },
  {
   "cell_type": "markdown",
   "id": "83b5e5cb-f648-4efc-86f3-b6c2ddab0b84",
   "metadata": {},
   "source": [
    "&emsp;&emsp;关于大模型的运行环境，安装显卡驱动显然是首先要做的事情。我们需要确保可以正常的将大模型部署在GPU上，这也是大家比较容易出现问题的环节，比如安装过程中因各种环境问题导致安装不成功，缺依赖包的问题等，总会遇到莫名奇妙的报错导致这第一步就把人的心态搞崩。"
   ]
  },
  {
   "cell_type": "markdown",
   "id": "24584d03-0122-4627-85b7-6976eb5e662e",
   "metadata": {},
   "source": [
    "## 2.1 安装显卡驱动"
   ]
  },
  {
   "cell_type": "markdown",
   "id": "08d559fb-322d-4f11-81e6-212e94124f50",
   "metadata": {},
   "source": [
    "&emsp;&emsp;显卡驱动是软件，它可以允许操作系统和其他软件与显卡硬件进行交互。对于 NVIDIA 的 GPU，这些驱动是由 NVIDIA 提供的，安装以后，在该系统上就可以来使用 GPU 的功能，比如图形渲染，显卡驱动会激活 GPU，使其能够处理图形和视频任务。在Ubuntu系统下安装显卡驱动，主要有两种方式：\n",
    "- 方法一：使用官方的NVIDIA驱动进行手动安装，这种方式比较稳定、靠谱，但可能会遇到很多问题；\n",
    "- 方法二：使用系统自带的“软件和更新”程序-附加驱动更新，这种方法需要联网，但是非常简单，很难出现问题；（我们推荐大家先使用这种方法）"
   ]
  },
  {
   "cell_type": "markdown",
   "id": "4f33d342-ccdd-4d70-90f0-b65c53aad23a",
   "metadata": {},
   "source": [
    "&emsp;&emsp;无论使用哪种方法，前置的操作都是一样的，包括安装依赖包和禁用默认的显卡驱动，具体执行过程如下："
   ]
  },
  {
   "cell_type": "markdown",
   "id": "b9916d67-32eb-4beb-8e7a-d57caf2a35e8",
   "metadata": {},
   "source": [
    "- **Step 1. 安装依赖包**"
   ]
  },
  {
   "cell_type": "markdown",
   "id": "63cf63dc-dd97-452e-8b20-3efcc4433b20",
   "metadata": {},
   "source": [
    "&emsp;&emsp;在终端依次执行完如下命令：\n",
    "```bash\n",
    "sudo apt install gcc\n",
    "sudo apt install g++\n",
    "sudo apt install make\n",
    "sudo apt-get install libprotobuf-dev libleveldb-dev libsnappy-dev libopencv-dev libhdf5-serial-dev protobuf-compiler\n",
    "sudo apt-get install --no-install-recommends libboost-all-dev  \n",
    "sudo apt-get install libopenblas-dev liblapack-dev libatlas-base-dev  \n",
    "sudo apt-get install libgflags-dev libgoogle-glog-dev liblmdb-dev\n",
    "\n",
    "```"
   ]
  },
  {
   "cell_type": "markdown",
   "id": "afe86442-0188-410f-bc67-715c148210f2",
   "metadata": {},
   "source": [
    "- **Step 2. 禁用Ubuntu默认的显卡驱动**"
   ]
  },
  {
   "cell_type": "markdown",
   "id": "168cbb55-f6f3-4f20-8770-a67b2566f91c",
   "metadata": {},
   "source": [
    "&emsp;&emsp;Ubuntu 默认安装了开源显卡驱动Nouveau，用于 NVIDIA 显卡。这些驱动通常用来支持基本的桌面图形需求，如 2D 和一些轻度的 3D 渲染。但对于我们的高性能显卡，需要安装专有的驱动来获得更高性能或特定功能的支持。所以，在安装前，需要将默认安装的Nouveau驱动禁用。"
   ]
  },
  {
   "cell_type": "markdown",
   "id": "70e2f803-6d1d-403a-8f11-0a2c198018a4",
   "metadata": {},
   "source": [
    "&emsp;&emsp;用vim编辑器打开黑名单配置文件:"
   ]
  },
  {
   "cell_type": "markdown",
   "id": "543656f1-e42c-451f-a603-e8a1c4b35db5",
   "metadata": {},
   "source": [
    "<div align=center><img src=\"https://snowball101.oss-cn-beijing.aliyuncs.com/img/202401041124186.png\" width=80%></div>"
   ]
  },
  {
   "cell_type": "markdown",
   "id": "7b4e8e93-621a-45d0-98e3-b52492f4985f",
   "metadata": {},
   "source": [
    "&emsp;&emsp;在文件末尾添加如下代码，输入“:wq”后保存退出。"
   ]
  },
  {
   "cell_type": "markdown",
   "id": "0ccbc281-7dfb-42b4-8cc7-b627b6b58430",
   "metadata": {},
   "source": [
    "<div align=center><img src=\"https://muyu001.oss-cn-beijing.aliyuncs.com/img/image-20240103124436722.png\" width=70%></div>"
   ]
  },
  {
   "cell_type": "markdown",
   "id": "e2c649e9-a95a-4b0e-9fba-2f7c8d7b1bbc",
   "metadata": {},
   "source": [
    "- **Step 3. 让配置立即生效**"
   ]
  },
  {
   "cell_type": "markdown",
   "id": "9509e3f3-eb8a-434f-b631-fd1cff088c37",
   "metadata": {},
   "source": [
    "<div align=center><img src=\"https://muyu001.oss-cn-beijing.aliyuncs.com/img/image-20240103124754270.png\" width=80%></div>"
   ]
  },
  {
   "cell_type": "markdown",
   "id": "86c93647-bc9a-47a8-b107-bc33bf8ed621",
   "metadata": {},
   "source": [
    "- **Step 4. 使用Ubuntu自带的更新软件安装NVIDIA（强烈建议使用这种方式）**"
   ]
  },
  {
   "cell_type": "markdown",
   "id": "e7cbe59d-a9e9-4200-a852-614b6964af00",
   "metadata": {},
   "source": [
    "<div align=center><img src=\"https://muyu001.oss-cn-beijing.aliyuncs.com/img/image-20240103124950577.png\" width=80%></div>"
   ]
  },
  {
   "cell_type": "markdown",
   "id": "1bb3ee49-3698-4b3c-8da1-e7ff019db0f6",
   "metadata": {},
   "source": [
    "- **Step 5. 选择驱动**"
   ]
  },
  {
   "cell_type": "markdown",
   "id": "c738632b-b3fb-4fda-b9fe-8c91b90a83fc",
   "metadata": {},
   "source": [
    "&emsp;&emsp;直接选择对应的显卡驱动就好。如果没有，检查一下网络连接情况，如果联网了还没有，可能是显卡不支持、版本较低等情况，只能手动安装。"
   ]
  },
  {
   "cell_type": "markdown",
   "id": "f0182e1c-425e-4227-8312-ccbca4625258",
   "metadata": {},
   "source": [
    "<div align=center><img src=\"https://muyu001.oss-cn-beijing.aliyuncs.com/img/image-20240103125012277.png\" width=50%></div>"
   ]
  },
  {
   "cell_type": "markdown",
   "id": "0a6fc6cb-f618-478a-bb17-54e69597e925",
   "metadata": {},
   "source": [
    "- **Step 6. 进行用户认证**"
   ]
  },
  {
   "cell_type": "markdown",
   "id": "a734ceac-6de4-4ad5-99a4-7e485d3507ea",
   "metadata": {},
   "source": [
    "<div align=center><img src=\"https://muyu001.oss-cn-beijing.aliyuncs.com/img/image-20240103125029118.png\" width=50%></div>"
   ]
  },
  {
   "cell_type": "markdown",
   "id": "9313aad6-5eed-46d2-83ee-81eae1a5e56a",
   "metadata": {},
   "source": [
    "- **Step 7. 安装完成后执行重启操作**"
   ]
  },
  {
   "cell_type": "markdown",
   "id": "47c09535-6f70-43b2-a252-40846bcc7a63",
   "metadata": {},
   "source": [
    "<div align=center><img src=\"https://muyu001.oss-cn-beijing.aliyuncs.com/img/image-20240103125044429.png\" width=50%></div>"
   ]
  },
  {
   "cell_type": "markdown",
   "id": "a78afc69-324b-4b00-82f5-002d6adee77d",
   "metadata": {},
   "source": [
    "- **Step 8. 验证驱动是否安装成功**"
   ]
  },
  {
   "cell_type": "markdown",
   "id": "9cabe64e-7c08-473f-a51b-e97d7f9a27a9",
   "metadata": {},
   "source": [
    "<div align=center><img src=\"https://muyu001.oss-cn-beijing.aliyuncs.com/img/image-20240103125114675.png\" width=50%></div>"
   ]
  },
  {
   "cell_type": "markdown",
   "id": "cd5b35a9-6975-498a-a307-d923517b11f7",
   "metadata": {},
   "source": [
    "&emsp;&emsp;输入`nvidia-smi`命令，如果能正确的输出当前环境下的GPU信息，则说明驱动安装成功。"
   ]
  },
  {
   "cell_type": "markdown",
   "id": "516826e3-5ad3-49e7-b432-f52d90a8eec8",
   "metadata": {},
   "source": [
    "- **如果采用手动安装**"
   ]
  },
  {
   "cell_type": "markdown",
   "id": "119a44ed-a89b-4a4d-a8a2-2a1189a1ae4e",
   "metadata": {},
   "source": [
    "&emsp;&emsp;如果有的小伙伴的电脑无法直接使用Ubuntu自带的更新软件安装NVIDIA的显卡驱动，则需要按照如下过程来执行安装步骤："
   ]
  },
  {
   "cell_type": "markdown",
   "id": "52ed8b26-32a7-4de6-b6fd-e244df3ff6bd",
   "metadata": {},
   "source": [
    "&emsp;&emsp;先进入NVIDIA的官网，选择最适合自己显卡型号的驱动：https://www.nvidia.cn/Download/index.aspx?lang=cn"
   ]
  },
  {
   "cell_type": "markdown",
   "id": "a243135d-6790-4f9f-a44a-e2837a438472",
   "metadata": {},
   "source": [
    "<div align=center><img src=\"https://muyu001.oss-cn-beijing.aliyuncs.com/img/image-20240103195358442.png\" width=60%></div>"
   ]
  },
  {
   "cell_type": "markdown",
   "id": "b254b50d-3a36-4d54-adac-390e4138ffb2",
   "metadata": {},
   "source": [
    "&emsp;&emsp;选择好显卡驱动和适用平台后，点击下载。"
   ]
  },
  {
   "cell_type": "markdown",
   "id": "2e9c9fef-51d9-4bea-8739-75d5438267c4",
   "metadata": {},
   "source": [
    "<div align=center><img src=\"https://muyu001.oss-cn-beijing.aliyuncs.com/img/image-20240103195412061.png\" width=60%></div>"
   ]
  },
  {
   "cell_type": "markdown",
   "id": "7e3d0157-0d50-49be-b81c-e8d1af655578",
   "metadata": {},
   "source": [
    "&emsp;&emsp;下载完成后，对该驱动添加执行权限，否则无法进入安装页面。"
   ]
  },
  {
   "cell_type": "markdown",
   "id": "f46c308d-a3d3-473e-b466-b9a4a1dce6ae",
   "metadata": {},
   "source": [
    "<div align=center><img src=\"https://snowball101.oss-cn-beijing.aliyuncs.com/img/202401041137820.png\" width=80%></div>"
   ]
  },
  {
   "cell_type": "markdown",
   "id": "871c4267-4123-4025-abc8-06b2014b73ee",
   "metadata": {},
   "source": [
    "&emsp;&emsp;在安装之前，需要关闭图形化界面，需要判断你目前的ubuntu系统的图像化界面管理器是gdm3（默认）或是其它。gdm3 或 lightdm负责登录界面和用户会话的初始化，是系统启动进程的一部分，用于用户登录和启动图形用户界面 (GUI) 会话。其中gdm3是安装Ubuntu系统时默认安装的，而lightdm可以选择性安装，它是一个更轻量级的显示管理器。\n",
    "\n",
    "\n",
    "&emsp;&emsp;关闭的原因是因为显示管理器（如 gdm3、lightdm）控制着图形界面，包括使用显卡驱动来显示内容。在这些图形界面运行时尝试安装或更新显卡驱动可能会导致冲突，因为驱动程序文件可能正在被系统使用。所以我们需要进入命令行模式来安装显卡驱动。\n",
    "\n",
    "&emsp;&emsp;如果之前执行过`sudo apt install lightdm`，就说明当前环境下已经使用lightdm代替了gdm3，此时需要如下命令关闭：\n",
    "```bash\n",
    "sudo service lightdm stop\n",
    "```"
   ]
  },
  {
   "cell_type": "markdown",
   "id": "3165d204-9262-40d3-b660-5bcf91b7c544",
   "metadata": {},
   "source": [
    "&emsp;&emsp;否则就是默认的gdm3，这样关闭：\n",
    "```bash\n",
    "sudo /etc/init.d/gdm3 stop\n",
    "```"
   ]
  },
  {
   "cell_type": "markdown",
   "id": "ca5ada33-4bff-4302-90fe-50071d58b450",
   "metadata": {},
   "source": [
    "&emsp;&emsp;关闭后，进入命令行模式。最简单的方法是使用telinit命令更改为运行级别3。执行以下linux命令后，显示服务器将停止。\n",
    "```bash\n",
    "bash sudo telinit 3\n",
    "```"
   ]
  },
  {
   "cell_type": "markdown",
   "id": "004a3bc2-572b-40a7-8587-919f63e96319",
   "metadata": {},
   "source": [
    "&emsp;&emsp;通过`Ctrl+Alt+F3（F1-F6）`快捷键打开终端，先登录然后输入下面命令:\n",
    "```bash\n",
    "# 删除已安装的显卡驱动\n",
    "sudo apt-get remove --purge nvidia*\n",
    "\n",
    "cd Downloads \n",
    "sudo ./NVIDIA-Linux-x86_64-430.26.run –no-opengl-files –no-x-check\n",
    "```"
   ]
  },
  {
   "cell_type": "markdown",
   "id": "a369788f-a906-4d67-a405-11fb6b4d977c",
   "metadata": {},
   "source": [
    "&emsp;&emsp;随后进入安装界面，依次选择“Continue” --> 不安装32位兼容库(选择no) --> 不运行x配置(选择no)即可。最后输入“reboot”命令重启主机。重新进入图形化界面，在终端输入“nvidia-smi”命令即可。"
   ]
  },
  {
   "cell_type": "markdown",
   "id": "22721f1e-3f48-483f-8603-71978403da22",
   "metadata": {},
   "source": [
    "<div align=center><img src=\"https://muyu001.oss-cn-beijing.aliyuncs.com/img/image-20240103125114675.png\" width=70%></div>"
   ]
  },
  {
   "cell_type": "markdown",
   "id": "da8be9c9-2d77-44e1-ac2d-31a2ae10e7b1",
   "metadata": {},
   "source": [
    "## 2.2 如何理解CUDA"
   ]
  },
  {
   "cell_type": "markdown",
   "id": "6ae7b5d2-9604-4eb9-a979-3c902d81ec0c",
   "metadata": {},
   "source": [
    "&emsp;&emsp;有一个误区，就是安装完驱动后，通过`nvidia-smi`命令可以看到Cuda版本，本机显示版本为“CUDA Version：12.2”，很多人以为已经安装了CUDA 12.2版本，但实质上，这指的是显卡驱动兼容的 CUDA 版本。意味着我们当前的系统驱动支持的 CUDA 最高版本是 12.2。安装更高版本的 CUDA 可能会导致不兼容的问题。"
   ]
  },
  {
   "cell_type": "markdown",
   "id": "95732f15-cdf3-45c0-9afc-71023e010775",
   "metadata": {},
   "source": [
    "&emsp;&emsp;需要明确的概念：显卡驱动可以使计算机系统能够识别和使用显卡，但这与安装 CUDA 是两个不同的过程。CUDA（Compute Unified Device Architecture）是 NVIDIA 开发的一个平台，允许开发者使用特定的 NVIDIA GPU 进行通用计算。它主要用于那些需要大量并行处理的计算密集型任务，如深度学习、科学计算、图形处理等。如果我们的应用程序或开发工作需要利用 GPU 的并行计算能力，那么 CUDA 是非常关键的。但如果只是进行常规使用，比如网页浏览、办公软件使用或轻度的图形处理，那么安装标准的显卡驱动就足够了，无需单独安装 CUDA。对我们要做大模型实践的需求来看，CUDA一定是要安装的。"
   ]
  },
  {
   "cell_type": "markdown",
   "id": "973de725-b24f-43db-8fbd-41a9d0cea9a9",
   "metadata": {},
   "source": [
    "&emsp;&emsp;CUDA 提供了两种主要的编程接口：CUDA Runtime API 和 CUDA Driver API。\n",
    "- CUDA Runtime API 是一种更高级别的抽象，旨在简化编程过程，它自动处理很多底层细节。大多数 CUDA 程序员使用 Runtime API，因为它更易于使用。\n",
    "- CUDA Driver API 提供了更细粒度的控制，允许直接与 CUDA 驱动交互。它通常用于需要精细控制的高级应用。"
   ]
  },
  {
   "cell_type": "markdown",
   "id": "688ba007-aaf6-4c57-9941-9aa9df0341a7",
   "metadata": {},
   "source": [
    "&emsp;&emsp;而要安装CUDA，其实就是在安装CUDA Toolkit， 其版本决定了我们可以使用的 CUDA Runtime API 和 CUDA Driver API 的版本，当安装 CUDA Toolkit 时会安装一系列工具和库，用于开发和运行 CUDA 加速的应用程序。这包括了 CUDA 编译器（nvcc）、CUDA 库和 API，以及其他用于支持 CUDA 编程的工具。如果安装好 CUDA Toolkit，就可以开发和运行使用 CUDA 的程序了。"
   ]
  },
  {
   "cell_type": "markdown",
   "id": "8f39da52-640e-4db7-91c3-a2d86576ff5e",
   "metadata": {},
   "source": [
    "&emsp;&emsp;当我们运行 CUDA 应用程序时，通常是在使用与安装的 CUDA Toolkit 版本相对应的 Runtime API。这可以通过`nvcc -V` 命令查询:"
   ]
  },
  {
   "cell_type": "markdown",
   "id": "4045ed1d-bed9-4cf4-9edc-ddf5ceab512b",
   "metadata": {},
   "source": [
    "<div align=center><img src=\"https://muyu001.oss-cn-beijing.aliyuncs.com/img/image-20240103201343193.png\" width=70%></div>"
   ]
  },
  {
   "cell_type": "markdown",
   "id": "e9e5d1df-8cde-46d9-86e6-23d4f8956302",
   "metadata": {},
   "source": [
    "&emsp;&emsp;可以看到，默认是并没有安装的。可以直接通过提示的命令进行安装。"
   ]
  },
  {
   "cell_type": "markdown",
   "id": "2d7068f4-7e13-4153-8fa8-052319290fdc",
   "metadata": {},
   "source": [
    "<div align=center><img src=\"https://muyu001.oss-cn-beijing.aliyuncs.com/img/image-20240103201206202.png\" width=70%></div>"
   ]
  },
  {
   "cell_type": "markdown",
   "id": "fe8ba757-2013-4bcc-85c3-57a78ad28900",
   "metadata": {},
   "source": [
    "&emsp;&emsp;通过`apt install nvidia-cuda-toolkit` 安装的是 Ubuntu 仓库中可用的 CUDA Toolkit 版本，这可能不是最新的，也可能不是特定需要的版本。主要用于本地 CUDA 开发（如果想直接编写 CUDA 程序或编译 CUDA 代码）。"
   ]
  },
  {
   "cell_type": "markdown",
   "id": "729ab96d-1655-4b87-a72b-80afca912629",
   "metadata": {},
   "source": [
    "&emsp;&emsp;如果想安装指定版本的CUDA-Toolkit，如何操作呢？"
   ]
  },
  {
   "cell_type": "markdown",
   "id": "aea23b19-6625-4052-813e-1493b50b0eb0",
   "metadata": {},
   "source": [
    "&emsp;&emsp;需要进入NVIDIA官网：https://developer.nvidia.com/cuda-toolkit-archive  ，找到需要下载的Cuda版本。"
   ]
  },
  {
   "cell_type": "markdown",
   "id": "2182c407-d822-49f5-84a2-0fdc68e01215",
   "metadata": {},
   "source": [
    "<div align=center><img src=\"https://snowball101.oss-cn-beijing.aliyuncs.com/img/202401041412434.png\" width=70%></div>"
   ]
  },
  {
   "cell_type": "markdown",
   "id": "261c5329-8682-4de8-a24a-74d056b4bc88",
   "metadata": {},
   "source": [
    "&emsp;&emsp;根据当前情况依次选择操作系统、版本等。"
   ]
  },
  {
   "cell_type": "markdown",
   "id": "75de7dd7-545f-4f97-9499-4aa9213f8b48",
   "metadata": {},
   "source": [
    "<div align=center><img src=\"https://snowball101.oss-cn-beijing.aliyuncs.com/img/202401041412435.png\" width=70%></div>"
   ]
  },
  {
   "cell_type": "markdown",
   "id": "fcd66ccb-252f-4dd7-ba63-2be3dfd897b5",
   "metadata": {},
   "source": [
    "&emsp;&emsp;最后根据当前官方给出的代码，在终端执行即可安装。"
   ]
  },
  {
   "cell_type": "markdown",
   "id": "0e361b03-6761-4a4d-8b12-5e4fe2861045",
   "metadata": {},
   "source": [
    "<div align=center><img src=\"https://snowball101.oss-cn-beijing.aliyuncs.com/img/202401041412436.png\" width=70%></div>"
   ]
  },
  {
   "cell_type": "markdown",
   "id": "292edfeb-41a5-473a-8ef1-167172db40a6",
   "metadata": {},
   "source": [
    "&emsp;&emsp;但其实，通常不需要预先手动安装 CUDA ，因为我们目前使用的 PyTorch 等框架在安装过程会处理这些依赖。当我们通过 Conda/pip等方式安装 PyTorch 时会指定的 CUDA 版本，该 CUDA 版本就会与当前的Pytorch版本相兼容，预编译并打包了与 CUDA 版本相对应的二进制文件和库。所以除非有特定的需求或要进行 CUDA 级别的开发，才可能需要手动安装 CUDA Toolkit。"
   ]
  },
  {
   "cell_type": "markdown",
   "id": "7c503cc9-0406-421a-9476-b5da1f20a546",
   "metadata": {},
   "source": [
    "## 2.3 安装Anaconda环境"
   ]
  },
  {
   "cell_type": "markdown",
   "id": "91c76f87-1295-4e33-ade6-9f88341c6fff",
   "metadata": {},
   "source": [
    "&emsp;&emsp;Anaconda是一个为科学计算设计的发行版，适用于数据科学、机器学习、科学计算和工程领域。它会提供大量预安装的科学计算和数据科学相关的库，且提供了 Conda 这样一个包管理器，用来安装、管理和升级包，同时也可以创建隔离的环境以避免版本和依赖冲突。相较于单独安装Python，对初学者更友好，尤其是对于不熟悉 Python 和包管理的用户。"
   ]
  },
  {
   "cell_type": "markdown",
   "id": "bd3fd711-889b-4d33-89b6-6e7777df34af",
   "metadata": {},
   "source": [
    "&emsp;&emsp;运行大模型需要 Python 环境。所以我们这里选择使用Anaconda来构造和管理Python环境。"
   ]
  },
  {
   "cell_type": "markdown",
   "id": "32eb39c1-47c0-48d4-94a3-8015618942d1",
   "metadata": {},
   "source": [
    "- **Step 1. 进入Anaconda官网：https://www.anaconda.com/download**"
   ]
  },
  {
   "cell_type": "markdown",
   "id": "02f040aa-cc31-4d53-9f10-9ab75026d732",
   "metadata": {},
   "source": [
    "<div align=center><img src=\"https://muyu001.oss-cn-beijing.aliyuncs.com/img/image-20240103140232861.png\" width=70%></div>"
   ]
  },
  {
   "cell_type": "markdown",
   "id": "7629f892-216f-453d-a29c-cbcd7b7115c4",
   "metadata": {},
   "source": [
    "- **Step 2. 下载安装程序**"
   ]
  },
  {
   "cell_type": "markdown",
   "id": "791da66d-5eed-431c-9f13-edb2e51237db",
   "metadata": {},
   "source": [
    "&emsp;&emsp;Anaconda官网会根据系统版本自动下载对应的安装程序。"
   ]
  },
  {
   "cell_type": "markdown",
   "id": "81ea41bc-4d13-49d0-9cd1-1c9df97c15cc",
   "metadata": {},
   "source": [
    "<div align=center><img src=\"https://muyu001.oss-cn-beijing.aliyuncs.com/img/image-20240103140249782.png\" width=70%></div>"
   ]
  },
  {
   "cell_type": "markdown",
   "id": "4510b6d2-0b4c-47a8-bbbb-5dc6f20deb6a",
   "metadata": {},
   "source": [
    "- **Step 3. 进入终端，执行安装**"
   ]
  },
  {
   "cell_type": "markdown",
   "id": "8f310e32-fd3a-4c1b-b3cc-93aa6cef19cf",
   "metadata": {},
   "source": [
    "&emsp;&emsp;找到安装包的下载位置，执行如下命令：\n",
    "```bash\n",
    "bash Anaconda3-2023.09.0-Linux-x86_64.sh\n",
    "\n",
    "```"
   ]
  },
  {
   "cell_type": "markdown",
   "id": "63d9274d-d74f-4759-9f29-a410f87ab351",
   "metadata": {},
   "source": [
    "<div align=center><img src=\"https://muyu001.oss-cn-beijing.aliyuncs.com/img/image-20240103140317872.png\" width=70%></div>"
   ]
  },
  {
   "cell_type": "markdown",
   "id": "e828f0bb-2fd0-480d-9bf8-9d5652d78dce",
   "metadata": {},
   "source": [
    "&emsp;&emsp;在此处输入“yes”,然后按“Enter”键使用Anaconda的默认安装位置（/home/${account}/anaconda3）。"
   ]
  },
  {
   "cell_type": "markdown",
   "id": "f8be4e55-2fe7-49ba-a6ce-92e59141ad6d",
   "metadata": {},
   "source": [
    "<div align=center><img src=\"https://muyu001.oss-cn-beijing.aliyuncs.com/img/image-20240103140343589.png\" width=80%></div>"
   ]
  },
  {
   "cell_type": "markdown",
   "id": "dd063fac-3419-421a-af8c-ba9622d5b6a7",
   "metadata": {},
   "source": [
    "- **Step 4. 等待安装完成**"
   ]
  },
  {
   "cell_type": "markdown",
   "id": "7fb1c7ff-d269-48ea-9e40-890a53b55fb3",
   "metadata": {},
   "source": [
    "<div align=center><img src=\"https://muyu001.oss-cn-beijing.aliyuncs.com/img/image-20240103140458908.png\" width=80%></div>"
   ]
  },
  {
   "cell_type": "markdown",
   "id": "4e3077f3-d45a-4460-a4b5-6cd68a2b830d",
   "metadata": {},
   "source": [
    "- **Step 5. 验证安装情况**"
   ]
  },
  {
   "cell_type": "markdown",
   "id": "c25d7094-1472-4ccc-8c2f-c0986254cf34",
   "metadata": {},
   "source": [
    "&emsp;&emsp;安装完成后，会在对应的安装目录中出现 `anaconda3`文件夹。"
   ]
  },
  {
   "cell_type": "markdown",
   "id": "351490c7-e2b1-4586-99bc-7f5d96edc5de",
   "metadata": {},
   "source": [
    "<div align=center><img src=\"https://muyu001.oss-cn-beijing.aliyuncs.com/img/image-20240103140427244.png\" width=50%></div>"
   ]
  },
  {
   "cell_type": "markdown",
   "id": "24bd6210-5c33-48a4-974f-649187ca6a90",
   "metadata": {},
   "source": [
    "- **Step 6. 配置环境变量**"
   ]
  },
  {
   "cell_type": "markdown",
   "id": "7f1cdfff-b20e-4cd9-9fe2-502e6cc87b05",
   "metadata": {},
   "source": [
    "&emsp;&emsp;在终端的命令行修改配置文件：\n",
    "```bash\n",
    "vim ~/.bashrc\n",
    "```"
   ]
  },
  {
   "cell_type": "markdown",
   "id": "2f171d6d-47d0-47c2-b9d0-ed99ee4105e3",
   "metadata": {},
   "source": [
    "<div align=center><img src=\"https://muyu001.oss-cn-beijing.aliyuncs.com/img/image-20240103140523296.png\" width=80%></div>"
   ]
  },
  {
   "cell_type": "markdown",
   "id": "7c2e0dd7-5096-4ce9-b9f6-4f162bc1ef7a",
   "metadata": {},
   "source": [
    "&emsp;&emsp;在打开的配置文件末尾添加 export PATH= {Anaconda3的实际安装路径}，配置完成后，按 :wq! 保存并退出。\n",
    "```bash\n",
    "# 我的anaconda3的安装路径是/home/muyu/anaconda3\n",
    "\n",
    "export PATH=/home/muyu/anaconda3/bin:$PATH\n",
    "```"
   ]
  },
  {
   "cell_type": "markdown",
   "id": "8acd3a98-5887-49f8-9752-3e0c11baae14",
   "metadata": {},
   "source": [
    "<div align=center><img src=\"https://muyu001.oss-cn-beijing.aliyuncs.com/img/image-20240103140545338.png\" width=80%></div>"
   ]
  },
  {
   "cell_type": "markdown",
   "id": "cb190521-d7aa-4649-98f2-18033ef53cca",
   "metadata": {},
   "source": [
    "&emsp;&emsp;使用如下命令使环境变量的修改立即生效。"
   ]
  },
  {
   "cell_type": "markdown",
   "id": "7f6bf337-fa22-4db6-9745-23b976139fa8",
   "metadata": {},
   "source": [
    "<div align=center><img src=\"https://muyu001.oss-cn-beijing.aliyuncs.com/img/image-20240103140602240.png\" width=80%></div>"
   ]
  },
  {
   "cell_type": "markdown",
   "id": "e28e89ca-60fa-483b-8516-938e076b756e",
   "metadata": {},
   "source": [
    "- **Step 7. 启动Anaconda**"
   ]
  },
  {
   "cell_type": "markdown",
   "id": "ae4b92e4-b2e9-4b21-a88f-3384c04a9ad5",
   "metadata": {},
   "source": [
    "&emsp;&emsp;配置好环境变量后，在终端输入`anaconda-navigator`即可打开Anaconda，和Windows操作系统下的操作就基本一致了。"
   ]
  },
  {
   "cell_type": "markdown",
   "id": "4c021ce3-e8f4-46dd-9eff-b8f7ec88992d",
   "metadata": {},
   "source": [
    "<div align=center><img src=\"https://muyu001.oss-cn-beijing.aliyuncs.com/img/image-20240103140624828.png\" width=80%></div>"
   ]
  },
  {
   "cell_type": "markdown",
   "id": "555a299b-dfb6-4171-8caf-523fadd8503e",
   "metadata": {},
   "source": [
    "# 三、ChatGLM3-6B介绍与快速入门"
   ]
  },
  {
   "cell_type": "markdown",
   "id": "6217497b-e266-434b-a40d-a6ee3f8a0276",
   "metadata": {},
   "source": [
    "&emsp;&emsp;ChatGLM3 是智谱AI和清华大学 KEG 实验室在2023年10月27日联合发布的新一代对话预训练模型。ChatGLM3-6B 是 ChatGLM3 系列中的开源模型，免费下载，免费的商业化使用。\n",
    "\n",
    "&emsp;&emsp;该模型在保留了前两代模型对话流畅、部署门槛低等众多优秀特性的基础上，ChatGLM3-6B 引入了如下特性：[ChatGLM 3 GitHub](https://github.com/THUDM/ChatGLM3)"
   ]
  },
  {
   "cell_type": "markdown",
   "id": "37c76d26-0385-4560-9e8d-54a7942c9ace",
   "metadata": {},
   "source": [
    "1. **更强大的基础模型：** ChatGLM3-6B 的基础模型 ChatGLM3-6B-Base 采用了更多样的训练数据、更充分的训练步数和更合理的训练策略。在语义、数学、推理、代码、知识等不同角度的数据集上测评显示，在44个中英文公开数据集测试中处于国内模型的第一位。**ChatGLM3-6B-Base 具有在 10B 以下的基础模型中最强的性能**。\n",
    "2. **更完整的功能支持：** ChatGLM3-6B 采用了全新设计的 [Prompt 格式](https://github.com/THUDM/ChatGLM3/blob/main/PROMPT.md)，除正常的多轮对话外。同时原生支持[工具调用](https://github.com/THUDM/ChatGLM3/blob/main/tool_using/README.md)（Function Call）、代码执行（Code Interpreter）和 Agent 任务等复杂场景。\n",
    "3. **更全面的开源序列：** 除了对话模型 [ChatGLM3-6B](https://huggingface.co/THUDM/chatglm3-6b) 外，还开源了基础模型 [ChatGLM3-6B-Base](https://huggingface.co/THUDM/chatglm3-6b-base)、长文本对话模型 [ChatGLM3-6B-32K](https://huggingface.co/THUDM/chatglm3-6b-32k)。以上所有权重对学术研究**完全开放**，在填写[问卷](https://open.bigmodel.cn/mla/form)进行登记后**亦允许免费商业使用**。"
   ]
  },
  {
   "cell_type": "markdown",
   "id": "2200bbb9-2aed-4adb-8ed8-1f33796d41f9",
   "metadata": {},
   "source": [
    "<div align=center><img src=\"https://snowball101.oss-cn-beijing.aliyuncs.com/img/202401021645001.png\" width=60%></div>"
   ]
  },
  {
   "cell_type": "markdown",
   "id": "ccdd70c9-eb37-444b-a817-b02440efb7af",
   "metadata": {},
   "source": [
    "&emsp;&emsp;性能层面，ChatGLM3-6B在10B范围内性能最强，推理能力直逼GPT-3.5；功能层面，ChatGLM3-6B重磅更新多模态功能、代码解释器功能、联网功能以及Agent优化功能四项核心功能，全线逼近GPT-4！"
   ]
  },
  {
   "cell_type": "markdown",
   "id": "00f05812-7593-40a9-b99c-447540f667de",
   "metadata": {},
   "source": [
    "<div align=center><img src=\"https://snowball101.oss-cn-beijing.aliyuncs.com/img/202401021455839.png\" width=40%></div>"
   ]
  },
  {
   "cell_type": "markdown",
   "id": "5fda7c28-0b8c-430a-adb5-1c21b5a842cb",
   "metadata": {},
   "source": [
    "&emsp;&emsp;AI Agent（人工智能代理）是一个能够自主执行任务或达成目标的系统或程序，能够围绕复杂问题进行任务拆解，规划多步执行步骤；能够实时围绕自动编写的代码进行debug；能够根据人类意见反馈修改答案，实时积累修改对话，并进行阶段性微调等等，具有很强的决策和执行能力。那ChatGLM3-6B模型开放的Function calling能力，是大语言模型推理能力和复杂问题处理能力的核心体现，是本次ChatGLM 3模型最为核心的功能迭代，也是ChatGLM 3模型性能提升的有力证明。"
   ]
  },
  {
   "cell_type": "markdown",
   "id": "3c039b79-1903-44c5-ba14-753f472f6b3c",
   "metadata": {},
   "source": [
    "<div align=center><img src=\"https://snowball101.oss-cn-beijing.aliyuncs.com/img/202401021652206.png\" width=60%></div>"
   ]
  },
  {
   "cell_type": "markdown",
   "id": "9320067c-2aeb-4039-b24c-ca7b0393dbde",
   "metadata": {},
   "source": [
    "&emsp;&emsp;相关的信息获取方途径\n",
    "\n",
    "- 官方网站：https://www.zhipuai.cn/\n",
    "\n",
    "- 智谱清言：https://chatglm.cn\n",
    "\n",
    "- API开放平台：https://bigmodel.cn/\n",
    "\n",
    "- Github仓库：https://github.com/THUDM"
   ]
  },
  {
   "cell_type": "markdown",
   "id": "042096a4-212c-4543-823f-1b155d31fbe8",
   "metadata": {},
   "source": [
    "&emsp;&emsp;开源模型列表：\n",
    "\n",
    "| **模型**             | **介绍**                                                     | **上下文token数** | **代码链接**                                                 | **模型权重下载链接**                                         |\n",
    "| -------------------- | ------------------------------------------------------------ | ----------------- | ------------------------------------------------------------ | :----------------------------------------------------------- |\n",
    "| **ChatGLM3-6B**      | **第三代** **ChatGLM 对话****模型****。**ChatGLM3-6B 采用了全新设计的 Prompt 格式，除正常的多轮对话外。同时原生支持工具调用（Function Call）、代码执行（Code Interpreter）和 Agent 任务等复杂场景。 | 8K                | [Huggingface](https://huggingface.co/THUDM/chatglm3-6b) \\| [魔搭社区](https://modelscope.cn/models/ZhipuAI/chatglm3-6b) \\| [始智社区](https://www.wisemodel.cn/models/ZhipuAI/chatglm3-6b) \\| [Swanhub](https://swanhub.co/ZhipuAI/chatglm3-6b) \\| [启智社区](https://openi.pcl.ac.cn/Zhipu.AI/ChatGLM3/modelmanage/model_readme_tmpl?name=chatglm3-6b) )                | [ChatGLM3](https://github.com/THUDM/ChatGLM3|\n",
    "| **ChatGLM3-6B-base** | **第三代ChatGLM****基座模型****。**ChatGLM3-6B-Base 采用了更多样的训练数据、更充分的训练步数和更合理的训练策略。在语义、数学、推理、代码、知识等不同角度的数据集上测评显示，ChatGLM3-6B-Base 具有在 10B 以下的基础模型中最强的性能。 | 8K                | [Huggingface ](https://huggingface.co/THUDM/chatglm3-6b-base)\\| [魔搭社区](https://modelscope.cn/models/ZhipuAI/chatglm3-6b-base) \\| [始智社区](https://www.wisemodel.cn/models/ZhipuAI/chatglm3-6b-base) \\| [Swanhub](https://swanhub.co/ZhipuAI/chatglm3-6b-base) \\| [启智社区](https://openi.pcl.ac.cn/Zhipu.AI/ChatGLM3/modelmanage/model_readme_tmpl?name=chatglm3-6b-base) |                                                              |\n",
    "| **ChatGLM3-6B-32k**  | **第三代ChatGLM长上下文对话模型。**在ChatGLM3-6B的基础上进一步强化了对于长文本的理解能力，能够更好的处理最多32K长度的上下文。 | 32K               | [Huggingface](https://huggingface.co/THUDM/chatglm3-6b-32k) \\| [魔搭社区](https://modelscope.cn/models/ZhipuAI/chatglm3-6b-32k) \\| [始智社区](https://www.wisemodel.cn/models/ZhipuAI/chatglm3-6b-32k) \\| [Swanhub](https://swanhub.co/ZhipuAI/chatglm3-6b-32k) \\| [启智社区](https://openi.pcl.ac.cn/Zhipu.AI/ChatGLM3/modelmanage/model_readme_tmpl?name=chatglm3-6b-32k) |                                                              |\n",
    "\n"
   ]
  },
  {
   "cell_type": "markdown",
   "id": "22d07a79-840f-4db8-9b95-41b30e1173a5",
   "metadata": {
    "tags": []
   },
   "source": [
    "# 四、ChatGLM3-6B私有化部署"
   ]
  },
  {
   "cell_type": "markdown",
   "id": "d693cc41-29f6-4006-ba3d-d85be00b3b62",
   "metadata": {},
   "source": [
    "&emsp;&emsp;对于部署ChatGLM3-6B来说，从官方说明上看，其规定了Transformers 库版本应该 4.30.2 以及以上的版本 ，torch 库版本应为 2.0 及以上的版本，gradio 库版本应该为 3.x 的版本，以获得最佳的推理性能。所以为了保证 torch 的版本正确，建议大家严格按照官方文档的说明安装相应版本的依赖包。"
   ]
  },
  {
   "cell_type": "markdown",
   "id": "01d87339-970f-4082-b444-ce7ea091b449",
   "metadata": {},
   "source": [
    "- **Step 1. 创建conda虚拟环境**"
   ]
  },
  {
   "cell_type": "markdown",
   "id": "60421234-ca1d-4749-9400-628136dbc5da",
   "metadata": {},
   "source": [
    "&emsp;&emsp;Conda创建虚拟环境的意义在于提供了一个隔离的、独立的环境，用于Python项目和其依赖包的管理。每个虚拟环境都有自己的Python运行时和一组库。这意味着我们可以在不同的环境中安装不同版本的库而互不影响。例如，可以在一个环境中使用Python 3.8，而在另一个环境中使用Python 3.9。对于大模型来说，建议Python版本3.10以上。创建的方式也比较简单，使用以下命令创建一个新的虚拟环境：\n",
    "\n",
    "```bash\n",
    "# myenv 是你想要给环境的名称，python=3.8 指定了要安装的Python版本。你可以根据需要选择不同的名称和/或Python版本。\n",
    "\n",
    "conda create --n chatglm3_test python=3.11\n",
    "```"
   ]
  },
  {
   "cell_type": "markdown",
   "id": "4e27d524-200b-431c-aac0-67b4f78a1d3f",
   "metadata": {},
   "source": [
    "<div align=center><img src=\"https://snowball101.oss-cn-beijing.aliyuncs.com/img/202401041450044.png\" width=80%></div>"
   ]
  },
  {
   "cell_type": "markdown",
   "id": "9e622a9c-8805-4602-ac4b-2eedb582ef8d",
   "metadata": {},
   "source": [
    "&emsp;&emsp;创建虚拟环境后，需要激活它。使用以下命令来激活刚刚创建的环境。"
   ]
  },
  {
   "cell_type": "markdown",
   "id": "88969465-1409-45e5-b334-c7b784bcebbb",
   "metadata": {},
   "source": [
    "<div align=center><img src=\"https://snowball101.oss-cn-beijing.aliyuncs.com/img/202401041451600.png\" width=80%></div>"
   ]
  },
  {
   "cell_type": "markdown",
   "id": "e9b683db-6cef-4ba7-abfb-3ea9fd45b929",
   "metadata": {},
   "source": [
    "&emsp;&emsp;如果成功激活，可以看到在命令行的最前方的括号中，就标识了当前的虚拟环境（chatglm3_test），然后，按照官方的要求安装torch。"
   ]
  },
  {
   "cell_type": "markdown",
   "id": "cf15c0cd-927f-480f-87c3-01f168a2833e",
   "metadata": {},
   "source": [
    "- **Step 2. 查看当前驱动最高支持的CUDA版本**"
   ]
  },
  {
   "cell_type": "markdown",
   "id": "2317a089-3272-4c10-a0ad-7ed4f699e7da",
   "metadata": {},
   "source": [
    "&emsp;&emsp;我们需要根据CUDA版本选择Pytorch框架，先看下当前的CUDA版本："
   ]
  },
  {
   "cell_type": "markdown",
   "id": "82864c8c-e620-4fb3-9e2b-3fa96eb2d8f5",
   "metadata": {},
   "source": [
    "<div align=center><img src=\"https://snowball101.oss-cn-beijing.aliyuncs.com/img/202401041452804.png\" width=70%></div>"
   ]
  },
  {
   "cell_type": "markdown",
   "id": "544ae01f-6bd8-427e-83e8-56e69de52e7f",
   "metadata": {},
   "source": [
    "- **Step 3. 在虚拟环境中安装Pytorch**"
   ]
  },
  {
   "cell_type": "markdown",
   "id": "f64bafd4-f8fd-4bfd-8723-a48b25d5dc9d",
   "metadata": {},
   "source": [
    "&emsp;&emsp;进入Pytorch官网：https://pytorch.org/get-started/previous-versions/"
   ]
  },
  {
   "cell_type": "markdown",
   "id": "10e569f1-b77b-429a-a81c-1e76770f189e",
   "metadata": {},
   "source": [
    "<div align=center><img src=\"https://muyu001.oss-cn-beijing.aliyuncs.com/img/image-20240103163206436.png\" width=80%></div>"
   ]
  },
  {
   "cell_type": "markdown",
   "id": "0e0fd670-277d-4de9-8ed7-0995320ac09c",
   "metadata": {},
   "source": [
    "&emsp;&emsp;当前的电脑CUDA的最高版本要求是12.2，所以需要找到 >=12.2版本的Pytorch。"
   ]
  },
  {
   "cell_type": "markdown",
   "id": "22e0ff3b-8d2e-42e8-9908-cb15f78f0317",
   "metadata": {},
   "source": [
    "<div align=center><img src=\"https://snowball101.oss-cn-beijing.aliyuncs.com/img/202401041455184.png\" width=80%></div>"
   ]
  },
  {
   "cell_type": "markdown",
   "id": "4f833f6e-03aa-481e-b8d5-27c3994d4ae5",
   "metadata": {},
   "source": [
    "&emsp;&emsp;直接复制对应的命令，进入终端执行即可。这实际上安装的是为 CUDA 12.1 优化的 PyTorch 版本。这个 PyTorch 版本预编译并打包了与 CUDA 12.1 版本相对应的二进制文件和库。"
   ]
  },
  {
   "cell_type": "markdown",
   "id": "bb074e1f-8942-4e5d-b636-2351e333ca1b",
   "metadata": {},
   "source": [
    "<div align=center><img src=\"https://snowball101.oss-cn-beijing.aliyuncs.com/img/202401041456174.png\" width=80%></div>"
   ]
  },
  {
   "cell_type": "markdown",
   "id": "ccfa8cd2-a06e-4e98-90f4-757b879bc9cb",
   "metadata": {},
   "source": [
    "- **Step 4. 安装Pytorch验证**"
   ]
  },
  {
   "cell_type": "markdown",
   "id": "688ee0f9-a9f3-4c61-bcb8-7238994903c9",
   "metadata": {},
   "source": [
    "&emsp;&emsp;待安装完成后，如果想要检查是否成功安装了GPU版本的PyTorch，可以通过几个简单的步骤在Python环境中进行验证：\n",
    "```bash\n",
    "import torch\n",
    "\n",
    "print(torch.cuda.is_available())\n",
    "```"
   ]
  },
  {
   "cell_type": "markdown",
   "id": "9600f0e2-fbd1-4feb-b342-68b50e159f55",
   "metadata": {},
   "source": [
    "<div align=center><img src=\"https://muyu001.oss-cn-beijing.aliyuncs.com/img/image-20240103163709753.png\" width=80%></div>"
   ]
  },
  {
   "cell_type": "markdown",
   "id": "62a16c1f-4cb4-4331-a644-c94c71e61232",
   "metadata": {},
   "source": [
    "&emsp;&emsp;如果输出是 True，则表示GPU版本的PyTorch已经安装成功并且可以使用CUDA，如果输出是 False，则表明没有安装GPU版本的PyTorch，或者CUDA环境没有正确配置，此时根据教程，重新检查自己的执行过程。"
   ]
  },
  {
   "cell_type": "markdown",
   "id": "e9fb765b-2637-4476-8167-3b8083095c18",
   "metadata": {},
   "source": [
    "- **Step 5. 下载ChatGLM3的项目文件**"
   ]
  },
  {
   "cell_type": "markdown",
   "id": "9c95f459-23a8-42cd-a22e-aff09cce1c12",
   "metadata": {},
   "source": [
    "&emsp;&emsp;ChatGLM3的代码库和相关文档存储在 GitHub 这个在线平台上。GitHub 是一个广泛使用的代码托管平台，它提供了版本控制和协作功能。"
   ]
  },
  {
   "cell_type": "markdown",
   "id": "0b93957f-e8e9-4900-8913-55a7bbfbbfc9",
   "metadata": {},
   "source": [
    "&emsp;&emsp;要下载ChatGLM3-6B的项目文件，需要进入ChatGLM3的Github：https://github.com/THUDM/ChatGLM3"
   ]
  },
  {
   "cell_type": "markdown",
   "id": "6f097bf2-7232-4ac9-b8b6-924037d964d4",
   "metadata": {},
   "source": [
    "<div align=center><img src=\"https://snowball101.oss-cn-beijing.aliyuncs.com/img/202401041500002.png\" width=70%></div>"
   ]
  },
  {
   "cell_type": "markdown",
   "id": "ad6f4a40-4457-4e0c-8da2-0ba377353cf6",
   "metadata": {},
   "source": [
    "&emsp;&emsp;在 GitHub 上将项目下载到本地通常有两种主要方式：克隆 (Clone) 和 下载 ZIP 压缩包。\n",
    "\n",
    "&emsp;&emsp;克隆 (Clone)是使用 Git 命令行的方式。我们可以克隆仓库到本地计算机，从而创建仓库的一个完整副本。这样做的好处是我们可以跟踪远程仓库的所有更改，并且可以提交自己的更改。如果要克隆某一个仓库，可以使用如下命令：\n",
    "\n",
    "```bash\n",
    "git clone <repository-url>   # 其中 <repository-url> 是 GitHub 仓库的 URL。\n",
    "```\n"
   ]
  },
  {
   "cell_type": "markdown",
   "id": "06508176-ed13-4c8e-ae84-2b8a692ef495",
   "metadata": {},
   "source": [
    "&emsp;&emsp;推荐使用克隆 (Clone)的方式。对于ChatGLM3这个项目来说，我们首先在GitHub上找到其仓库的URL。"
   ]
  },
  {
   "cell_type": "markdown",
   "id": "fa8e4527-064d-4081-848d-140847204f41",
   "metadata": {},
   "source": [
    "<div align=center><img src=\"https://snowball101.oss-cn-beijing.aliyuncs.com/img/202401021039625.png\" width=70%></div>"
   ]
  },
  {
   "cell_type": "markdown",
   "id": "cbe630b2-e872-419e-bab9-2c07142ee0d4",
   "metadata": {},
   "source": [
    "&emsp;&emsp;在执行命令之前，先安装git软件包。"
   ]
  },
  {
   "cell_type": "markdown",
   "id": "cc0c5c86-910f-4c87-bd69-86fc2c01b4b8",
   "metadata": {},
   "source": [
    "<div align=center><img src=\"https://muyu001.oss-cn-beijing.aliyuncs.com/img/image-20240103164201603.png\" width=80%></div>"
   ]
  },
  {
   "cell_type": "markdown",
   "id": "dc345029-a4fc-4dc4-b5c8-a7a9799986ee",
   "metadata": {},
   "source": [
    "&emsp;&emsp;然后创建一个存放ChatGLM3-6B项目文件的文件夹。"
   ]
  },
  {
   "cell_type": "markdown",
   "id": "22f8c685-0b55-40cf-8954-987eb0969f35",
   "metadata": {},
   "source": [
    "<div align=center><img src=\"https://muyu001.oss-cn-beijing.aliyuncs.com/img/image-20240103164615445.png\" width=80%></div>"
   ]
  },
  {
   "cell_type": "markdown",
   "id": "5ebb2577-ee52-4bfb-a2f9-3d8adc79bf1d",
   "metadata": {},
   "source": [
    "&emsp;&emsp;执行克隆命令，将Github上的项目文件下载至本地。"
   ]
  },
  {
   "cell_type": "markdown",
   "id": "eafeee8c-deec-44f7-9602-a473ed510081",
   "metadata": {},
   "source": [
    "<div align=center><img src=\"https://snowball101.oss-cn-beijing.aliyuncs.com/img/202401041501046.png\" width=80%></div>"
   ]
  },
  {
   "cell_type": "markdown",
   "id": "d663e6cd-39b0-42d6-990d-0e5f5b1ede7e",
   "metadata": {},
   "source": [
    "&emsp;&emsp;如果克隆成功，本地应该会出现如下文件内容："
   ]
  },
  {
   "cell_type": "markdown",
   "id": "b0317766-276c-4cb0-9762-02f4b1fe5940",
   "metadata": {},
   "source": [
    "<div align=center><img src=\"https://muyu001.oss-cn-beijing.aliyuncs.com/img/image-20240103164759697.png\" width=80%></div>"
   ]
  },
  {
   "cell_type": "markdown",
   "id": "52a9850e-6453-4c3f-bef1-4335dee5bae8",
   "metadata": {},
   "source": [
    "&emsp;&emsp;除了直接通过git clone的方式拉取代码至本地，也可以直接下载压缩包。这是更简单的下载方式，不需要使用 Git，适合那些不打算使用 Git 版本控制的用户。在 GitHub 仓库页面上，通常会有一个“Download ZIP”按钮，我们可以点击这个按钮下载仓库的当前状态的压缩包"
   ]
  },
  {
   "cell_type": "markdown",
   "id": "557917ec-09c9-47e5-a846-bf9efaf50694",
   "metadata": {},
   "source": [
    "<div align=center><img src=\"https://snowball101.oss-cn-beijing.aliyuncs.com/img/202401021039626.png\" width=80%></div>"
   ]
  },
  {
   "cell_type": "markdown",
   "id": "73ca1028-d410-411d-948c-afe133d26714",
   "metadata": {},
   "source": [
    "&emsp;&emsp;选择压缩包的下载路径。"
   ]
  },
  {
   "cell_type": "markdown",
   "id": "eed234d7-8181-4d4a-ba7f-da2623443941",
   "metadata": {},
   "source": [
    "<div align=center><img src=\"https://snowball101.oss-cn-beijing.aliyuncs.com/img/202401021039627.png\" width=60%></div>"
   ]
  },
  {
   "cell_type": "markdown",
   "id": "fcf1afbb-05ca-42f8-882a-cf9a31438d49",
   "metadata": {},
   "source": [
    "&emsp;&emsp;下载后，只需解压缩该文件即可访问项目文件。压缩包中存放的是ChatGLM3运行的一些项目文件。"
   ]
  },
  {
   "cell_type": "markdown",
   "id": "20a7f403-db2c-4076-9e2f-6e2b21280c33",
   "metadata": {},
   "source": [
    "<div align=center><img src=\"https://snowball101.oss-cn-beijing.aliyuncs.com/img/202401021039628.png\" width=60%></div>"
   ]
  },
  {
   "cell_type": "markdown",
   "id": "d559f5e6-bdb4-437e-b85d-545abe423bbc",
   "metadata": {},
   "source": [
    "&emsp;&emsp;通过这种方式下载的项目文件，需要xftp这样的工具在上传到服务器使用。"
   ]
  },
  {
   "cell_type": "markdown",
   "id": "f2cca384-cffd-43f3-bded-18505babe6c9",
   "metadata": {},
   "source": [
    "- **Step 6. 升级pip版本**"
   ]
  },
  {
   "cell_type": "markdown",
   "id": "6b7c1e6f-7856-4e09-8838-138af7c4e5d7",
   "metadata": {},
   "source": [
    "&emsp;&emsp;pip 是 Python 的一个包管理器，用于安装和管理 Python 软件包。允许从 Python Package Index（PyPI）和其他索引中安装和管理第三方库和依赖。一般使用 pip 来安装、升级和删除 Python 软件包。除此之外，pip 自动处理 Python 软件包的依赖关系，确保所有必需的库都被安装。在Python环境中，尽管我们是使用conda来管理虚拟环境，但conda是兼容pip环境的，所以使用pip下载必要的包是完全可以的。\n",
    "\n",
    "&emsp;&emsp;我们建议在执行项目的依赖安装之前升级 pip 的版本，如果使用的是旧版本的 pip，可能无法安装一些最新的包，或者可能无法正确解析依赖关系。升级 pip 很简单，只需要运行命令如下命令：\n",
    "\n",
    "```bash\n",
    "python -m pip install --upgrade pip \n",
    "```"
   ]
  },
  {
   "cell_type": "markdown",
   "id": "1d918349-b02a-4971-8a65-7739aac305a8",
   "metadata": {},
   "source": [
    "<div align=center><img src=\"https://muyu001.oss-cn-beijing.aliyuncs.com/img/image-20240103164907662.png\" width=80%></div>"
   ]
  },
  {
   "cell_type": "markdown",
   "id": "4d4c98cd-6351-46f2-92d1-4c8deec9f67b",
   "metadata": {},
   "source": [
    "- **Step 7. 使用pip安装ChatGLM运行的项目依赖**"
   ]
  },
  {
   "cell_type": "markdown",
   "id": "66f6399d-14d9-46fc-98d6-904502ca32df",
   "metadata": {},
   "source": [
    "&emsp;&emsp;一般项目中都会提供 `requirements.txt`这样一个文件，该文件包含了项目运行所必需的所有 Python 包及其精确版本号。使用这个文件，可以确保在不同环境中安装相同版本的依赖，从而避免了因版本不一致导致的问题。我们可以借助这个文件，使用pip一次性安装所有必需的依赖，而不必逐个手动安装，大大提高效率。命令如下：\n",
    "\n",
    "```bash\n",
    "pip install -r requirements.txt\n",
    "```"
   ]
  },
  {
   "cell_type": "markdown",
   "id": "05e55e99-0f42-4b00-8591-32871bfa0384",
   "metadata": {},
   "source": [
    "<div align=center><img src=\"https://muyu001.oss-cn-beijing.aliyuncs.com/img/image-20240103165019944.png\" width=80%></div>"
   ]
  },
  {
   "cell_type": "markdown",
   "id": "1b1eb7bb-ded6-40f9-9194-1b45b578baa0",
   "metadata": {},
   "source": [
    "- **Step 8. 从Hugging Face下载ChatGLM3模型权重**"
   ]
  },
  {
   "cell_type": "markdown",
   "id": "e87d340d-4bbc-4c76-bc16-9b820d328136",
   "metadata": {},
   "source": [
    "&emsp;&emsp;经过Step 5的操作过程，我们下载到的只是ChatGLM3-6B的一些运行文件和项目代码，并不包含ChatGLM3-6B这个模型。这里我们需要进入到 Hugging Face 下载。Hugging Face 是一个丰富的模型库，开发者可以上传和共享他们训练好的机器学习模型。这些模型通常是经过大量数据训练的，并且很大，因此需要特殊的存储和托管服务。\n",
    "\n",
    "&emsp;&emsp;不同于GitHub，GitHub 仅仅是一个代码托管和版本控制平台，托管的是项目的源代码、文档和其他相关文件。同时对于托管文件的大小有限制，不适合存储大型文件，如训练好的机器学习模型。相反，Hugging Face 专门为此类大型文件设计，提供了更适合大型模型的存储和传输解决方案。"
   ]
  },
  {
   "cell_type": "markdown",
   "id": "201add70-202a-4571-a1ce-2ca054467220",
   "metadata": {},
   "source": [
    "&emsp;&emsp;下载路径如下："
   ]
  },
  {
   "cell_type": "markdown",
   "id": "6e1cb58f-8bdc-49ca-9404-4e261236e674",
   "metadata": {},
   "source": [
    "<div align=center><img src=\"https://snowball101.oss-cn-beijing.aliyuncs.com/img/202401021105957.png\" width=70%></div>"
   ]
  },
  {
   "cell_type": "markdown",
   "id": "d553dd60-1243-45f0-aee0-4b0443e37c82",
   "metadata": {},
   "source": [
    "&emsp;&emsp;注：需要挂梯子才能进入。"
   ]
  },
  {
   "cell_type": "markdown",
   "id": "3b256408-0fc2-4d5f-8c56-fa5f01ce47b1",
   "metadata": {},
   "source": [
    "<div align=center><img src=\"https://snowball101.oss-cn-beijing.aliyuncs.com/img/202401021112401.png\" width=80%></div>"
   ]
  },
  {
   "cell_type": "markdown",
   "id": "7f559e2b-76cc-4cd1-a817-ac4a8c9923b1",
   "metadata": {},
   "source": [
    "&emsp;&emsp;然后按照如下位置，找到对应的下载URL。"
   ]
  },
  {
   "cell_type": "markdown",
   "id": "3a3754f1-d01f-49a8-807c-e393305347ac",
   "metadata": {},
   "source": [
    "<div align=center><img src=\"https://snowball101.oss-cn-beijing.aliyuncs.com/img/202401021208030.png\" width=80%></div>"
   ]
  },
  {
   "cell_type": "markdown",
   "id": "a3a98418-119d-4e5f-a793-cc9daa1c722b",
   "metadata": {},
   "source": [
    "&emsp;&emsp;复制此命令，进入到服务器的命令行准备执行。"
   ]
  },
  {
   "cell_type": "markdown",
   "id": "8948b642-4c1f-4705-8b30-fc244f20b335",
   "metadata": {},
   "source": [
    "<div align=center><img src=\"https://snowball101.oss-cn-beijing.aliyuncs.com/img/202401021208031.png\" width=60%></div>"
   ]
  },
  {
   "cell_type": "markdown",
   "id": "e8664798-57a0-4a9a-b8eb-c2bcaa9ae579",
   "metadata": {},
   "source": [
    "- **Step 9. 安装Git LFS**"
   ]
  },
  {
   "cell_type": "markdown",
   "id": "59edf1a4-491a-4b98-a330-5551bf3702e1",
   "metadata": {},
   "source": [
    "&emsp;&emsp;Git Large File Storage（Git LFS）是一种用于处理大文件的工具，在 Hugging Face 下载大模型时，通常需要安装 Git LFS，主要的原因是：Git 本身并不擅长处理大型文件，因为在 Git 中，每次我们提交一个文件，它的完整内容都会被保存在 Git 仓库的历史记录中。但对于非常大的文件，这种方式会导致仓库变得庞大而且低效。而 Git LFS， 就不会直接将它们的内容存储在仓库中。相反，它存储了一个轻量级的“指针”文件，它本身非常小，它包含了关于大型文件的信息（如其在服务器上的位置），但不包含文件的实际内容。当我们需要访问或下载这个大型文件时，Git LFS 会根据这个指针去下载真正的文件内容。"
   ]
  },
  {
   "cell_type": "markdown",
   "id": "cbd347fb-fa2c-410a-a382-dfa65cf1c3a5",
   "metadata": {},
   "source": [
    "&emsp;&emsp;实际的大文件存储在一个单独的服务器上，而不是在 Git 仓库的历史记录中。所以如果不安装 Git LFS 而直接从 Hugging Face 或其他支持 LFS 的仓库下载大型文件，通常只会下载到一个包含指向实际文件的指针的小文件，而不是文件本身。"
   ]
  },
  {
   "cell_type": "markdown",
   "id": "38a58564-de13-4b81-9e14-90801e345b7c",
   "metadata": {},
   "source": [
    "&emsp;&emsp;所以，我们需要先安装git-lfs这个工具。命令如下：\n",
    "\n",
    "```bash\n",
    "sudo apt-get install git-lfs\n",
    "```\n"
   ]
  },
  {
   "cell_type": "markdown",
   "id": "9a632404-b2a2-42c4-b1a2-1ee74817a304",
   "metadata": {},
   "source": [
    "<div align=center><img src=\"https://muyu001.oss-cn-beijing.aliyuncs.com/img/image-20240103165248560.png\" width=80%></div>"
   ]
  },
  {
   "cell_type": "markdown",
   "id": "0c978fb6-1f7b-416b-9adc-db0cbbd89bf0",
   "metadata": {},
   "source": [
    "- **Step 10. 初始化Git LFS**"
   ]
  },
  {
   "cell_type": "markdown",
   "id": "85bc8601-b8dd-4639-a199-16678e49ed0c",
   "metadata": {},
   "source": [
    "&emsp;&emsp;安装完成后，需要初始化 Git LFS。这一步是必要的，因为它会设置一些必要的钩子。Git 钩子（hooks）是 Git 提供的一种强大的功能，允许在特定的重要动作（如提交、推送、合并等）发生时自动执行自定义脚本。这些钩子是在 Git 仓库的 `.git/hooks` 目录下的脚本，可以被配置为在特定的 Git 命令执行前后触发。钩子可以用于各种自动化任务，比如：\n",
    "\n",
    "1. **代码检查：** 在提交之前自动运行代码质量检查或测试，如果检查失败，可以阻止提交。\n",
    "2. **自动化消息：** 在提交或推送后发送通知或更新任务跟踪系统。\n",
    "3. **自动备份：** 在推送到远程仓库之前自动备份仓库。\n",
    "4. **代码风格格式化：** 自动格式化代码以符合团队的代码风格标准。"
   ]
  },
  {
   "cell_type": "markdown",
   "id": "06ad415e-70a1-47fa-8b34-51430d667bd9",
   "metadata": {},
   "source": [
    "&emsp;&emsp;而初始化git lfs，会设置一些在上传或下载大文件是必要的操作，如在提交之前检查是否有大文件被 Git 正常跟踪，而不是通过 Git LFS 跟踪，从而防止大文件意外地加入到 Git 仓库中。（pre-commit 钩子）或者在合并后，确保所有需要的 LFS 对象都被正确拉取（post-merge）等。初始化命令如下：\n",
    "\n",
    "```bash\n",
    "git lfs install\n",
    "```"
   ]
  },
  {
   "cell_type": "markdown",
   "id": "e89c0002-6e52-4272-a66b-5fa11384803b",
   "metadata": {},
   "source": [
    "<div align=center><img src=\"https://muyu001.oss-cn-beijing.aliyuncs.com/img/image-20240103165304752.png\" width=80%></div>"
   ]
  },
  {
   "cell_type": "markdown",
   "id": "31755c3c-a2dd-4984-aeb3-1658dd2ba861",
   "metadata": {},
   "source": [
    "- **Step 11. 使用 Git LFS 下载ChatGLM3-6B的模型权重**"
   ]
  },
  {
   "cell_type": "markdown",
   "id": "c3db49d0-54a8-4c27-ba83-8015c6b260cc",
   "metadata": {},
   "source": [
    "&emsp;&emsp;直接复制Hugging Face上提供的命令，在终端运行，等待下载完成即可。\n",
    "```bash\n",
    "git clone https://huggingface.co/THUDM/chatglm3-6b\n",
    "```"
   ]
  },
  {
   "cell_type": "markdown",
   "id": "81567636-fd6f-47ab-9729-cf9fb036a676",
   "metadata": {},
   "source": [
    "<div align=center><img src=\"https://muyu001.oss-cn-beijing.aliyuncs.com/img/image-20240103165322443.png\" width=60%></div>"
   ]
  },
  {
   "cell_type": "markdown",
   "id": "2ec3e699-caff-4365-8ffa-45e3a7891316",
   "metadata": {},
   "source": [
    "&emsp;&emsp;全部需要下载的模型文件如下："
   ]
  },
  {
   "cell_type": "markdown",
   "id": "c5574933-a971-4858-a4c0-db720c23bd15",
   "metadata": {},
   "source": [
    "<div align=center><img src=\"https://snowball101.oss-cn-beijing.aliyuncs.com/img/202401021244965.png\" width=60%></div>"
   ]
  },
  {
   "cell_type": "markdown",
   "id": "d5284b1d-8d4e-4761-90e3-f9861e1ecb29",
   "metadata": {},
   "source": [
    "&emsp;&emsp;这里主要的.bin文件较大，会导致下载较慢。"
   ]
  },
  {
   "cell_type": "markdown",
   "id": "1a4fe9f1-454f-465a-8a13-67a5f92926ec",
   "metadata": {},
   "source": [
    "<div align=center><img src=\"https://snowball101.oss-cn-beijing.aliyuncs.com/img/202401021247568.png\" width=60%></div>"
   ]
  },
  {
   "cell_type": "markdown",
   "id": "f265c128-b72e-4b2b-8f07-d5b8a34a104a",
   "metadata": {},
   "source": [
    "&emsp;&emsp;我们这里可以使用 wget 的方式加速下载，具体的执行过程如下："
   ]
  },
  {
   "cell_type": "markdown",
   "id": "632240c3-6edb-4b73-b171-62934c631e33",
   "metadata": {},
   "source": [
    "<div align=center><img src=\"https://snowball101.oss-cn-beijing.aliyuncs.com/img/202401021249969.png\" width=80%></div>"
   ]
  },
  {
   "cell_type": "markdown",
   "id": "4043561d-9f51-4aa3-a812-ab775746a4e5",
   "metadata": {},
   "source": [
    "&emsp;&emsp;进入到具体的模型权重页面后，鼠标右键。"
   ]
  },
  {
   "cell_type": "markdown",
   "id": "d8a9b087-b5c5-4ebe-9f7b-feb7c98aa028",
   "metadata": {},
   "source": [
    "<div align=center><img src=\"https://snowball101.oss-cn-beijing.aliyuncs.com/img/202401021249970.png\" width=80%></div>"
   ]
  },
  {
   "cell_type": "markdown",
   "id": "a71ef0b0-12dd-45ff-bfee-9dccb3aeba0f",
   "metadata": {},
   "source": [
    "&emsp;&emsp;选择复制链接地址。"
   ]
  },
  {
   "cell_type": "markdown",
   "id": "e0d70c7e-231a-42bd-a358-46457db438b7",
   "metadata": {},
   "source": [
    "<div align=center><img src=\"https://snowball101.oss-cn-beijing.aliyuncs.com/img/202401021249971.png\" width=80%></div>"
   ]
  },
  {
   "cell_type": "markdown",
   "id": "f632d21f-cd8a-46fe-b070-9395adf94b40",
   "metadata": {},
   "source": [
    "&emsp;&emsp;进入终端命令行页面，使用`wget`进行下载。按照此方式，依次执行完全部的大文件下载即可。虽然繁琐一点，但是下载速度非常快。根据网络情况，大家自行判断一下，有时候也会很慢，多尝试几次。"
   ]
  },
  {
   "cell_type": "markdown",
   "id": "acc337b4-8b84-4dd7-8b7f-b2fd70d5e1f1",
   "metadata": {},
   "source": [
    "&emsp;&emsp;除此之外，一种最简单的方式就是这类大的文件，直接通过浏览器下载到本地后，然后再移动到chatglm3-6b这个文件夹中。这种方式最简单粗暴，且效率也很高。"
   ]
  },
  {
   "cell_type": "markdown",
   "id": "a7c9132b-4715-4319-ba05-acbf375548e9",
   "metadata": {},
   "source": [
    "<div align=center><img src=\"https://muyu001.oss-cn-beijing.aliyuncs.com/img/image-20240103165709082.png\" width=80%></div>"
   ]
  },
  {
   "cell_type": "markdown",
   "id": "e25f4185-1a6a-4956-b08f-915c4d7ad2c2",
   "metadata": {},
   "source": [
    "- **Step 12. 启动模型前，校验下载的文件**"
   ]
  },
  {
   "cell_type": "markdown",
   "id": "b0c948b3-c92a-4871-a06c-217d4fe77afb",
   "metadata": {},
   "source": [
    "&emsp;&emsp;经过Step1在Hugging Face下载模型权重的操作后，当前的Chatglm3-6B模型的项目文件中会出现 `chatglm3-6b`这样一个新的文件。"
   ]
  },
  {
   "cell_type": "markdown",
   "id": "652e9e1f-c108-4490-a754-0f84dddbde4c",
   "metadata": {},
   "source": [
    "<div align=center><img src=\"https://muyu001.oss-cn-beijing.aliyuncs.com/img/image-20240103170043366.png\" width=80%></div>"
   ]
  },
  {
   "cell_type": "markdown",
   "id": "85efa27e-7ecf-4083-88d5-ab37a2aeb560",
   "metadata": {},
   "source": [
    "&emsp;&emsp;`chatglm3-6b`中的文件内容如下，请确保不缺少文件。"
   ]
  },
  {
   "cell_type": "markdown",
   "id": "c5026285-e65a-43e6-b84b-c5394c7017b7",
   "metadata": {},
   "source": [
    "<div align=center><img src=\"https://muyu001.oss-cn-beijing.aliyuncs.com/img/image-20240103170004513.png\" width=60%></div>"
   ]
  },
  {
   "cell_type": "markdown",
   "id": "f7b8649f-a794-4d2f-8d9d-6e9e41ca5c2d",
   "metadata": {},
   "source": [
    "&emsp;&emsp;至此，我们就已经把ChatGLM3-6B模型部署运行前所需要的文件全部准备完毕。"
   ]
  },
  {
   "cell_type": "markdown",
   "id": "cec63b5a-babc-40bd-b67c-c1a590229c0c",
   "metadata": {
    "tags": []
   },
   "source": [
    "# 五、运行ChatGLM3-6B模型的方式"
   ]
  },
  {
   "cell_type": "markdown",
   "id": "6503af33-0ec4-4bab-bdaa-087cf4f0bc59",
   "metadata": {},
   "source": [
    "&emsp;&emsp;ChatGLM3-6B提供了一些简单应用Demo，存放在供开发者尝试运行。这里我们由简到难依次对其进行介绍。"
   ]
  },
  {
   "cell_type": "markdown",
   "id": "589521c5-ca4b-495c-838e-b68ac286287e",
   "metadata": {},
   "source": [
    "<div align=center><img src=\"https://muyu001.oss-cn-beijing.aliyuncs.com/img/image-20240103170753827.png\" width=70%></div>"
   ]
  },
  {
   "cell_type": "markdown",
   "id": "0effe545-d303-47c6-a71b-0ca35fcdb01e",
   "metadata": {},
   "source": [
    "## 5.1 基于命令行的交互式对话"
   ]
  },
  {
   "cell_type": "markdown",
   "id": "5562e843-12ba-4f5d-b99b-4bb2add64cd1",
   "metadata": {},
   "source": [
    "&emsp;&emsp;这种方式可以为非技术用户提供一个脱离代码环境的对话方式。对于这种启动方式，官方提供的脚本名称是：cli_demo.py。"
   ]
  },
  {
   "cell_type": "markdown",
   "id": "d6426f58-fed9-4696-8d0e-b0627983ca68",
   "metadata": {},
   "source": [
    "<div align=center><img src=\"https://muyu001.oss-cn-beijing.aliyuncs.com/img/image-20240103170845184.png\" width=80%></div>"
   ]
  },
  {
   "cell_type": "markdown",
   "id": "c968e777-57e8-4526-a248-897a4dee0161",
   "metadata": {},
   "source": [
    "&emsp;&emsp;在启动前，我们仅需要进行一处简单的修改，因为我们已经把ChatGLM3-6B这个模型下载到了本地，所以需要修改一下模型的加载路径。"
   ]
  },
  {
   "cell_type": "markdown",
   "id": "6b54b5b8-c952-48ef-97f6-82c769c8d714",
   "metadata": {},
   "source": [
    "<div align=center><img src=\"https://muyu001.oss-cn-beijing.aliyuncs.com/img/image-20240103170944716.png\" width=80%></div>"
   ]
  },
  {
   "cell_type": "markdown",
   "id": "ca566167-bf41-43ed-9215-65b07aca5bed",
   "metadata": {},
   "source": [
    "&emsp;&emsp;修改完成后，直接使用`python cli_demp.py`即可启动，如果启动成功，就会开启交互式对话，如果输入`stop` 可以退出该运行环境。"
   ]
  },
  {
   "cell_type": "markdown",
   "id": "98e6f893-c3f3-4d18-9d96-6878df4b5a54",
   "metadata": {},
   "source": [
    "<div align=center><img src=\"https://muyu001.oss-cn-beijing.aliyuncs.com/img/image-20240103171054742.png\" width=80%></div>"
   ]
  },
  {
   "cell_type": "markdown",
   "id": "21bb632a-3766-44d1-a048-560fba21651a",
   "metadata": {},
   "source": [
    "## 5.2 基于 Gradio 的Web端对话应用"
   ]
  },
  {
   "cell_type": "markdown",
   "id": "90957a0e-b372-4a9c-97ee-c78c3d59792c",
   "metadata": {},
   "source": [
    "&emsp;&emsp;基于网页端的对话是目前非常通用的大语言交互方式，ChatGLM3官方项目组提供了两种Web端对话demo，两个示例应用功能一致，只是采用了不同的Web框架进行开发。首先是基于 Gradio 的Web端对话应用demo。Gradio是一个Python库，用于快速创建用于演示机器学习模型的Web界面。开发者可以用几行代码为模型创建输入和输出接口，用户可以通过这些接口与模型进行交互。用户可以轻松地测试和使用机器学习模型，比如通过上传图片来测试图像识别模型，或者输入文本来测试自然语言处理模型。Gradio非常适合于快速原型设计和模型展示。"
   ]
  },
  {
   "cell_type": "markdown",
   "id": "e3f9afe1-dec5-4998-a848-c4130e938dd4",
   "metadata": {},
   "source": [
    "&emsp;&emsp;对于这种启动方式，官方提供的脚本名称是：web_demo_gradio.py。同样，我们只需要使用vim 编辑器进入修改模型的加载路径，直接使用python启动即可。"
   ]
  },
  {
   "cell_type": "markdown",
   "id": "854690df-2177-415a-ac43-90f8994ba8a4",
   "metadata": {},
   "source": [
    "<div align=center><img src=\"https://muyu001.oss-cn-beijing.aliyuncs.com/img/image-20240103171124911.png\" width=80%></div>"
   ]
  },
  {
   "cell_type": "markdown",
   "id": "36cc33f8-de74-4e70-9a44-62211d68a573",
   "metadata": {},
   "source": [
    "&emsp;&emsp;如果启动正常，会自动弹出Web页面，可以直接在Web页面上进行交互。"
   ]
  },
  {
   "cell_type": "markdown",
   "id": "ce0fe9fd-e356-45d6-ab76-faf0b87d2583",
   "metadata": {},
   "source": [
    "<div align=center><img src=\"https://muyu001.oss-cn-beijing.aliyuncs.com/img/image-20240103171221213.png\" width=100%></div>"
   ]
  },
  {
   "cell_type": "markdown",
   "id": "454bd774-4236-4160-a9d6-a7932f88ca3c",
   "metadata": {},
   "source": [
    "## 5.3 基于 Streamlit 的Web端对话应用"
   ]
  },
  {
   "cell_type": "markdown",
   "id": "6fb74b05-f4aa-47c0-9b95-e25ba7ea3637",
   "metadata": {},
   "source": [
    "&emsp;&emsp;ChatGLM3官方提供的第二个Web对话应用demo，是一个基于Streamlit的Web应用。Streamlit是另一个用于创建数据科学和机器学习Web应用的Python库。它强调简单性和快速的开发流程，让开发者能够通过编写普通的Python脚本来创建互动式Web应用。Streamlit自动管理UI布局和状态，这样开发者就可以专注于数据和模型的逻辑。Streamlit应用通常用于数据分析、可视化、构建探索性数据分析工具等场景。"
   ]
  },
  {
   "cell_type": "markdown",
   "id": "0d8ac7c9-3f3d-43c3-8b07-e3e6652a24f9",
   "metadata": {},
   "source": [
    "&emsp;&emsp;对于这种启动方式，官方提供的脚本名称是：web_demo_streamlit.py。同样，先使用 vim 编辑器修改模型的加载路径。"
   ]
  },
  {
   "cell_type": "markdown",
   "id": "5e74ce0c-d76c-4f1e-a9d9-b0602279f427",
   "metadata": {},
   "source": [
    "<div align=center><img src=\"https://muyu001.oss-cn-beijing.aliyuncs.com/img/image-20240103171257646.png\" width=80%></div>"
   ]
  },
  {
   "cell_type": "markdown",
   "id": "37e16c49-db33-4437-8d0e-da7a646cc236",
   "metadata": {},
   "source": [
    "&emsp;&emsp;启动命令略有不同，不再使用 `python`，而是需要使用 `streamkit run`的方式来启动。"
   ]
  },
  {
   "cell_type": "markdown",
   "id": "474857b3-b9d5-4e6e-ad70-93ff7d763e05",
   "metadata": {},
   "source": [
    "<div align=center><img src=\"https://muyu001.oss-cn-beijing.aliyuncs.com/img/image-20240103171351074.png\" width=100%></div>"
   ]
  },
  {
   "cell_type": "markdown",
   "id": "0762fdf0-7fa0-41d2-bbb5-d141da606269",
   "metadata": {},
   "source": [
    "## 5.4 在指定虚拟环境的Jupyter Lab中运行"
   ]
  },
  {
   "cell_type": "markdown",
   "id": "69f030ee-497e-4022-b1b2-ec48c0291917",
   "metadata": {},
   "source": [
    "&emsp;&emsp;我们在部署Chatglm3-6B模型之前，创建了一个`chatglme3_test`虚拟环境来支撑该模型的运行。除了在终端中使用命令行启动，同样可以在Jupyter Lab环境中启动这个模型。具体的执行过程如下："
   ]
  },
  {
   "cell_type": "markdown",
   "id": "0a487267-4836-418d-9735-f65301af7ce6",
   "metadata": {},
   "source": [
    "&emsp;&emsp;首先，在终端中找到需要加载的虚拟环境，使用如下命令可以查看当前系统中一共存在哪些虚拟环境：\n",
    "```bash\n",
    "conda env list\n",
    "```"
   ]
  },
  {
   "cell_type": "markdown",
   "id": "c5127d91-885d-48fc-b02d-22ffbb393e7d",
   "metadata": {},
   "source": [
    "<div align=center><img src=\"https://muyu001.oss-cn-beijing.aliyuncs.com/img/image-20240103181436411.png\" width=80%></div>"
   ]
  },
  {
   "cell_type": "markdown",
   "id": "bc0ec953-a981-431c-b3a1-9d5349880717",
   "metadata": {},
   "source": [
    "&emsp;&emsp;这里可以看到我们之前创建的`chatglm3_test`虚拟环境，需要使用如下命令进入该虚拟环境：\n",
    "```bash\n",
    "# 这里的`env_name`就是需要进入的虚拟环境名称\n",
    "conda activate `env_name`\n",
    "```"
   ]
  },
  {
   "cell_type": "markdown",
   "id": "fbfa0e82-4d21-46e5-9acc-94c859c28172",
   "metadata": {},
   "source": [
    "<div align=center><img src=\"https://muyu001.oss-cn-beijing.aliyuncs.com/img/image-20240103181521318.png\" width=80%></div>"
   ]
  },
  {
   "cell_type": "markdown",
   "id": "787bfeba-751a-4cf3-a143-acc8ffe95fa2",
   "metadata": {},
   "source": [
    "&emsp;&emsp;在该环境中安装`ipykernel`软件包。这个软件包将允许Jupyter Notebook使用特定环境的Python版本。运行以下命令：\n",
    "```bash\n",
    "conda install ipykernel\n",
    "```"
   ]
  },
  {
   "cell_type": "markdown",
   "id": "52e5b98c-b4e3-4dde-a68a-9ba6ec63006f",
   "metadata": {},
   "source": [
    "<div align=center><img src=\"https://snowball101.oss-cn-beijing.aliyuncs.com/img/202401041520508.png\" width=80%></div>"
   ]
  },
  {
   "cell_type": "markdown",
   "id": "583b8ef9-910c-4f83-8eec-068f5c5bed4f",
   "metadata": {},
   "source": [
    "&emsp;&emsp;将该环境添加到Jupyter Notebook中。运行以下命令：\n",
    "```bash\n",
    "# 这里的env_name 替换成需要使用的虚拟环境名称\n",
    "python -m ipykernel install --user --name=yenv_name --display-name=\"Python(env_name)\"\n",
    "```"
   ]
  },
  {
   "cell_type": "markdown",
   "id": "4e78aac4-c1d2-459a-abf9-f2154c110d5d",
   "metadata": {},
   "source": [
    "<div align=center><img src=\"https://muyu001.oss-cn-beijing.aliyuncs.com/img/image-20240103181737088.png\" width=100%></div>"
   ]
  },
  {
   "cell_type": "markdown",
   "id": "3243c4b5-f2c6-47d7-8567-cf9282634c3c",
   "metadata": {},
   "source": [
    "&emsp;&emsp;执行完上述过程后，在终端输入`jupyter lab` 启动。"
   ]
  },
  {
   "cell_type": "markdown",
   "id": "a263523a-0b9a-4bda-9e1c-caf1391dc72e",
   "metadata": {},
   "source": [
    "<div align=center><img src=\"https://muyu001.oss-cn-beijing.aliyuncs.com/img/image-20240103181830051.png\" width=80%></div>"
   ]
  },
  {
   "cell_type": "markdown",
   "id": "85f79185-e15d-4abb-b84b-30024d7e4434",
   "metadata": {},
   "source": [
    "&emsp;&emsp;打开后就可以看到，当前环境下我们已经可以使用新的虚拟环境创建Notebook。"
   ]
  },
  {
   "cell_type": "markdown",
   "id": "8383fb1e-8a20-424a-bbb1-5a441b823841",
   "metadata": {},
   "source": [
    "<div align=center><img src=\"https://muyu001.oss-cn-beijing.aliyuncs.com/img/image-20240103181909980.png\" width=80%></div>"
   ]
  },
  {
   "cell_type": "markdown",
   "id": "50eeeec5-257f-487b-976a-d322a2dce47b",
   "metadata": {},
   "source": [
    "&emsp;&emsp;基本调用流程也比较简单，官方也给出了一个实例："
   ]
  },
  {
   "cell_type": "markdown",
   "id": "fd076b22-a87c-47c6-83ec-57a74f6ca179",
   "metadata": {},
   "source": [
    "<div align=center><img src=\"https://muyu001.oss-cn-beijing.aliyuncs.com/img/image-20240103183357227.png\" width=80%></div>"
   ]
  },
  {
   "cell_type": "markdown",
   "id": "a6f8ddae-e7cd-4db6-8050-daaddcbe377b",
   "metadata": {},
   "source": [
    "&emsp;&emsp;只需要从transformers中加载AutoTokenizer 和 AutoModel，指定好模型的路径即可。tokenizer这个词大家应该不会很陌生，可以简单理解我们在之前使用gpt系列模型的时候，使用tiktoken库帮我们把输入的自然语言，也就是prompt按照一种特定的编码方式来切分成token，从而生成API调用的成本。但在Transform中tokenizer要干的事会更多一些，它会把输入到大语言模型的文本，包在tokenizer中去做一些前置的预处理，会将自然语言文本转换为模型能够理解的格式，然后拆分为 tokens（如单词、字符或子词单位）等操作。\n",
    "\n",
    "&emsp;&emsp;而对于模型的加载来说，官方的代码中指向的路径是`THUDM/chatglm3-6b`,表示可以直接在云端加载模型，所以如果我们没有下载chatglm3-6b模型的话，直接运行此代码也是可以的，只不过第一次加载会很慢，耐心等待即可，同时需要确保当前的网络是联通的（必要的情况下需要开梯子）。"
   ]
  },
  {
   "cell_type": "markdown",
   "id": "88cadbb1-23f7-4030-9f0e-f6e188201704",
   "metadata": {},
   "source": [
    "&emsp;&emsp;因为我们已经将ChatGLM3-6B的模型权重下载到本地了，所以此处可以直接指向我们下载的Chatglm3-6b模型的存储路径来进行推理测试。"
   ]
  },
  {
   "cell_type": "markdown",
   "id": "f9af2111-c9cb-4847-a6be-9648219a712e",
   "metadata": {},
   "source": [
    "<div align=center><img src=\"https://muyu001.oss-cn-beijing.aliyuncs.com/img/image-20240103182010073.png\" width=80%></div>"
   ]
  },
  {
   "cell_type": "markdown",
   "id": "98934326-8755-449c-b48b-18880064e1dd",
   "metadata": {},
   "source": [
    "&emsp;&emsp;对于其他参数来说，model 有一个eval模式，就是评估的方法，模型基本就是两个阶段的事，一个是训练，一个是推理，计算的量更大，它需要把输入的值做一个推理，如果是一个有监督的模型，那必然存在一个标签值，也叫真实值，这个值会跟模型推理的值做一个比较，这个过程是正向传播。差异如果很大，就说明这个模型的能力还远远不够，既然效果不好，就要调整参数来不断地修正，通过不断地求导，链式法则等方式进行反向传播。当模型训练好了，模型的参数就不会变了，形成一个静态的文件，可以下载下来，当我们使用的时候，就不需要这个反向传播的过程，只需要做正向的推理就好了，此处设置 model.eval()就是说明这个过程。而trust_remote_code=True 表示信任远程代码（如果有）， device='cuda' 表示将模型加载到CUDA设备上以便使用GPU加速，这两个就很好理解了。"
   ]
  },
  {
   "cell_type": "markdown",
   "id": "df615c8e-6d82-4d13-95ea-50e2a789428f",
   "metadata": {},
   "source": [
    "## 5.5（重点）OpenAI风格API调用方法"
   ]
  },
  {
   "cell_type": "markdown",
   "id": "91acddcf-1101-45ef-98fb-0c87bdf3bf94",
   "metadata": {},
   "source": [
    "&emsp;&emsp;ChatGLM3-6B模型提供了OpenAI风格的API调用方法。正如此前所说，在OpenAI几乎定义了整个前沿AI应用开发标准的当下，提供一个OpenAI风格的API调用方法，毫无疑问可以让ChatGLM3模型无缝接入OpenAI开发生态。所谓的OpenAI风格的API调用，指的是借助OpenAI库中的ChatCompletion函数进行ChatGLM3模型调用。而现在，我们只需要在model参数上输入chatglm3-6b，即可调用ChatGLM3模型。调用API风格的统一，无疑也将大幅提高开发效率。"
   ]
  },
  {
   "cell_type": "markdown",
   "id": "67e1e8b0-73ac-4c9f-87ee-06f10e46fda2",
   "metadata": {},
   "source": [
    "<div align=center><img src=\"https://snowball101.oss-cn-beijing.aliyuncs.com/img/202401041530098.png\" width=80%></div>"
   ]
  },
  {
   "cell_type": "markdown",
   "id": "092e5731-dddb-49e0-a613-fabb3175e854",
   "metadata": {},
   "source": [
    "&emsp;&emsp;而要执行OpenAI风格的API调用，则首先需要安装openai库，并提前运行openai_api.py脚本。具体执行流程如下:"
   ]
  },
  {
   "cell_type": "markdown",
   "id": "20c841e3-8ec2-4e18-8c0b-b174cdabbd81",
   "metadata": {},
   "source": [
    "&emsp;&emsp;首先需要注意：OpenAI目前已将openai库更新至1.x，但目前Chatglm3-6B仍需要使用旧版本0.28。所以需要确保当前环境的openai版本。"
   ]
  },
  {
   "cell_type": "markdown",
   "id": "932f18e0-449f-4aa1-942c-3994c5b7f6d1",
   "metadata": {},
   "source": [
    "<div align=center><img src=\"https://muyu001.oss-cn-beijing.aliyuncs.com/img/image-20240103185924979.png\" width=80%></div>"
   ]
  },
  {
   "cell_type": "markdown",
   "id": "480d7029-419c-485d-9d66-82d8e35dca87",
   "metadata": {},
   "source": [
    "&emsp;&emsp;如果想要使用API持续调用Chatglm3-6b模型，需要启动一个脚本，该脚本位于`open_api_demo`中。"
   ]
  },
  {
   "cell_type": "markdown",
   "id": "d850b99c-1613-44d5-822b-654906f2ecf8",
   "metadata": {},
   "source": [
    "<div align=center><img src=\"https://muyu001.oss-cn-beijing.aliyuncs.com/img/image-20240103184559622.png\" width=80%></div>"
   ]
  },
  {
   "cell_type": "markdown",
   "id": "ac2d4192-fc4f-49ce-ab71-dda21e6aa33a",
   "metadata": {},
   "source": [
    "&emsp;&emsp;启动之前，需要安装tiktoken包，用于将文本分割成 tokens。"
   ]
  },
  {
   "cell_type": "markdown",
   "id": "6c14a5af-6016-4c55-bef1-5c14bfbc790c",
   "metadata": {},
   "source": [
    "<div align=center><img src=\"https://muyu001.oss-cn-beijing.aliyuncs.com/img/image-20240103184625922.png\" width=80%></div>"
   ]
  },
  {
   "cell_type": "markdown",
   "id": "1c7089cb-3071-4781-9e6d-a2218b6dcd0e",
   "metadata": {},
   "source": [
    "&emsp;&emsp;同时，需要降级`typing_extensions`依赖包，否则会报错。"
   ]
  },
  {
   "cell_type": "markdown",
   "id": "626b9bd3-50ab-4877-96e0-c8b33f480851",
   "metadata": {},
   "source": [
    "<div align=center><img src=\"https://muyu001.oss-cn-beijing.aliyuncs.com/img/image-20240103184726886.png\" width=80%></div>"
   ]
  },
  {
   "cell_type": "markdown",
   "id": "ecbd6422-d007-4e74-8a87-c790ab500cfa",
   "metadata": {},
   "source": [
    "<div align=center><img src=\"https://muyu001.oss-cn-beijing.aliyuncs.com/img/image-20240103184808467.png\" width=80%></div>"
   ]
  },
  {
   "cell_type": "markdown",
   "id": "8a9c1caa-684c-44af-be62-1f30d9f22874",
   "metadata": {},
   "source": [
    "&emsp;&emsp;最后，还需要安装`sentence_transformers`依赖包，安装最新的即可。"
   ]
  },
  {
   "cell_type": "markdown",
   "id": "a07e2fce-45f9-4fad-ac3b-7226809089b6",
   "metadata": {},
   "source": [
    "<div align=center><img src=\"https://muyu001.oss-cn-beijing.aliyuncs.com/img/image-20240103184836921.png\" width=80%></div>"
   ]
  },
  {
   "cell_type": "markdown",
   "id": "dca10ab4-d5e1-4a78-bfed-84a265ee823e",
   "metadata": {},
   "source": [
    "&emsp;&emsp;安装完成后，使用命令`python openai_api.py`启动，第一次启动会有点慢，耐心等待。"
   ]
  },
  {
   "cell_type": "markdown",
   "id": "13380638-b63a-490e-ad27-79a7a927bef3",
   "metadata": {},
   "source": [
    "<div align=center><img src=\"https://muyu001.oss-cn-beijing.aliyuncs.com/img/image-20240103184857907.png\" width=80%></div>"
   ]
  },
  {
   "cell_type": "markdown",
   "id": "961294a8-070b-424f-9796-badcf16ac68a",
   "metadata": {},
   "source": [
    "&emsp;&emsp;启动成功后，在Jupyter lab上执行如下代码，进行API调用测试。"
   ]
  },
  {
   "cell_type": "markdown",
   "id": "0a147386-31c0-48fd-ad05-56de84197d61",
   "metadata": {},
   "source": [
    "<div align=center><img src=\"https://muyu001.oss-cn-beijing.aliyuncs.com/img/image-20240103184926504.png\" width=80%></div>"
   ]
  },
  {
   "cell_type": "markdown",
   "id": "3c622b32-ca5c-485b-b47f-122ae54a832d",
   "metadata": {},
   "source": [
    "&emsp;&emsp;如果上述代码出现如下报错的话，是因为开代理导致的，需要关闭，如果关闭后仍无法解决，重启电脑后才可重新运行。"
   ]
  },
  {
   "cell_type": "markdown",
   "id": "33fb73bf-e0f2-44a2-9ebf-1337e0387b2d",
   "metadata": {},
   "source": [
    "<div align=center><img src=\"https://muyu001.oss-cn-beijing.aliyuncs.com/img/image-20240103185008662.png\" width=80%></div>"
   ]
  },
  {
   "cell_type": "markdown",
   "id": "fce09b3d-2c58-429b-9e14-bda51e3241e0",
   "metadata": {},
   "source": [
    "&emsp;&emsp;如果服务正常是可以得到模型的回复的。"
   ]
  },
  {
   "cell_type": "markdown",
   "id": "4d863be2-5cc6-484a-b849-eed1165e80f1",
   "metadata": {},
   "source": [
    "<div align=center><img src=\"https://muyu001.oss-cn-beijing.aliyuncs.com/img/image-20240103185038368.png\" width=80%></div>"
   ]
  },
  {
   "cell_type": "markdown",
   "id": "5386851e-48a4-4b22-a837-250a8b69ce22",
   "metadata": {},
   "source": [
    "&emsp;&emsp;同时，在终端应用运行处，也可以看到API的实时调用情况。"
   ]
  },
  {
   "cell_type": "markdown",
   "id": "e3745d0d-937b-475b-9979-8575a433dd25",
   "metadata": {},
   "source": [
    "<div align=center><img src=\"https://muyu001.oss-cn-beijing.aliyuncs.com/img/image-20240103185112519.png\" width=100%></div>"
   ]
  },
  {
   "cell_type": "markdown",
   "id": "e1abb4fc-9126-4301-817e-8625c7d99658",
   "metadata": {},
   "source": [
    "&emsp;&emsp;除此之外，大家还可以去测试ChatGLM3-6B的Function Calling等更高级的用法时的性能情况。我们推荐大家使用OpenAI风格的API调用方法是进行学习和尝试构造高级的AI Agent，同时积极参与国产大型模型的开源社区，共同增强国内在这一领域的实力和影响力。"
   ]
  }
 ],
 "metadata": {
  "kernelspec": {
   "display_name": "Python 3 (ipykernel)",
   "language": "python",
   "name": "python3"
  },
  "language_info": {
   "codemirror_mode": {
    "name": "ipython",
    "version": 3
   },
   "file_extension": ".py",
   "mimetype": "text/x-python",
   "name": "python",
   "nbconvert_exporter": "python",
   "pygments_lexer": "ipython3",
   "version": "3.12.3"
  }
 },
 "nbformat": 4,
 "nbformat_minor": 5
}
